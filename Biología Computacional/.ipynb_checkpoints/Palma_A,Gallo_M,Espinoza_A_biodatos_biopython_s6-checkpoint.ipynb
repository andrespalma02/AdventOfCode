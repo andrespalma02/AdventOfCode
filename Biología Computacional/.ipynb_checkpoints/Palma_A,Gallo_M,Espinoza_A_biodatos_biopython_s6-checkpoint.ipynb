{
 "cells": [
  {
   "cell_type": "code",
   "execution_count": 1,
   "metadata": {
    "collapsed": true
   },
   "outputs": [],
   "source": [
    "#https://github.com/mljar/mercury\n",
    "#https://towardsdatascience.com/jupyter-notebook-to-pdf-in-a-few-lines-3c48d68a7a63"
   ]
  },
  {
   "cell_type": "raw",
   "metadata": {},
   "source": [
    "## Utilizando herramientas y librerías de biopython, reproducir el tutorial indicado en el siguiente enlace:\n",
    "- __[Tutorial de bases de datos de secuencias](https://a-little-book-of-r-for-bioinformatics.readthedocs.io/en/latest/src/chapter3.html)__"
   ]
  },
  {
   "cell_type": "code",
   "execution_count": null,
   "metadata": {},
   "outputs": [],
   "source": []
  }
 ],
 "metadata": {
  "kernelspec": {
   "display_name": "Python 3 (ipykernel)",
   "language": "python",
   "name": "python3"
  },
  "language_info": {
   "codemirror_mode": {
    "name": "ipython",
    "version": 3
   },
   "file_extension": ".py",
   "mimetype": "text/x-python",
   "name": "python",
   "nbconvert_exporter": "python",
   "pygments_lexer": "ipython3",
   "version": "3.11.2"
  }
 },
 "nbformat": 4,
 "nbformat_minor": 1
}
