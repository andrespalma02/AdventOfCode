{
 "cells": [
  {
   "cell_type": "markdown",
   "metadata": {},
   "source": [
    "# Tutorial de cuaderno de coronavirus de murciélago"
   ]
  },
  {
   "cell_type": "markdown",
   "metadata": {},
   "source": [
    "Recreación del tutorial de indicado utilizando una secuencia de coronavirus de murciélago\n",
    " Este tutorial utiliza [Biopython](https://github.com/biopython/biopython) (llamando a algunas herramientas) para identificar y comenzar a caracterizar esta secuencia."
   ]
  },
  {
   "cell_type": "markdown",
   "metadata": {},
   "source": [
    "## Configuración"
   ]
  },
  {
   "cell_type": "markdown",
   "metadata": {},
   "source": [
    "Módulos importados e impresión de versiones"
   ]
  },
  {
   "cell_type": "code",
   "execution_count": 37,
   "metadata": {},
   "outputs": [],
   "source": [
    "try:\n",
    "    import google.colab\n",
    "    # Running on Google Colab, so install Biopython first\n",
    "    !pip install biopython\n",
    "    !pip install matplotlib\n",
    "    !pip install plt\n",
    "except ImportError:\n",
    "    pass"
   ]
  },
  {
   "cell_type": "code",
   "execution_count": 84,
   "metadata": {},
   "outputs": [
    {
     "name": "stdout",
     "output_type": "stream",
     "text": [
      "Versión de Python: sys.version_info(major=3, minor=11, micro=2, releaselevel='final', serial=0)\n",
      "Versión de Biopython: 1.81\n"
     ]
    }
   ],
   "source": [
    "import os\n",
    "import sys\n",
    "\n",
    "from urllib.request import urlretrieve\n",
    "\n",
    "import Bio\n",
    "from Bio import SeqIO, SearchIO, Entrez\n",
    "from Bio.Seq import Seq\n",
    "from Bio.SeqUtils import gc_fraction\n",
    "from Bio.Blast import NCBIWWW\n",
    "from Bio.Data import CodonTable\n",
    "\n",
    "print(\"Versión de Python:\", sys.version_info)\n",
    "print(\"Versión de Biopython:\", Bio.__version__)"
   ]
  },
  {
   "cell_type": "markdown",
   "metadata": {},
   "source": [
    "Ingreso de la secuencia"
   ]
  },
  {
   "cell_type": "code",
   "execution_count": 3,
   "metadata": {},
   "outputs": [],
   "source": [
    "input_file = \"Bat_SARS.fasta\"\n",
    "\n",
    "#Una secuencia de respaldo en caso de que no exista el archivo\n",
    "fasta_loc = (\"https://raw.githubusercontent.com/chris-rands/\"\n",
    "             \"biopython-coronavirus/master/unknown-sequence.fa\")\n",
    "\n",
    "if not os.path.exists(input_file):\n",
    "    urlretrieve(fasta_loc, input_file)"
   ]
  },
  {
   "cell_type": "markdown",
   "metadata": {},
   "source": [
    "## Propiedades básicas del genoma"
   ]
  },
  {
   "cell_type": "markdown",
   "metadata": {},
   "source": [
    "### Identificador de la secuencia"
   ]
  },
  {
   "cell_type": "code",
   "execution_count": 4,
   "metadata": {},
   "outputs": [
    {
     "name": "stdout",
     "output_type": "stream",
     "text": [
      "El id de la secuencia es:  ON012470.1\n"
     ]
    }
   ],
   "source": [
    "for record in SeqIO.parse(input_file, \"fasta\"):\n",
    "    print(\"El id de la secuencia es: \", record.id)"
   ]
  },
  {
   "cell_type": "markdown",
   "metadata": {},
   "source": [
    "### Secuencia y longitud"
   ]
  },
  {
   "cell_type": "code",
   "execution_count": 5,
   "metadata": {},
   "outputs": [],
   "source": [
    "record = SeqIO.read(input_file, \"fasta\")"
   ]
  },
  {
   "cell_type": "code",
   "execution_count": 6,
   "metadata": {},
   "outputs": [
    {
     "data": {
      "text/plain": [
       "Seq('ATGTCTGATAATGGACCCCAAAATCAGCGTAGTGCACCCCGCATTACATTTGGT...TAA')"
      ]
     },
     "execution_count": 6,
     "metadata": {},
     "output_type": "execute_result"
    }
   ],
   "source": [
    "record.seq"
   ]
  },
  {
   "cell_type": "markdown",
   "metadata": {},
   "source": [
    "Obtenemos la frecuencia de cada base en la secuencia"
   ]
  },
  {
   "cell_type": "code",
   "execution_count": 38,
   "metadata": {},
   "outputs": [
    {
     "data": {
      "image/png": "[encoded data removed]",
      "text/plain": [
       "<Figure size 640x480 with 1 Axes>"
      ]
     },
     "metadata": {},
     "output_type": "display_data"
    }
   ],
   "source": [
    "import matplotlib.pyplot as plt\n",
    "nucleotidos = [\"A\", \"C\", \"G\", \"T\"]\n",
    "freqs = [record.count(nuc) for nuc in nucleotidos]\n",
    "\n",
    "# crea el gráfico\n",
    "plt.bar(nucleotidos, freqs)\n",
    "plt.title(\"Distribución de nucleótidos\")\n",
    "plt.xlabel(\"Nucleótidos\")\n",
    "plt.ylabel(\"Frecuencia\")\n",
    "\n",
    "# muestra el gráfico\n",
    "plt.show()"
   ]
  },
  {
   "cell_type": "code",
   "execution_count": 7,
   "metadata": {},
   "outputs": [
    {
     "name": "stdout",
     "output_type": "stream",
     "text": [
      "Longitud de la secuencia (bp) 1260\n"
     ]
    }
   ],
   "source": [
    "print(\"Longitud de la secuencia (bp)\", len(record))"
   ]
  },
  {
   "cell_type": "markdown",
   "metadata": {},
   "source": [
    "La longitud de la secuencia es de aproximadamente 1.2 Kb, por lo que es muy pequeña para ser de un genoma completo. En este caso tratamos con un genoma parcial de un virus, por lo que es normal que su tamaño sea tan pequeño."
   ]
  },
  {
   "cell_type": "code",
   "execution_count": 85,
   "metadata": {},
   "outputs": [
    {
     "name": "stdout",
     "output_type": "stream",
     "text": [
      " Contenido de GC(%) 0.4658730158730159\n"
     ]
    }
   ],
   "source": [
    "#Se utiliza la función gc_content para obtener el contenido de GC, ya que la función GC está deprecada\n",
    "print(\" Contenido de GC(%)\", gc_fraction(record.seq))"
   ]
  },
  {
   "cell_type": "markdown",
   "metadata": {},
   "source": [
    "Un contenido de GC del 46% en un genoma es moderado y puede tener implicaciones en la estructura y función del ADN, la expresión génica y la evolución molecular del organismo."
   ]
  },
  {
   "cell_type": "markdown",
   "metadata": {},
   "source": [
    "## Comparación con otras secuencias de genomas"
   ]
  },
  {
   "cell_type": "markdown",
   "metadata": {},
   "source": [
    "Utilicemos BLAST para alinear la secuencia desconocida con otras secuencias anotadas en la base de datos NCBI nt, que contiene secuencias de muchas especies diferentes de todo el árbol de la vida.\n",
    "\n",
    "Debido a que es una secuencia pequeña, no debería tomar mucho tiempo; sin embargo, hay que tomar en cuenta que estamos haciendo una búsqueda en línea contra muchas secuencias y que a medida que el tamaño de la secuencia aumenta, igual el tiempo (para consultas más grandes, sería sensato ejecutar BLAST localmente en su lugar; consulte `Bio.Blast.Applications`)"
   ]
  },
  {
   "cell_type": "code",
   "execution_count": 9,
   "metadata": {},
   "outputs": [
    {
     "name": "stdout",
     "output_type": "stream",
     "text": [
      "CPU times: total: 15.6 ms\n",
      "Wall time: 4min 12s\n"
     ]
    }
   ],
   "source": [
    "%% time\n",
    "result_handle = NCBIWWW.qblast(\"blastn\", \"nt\", record.seq)"
   ]
  },
  {
   "cell_type": "markdown",
   "metadata": {},
   "source": [
    "Procesemos los resultados con uno de los parseadores genéricos de Biopython."
   ]
  },
  {
   "cell_type": "code",
   "execution_count": 23,
   "metadata": {},
   "outputs": [
    {
     "ename": "ParseError",
     "evalue": "no element found: line 1, column 0 (<string>)",
     "output_type": "error",
     "traceback": [
      "Traceback \u001B[1;36m(most recent call last)\u001B[0m:\n",
      "\u001B[1;36m  File \u001B[1;32mD:\\GitKraken\\AdventOfCode\\venv2\\Lib\\site-packages\\Bio\\File.py:72\u001B[1;36m in \u001B[1;35mas_handle\u001B[1;36m\n\u001B[1;33m    with open(handleish, mode, **kwargs) as fp:\u001B[1;36m\n",
      "\u001B[1;31mTypeError\u001B[0m\u001B[1;31m:\u001B[0m expected str, bytes or os.PathLike object, not StringIO\n",
      "\nDuring handling of the above exception, another exception occurred:\n",
      "Traceback \u001B[1;36m(most recent call last)\u001B[0m:\n",
      "\u001B[0m  File \u001B[0;32mD:\\GitKraken\\AdventOfCode\\venv2\\Lib\\site-packages\\IPython\\core\\interactiveshell.py:3460\u001B[0m in \u001B[0;35mrun_code\u001B[0m\n    exec(code_obj, self.user_global_ns, self.user_ns)\u001B[0m\n",
      "\u001B[0m  Cell \u001B[0;32mIn[23], line 2\u001B[0m\n    blast_qresult = SearchIO.read(result_handle, \"blast-xml\")\u001B[0m\n",
      "\u001B[0m  File \u001B[0;32mD:\\GitKraken\\AdventOfCode\\venv2\\Lib\\site-packages\\Bio\\SearchIO\\__init__.py:348\u001B[0m in \u001B[0;35mread\u001B[0m\n    query_result = next(query_results)\u001B[0m\n",
      "\u001B[0m  File \u001B[0;32mD:\\GitKraken\\AdventOfCode\\venv2\\Lib\\site-packages\\Bio\\SearchIO\\__init__.py:305\u001B[0m in \u001B[0;35mparse\u001B[0m\n    generator = iterator(source_file, **kwargs)\u001B[0m\n",
      "\u001B[0m  File \u001B[0;32mD:\\GitKraken\\AdventOfCode\\venv2\\Lib\\site-packages\\Bio\\SearchIO\\BlastIO\\blast_xml.py:236\u001B[0m in \u001B[0;35m__init__\u001B[0m\n    self._meta, self._fallback = self._parse_preamble()\u001B[0m\n",
      "\u001B[0m  File \u001B[0;32mD:\\GitKraken\\AdventOfCode\\venv2\\Lib\\site-packages\\Bio\\SearchIO\\BlastIO\\blast_xml.py:250\u001B[0m in \u001B[0;35m_parse_preamble\u001B[0m\n    for event, elem in self.xml_iter:\u001B[0m\n",
      "\u001B[0m  File \u001B[0;32m~\\AppData\\Local\\Programs\\Python\\Python311\\Lib\\xml\\etree\\ElementTree.py:1255\u001B[0m in \u001B[0;35miterator\u001B[0m\n    root = pullparser._close_and_return_root()\u001B[0m\n",
      "\u001B[1;36m  File \u001B[1;32m~\\AppData\\Local\\Programs\\Python\\Python311\\Lib\\xml\\etree\\ElementTree.py:1298\u001B[1;36m in \u001B[1;35m_close_and_return_root\u001B[1;36m\n\u001B[1;33m    root = self._parser.close()\u001B[1;36m\n",
      "\u001B[1;36m  File \u001B[1;32m<string>\u001B[1;36m\u001B[0m\n\u001B[1;31mParseError\u001B[0m\u001B[1;31m:\u001B[0m no element found: line 1, column 0\n"
     ]
    }
   ],
   "source": [
    "# Es importante definir el formato en este caso XML, ya que generar la salida en texto plano está deprecado\n",
    "blast_qresult = SearchIO.read(result_handle, \"blast-xml\")"
   ]
  },
  {
   "cell_type": "code",
   "execution_count": 24,
   "metadata": {},
   "outputs": [
    {
     "name": "stdout",
     "output_type": "stream",
     "text": [
      "Program: blastn (2.13.0+)\n",
      "  Query: No (1260)\n",
      "         definition line\n",
      " Target: nt\n",
      "   Hits: ----  -----  ----------------------------------------------------------\n",
      "            #  # HSP  ID + description\n",
      "         ----  -----  ----------------------------------------------------------\n",
      "            0      1  gi|2238543611|gb|ON012470.1|  Bat SARS-like coronavirus...\n",
      "            1      1  gi|2238543613|gb|ON012471.1|  Bat SARS-like coronavirus...\n",
      "            2      1  gi|2238543607|gb|ON012468.1|  Bat SARS-like coronavirus...\n",
      "            3      1  gi|2089714453|gb|OK017805.1|  Sarbecovirus sp. isolate ...\n",
      "            4      1  gi|2089714447|gb|OK017804.1|  Sarbecovirus sp. isolate ...\n",
      "            5      1  gi|2089714441|gb|OK017803.1|  Sarbecovirus sp. isolate ...\n",
      "            6      1  gi|1369125417|gb|MG772933.1|  Bat SARS-like coronavirus...\n",
      "            7      1  gi|1369125429|gb|MG772934.1|  Bat SARS-like coronavirus...\n",
      "            8      1  gi|2285494258|gb|OK287355.1|  Sarbecovirus sp. isolate ...\n",
      "            9      1  gi|2089714591|gb|OK017828.1|  Sarbecovirus sp. isolate ...\n",
      "           10      1  gi|2089714777|gb|OK017859.1|  Sarbecovirus sp. isolate ...\n",
      "           11      1  gi|2089714579|gb|OK017826.1|  Sarbecovirus sp. isolate ...\n",
      "           12      1  gi|2089714573|gb|OK017825.1|  Sarbecovirus sp. isolate ...\n",
      "           13      1  gi|2089714585|gb|OK017827.1|  Sarbecovirus sp. isolate ...\n",
      "           14      1  gi|2238543609|gb|ON012469.1|  Bat SARS-like coronavirus...\n",
      "           15      1  gi|2096927704|gb|MZ328294.1|  Jingmen Rhinolophus sinic...\n",
      "           16      1  gi|76097083|gb|DQ071614.1|  Bat SARS coronavirus Rp2 nu...\n",
      "           17      1  gi|72256267|gb|DQ071615.1|  Bat SARS coronavirus Rp3, c...\n",
      "           18      1  gi|2429086651|gb|OP963575.1|  Bat SARS-like virus BtSY1...\n",
      "           19      1  gi|2089714771|gb|OK017858.1|  Sarbecovirus sp. isolate ...\n",
      "           20      1  gi|2089714567|gb|OK017824.1|  Sarbecovirus sp. isolate ...\n",
      "           21      1  gi|1270541493|gb|KY417150.1|  Bat SARS-like coronavirus...\n",
      "           22      1  gi|1270541441|gb|KY417146.1|  Bat SARS-like coronavirus...\n",
      "           23      1  gi|940378824|gb|KT444582.1|  SARS-like coronavirus WIV1...\n",
      "           24      1  gi|2050647324|gb|MZ081379.1|  Betacoronavirus sp. RsYN0...\n",
      "           25      1  gi|2089714609|gb|OK017831.1|  Sarbecovirus sp. isolate ...\n",
      "           26      1  gi|2089714597|gb|OK017829.1|  Sarbecovirus sp. isolate ...\n",
      "           27      1  gi|1693074678|gb|MK211377.1|  Coronavirus BtRs-BetaCoV/...\n",
      "           28      1  gi|1270541467|gb|KY417148.1|  Bat SARS-like coronavirus...\n",
      "           29      1  gi|2089714381|gb|OK017793.1|  Sarbecovirus sp. isolate ...\n",
      "           ~~~\n",
      "           47      1  gi|1693074662|gb|MK211375.1|  Coronavirus BtRs-BetaCoV/...\n",
      "           48      1  gi|2285494246|gb|OK287354.1|  Sarbecovirus sp. isolate ...\n",
      "           49      1  gi|2089714711|gb|OK017848.1|  Sarbecovirus sp. isolate ...\n"
     ]
    }
   ],
   "source": [
    "print(blast_qresult)"
   ]
  },
  {
   "cell_type": "markdown",
   "metadata": {},
   "source": [
    "Blast nos retorna 50 secuencias que son similares de acuerdo con las bases de datos con las que se comparó. Es posible manejar parámetros de búsqueda para obtener más o menos resultados.\n",
    "Los resultados muestran un resumen general, si queremos una vista más detallada, podemos acceder a los resultados individuales de la siguiente manera:"
   ]
  },
  {
   "cell_type": "code",
   "execution_count": 25,
   "metadata": {},
   "outputs": [
    {
     "data": {
      "text/plain": [
       "['Bat SARS-like coronavirus isolate B257 nucleocapsid protein (N) gene, complete cds',\n",
       " 'Bat SARS-like coronavirus isolate B279 nucleocapsid protein (N) gene, complete cds',\n",
       " 'Bat SARS-like coronavirus isolate B104 nucleocapsid protein (N) gene, complete cds',\n",
       " 'Sarbecovirus sp. isolate HN2021G, complete genome',\n",
       " 'Sarbecovirus sp. isolate HN2021B, complete genome']"
      ]
     },
     "execution_count": 25,
     "metadata": {},
     "output_type": "execute_result"
    }
   ],
   "source": [
    "[hit.description for hit in blast_qresult[:5]]"
   ]
  },
  {
   "cell_type": "markdown",
   "metadata": {},
   "source": [
    "De esta manera se evidencia que se trata de una secuencia correspondiente a un gen que codifica la proteína de nucleocápside (N) en el genoma del coronavirus de murciélago."
   ]
  },
  {
   "cell_type": "markdown",
   "metadata": {},
   "source": [
    "Como observamos, la variable blast_qresult nos retorna una lista, sin embargo, vamos a acceder al primer elemento para visualizar algunas métricas"
   ]
  },
  {
   "cell_type": "code",
   "execution_count": 26,
   "metadata": {},
   "outputs": [],
   "source": [
    "first_hit = blast_qresult[0]"
   ]
  },
  {
   "cell_type": "markdown",
   "metadata": {},
   "source": [
    "El resultado del primer resultado objeto de tipo Hit, y consta con ciertos elementos y como se muestra:"
   ]
  },
  {
   "cell_type": "code",
   "execution_count": 31,
   "metadata": {},
   "outputs": [
    {
     "name": "stdout",
     "output_type": "stream",
     "text": [
      "Query: No\n",
      "       definition line\n",
      "  Hit: gi|2238543611|gb|ON012470.1| (1260)\n",
      "       Bat SARS-like coronavirus isolate B257 nucleocapsid protein (N) gene, ...\n",
      " HSPs: ----  --------  ---------  ------  ---------------  ---------------------\n",
      "          #   E-value  Bit score    Span      Query range              Hit range\n",
      "       ----  --------  ---------  ------  ---------------  ---------------------\n",
      "          0         0    2273.53    1260         [0:1260]               [0:1260]\n"
     ]
    }
   ],
   "source": [
    "print(first_hit)"
   ]
  },
  {
   "cell_type": "markdown",
   "metadata": {},
   "source": [
    "Los HSPs significan \"High-scoring Segment Pair\" (pares de segmentos con alta puntuación). Los HSPs son las regiones de alineamiento local entre dos secuencias de ADN o proteínas que tienen una puntuación alta en términos de similitud. Entre más alto sea el valor de bitscore, mayor es la similitud entre las secuencias."
   ]
  },
  {
   "cell_type": "markdown",
   "metadata": {},
   "source": [
    "Mostramos la descripción de la secuencia obtenida"
   ]
  },
  {
   "cell_type": "code",
   "execution_count": 26,
   "metadata": {},
   "outputs": [
    {
     "data": {
      "text/plain": [
       "'Bat SARS-like coronavirus isolate B257 nucleocapsid protein (N) gene, complete cds'"
      ]
     },
     "execution_count": 26,
     "metadata": {},
     "output_type": "execute_result"
    }
   ],
   "source": [
    "first_hit.description"
   ]
  },
  {
   "cell_type": "markdown",
   "metadata": {},
   "source": [
    "Podemos observar los puntajes, la evaluación, y como se alinea la secuencia con la secuencia de referencia. En este caso, por la alta puntuación de bitscore, podemos decir que la secuencia es muy similar a la secuencia de referencia."
   ]
  },
  {
   "cell_type": "code",
   "execution_count": 34,
   "metadata": {},
   "outputs": [
    {
     "name": "stdout",
     "output_type": "stream",
     "text": [
      "      Query: No definition line\n",
      "        Hit: gi|2238543611|gb|ON012470.1| Bat SARS-like coronavirus isolate B...\n",
      "Query range: [0:1260] (1)\n",
      "  Hit range: [0:1260] (1)\n",
      "Quick stats: evalue 0; bitscore 2273.53\n",
      "  Fragments: 1 (1260 columns)\n",
      "     Query - ATGTCTGATAATGGACCCCAAAATCAGCGTAGTGCACCCCGCATTACATTTGGTGGACC~~~CTTAA\n",
      "             |||||||||||||||||||||||||||||||||||||||||||||||||||||||||||~~~|||||\n",
      "       Hit - ATGTCTGATAATGGACCCCAAAATCAGCGTAGTGCACCCCGCATTACATTTGGTGGACC~~~CTTAA\n"
     ]
    }
   ],
   "source": [
    "# De la secuencia obtenemos todas las propiedades si accedemos a su primer índice (que en este caso es el único\n",
    "first_hsp = first_hit[0]\n",
    "print(first_hsp)"
   ]
  },
  {
   "cell_type": "code",
   "execution_count": 36,
   "metadata": {},
   "outputs": [
    {
     "name": "stdout",
     "output_type": "stream",
     "text": [
      "Alignment with 2 rows and 1260 columns\n",
      "ATGTCTGATAATGGACCCCAAAATCAGCGTAGTGCACCCCGCAT...TAA No\n",
      "ATGTCTGATAATGGACCCCAAAATCAGCGTAGTGCACCCCGCAT...TAA gi|2238543611|gb|ON012470.1|\n"
     ]
    }
   ],
   "source": [
    "#Otra forma de visualizar la alineación es accediendo a su propiedad aln\n",
    "print(first_hsp.aln)"
   ]
  },
  {
   "cell_type": "code",
   "execution_count": 41,
   "metadata": {},
   "outputs": [
    {
     "name": "stdout",
     "output_type": "stream",
     "text": [
      ">No definition line\n",
      "ATGTCTGATAATGGACCCCAAAATCAGCGTAGTGCACCCCGCATTACATTTGGTGGACCC\n",
      "CCAGATTCAAGTGACAATA\n"
     ]
    }
   ],
   "source": [
    "#se cambió el llamado a la función format ya que no existe como se muestra en el tutorial\n",
    "print(format(first_hsp.aln, \"fasta\")[:100])"
   ]
  },
  {
   "cell_type": "markdown",
   "metadata": {},
   "source": [
    "## Extracción de anotaciones en la secuencia del genoma coincidente"
   ]
  },
  {
   "cell_type": "markdown",
   "metadata": {},
   "source": [
    "Extraigamos un poco más de metadatos estructurados en la secuencia homóloga de secuencia coincidente superior usando NCBI Entrez a través de Biopython para extraer un archivo GenBank."
   ]
  },
  {
   "cell_type": "code",
   "execution_count": 42,
   "metadata": {},
   "outputs": [
    {
     "data": {
      "text/plain": [
       "['gi', '2238543611', 'gb', 'ON012470.1', '']"
      ]
     },
     "execution_count": 42,
     "metadata": {},
     "output_type": "execute_result"
    }
   ],
   "source": [
    "NCBI_id = first_hit.id.split('|')\n",
    "NCBI_id"
   ]
  },
  {
   "cell_type": "markdown",
   "metadata": {},
   "source": [
    "Por ejemplo, el ID es el cuarto elemento de la lista (índice 3). Por lo tanto le asignamos el valor a la variable NCBI_id"
   ]
  },
  {
   "cell_type": "code",
   "execution_count": 61,
   "metadata": {},
   "outputs": [],
   "source": [
    "NCBI_id = NCBI_id[3]"
   ]
  },
  {
   "cell_type": "code",
   "execution_count": 62,
   "metadata": {},
   "outputs": [],
   "source": [
    "Entrez.email = \"bpalma@puce.edu.ec\"  # Siempre identificarse con NCBI"
   ]
  },
  {
   "cell_type": "code",
   "execution_count": 63,
   "metadata": {},
   "outputs": [],
   "source": [
    "handle = Entrez.efetch(db=\"nucleotide\", id=NCBI_id, retmode=\"text\", rettype=\"gb\")"
   ]
  },
  {
   "cell_type": "code",
   "execution_count": 64,
   "metadata": {},
   "outputs": [],
   "source": [
    "genbank_record = SeqIO.read(handle, \"genbank\")"
   ]
  },
  {
   "cell_type": "code",
   "execution_count": 65,
   "metadata": {},
   "outputs": [
    {
     "data": {
      "text/plain": [
       "SeqRecord(seq=Seq('ATGTCTGATAATGGACCCCAAAATCAGCGTAGTGCACCCCGCATTACATTTGGT...TAA'), id='ON012470.1', name='ON012470', description='Bat SARS-like coronavirus isolate B257 nucleocapsid protein (N) gene, complete cds', dbxrefs=[])"
      ]
     },
     "execution_count": 65,
     "metadata": {},
     "output_type": "execute_result"
    }
   ],
   "source": [
    "genbank_record"
   ]
  },
  {
   "cell_type": "markdown",
   "metadata": {},
   "source": [
    "En el genbank record podemos encontrar respuestas a preguntas como:"
   ]
  },
  {
   "cell_type": "code",
   "execution_count": 66,
   "metadata": {},
   "outputs": [
    {
     "name": "stdout",
     "output_type": "stream",
     "text": [
      "¿Es de cadena simple o doble y un virus de ADN o ARN?\n",
      " RNA\n"
     ]
    }
   ],
   "source": [
    "print(\"¿Es de cadena simple o doble y un virus de ADN o ARN?\\n\",\n",
    "      genbank_record.annotations[\"molecule_type\"])"
   ]
  },
  {
   "cell_type": "code",
   "execution_count": 67,
   "metadata": {},
   "outputs": [
    {
     "name": "stdout",
     "output_type": "stream",
     "text": [
      "¿Cuál es la taxonomía completa del NCBI de este virus?\n",
      " ['Viruses', 'Riboviria', 'Orthornavirae', 'Pisuviricota', 'Pisoniviricetes', 'Nidovirales', 'Cornidovirineae', 'Coronaviridae', 'Orthocoronavirinae', 'Betacoronavirus', 'Sarbecovirus']\n"
     ]
    }
   ],
   "source": [
    "print(\"¿Cuál es la taxonomía completa del NCBI de este virus?\\n\",\n",
    "      genbank_record.annotations[\"taxonomy\"])"
   ]
  },
  {
   "cell_type": "code",
   "execution_count": 68,
   "metadata": {},
   "outputs": [
    {
     "name": "stdout",
     "output_type": "stream",
     "text": [
      "¿Cuáles son las referencias/laboratorios relevantes que generaron los datos?\n",
      "\n",
      "location: [0:1260]\n",
      "authors: Wang,W., Hu,R.-X. and Zhang,Y.-Z.\n",
      "title: Coronaviruses circulated in wild animal including raccoon dogs and bats sampled during the beginning of COVID-19 emergence in Wuhan and its surrounding regions\n",
      "journal: Unpublished\n",
      "medline id: \n",
      "pubmed id: \n",
      "comment: \n",
      "\n",
      "location: [0:1260]\n",
      "authors: Wang,W., Hu,R.-X. and Zhang,Y.-Z.\n",
      "title: Direct Submission\n",
      "journal: Submitted (11-MAR-2022) Ecological Medicine Research Center, National Institute of Communicable Disease Control and Prevention, Chinese Center for Disease Control and Prevention, Changping Liuzi 5, Beijing 102206, China\n",
      "medline id: \n",
      "pubmed id: \n",
      "comment: \n",
      "\n"
     ]
    }
   ],
   "source": [
    "print(\"¿Cuáles son las referencias/laboratorios relevantes que generaron los datos?\\n\")\n",
    "for reference in genbank_record.annotations[\"references\"]:\n",
    "    print(reference)"
   ]
  },
  {
   "cell_type": "markdown",
   "metadata": {},
   "source": [
    "Ahora podemos leer más sobre el virus y los datos de origen siguiendo estas referencias y las búsquedas de Google adecuadas."
   ]
  },
  {
   "cell_type": "markdown",
   "metadata": {},
   "source": [
    "Tenga en cuenta que a partir de esta identificación, también podríamos encontrar el [registro aquí](https://www.ncbi.nlm.nih.gov/nuccore/NC_045512.2/) en el sitio web del NCBI."
   ]
  },
  {
   "cell_type": "markdown",
   "metadata": {},
   "source": [
    "## Análisis a nivel de proteína"
   ]
  },
  {
   "cell_type": "markdown",
   "metadata": {},
   "source": [
    "Podríamos estar interesados en las secuencias de genes/proteínas, no solo en el genoma completo. Es posible recuperar las secuencias de codificación de proteínas (CDS) del registro Genbank"
   ]
  },
  {
   "cell_type": "code",
   "execution_count": 69,
   "metadata": {},
   "outputs": [
    {
     "data": {
      "text/plain": [
       "[SeqFeature(SimpleLocation(ExactPosition(0), ExactPosition(1260), strand=1), type='source', qualifiers=...),\n",
       " SeqFeature(SimpleLocation(ExactPosition(0), ExactPosition(1260), strand=1), type='gene', qualifiers=...),\n",
       " SeqFeature(SimpleLocation(ExactPosition(0), ExactPosition(1260), strand=1), type='CDS', qualifiers=...)]"
      ]
     },
     "execution_count": 69,
     "metadata": {},
     "output_type": "execute_result"
    }
   ],
   "source": [
    "genbank_record.features"
   ]
  },
  {
   "cell_type": "code",
   "execution_count": 70,
   "metadata": {},
   "outputs": [
    {
     "data": {
      "text/plain": [
       "{'CDS', 'gene', 'source'}"
      ]
     },
     "execution_count": 70,
     "metadata": {},
     "output_type": "execute_result"
    }
   ],
   "source": [
    "{feature.type for feature in genbank_record.features}"
   ]
  },
  {
   "cell_type": "code",
   "execution_count": 71,
   "metadata": {},
   "outputs": [
    {
     "data": {
      "text/plain": [
       "1"
      ]
     },
     "execution_count": 71,
     "metadata": {},
     "output_type": "execute_result"
    }
   ],
   "source": [
    "CDSs = [feature for feature in genbank_record.features if feature.type == \"CDS\"]\n",
    "len(CDSs)"
   ]
  },
  {
   "cell_type": "markdown",
   "metadata": {},
   "source": [
    "Miremos la primera proteína y extraigamos la secuencia subyacente."
   ]
  },
  {
   "cell_type": "code",
   "execution_count": 59,
   "metadata": {},
   "outputs": [
    {
     "data": {
      "text/plain": [
       "['N']"
      ]
     },
     "execution_count": 59,
     "metadata": {},
     "output_type": "execute_result"
    }
   ],
   "source": [
    "CDSs[0].qualifiers[\"gene\"]"
   ]
  },
  {
   "cell_type": "code",
   "execution_count": 77,
   "metadata": {},
   "outputs": [],
   "source": [
    "protein_seq = Seq(CDSs[0].qualifiers[\"translation\"][0])"
   ]
  },
  {
   "cell_type": "code",
   "execution_count": 78,
   "metadata": {},
   "outputs": [
    {
     "data": {
      "text/plain": [
       "Seq('MSDNGPQNQRSAPRITFGGPPDSSDNNQNGERNGARPKQRRPQGLPNNTASWFT...TQA')"
      ]
     },
     "execution_count": 78,
     "metadata": {},
     "output_type": "execute_result"
    }
   ],
   "source": [
    "protein_seq"
   ]
  },
  {
   "cell_type": "markdown",
   "metadata": {},
   "source": [
    "Con esta información podemos hacer algunas preguntas simples sobre la secuencia como:"
   ]
  },
  {
   "cell_type": "code",
   "execution_count": 79,
   "metadata": {},
   "outputs": [
    {
     "name": "stdout",
     "output_type": "stream",
     "text": [
      "¿La secuencia comienza con un codón de inicio?\n",
      " True\n"
     ]
    }
   ],
   "source": [
    "print(\"¿La secuencia comienza con un codón de inicio?\\n\",\n",
    "      protein_seq.startswith(\"M\"))"
   ]
  },
  {
   "cell_type": "markdown",
   "metadata": {},
   "source": [
    "Podemos verificar aproximadamente cómo esta secuencia de proteína se relaciona con la secuencia de nucleótidos subyacente mirando la tabla de codones de ADN."
   ]
  },
  {
   "cell_type": "code",
   "execution_count": 80,
   "metadata": {},
   "outputs": [
    {
     "name": "stdout",
     "output_type": "stream",
     "text": [
      "Table 1 Standard, SGC0\n",
      "\n",
      "  |  T      |  C      |  A      |  G      |\n",
      "--+---------+---------+---------+---------+--\n",
      "T | TTT F   | TCT S   | TAT Y   | TGT C   | T\n",
      "T | TTC F   | TCC S   | TAC Y   | TGC C   | C\n",
      "T | TTA L   | TCA S   | TAA Stop| TGA Stop| A\n",
      "T | TTG L(s)| TCG S   | TAG Stop| TGG W   | G\n",
      "--+---------+---------+---------+---------+--\n",
      "C | CTT L   | CCT P   | CAT H   | CGT R   | T\n",
      "C | CTC L   | CCC P   | CAC H   | CGC R   | C\n",
      "C | CTA L   | CCA P   | CAA Q   | CGA R   | A\n",
      "C | CTG L(s)| CCG P   | CAG Q   | CGG R   | G\n",
      "--+---------+---------+---------+---------+--\n",
      "A | ATT I   | ACT T   | AAT N   | AGT S   | T\n",
      "A | ATC I   | ACC T   | AAC N   | AGC S   | C\n",
      "A | ATA I   | ACA T   | AAA K   | AGA R   | A\n",
      "A | ATG M(s)| ACG T   | AAG K   | AGG R   | G\n",
      "--+---------+---------+---------+---------+--\n",
      "G | GTT V   | GCT A   | GAT D   | GGT G   | T\n",
      "G | GTC V   | GCC A   | GAC D   | GGC G   | C\n",
      "G | GTA V   | GCA A   | GAA E   | GGA G   | A\n",
      "G | GTG V   | GCG A   | GAG E   | GGG G   | G\n",
      "--+---------+---------+---------+---------+--\n"
     ]
    }
   ],
   "source": [
    "print(CodonTable.unambiguous_dna_by_id[1])"
   ]
  },
  {
   "cell_type": "markdown",
   "metadata": {},
   "source": [
    "Sin embargo, no podemos realizar una \"traducción inversa\" exacta, por supuesto, ya que el mismo codón produce varios aminoácidos. Hay que tomar en cuenta que si, en cambio, empezáramos con la secuencia de nucleótidos, entonces podríamos usar las funciones `.transcribe()` y `.translate()` de Biopython para convertir secuencias de ADN a ARN y de ADN a proteína, respectivamente."
   ]
  },
  {
   "cell_type": "code",
   "execution_count": 82,
   "metadata": {},
   "outputs": [
    {
     "name": "stdout",
     "output_type": "stream",
     "text": [
      "Longitud de la secuencia de proteínas en aminoácidos: 419\n"
     ]
    }
   ],
   "source": [
    "print(\"Longitud de la secuencia de proteínas en aminoácidos:\", len(protein_seq))"
   ]
  },
  {
   "cell_type": "markdown",
   "metadata": {},
   "source": [
    "Es una proteína larga para un virus. Podemos revisar su anotación para ver qué es."
   ]
  },
  {
   "cell_type": "code",
   "execution_count": 83,
   "metadata": {},
   "outputs": [
    {
     "data": {
      "text/plain": [
       "['nucleocapsid protein']"
      ]
     },
     "execution_count": 83,
     "metadata": {},
     "output_type": "execute_result"
    }
   ],
   "source": [
    "CDSs[0].qualifiers[\"product\"]"
   ]
  },
  {
   "cell_type": "markdown",
   "metadata": {},
   "source": [
    "Podemos observar que se trata de una proteína nucleocápside, que es una proteína que forma parte de la estructura del virus. Es una proteína relativamente grande en comparación con otras proteínas virales."
   ]
  }
 ],
 "metadata": {
  "anaconda-cloud": {},
  "kernelspec": {
   "display_name": "Python 3 (ipykernel)",
   "language": "python",
   "name": "python3"
  },
  "language_info": {
   "codemirror_mode": {
    "name": "ipython",
    "version": 3
   },
   "file_extension": ".py",
   "mimetype": "text/x-python",
   "name": "python",
   "nbconvert_exporter": "python",
   "pygments_lexer": "ipython3",
   "version": "3.11.2"
  }
 },
 "nbformat": 4,
 "nbformat_minor": 2
}
