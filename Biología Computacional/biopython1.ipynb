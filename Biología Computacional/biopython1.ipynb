{
 "cells": [
  {
   "cell_type": "code",
   "execution_count": 8,
   "outputs": [
    {
     "name": "stdout",
     "output_type": "stream",
     "text": [
      "Requirement already satisfied: biopython in d:\\gitkraken\\adventofcode\\venv2\\lib\\site-packages (1.81)\n",
      "Requirement already satisfied: numpy in d:\\gitkraken\\adventofcode\\venv2\\lib\\site-packages (from biopython) (1.24.2)\n"
     ]
    },
    {
     "name": "stderr",
     "output_type": "stream",
     "text": [
      "\n",
      "[notice] A new release of pip available: 22.3.1 -> 23.0.1\n",
      "[notice] To update, run: python.exe -m pip install --upgrade pip\n"
     ]
    }
   ],
   "source": [
    "!pip install biopython"
   ],
   "metadata": {
    "collapsed": false
   }
  },
  {
   "cell_type": "code",
   "execution_count": 21,
   "outputs": [],
   "source": [
    "#Importar librerías\n",
    "import os\n",
    "import sys\n",
    "\n",
    "\n",
    "import Bio\n",
    "from Bio import SeqIO, SearchIO, Entrez\n",
    "from Bio.Seq import Seq\n",
    "from Bio.SeqRecord import SeqRecord\n",
    "from Bio.SeqUtils import gc_fraction\n",
    "from Bio.SeqUtils import GC\n",
    "from Bio.Blast import NCBIWWW"
   ],
   "metadata": {
    "collapsed": false
   }
  },
  {
   "cell_type": "markdown",
   "source": [
    "# 1. Cargar secuencia de un gen"
   ],
   "metadata": {
    "collapsed": false
   }
  },
  {
   "cell_type": "code",
   "execution_count": 17,
   "outputs": [],
   "source": [
    "#Crear una secuencia\n",
    "secuencia = Seq(\"ATTCGATTGCTTGATTTGGCGCCTTTCCCGAGAAAAGTCGTACACATTAGACCAC\")\n",
    "#Crear un registro de una secuencia\n",
    "registro = SeqRecord(\n",
    "   Seq(\"MKQHKAMIVALIVICITAVVAALVTRKDLCEVHIRTGQTEVAVF\"),\n",
    "   id=\"YP_025292.1\",\n",
    "   name=\"HokC\",\n",
    "   description=\"toxic membrane protein, small\",\n",
    ")\n"
   ],
   "metadata": {
    "collapsed": false
   }
  },
  {
   "cell_type": "code",
   "execution_count": 16,
   "outputs": [
    {
     "data": {
      "text/plain": "SeqRecord(seq=Seq('TCTCATAGAGAGTTTGATCCTAGCTCAGGATGAACGCTGGCGGCATGCTTAACA...TTT'), id='NC_035417.1:115075-116565', name='NC_035417.1:115075-116565', description='NC_035417.1:115075-116565 rrn16 [organism=Dionaea muscipula] [GeneID=33373509] [chromosome=Plastid: chloroplast]', dbxrefs=[])"
     },
     "execution_count": 16,
     "metadata": {},
     "output_type": "execute_result"
    }
   ],
   "source": [
    "archivo=\"data/gene.fna\"\n",
    "registro2 = SeqIO.read(archivo, \"fasta\")\n",
    "registro2"
   ],
   "metadata": {
    "collapsed": false
   }
  },
  {
   "cell_type": "code",
   "execution_count": 18,
   "outputs": [
    {
     "data": {
      "text/plain": "'NC_035417.1:115075-116565 rrn16 [organism=Dionaea muscipula] [GeneID=33373509] [chromosome=Plastid: chloroplast]'"
     },
     "execution_count": 18,
     "metadata": {},
     "output_type": "execute_result"
    }
   ],
   "source": [
    "registro2.description"
   ],
   "metadata": {
    "collapsed": false
   }
  },
  {
   "cell_type": "code",
   "execution_count": 19,
   "outputs": [
    {
     "name": "stdout",
     "output_type": "stream",
     "text": [
      "Longitud de la secuencia (bp) 1491\n"
     ]
    }
   ],
   "source": [
    "print(\"Longitud de la secuencia (bp)\", len(registro2.seq))"
   ],
   "metadata": {
    "collapsed": false
   }
  },
  {
   "cell_type": "code",
   "execution_count": 22,
   "outputs": [
    {
     "name": "stdout",
     "output_type": "stream",
     "text": [
      "Porcentaje GC de la secuencia 0.5560026827632462\n"
     ]
    }
   ],
   "source": [
    "print(\"Porcentaje GC de la secuencia\", gc_fraction(registro2.seq))"
   ],
   "metadata": {
    "collapsed": false
   }
  },
  {
   "cell_type": "code",
   "execution_count": 23,
   "outputs": [
    {
     "name": "stdout",
     "output_type": "stream",
     "text": [
      "Secuencia completa:  TCTCATAGAGAGTTTGATCCTAGCTCAGGATGAACGCTGGCGGCATGCTTAACACATGCAAGTCGGACGGGAAGTGGTGTTTCCAGTGGCGCACGGGTGAGTAACGCGTAAGAACCTGCCCTTGGGAGGGGAACAACAGCTGGAAACGGCTGCTAATACCCCGTAGGCTGAGGAGCAAAAGGAGGAATCCGCCCGAGGAGGGGCTCGCGTCTGATTAGCTAGTTGGTGAGGCAATAGCTTACCAAGGCAATGATCAGTAGCTGGTCCGAGAGGATGATCAGCCACACTGGGACTGAGACACGGCCCAGACTCCTACGGGAGGCAGCAGTGGGGAATTTTCCGCAATGGGCGAAAGCCTGACGGGGCAATGCCGCGTGGAGGTAGAAGGCCCACGGGTCGTAAACTTCTTTTCCCAGAGAAGAAAGAATGACGGTATCTGGGGAATAAGCATCGGCTAACTCTGTGCCAGCAGCCGCGGTAAGACAGAGGATGCAAGCGTTATCCGGAATGATTGGGCGTAAAGCGTCTGCAGGTGGCTTTTTAAGTCCACCGTCAAATCCCAGGGCTCAACCCTGGACAGGCGGTGGAAACTACCAAGCTAGAGTAGGGTAGTGGCAGAGGGAATGTCCGAAGTAGCGATCAAATGCGTAGAGATCGGAAAGAACACCCACGGCGAAAGCACTCTGCTGGGCCAACACTGACACTCAGAGACGAAAGCTAGGGGAGCGAATGGGATTAGATACCCCAGTAGTCCTAGCCGTAAACGATGGATACTAGGCGCTGTGCGCTTCGACCCGTGCAGTGCTGTAGCTAACGCATTAAGTATCCCGCCTGGGGAGTACGTTCGCAAGAATGAAACTCAAAGGAATTGACGGGGGCCCGCACAAGCGGTGGAGCATGTGGTTTAATTCGATGCAAAGCGAAGAACCTTACCAGGGCTTGACATGCCGCGAATCCTCTTGAAAGAGGGGGGTGCCTTCGGGAACGCGGACACAGGTGGTGCATGGCTGTCGTCAGCTCGTGCCGTAAGGTCTTGGGTTAAGTCCCGCAACGGTCGCAACCCTCGTGTTTAGTTGCCAACGTCGAGTTTGGAACCCTGAACAGACTGCCGGTGTTAAGCCGGAGGAAGGTGAGGATGACGTCAAGTCATCATGCCCCTTATGCCCTGGGCGACACACATGCTACAATGGCCGGGACAAAGGGTCGCGATCCCGCGAGGGTGAGCTAACCCCAAAAACCCGTCCCCAGTTCGGATTGGAGGCTGCAACTCGCCTCCATGAAGTCGGAATCGCTAGTAATCGCCGGTCAGCCATACGGCGGTGAATTCGTTATCGGGTCTTGTACACACCGCCCGTCACACTAGGGAAGCCGGCTATGCCCGAAGTCCTTACCTTAACCGCAAGGAGGGGGATGCCTAAGGTATGGTTGGTAACTGGAGTGAAGTCGTAACAAGGTAGGCGTACTGGAAGGTGCGGCTGGAGTACCTCCTTT\n"
     ]
    }
   ],
   "source": [
    "print(\"Secuencia completa: \", registro2.seq)"
   ],
   "metadata": {
    "collapsed": false
   }
  },
  {
   "cell_type": "code",
   "execution_count": 27,
   "outputs": [
    {
     "name": "stdout",
     "output_type": "stream",
     "text": [
      "Secuencia complementaria:  AGAGTATCTCTCAAACTAGGATCGAGTCCTACTTGCGACCGCCGTACGAATTGTGTACGTTCAGCCTGCCCTTCACCACAAAGGTCACCGCGTGCCCACTCATTGCGCATTCTTGGACGGGAACCCTCCCCTTGTTGTCGACCTTTGCCGACGATTATGGGGCATCCGACTCCTCGTTTTCCTCCTTAGGCGGGCTCCTCCCCGAGCGCAGACTAATCGATCAACCACTCCGTTATCGAATGGTTCCGTTACTAGTCATCGACCAGGCTCTCCTACTAGTCGGTGTGACCCTGACTCTGTGCCGGGTCTGAGGATGCCCTCCGTCGTCACCCCTTAAAAGGCGTTACCCGCTTTCGGACTGCCCCGTTACGGCGCACCTCCATCTTCCGGGTGCCCAGCATTTGAAGAAAAGGGTCTCTTCTTTCTTACTGCCATAGACCCCTTATTCGTAGCCGATTGAGACACGGTCGTCGGCGCCATTCTGTCTCCTACGTTCGCAATAGGCCTTACTAACCCGCATTTCGCAGACGTCCACCGAAAAATTCAGGTGGCAGTTTAGGGTCCCGAGTTGGGACCTGTCCGCCACCTTTGATGGTTCGATCTCATCCCATCACCGTCTCCCTTACAGGCTTCATCGCTAGTTTACGCATCTCTAGCCTTTCTTGTGGGTGCCGCTTTCGTGAGACGACCCGGTTGTGACTGTGAGTCTCTGCTTTCGATCCCCTCGCTTACCCTAATCTATGGGGTCATCAGGATCGGCATTTGCTACCTATGATCCGCGACACGCGAAGCTGGGCACGTCACGACATCGATTGCGTAATTCATAGGGCGGACCCCTCATGCAAGCGTTCTTACTTTGAGTTTCCTTAACTGCCCCCGGGCGTGTTCGCCACCTCGTACACCAAATTAAGCTACGTTTCGCTTCTTGGAATGGTCCCGAACTGTACGGCGCTTAGGAGAACTTTCTCCCCCCACGGAAGCCCTTGCGCCTGTGTCCACCACGTACCGACAGCAGTCGAGCACGGCATTCCAGAACCCAATTCAGGGCGTTGCCAGCGTTGGGAGCACAAATCAACGGTTGCAGCTCAAACCTTGGGACTTGTCTGACGGCCACAATTCGGCCTCCTTCCACTCCTACTGCAGTTCAGTAGTACGGGGAATACGGGACCCGCTGTGTGTACGATGTTACCGGCCCTGTTTCCCAGCGCTAGGGCGCTCCCACTCGATTGGGGTTTTTGGGCAGGGGTCAAGCCTAACCTCCGACGTTGAGCGGAGGTACTTCAGCCTTAGCGATCATTAGCGGCCAGTCGGTATGCCGCCACTTAAGCAATAGCCCAGAACATGTGTGGCGGGCAGTGTGATCCCTTCGGCCGATACGGGCTTCAGGAATGGAATTGGCGTTCCTCCCCCTACGGATTCCATACCAACCATTGACCTCACTTCAGCATTGTTCCATCCGCATGACCTTCCACGCCGACCTCATGGAGGAAA\n"
     ]
    }
   ],
   "source": [
    "print(\"Secuencia complementaria: \", registro2.seq.complement())"
   ],
   "metadata": {
    "collapsed": false
   }
  },
  {
   "cell_type": "code",
   "execution_count": 24,
   "outputs": [
    {
     "name": "stdout",
     "output_type": "stream",
     "text": [
      "Traduccion:  SHREFDPSSG*TLAACLTHASRTGSGVSSGARVSNA*EPALGRGTTAGNGC*YPVG*GAKGGIRPRRGSRLIS*LVRQ*LTKAMISSWSERMISHTGTETRPRLLREAAVGNFPQWAKA*RGNAAWR*KAHGS*TSFPREERMTVSGE*ASANSVPAAAVRQRMQALSGMIGRKASAGGFLSPPSNPRAQPWTGGGNYQARVG*WQRECPK*RSNA*RSERTPTAKALCWANTDTQRRKLGERMGLDTPVVLAVNDGY*ALCASTRAVL*LTH*VSRLGSTFARMKLKGIDGGPHKRWSMWFNSMQSEEPYQGLTCRESS*KRGVPSGTRTQVVHGCRQLVP*GLGLSPATVATLVFSCQRRVWNPEQTAGVKPEEGEDDVKSSCPLCPGRHTCYNGRDKGSRSREGELTPKTRPQFGLEAATRLHEVGIASNRRSAIRR*IRYRVLYTPPVTLGKPAMPEVLTLTARRGMPKVWLVTGVKS*QGRRTGRCGWSTSF\n"
     ]
    }
   ],
   "source": [
    "print(\"Traduccion: \", registro2.seq.translate())"
   ],
   "metadata": {
    "collapsed": false
   }
  },
  {
   "cell_type": "code",
   "execution_count": 28,
   "outputs": [
    {
     "name": "stdout",
     "output_type": "stream",
     "text": [
      "CPU times: total: 62.5 ms\n",
      "Wall time: 3min 8s\n"
     ]
    }
   ],
   "source": [
    "%%time\n",
    "blast_handler = NCBIWWW.qblast(\"blastn\", \"nt\", registro2.seq)"
   ],
   "metadata": {
    "collapsed": false
   }
  },
  {
   "cell_type": "code",
   "execution_count": 29,
   "outputs": [
    {
     "name": "stderr",
     "output_type": "stream",
     "text": [
      "D:\\GitKraken\\AdventOfCode\\venv2\\Lib\\site-packages\\Bio\\SearchIO\\_legacy\\__init__.py:12: BiopythonDeprecationWarning: The 'Bio.SearchIO._legacy' module for parsing BLAST plain text output is deprecated and will be removed in a future release of Biopython. Consider generating your BLAST output for parsing as XML or tabular format instead.\n",
      "  warnings.warn(\n"
     ]
    }
   ],
   "source": [
    "blast_qresult = SearchIO.read(blast_handler, \"blast-xml\")"
   ],
   "metadata": {
    "collapsed": false
   }
  },
  {
   "cell_type": "code",
   "execution_count": 30,
   "outputs": [
    {
     "name": "stdout",
     "output_type": "stream",
     "text": [
      "Program: blastn (2.13.0+)\n",
      "  Query: No (1491)\n",
      "         definition line\n",
      " Target: nt\n",
      "   Hits: ----  -----  ----------------------------------------------------------\n",
      "            #  # HSP  ID + description\n",
      "         ----  -----  ----------------------------------------------------------\n",
      "            0      1  gi|1573387814|gb|MK397918.1|  Dionaea muscipula plastid...\n",
      "            1      2  gi|1207091112|gb|KY679201.1|  Dionaea muscipula chlorop...\n",
      "            2      2  gi|1215852713|ref|NC_035417.1|  Dionaea muscipula chlor...\n",
      "            3      2  gi|1207090957|gb|KY679199.1|  Drosera regia chloroplast...\n",
      "            4      2  gi|1215852552|ref|NC_035415.1|  Drosera regia chloropla...\n",
      "            5      1  gi|1575644239|gb|MH286302.1|  Aldrovanda vesiculosa 16S...\n",
      "            6      2  gi|1573387197|gb|MK397911.1|  Aldrovanda vesiculosa pla...\n",
      "            7      2  gi|1207091030|gb|KY679200.1|  Aldrovanda vesiculosa chl...\n",
      "            8      2  gi|1215852628|ref|NC_035416.1|  Aldrovanda vesiculosa v...\n",
      "            9      2  gi|1583104365|ref|NC_040938.1|  Rhabdodendron amazonicu...\n",
      "           10      2  gi|1575643521|gb|MH286337.1|  Rhabdodendron amazonicum ...\n",
      "           11      2  gi|1573388702|gb|MK397928.1|  Rhabdodendron amazonicum ...\n",
      "           12      2  gi|1600728862|ref|NC_041273.1|  Hololachna songarica vo...\n",
      "           13      4  gi|2424880837|ref|NC_069295.1|  Morina chinensis chloro...\n",
      "           14      4  gi|2363799174|gb|ON357685.1|  Morina chinensis chloropl...\n",
      "           15      2  gi|2195126801|gb|OM112328.1|  Reaumuria songarica chlor...\n",
      "           16      4  gi|2159364215|gb|MK443504.1|  Morina chlorantha chlorop...\n",
      "           17      2  gi|2028731171|gb|MW760848.1|  Reaumuria songarica chlor...\n",
      "           18      2  gi|2445345320|gb|OP778418.1|  Myricaria elegans voucher...\n",
      "           19      2  gi|2445345230|gb|OP778417.1|  Myricaria elegans voucher...\n",
      "           20      2  gi|2445345140|gb|OP778416.1|  Myricaria elegans voucher...\n",
      "           21      2  gi|2445345050|gb|OP778415.1|  Myricaria elegans voucher...\n",
      "           22      2  gi|2445344960|gb|OP778414.1|  Myricaria wardii voucher ...\n",
      "           23      2  gi|2445344872|gb|OP778413.1|  Myricaria wardii voucher ...\n",
      "           24      2  gi|2445344784|gb|OP778412.1|  Myricaria wardii voucher ...\n",
      "           25      2  gi|2445344694|gb|OP778411.1|  Myricaria rosea voucher H...\n",
      "           26      2  gi|2445344604|gb|OP778410.1|  Myricaria rosea voucher H...\n",
      "           27      2  gi|2445344514|gb|OP778409.1|  Myricaria squamosa vouche...\n",
      "           28      2  gi|2445344424|gb|OP778408.1|  Myricaria squamosa vouche...\n",
      "           29      2  gi|2445344334|gb|OP778407.1|  Myricaria squamosa vouche...\n",
      "           ~~~\n",
      "           47      2  gi|2445342714|gb|OP778389.1|  Myricaria squamosa vouche...\n",
      "           48      2  gi|2445342624|gb|OP778388.1|  Myricaria squamosa vouche...\n",
      "           49      2  gi|2445342534|gb|OP778387.1|  Myricaria squamosa vouche...\n"
     ]
    }
   ],
   "source": [
    "print(blast_qresult)"
   ],
   "metadata": {
    "collapsed": false
   }
  },
  {
   "cell_type": "code",
   "execution_count": 31,
   "outputs": [
    {
     "data": {
      "text/plain": "['Dionaea muscipula plastid, complete genome',\n 'Dionaea muscipula chloroplast, complete genome',\n 'Dionaea muscipula chloroplast, complete genome',\n 'Drosera regia chloroplast, complete genome',\n 'Drosera regia chloroplast, complete genome',\n 'Aldrovanda vesiculosa 16S ribosomal RNA (rrn16), tRNA-Ile (trnI-GAU), tRNA-Ala (trnA-UGC), 23S ribosomal RNA (rrn23), 4.5S ribosomal RNA (rrn4.5), 5S ribosomal RNA (rrn5), and tRNA-Arg (trnR-ACG) genes, complete sequence; chloroplast',\n 'Aldrovanda vesiculosa plastid',\n 'Aldrovanda vesiculosa chloroplast, complete genome',\n 'Aldrovanda vesiculosa voucher PERTH_08722560 chloroplast, complete genome',\n 'Rhabdodendron amazonicum voucher 14CS8827 (KUN) plastid, complete genome']"
     },
     "execution_count": 31,
     "metadata": {},
     "output_type": "execute_result"
    }
   ],
   "source": [
    "[hit.description for hit in blast_qresult[:10]]"
   ],
   "metadata": {
    "collapsed": false
   }
  },
  {
   "cell_type": "code",
   "execution_count": 32,
   "outputs": [],
   "source": [
    "Entrez.email = \"bapalma@puce.edu.ec\""
   ],
   "metadata": {
    "collapsed": false
   }
  },
  {
   "cell_type": "code",
   "execution_count": 33,
   "outputs": [
    {
     "data": {
      "text/plain": "['pubmed', 'protein', 'nuccore', 'ipg', 'nucleotide', 'structure', 'genome', 'annotinfo', 'assembly', 'bioproject', 'biosample', 'blastdbinfo', 'books', 'cdd', 'clinvar', 'gap', 'gapplus', 'grasp', 'dbvar', 'gene', 'gds', 'geoprofiles', 'homologene', 'medgen', 'mesh', 'nlmcatalog', 'omim', 'orgtrack', 'pmc', 'popset', 'proteinclusters', 'pcassay', 'protfam', 'pccompound', 'pcsubstance', 'seqannot', 'snp', 'sra', 'taxonomy', 'biocollections', 'gtr']"
     },
     "execution_count": 33,
     "metadata": {},
     "output_type": "execute_result"
    }
   ],
   "source": [
    "handle = Entrez.einfo() # or esearch, efetch, ...\n",
    "record = Entrez.read(handle)\n",
    "record['DbList']"
   ],
   "metadata": {
    "collapsed": false
   }
  },
  {
   "cell_type": "code",
   "execution_count": 34,
   "outputs": [
    {
     "data": {
      "text/plain": "'PubMed bibliographic record'"
     },
     "execution_count": 34,
     "metadata": {},
     "output_type": "execute_result"
    }
   ],
   "source": [
    "handle = Entrez.einfo(db=\"pubmed\")\n",
    "record = Entrez.read(handle)\n",
    "record['DbInfo']['Description']"
   ],
   "metadata": {
    "collapsed": false
   }
  },
  {
   "cell_type": "code",
   "execution_count": 35,
   "outputs": [
    {
     "data": {
      "text/plain": "'35398199'"
     },
     "execution_count": 35,
     "metadata": {},
     "output_type": "execute_result"
    }
   ],
   "source": [
    "record['DbInfo']['Count']"
   ],
   "metadata": {
    "collapsed": false
   }
  },
  {
   "cell_type": "code",
   "execution_count": 36,
   "outputs": [
    {
     "data": {
      "text/plain": "['33854089']"
     },
     "execution_count": 36,
     "metadata": {},
     "output_type": "execute_result"
    }
   ],
   "source": [
    "#Buscando un paper en PubMed\n",
    "handle = Entrez.esearch(db=\"pubmed\",term=\"coffea humblotiana\")\n",
    "record = Entrez.read(handle)\n",
    "record[\"IdList\"]"
   ],
   "metadata": {
    "collapsed": false
   }
  },
  {
   "cell_type": "code",
   "execution_count": 37,
   "outputs": [
    {
     "data": {
      "text/plain": "['2229487609', '2229487536', '2229487366', '315906892', '315900077', '315897128', '315860630', '315860604', '315850434', '315830194', '315829230', '315827478', '315801343', '315798495', '315794374', '315789671', '315783386', '315780207', '315780166', '315773516']"
     },
     "execution_count": 37,
     "metadata": {},
     "output_type": "execute_result"
    }
   ],
   "source": [
    "#Buscando un gen en Nucleotide\n",
    "handle = Entrez.esearch(db=\"nucleotide\",term=\"Coffea arabica[Orgn] AND caffeine synthase\")\n",
    "record = Entrez.read(handle)\n",
    "record[\"IdList\"]"
   ],
   "metadata": {
    "collapsed": false
   }
  },
  {
   "cell_type": "code",
   "execution_count": 38,
   "outputs": [
    {
     "name": "stdout",
     "output_type": "stream",
     "text": [
      "ID: NM_001405427.1\n",
      "Name: NM_001405427\n",
      "Description: Coffea arabica caffeine synthase 1-like (LOC113688632), mRNA\n",
      "Number of features: 12\n",
      "/molecule_type=mRNA\n",
      "/topology=linear\n",
      "/data_file_division=PLN\n",
      "/date=01-JAN-2023\n",
      "/accessions=['NM_001405427', 'XM_027206542']\n",
      "/sequence_version=1\n",
      "/keywords=['RefSeq']\n",
      "/source=Coffea arabica (coffee)\n",
      "/organism=Coffea arabica\n",
      "/taxonomy=['Eukaryota', 'Viridiplantae', 'Streptophyta', 'Embryophyta', 'Tracheophyta', 'Spermatophyta', 'Magnoliopsida', 'eudicotyledons', 'Gunneridae', 'Pentapetalae', 'asterids', 'lamiids', 'Gentianales', 'Rubiaceae', 'Ixoroideae', 'Gardenieae complex', 'Bertiereae - Coffeeae clade', 'Coffeeae', 'Coffea']\n",
      "/references=[Reference(title='A high-throughput data mining of single nucleotide polymorphisms in Coffea species expressed sequence tags suggests differential homeologous gene expression in the allotetraploid Coffea arabica', ...), Reference(title='Isolation of a new dual-functional caffeine synthase gene encoding an enzyme for the conversion of 7-methylxanthine to caffeine from coffee (Coffea arabica L.)', ...)]\n",
      "/comment=VALIDATED REFSEQ: This record has undergone validation or\n",
      "preliminary review. The reference sequence was derived from\n",
      "GR993866.1, GT711210.1, AB086414.1 and GT682597.1.\n",
      "On Apr 22, 2022 this sequence version replaced XM_027206542.1.\n",
      "/structured_comment=defaultdict(<class 'dict'>, {'Evidence-Data': {'Transcript exon combination': 'AB086414.1, KJ577793.1 [ECO:0000332]', 'RNAseq introns': 'single sample supports all introns SAMEA104198428, SAMEA2377371 [ECO:0000348]'}})\n",
      "Seq('ATTAACAGATACCTTCTTTAGCAGTCCCAATTCGATTTATGCACAAGTCCTGCG...TAC')\n"
     ]
    }
   ],
   "source": [
    "#Obtener una de las secuencias\n",
    "handle = Entrez.efetch(db=\"nucleotide\", id=\"2229487366\", rettype=\"gb\", retmode=\"text\")\n",
    "record = SeqIO.read(handle,\"genbank\")\n",
    "handle.close()\n",
    "print(record)"
   ],
   "metadata": {
    "collapsed": false
   }
  },
  {
   "cell_type": "code",
   "execution_count": 39,
   "outputs": [
    {
     "data": {
      "text/plain": "'Coffea arabica caffeine synthase 1-like (LOC113688632), mRNA'"
     },
     "execution_count": 39,
     "metadata": {},
     "output_type": "execute_result"
    }
   ],
   "source": [
    "record.description"
   ],
   "metadata": {
    "collapsed": false
   }
  },
  {
   "cell_type": "code",
   "execution_count": 45,
   "outputs": [],
   "source": [
    "#Guardar la secuencia\n",
    "archivo_guardar = open(\"2229487366.gbk\",\"w\")\n",
    "SeqIO.write(record,archivo_guardar,\"gb\")\n",
    "archivo_guardar.close()"
   ],
   "metadata": {
    "collapsed": false
   }
  },
  {
   "cell_type": "code",
   "execution_count": 1,
   "outputs": [
    {
     "ename": "OSError",
     "evalue": "[Errno 22] Invalid argument: 'https://www.ncbi.nlm.nih.gov/nuccore/NC_005816'",
     "output_type": "error",
     "traceback": [
      "\u001B[1;31m---------------------------------------------------------------------------\u001B[0m",
      "\u001B[1;31mOSError\u001B[0m                                   Traceback (most recent call last)",
      "Cell \u001B[1;32mIn[1], line 4\u001B[0m\n\u001B[0;32m      1\u001B[0m \u001B[38;5;28;01mfrom\u001B[39;00m \u001B[38;5;21;01mBio\u001B[39;00m \u001B[38;5;28;01mimport\u001B[39;00m SeqIO\n\u001B[0;32m      3\u001B[0m \u001B[38;5;66;03m# Obtener el archivo de ejemplo GenBank con ID \"NC_005816\"\u001B[39;00m\n\u001B[1;32m----> 4\u001B[0m gb_record \u001B[38;5;241m=\u001B[39m \u001B[43mSeqIO\u001B[49m\u001B[38;5;241;43m.\u001B[39;49m\u001B[43mread\u001B[49m\u001B[43m(\u001B[49m\u001B[38;5;124;43m\"\u001B[39;49m\u001B[38;5;124;43mhttps://www.ncbi.nlm.nih.gov/nuccore/NC_005816\u001B[39;49m\u001B[38;5;124;43m\"\u001B[39;49m\u001B[43m,\u001B[49m\u001B[43m \u001B[49m\u001B[38;5;124;43m\"\u001B[39;49m\u001B[38;5;124;43mgenbank\u001B[39;49m\u001B[38;5;124;43m\"\u001B[39;49m\u001B[43m)\u001B[49m\n",
      "File \u001B[1;32mD:\\GitKraken\\AdventOfCode\\venv2\\Lib\\site-packages\\Bio\\SeqIO\\__init__.py:652\u001B[0m, in \u001B[0;36mread\u001B[1;34m(handle, format, alphabet)\u001B[0m\n\u001B[0;32m    612\u001B[0m \u001B[38;5;28;01mdef\u001B[39;00m \u001B[38;5;21mread\u001B[39m(handle, \u001B[38;5;28mformat\u001B[39m, alphabet\u001B[38;5;241m=\u001B[39m\u001B[38;5;28;01mNone\u001B[39;00m):\n\u001B[0;32m    613\u001B[0m \u001B[38;5;250m    \u001B[39m\u001B[38;5;124;03m\"\"\"Turn a sequence file into a single SeqRecord.\u001B[39;00m\n\u001B[0;32m    614\u001B[0m \n\u001B[0;32m    615\u001B[0m \u001B[38;5;124;03m    Arguments:\u001B[39;00m\n\u001B[1;32m   (...)\u001B[0m\n\u001B[0;32m    650\u001B[0m \u001B[38;5;124;03m    to read multiple records from the handle.\u001B[39;00m\n\u001B[0;32m    651\u001B[0m \u001B[38;5;124;03m    \"\"\"\u001B[39;00m\n\u001B[1;32m--> 652\u001B[0m     iterator \u001B[38;5;241m=\u001B[39m \u001B[43mparse\u001B[49m\u001B[43m(\u001B[49m\u001B[43mhandle\u001B[49m\u001B[43m,\u001B[49m\u001B[43m \u001B[49m\u001B[38;5;28;43mformat\u001B[39;49m\u001B[43m,\u001B[49m\u001B[43m \u001B[49m\u001B[43malphabet\u001B[49m\u001B[43m)\u001B[49m\n\u001B[0;32m    653\u001B[0m     \u001B[38;5;28;01mtry\u001B[39;00m:\n\u001B[0;32m    654\u001B[0m         record \u001B[38;5;241m=\u001B[39m \u001B[38;5;28mnext\u001B[39m(iterator)\n",
      "File \u001B[1;32mD:\\GitKraken\\AdventOfCode\\venv2\\Lib\\site-packages\\Bio\\SeqIO\\__init__.py:605\u001B[0m, in \u001B[0;36mparse\u001B[1;34m(handle, format, alphabet)\u001B[0m\n\u001B[0;32m    603\u001B[0m iterator_generator \u001B[38;5;241m=\u001B[39m _FormatToIterator\u001B[38;5;241m.\u001B[39mget(\u001B[38;5;28mformat\u001B[39m)\n\u001B[0;32m    604\u001B[0m \u001B[38;5;28;01mif\u001B[39;00m iterator_generator:\n\u001B[1;32m--> 605\u001B[0m     \u001B[38;5;28;01mreturn\u001B[39;00m \u001B[43miterator_generator\u001B[49m\u001B[43m(\u001B[49m\u001B[43mhandle\u001B[49m\u001B[43m)\u001B[49m\n\u001B[0;32m    606\u001B[0m \u001B[38;5;28;01mif\u001B[39;00m \u001B[38;5;28mformat\u001B[39m \u001B[38;5;129;01min\u001B[39;00m AlignIO\u001B[38;5;241m.\u001B[39m_FormatToIterator:\n\u001B[0;32m    607\u001B[0m     \u001B[38;5;66;03m# Use Bio.AlignIO to read in the alignments\u001B[39;00m\n\u001B[0;32m    608\u001B[0m     \u001B[38;5;28;01mreturn\u001B[39;00m (r \u001B[38;5;28;01mfor\u001B[39;00m alignment \u001B[38;5;129;01min\u001B[39;00m AlignIO\u001B[38;5;241m.\u001B[39mparse(handle, \u001B[38;5;28mformat\u001B[39m) \u001B[38;5;28;01mfor\u001B[39;00m r \u001B[38;5;129;01min\u001B[39;00m alignment)\n",
      "File \u001B[1;32mD:\\GitKraken\\AdventOfCode\\venv2\\Lib\\site-packages\\Bio\\SeqIO\\InsdcIO.py:97\u001B[0m, in \u001B[0;36mGenBankIterator.__init__\u001B[1;34m(self, source)\u001B[0m\n\u001B[0;32m     60\u001B[0m \u001B[38;5;28;01mdef\u001B[39;00m \u001B[38;5;21m__init__\u001B[39m(\u001B[38;5;28mself\u001B[39m, source):\n\u001B[0;32m     61\u001B[0m \u001B[38;5;250m    \u001B[39m\u001B[38;5;124;03m\"\"\"Break up a Genbank file into SeqRecord objects.\u001B[39;00m\n\u001B[0;32m     62\u001B[0m \n\u001B[0;32m     63\u001B[0m \u001B[38;5;124;03m    Argument source is a file-like object opened in text mode or a path to a file.\u001B[39;00m\n\u001B[1;32m   (...)\u001B[0m\n\u001B[0;32m     95\u001B[0m \n\u001B[0;32m     96\u001B[0m \u001B[38;5;124;03m    \"\"\"\u001B[39;00m\n\u001B[1;32m---> 97\u001B[0m     \u001B[38;5;28;43msuper\u001B[39;49m\u001B[43m(\u001B[49m\u001B[43m)\u001B[49m\u001B[38;5;241;43m.\u001B[39;49m\u001B[38;5;21;43m__init__\u001B[39;49m\u001B[43m(\u001B[49m\u001B[43msource\u001B[49m\u001B[43m,\u001B[49m\u001B[43m \u001B[49m\u001B[43mmode\u001B[49m\u001B[38;5;241;43m=\u001B[39;49m\u001B[38;5;124;43m\"\u001B[39;49m\u001B[38;5;124;43mt\u001B[39;49m\u001B[38;5;124;43m\"\u001B[39;49m\u001B[43m,\u001B[49m\u001B[43m \u001B[49m\u001B[43mfmt\u001B[49m\u001B[38;5;241;43m=\u001B[39;49m\u001B[38;5;124;43m\"\u001B[39;49m\u001B[38;5;124;43mGenBank\u001B[39;49m\u001B[38;5;124;43m\"\u001B[39;49m\u001B[43m)\u001B[49m\n",
      "File \u001B[1;32mD:\\GitKraken\\AdventOfCode\\venv2\\Lib\\site-packages\\Bio\\SeqIO\\Interfaces.py:45\u001B[0m, in \u001B[0;36mSequenceIterator.__init__\u001B[1;34m(self, source, alphabet, mode, fmt)\u001B[0m\n\u001B[0;32m     43\u001B[0m     \u001B[38;5;28;01mraise\u001B[39;00m \u001B[38;5;167;01mValueError\u001B[39;00m(\u001B[38;5;124m\"\u001B[39m\u001B[38;5;124mThe alphabet argument is no longer supported\u001B[39m\u001B[38;5;124m\"\u001B[39m)\n\u001B[0;32m     44\u001B[0m \u001B[38;5;28;01mtry\u001B[39;00m:\n\u001B[1;32m---> 45\u001B[0m     \u001B[38;5;28mself\u001B[39m\u001B[38;5;241m.\u001B[39mstream \u001B[38;5;241m=\u001B[39m \u001B[38;5;28;43mopen\u001B[39;49m\u001B[43m(\u001B[49m\u001B[43msource\u001B[49m\u001B[43m,\u001B[49m\u001B[43m \u001B[49m\u001B[38;5;124;43m\"\u001B[39;49m\u001B[38;5;124;43mr\u001B[39;49m\u001B[38;5;124;43m\"\u001B[39;49m\u001B[43m \u001B[49m\u001B[38;5;241;43m+\u001B[39;49m\u001B[43m \u001B[49m\u001B[43mmode\u001B[49m\u001B[43m)\u001B[49m\n\u001B[0;32m     46\u001B[0m     \u001B[38;5;28mself\u001B[39m\u001B[38;5;241m.\u001B[39mshould_close_stream \u001B[38;5;241m=\u001B[39m \u001B[38;5;28;01mTrue\u001B[39;00m\n\u001B[0;32m     47\u001B[0m \u001B[38;5;28;01mexcept\u001B[39;00m \u001B[38;5;167;01mTypeError\u001B[39;00m:  \u001B[38;5;66;03m# not a path, assume we received a stream\u001B[39;00m\n",
      "\u001B[1;31mOSError\u001B[0m: [Errno 22] Invalid argument: 'https://www.ncbi.nlm.nih.gov/nuccore/NC_005816'"
     ]
    }
   ],
   "source": [
    "from Bio import SeqIO\n",
    "\n",
    "# Obtener el archivo de ejemplo GenBank con ID \"NC_005816\"\n",
    "gb_record = SeqIO.read(\"https://www.ncbi.nlm.nih.gov/nuccore/NC_005816\", \"genbank\")"
   ],
   "metadata": {
    "collapsed": false
   }
  },
  {
   "cell_type": "code",
   "execution_count": 2,
   "outputs": [],
   "source": [
    "from Bio import AlignIO\n",
    "\n",
    "# Se lee un archivo de alineamiento en formato FASTA\n",
    "alignment = AlignIO.read(\"data/gene.fna\", \"fasta\")\n",
    "\n",
    "# Se guarda el alineamiento en formato Clustal\n",
    "with open(\"my_alignment.clustal\", \"w\") as output_handle:\n",
    "    AlignIO.write(alignment, output_handle, \"clustal\")"
   ],
   "metadata": {
    "collapsed": false
   }
  },
  {
   "cell_type": "code",
   "execution_count": 3,
   "outputs": [
    {
     "ename": "NameError",
     "evalue": "name 'my_alignment' is not defined",
     "output_type": "error",
     "traceback": [
      "\u001B[1;31m---------------------------------------------------------------------------\u001B[0m",
      "\u001B[1;31mNameError\u001B[0m                                 Traceback (most recent call last)",
      "Cell \u001B[1;32mIn[3], line 1\u001B[0m\n\u001B[1;32m----> 1\u001B[0m \u001B[43mmy_alignment\u001B[49m\u001B[38;5;241m.\u001B[39mclustal\n",
      "\u001B[1;31mNameError\u001B[0m: name 'my_alignment' is not defined"
     ]
    }
   ],
   "source": [],
   "metadata": {
    "collapsed": false
   }
  },
  {
   "cell_type": "code",
   "execution_count": null,
   "outputs": [],
   "source": [],
   "metadata": {
    "collapsed": false
   }
  }
 ],
 "metadata": {
  "kernelspec": {
   "display_name": "Python 3",
   "language": "python",
   "name": "python3"
  },
  "language_info": {
   "codemirror_mode": {
    "name": "ipython",
    "version": 2
   },
   "file_extension": ".py",
   "mimetype": "text/x-python",
   "name": "python",
   "nbconvert_exporter": "python",
   "pygments_lexer": "ipython2",
   "version": "2.7.6"
  }
 },
 "nbformat": 4,
 "nbformat_minor": 0
}
