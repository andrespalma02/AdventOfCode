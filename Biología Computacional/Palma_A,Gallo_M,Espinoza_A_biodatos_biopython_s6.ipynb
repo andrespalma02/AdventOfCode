{
 "cells": [
  {
   "cell_type": "markdown",
   "metadata": {},
   "source": [
    "# Uso de librerías biológicas\n",
    "- Autores: Amalia Espinoza, Mickaela Gallo, Andrés Palma\n",
    "\n",
    "## Utilizando herramientas y librerías de biopython, reproducir el tutorial indicado en el siguiente enlace:\n",
    "- __[Tutorial de biopython](https://biopython.org/DIST/docs/tutorial/Tutorial.html)__"
   ]
  },
  {
   "cell_type": "markdown",
   "metadata": {},
   "source": [
    "### Búsqueda de un número de acceso en la base de datos del NCBI"
   ]
  },
  {
   "cell_type": "markdown",
   "metadata": {},
   "source": [
    "- Instalación e importación de librerías"
   ]
  },
  {
   "cell_type": "code",
   "execution_count": 1,
   "metadata": {},
   "outputs": [],
   "source": [
    "from Bio import SeqIO\n",
    "from Bio import Entrez"
   ]
  },
  {
   "cell_type": "markdown",
   "metadata": {},
   "source": [
    "- Lectura de un archivo fasta previamente guardado e impresión de las primeras 100 bases de cada secuencia"
   ]
  },
  {
   "cell_type": "code",
   "execution_count": 2,
   "metadata": {},
   "outputs": [
    {
     "name": "stdout",
     "output_type": "stream",
     "text": [
      "JPCM5\n",
      "ccctcaccctaaccctctccctaaccctaacccgtaaccctaaccctcaccctaaccctcaccctaaccctaaccctaaccctaaccctaaccctcaccc\n"
     ]
    }
   ],
   "source": [
    "# Lee el archivo y guarda las secuencias en un objeto SeqIO\n",
    "secuencias = SeqIO.parse(\"jpcm5.fasta\", \"fasta\")\n",
    "# Recorre cada secuencia\n",
    "for seq_record in secuencias:\n",
    "    # Imprime el identificador de la secuencia y su secuencia\n",
    "    print(seq_record.id)\n",
    "    print(str(seq_record.seq[:100]))"
   ]
  },
  {
   "cell_type": "markdown",
   "metadata": {},
   "source": [
    "- Al igual que en seqinR en R, es posible obtener la lista de las bases de datos disponibles"
   ]
  },
  {
   "cell_type": "code",
   "execution_count": 3,
   "metadata": {},
   "outputs": [
    {
     "name": "stderr",
     "output_type": "stream",
     "text": [
      "D:\\GitKraken\\AdventOfCode\\venv2\\Lib\\site-packages\\Bio\\Entrez\\__init__.py:694: UserWarning: \n",
      "            Email address is not specified.\n",
      "\n",
      "            To make use of NCBI's E-utilities, NCBI requires you to specify your\n",
      "            email address with each request.  As an example, if your email address\n",
      "            is A.N.Other@example.com, you can specify it as follows:\n",
      "               from Bio import Entrez\n",
      "               Entrez.email = 'A.N.Other@example.com'\n",
      "            In case of excessive usage of the E-utilities, NCBI will attempt to contact\n",
      "            a user at the email address provided before blocking access to the\n",
      "            E-utilities.\n",
      "  warnings.warn(\n"
     ]
    },
    {
     "data": {
      "text/plain": [
       "['pubmed', 'protein', 'nuccore', 'ipg', 'nucleotide', 'structure', 'genome', 'annotinfo', 'assembly', 'bioproject', 'biosample', 'blastdbinfo', 'books', 'cdd', 'clinvar', 'gap', 'gapplus', 'grasp', 'dbvar', 'gene', 'gds', 'geoprofiles', 'homologene', 'medgen', 'mesh', 'nlmcatalog', 'omim', 'orgtrack', 'pmc', 'popset', 'proteinclusters', 'pcassay', 'protfam', 'pccompound', 'pcsubstance', 'seqannot', 'snp', 'sra', 'taxonomy', 'biocollections', 'gtr']"
      ]
     },
     "execution_count": 3,
     "metadata": {},
     "output_type": "execute_result"
    }
   ],
   "source": [
    "handle = Entrez.einfo()\n",
    "result = handle.read()\n",
    "handle = Entrez.einfo()\n",
    "record = Entrez.read(handle)\n",
    "record[\"DbList\"]"
   ]
  },
  {
   "cell_type": "markdown",
   "metadata": {},
   "source": [
    "- A continuación vamos a utilizar la librería Entrez para buscar secuencias y toda la información relacionada a bases de datos biológicas del NCBI\n",
    "- Primero debemos establecer nuestro correo electrónico como usuario de la librería"
   ]
  },
  {
   "cell_type": "code",
   "execution_count": 4,
   "metadata": {},
   "outputs": [],
   "source": [
    "Entrez.email = \"bapalma@puce.edu.ec\""
   ]
  },
  {
   "cell_type": "markdown",
   "metadata": {},
   "source": [
    "- Para obtener la secuencia correspondiente a la bacteria \\*Leishmania infantum\\*, causante de la Leishmaniasis en Ecuador, la tercera enfermedad más común transmitida por vectores según [un informe publicado por el Ministerio de Salud Publica en 2020](https://www.salud.gob.ec/wp-content/uploads/2020/07/ETV-SE-26.pdf)"
   ]
  },
  {
   "cell_type": "code",
   "execution_count": 5,
   "metadata": {},
   "outputs": [
    {
     "name": "stdout",
     "output_type": "stream",
     "text": [
      "LOCUS       FR796433              277951 bp    DNA     linear   INV 16-DEC-2011\n",
      "DEFINITION  Leishmania infantum JPCM5 genome chromosome 1.\n",
      "ACCESSION   FR796433 AM502219\n",
      "VERSION     FR796433.1\n",
      "DBLINK      BioProject: PRJNA12658\n",
      "KEYWORDS    complete genome.\n",
      "SOURCE      Leishmania infantum JPCM5\n",
      "  ORGANISM  Leishmania infantum JPCM5\n",
      "            Eukaryota; Discoba; Euglenozoa; Kinetoplastea; Metakinetoplastina;\n",
      "            Trypanosomatida; Trypanosomatidae; Leishmaniinae; Leishmania.\n",
      "REFERENCE   1\n",
      "  AUTHORS   Peacock,C.S., Seeger,K., Harris,D., Murphy,L., Ruiz,J.C.,\n",
      "            Quail,M.A., Peters,N., Adlem,E., Tivey,A., Aslett,M., Kerhornou,A.,\n",
      "            Ivens,A., Fraser,A., Rajandream,M.A., Carver,T., Norbertczak,H.,\n",
      "            Chillingworth,T., Hance,Z., Jagels,K., Moule,S., Ormond,D.,\n",
      "            Rutter,S., Squares,R., Whitehead,S., Rabbinowitsch,E.,\n",
      "            Arrowsmith,C., White,B., Thurston,S., Bringaud,F., Baldauf,S.L.,\n",
      "            Faulconbridge,A., Jeffares,D., Depledge,D.P., Oyola,S.O.,\n",
      "            Hilley,J.D., Brito,L.O., Tosi,L.R., Barrell,B., Cruz,A.K.,\n",
      "            Mottram,J.C., Smith,D.F. and Berriman,M.\n",
      "  TITLE     Comparative genomic analysis of three Leishmania species that cause\n",
      "            diverse human disease\n",
      "  JOURNAL   Nat. Genet. 39 (7), 839-847 (2007)\n",
      "   PUBMED   17572675\n",
      "REFERENCE   2\n",
      "  AUTHORS   Rogers,M.B., Hilley,J.D., Dickens,N.J., Wilkes,J., Bates,P.A.,\n",
      "            Depledge,D.P., Harris,D., Her,Y., Herzyk,P., Imamura,H., Otto,T.D.,\n",
      "            Sanders,M., Seeger,K., Dujardin,J.C., Berriman,M., Smith,D.F.,\n",
      "            Hertz-Fowler,C. and Mottram,J.C.\n",
      "  TITLE     Chromosome and gene copy number variation allow major structural\n",
      "            change between species and strains of Leishmania\n",
      "  JOURNAL   Genome Res. 21 (12), 2129-2142 (2011)\n",
      "   PUBMED   22038252\n",
      "REFERENCE   3  (bases 1 to 277951)\n",
      "  AUTHORS   Aslett,M.\n",
      "  TITLE     Direct Submission\n",
      "  JOURNAL   Submitted (24-JAN-2011) to the INSDC. Aslett M., Pathogen\n",
      "            Sequencing Unit, Wellcome Trust Sanger Institute, Wellcome Trust\n",
      "            Genome Campus, Hinxton, Cambridge, Cambridgeshire, CB10 1SA, UNITED\n",
      "            KINGDOM\n",
      "COMMENT     On Feb 3, 2011 this sequence version replaced AM502219.1.\n",
      "            Data release policy http://www.sanger.ac.uk/legal/#t_2.\n",
      "FEATURES             Location/Qualifiers\n",
      "     source          1..277951\n",
      "                     /organism=\"Leishmania infantum JPCM5\"\n",
      "                     /mol_type=\"genomic DNA\"\n",
      "                     /strain=\"JPCM5\"\n",
      "                     /db_xref=\"taxon:435258\"\n",
      "     gene            complement(4074..5075)\n",
      "                     /locus_tag=\"LINJ_01_0010\"\n"
     ]
    }
   ],
   "source": [
    "# Accede a la base de datos de GenBank y busca el registro con el número de acceso 'NM_001003003'\n",
    "leishmania = Entrez.efetch(db=\"nucleotide\", id=\"FR796433\", rettype=\"gb\", retmode=\"text\")\n",
    "datos=leishmania.read().split(\"\\n\")\n",
    "for i in range(50):\n",
    "    print(datos[i])"
   ]
  },
  {
   "cell_type": "markdown",
   "metadata": {},
   "source": [
    "Almacenamos la secuencia que se encuentra en el atributo `seq` de la variable `registro`."
   ]
  },
  {
   "cell_type": "code",
   "execution_count": 6,
   "metadata": {},
   "outputs": [
    {
     "data": {
      "text/plain": [
       "Seq('CCCTCACCCTAACCCTCTCCCTAACCCTAACCCGTAACCCTAACCCTCAC')"
      ]
     },
     "execution_count": 6,
     "metadata": {},
     "output_type": "execute_result"
    }
   ],
   "source": [
    "leishmania = Entrez.efetch(db=\"nucleotide\", id=\"FR796433\", rettype=\"gb\", retmode=\"text\")\n",
    "registro = SeqIO.read(leishmania, \"genbank\")\n",
    "secuencia = registro.seq\n",
    "secuencia[:50]"
   ]
  },
  {
   "cell_type": "markdown",
   "metadata": {},
   "source": [
    "- Buscando secuencias publicadas en la revista Nature indicando el número de volumen y página:"
   ]
  },
  {
   "cell_type": "code",
   "execution_count": 7,
   "metadata": {},
   "outputs": [],
   "source": [
    "busqueda_journals = Entrez.esearch(db=\"nucleotide\", term=\"Nature[Journal] AND 396[Volume] AND 133[Page Number] \", retmax=10)"
   ]
  },
  {
   "cell_type": "markdown",
   "metadata": {},
   "source": [
    "- En esta búsqueda se obtuvieron 7 resultados"
   ]
  },
  {
   "cell_type": "code",
   "execution_count": 8,
   "metadata": {},
   "outputs": [
    {
     "data": {
      "text/plain": [
       "{'Count': '7', 'RetMax': '7', 'RetStart': '0', 'IdList': ['15603881', '30407152', '3868717', '3861237', '3861033', '3860572', '4581484'], 'TranslationSet': [{'From': 'Nature[Journal]', 'To': '*Incorrect Translation* \"Nature\"[Journal:__jid0410462] OR \"Nature (Paris, France)\"[Journal:__jid18940010R]'}], 'TranslationStack': [{'Term': 'Nature[Journal]', 'Field': 'Journal', 'Count': '6968817', 'Explode': 'N'}, {'Term': '396[Volume]', 'Field': 'Volume', 'Count': '1121', 'Explode': 'N'}, 'AND', {'Term': '133[Page Number]', 'Field': 'Page Number', 'Count': '100456', 'Explode': 'N'}, 'AND'], 'QueryTranslation': 'Nature[Journal] AND 396[Volume] AND 133[Page Number]'}"
      ]
     },
     "execution_count": 8,
     "metadata": {},
     "output_type": "execute_result"
    }
   ],
   "source": [
    "resultados = Entrez.read(busqueda_journals)\n",
    "resultados"
   ]
  },
  {
   "cell_type": "code",
   "execution_count": 9,
   "metadata": {},
   "outputs": [
    {
     "data": {
      "text/plain": [
       "'7'"
      ]
     },
     "execution_count": 9,
     "metadata": {},
     "output_type": "execute_result"
    }
   ],
   "source": [
    "resultados[\"Count\"]"
   ]
  },
  {
   "cell_type": "markdown",
   "metadata": {},
   "source": [
    "Por cada resultado accedemos a la base de datos de GenBank y obtenemos la secuencia correspondiente"
   ]
  },
  {
   "cell_type": "code",
   "execution_count": 10,
   "metadata": {},
   "outputs": [
    {
     "name": "stdout",
     "output_type": "stream",
     "text": [
      ">NC_000963.1 Rickettsia prowazekii str. Madrid E, complete sequence\n",
      "ATGACAAAGCTAATTATTCACTTGGTTTCAGA\n",
      ">AJ235269.1 Rickettsia prowazekii str. Madrid E, complete genome\n",
      "ATGACAAAGCTAATTATTCACTTGGTTTCAGACTC\n",
      ">AJ235271.1 Rickettsia prowazekii strain Madrid E, complete genome; segment 2/4\n",
      "ATCTTAAACAATGATTGCGC\n",
      ">AJ235273.1 Rickettsia prowazekii strain Madrid E, complete genome; segment 4/4\n",
      "GAAAGATTTAATATCTGACT\n",
      ">AJ235272.1 Rickettsia prowazekii strain Madrid E, complete genome; segment 3/4\n",
      "TGGATATAGCGGTTAAGCTA\n",
      ">AJ235270.1 Rickettsia prowazekii strain Madrid E, complete genome; segment 1/4\n",
      "ATGACAAAGCTAATTATTCA\n",
      ">X89470.1 Rickettsia prowazekii plp gene and secA gene (partial)\n",
      "ACCGCAAACTCTGCTAGCCGCTTCTCTCACTACCG\n"
     ]
    }
   ],
   "source": [
    "for res in resultados[\"IdList\"]:\n",
    "    handle = Entrez.efetch(db=\"nucleotide\", id=res, rettype=\"fasta\", retmode=\"text\")\n",
    "    secuencia = handle.read()\n",
    "    print(secuencia[:100])\n"
   ]
  },
  {
   "cell_type": "markdown",
   "metadata": {},
   "source": [
    "- Realizamos una búsqueda más compleja de las moléculas de tRNA del homo sapiens y las guardamos en un archivo FASTA"
   ]
  },
  {
   "cell_type": "code",
   "execution_count": 11,
   "metadata": {},
   "outputs": [],
   "source": [
    "busqueda=Entrez.esearch(db=\"nucleotide\", term=\"homo sapiens[ORGN] AND tRNA[MOLTYPE]\")\n",
    "handle = Entrez.read(busqueda)\n",
    "id_lista = handle['IdList']\n",
    "handle = Entrez.efetch(db=\"nucleotide\", id=id_lista, rettype=\"fasta\", retmode=\"text\")\n",
    "secuencias = handle.read()"
   ]
  },
  {
   "cell_type": "code",
   "execution_count": 12,
   "metadata": {},
   "outputs": [],
   "source": [
    "with open(\"humantRNA.fasta\", \"w\") as archivo:\n",
    "    archivo.write(secuencias)"
   ]
  },
  {
   "cell_type": "code",
   "execution_count": 13,
   "metadata": {},
   "outputs": [
    {
     "name": "stdout",
     "output_type": "stream",
     "text": [
      "Número de secuencias guardadas: 20\n"
     ]
    }
   ],
   "source": [
    "# Leer las secuencias desde el archivo guardado\n",
    "with open(\"humantRNA.fasta\", \"r\") as archivo:\n",
    "    secuencias_guardadas = list(SeqIO.parse(archivo, \"fasta\"))\n",
    "\n",
    "# Imprimir el número de secuencias guardadas\n",
    "print(\"Número de secuencias guardadas:\", len(secuencias_guardadas))"
   ]
  },
  {
   "cell_type": "markdown",
   "metadata": {},
   "source": [
    "## Ejercicios"
   ]
  },
  {
   "cell_type": "markdown",
   "metadata": {},
   "source": [
    "1. **¿Qué información sobre la secuencia del virus de la rabia (acceso al NCBI NC_001542) puede obtener de sus anotaciones en la base de datos de secuencias del NCBI?**"
   ]
  },
  {
   "cell_type": "code",
   "execution_count": 14,
   "metadata": {},
   "outputs": [
    {
     "name": "stdout",
     "output_type": "stream",
     "text": [
      "LOCUS       NC_001542              11932 bp ss-RNA     linear   VRL 13-AUG-2018\n",
      "DEFINITION  Rabies virus, complete genome.\n",
      "ACCESSION   NC_001542\n",
      "VERSION     NC_001542.1\n",
      "DBLINK      BioProject: PRJNA485481\n",
      "KEYWORDS    RefSeq.\n",
      "SOURCE      Lyssavirus rabies\n",
      "  ORGANISM  Lyssavirus rabies\n",
      "            Viruses; Riboviria; Orthornavirae; Negarnaviricota;\n",
      "            Haploviricotina; Monjiviricetes; Mononegavirales; Rhabdoviridae;\n",
      "            Alpharhabdovirinae; Lyssavirus.\n",
      "REFERENCE   1  (bases 5388 to 11932)\n",
      "  AUTHORS   Tordo,N., Poch,O., Ermine,A., Keith,G. and Rougeon,F.\n",
      "  TITLE     Completion of the rabies virus genome sequence determination:\n",
      "            highly conserved domains among the L (polymerase) proteins of\n",
      "            unsegmented negative-strand RNA viruses\n",
      "  JOURNAL   Virology 165 (2), 565-576 (1988)\n",
      "   PUBMED   3407152\n",
      "REFERENCE   2  (bases 1 to 5500)\n",
      "  AUTHORS   Tordo,N., Poch,O., Ermine,A., Keith,G. and Rougeon,F.\n",
      "  TITLE     Walking along the rabies genome: is the large G-L intergenic region\n",
      "            a remnant gene?\n",
      "  JOURNAL   Proc. Natl. Acad. Sci. U.S.A. 83 (11), 3914-3918 (1986)\n",
      "   PUBMED   3459163\n",
      "REFERENCE   3  (bases 1 to 11932)\n",
      "  CONSRTM   NCBI Genome Project\n",
      "  TITLE     Direct Submission\n",
      "  JOURNAL   Submitted (01-AUG-2000) National Center for Biotechnology\n",
      "            Information, NIH, Bethesda, MD 20894, USA\n",
      "COMMENT     PROVISIONAL REFSEQ: This record has not yet been subject to final\n",
      "            NCBI review. The reference sequence was derived from M13215.\n",
      "            Draft entry and computer-readable sequence for [2] kindly provided\n",
      "            by N.Tordo, 28-APR-1989.\n",
      "            The + strand is shown below.  In the intergenic region between the\n",
      "            G and L genes and near its extremities exist two sequences related\n",
      "            to the rabies mRNA start and stop consensus sequences.  This region\n",
      "            (positions 4974-5363) may be a remnant protein gene. There are stop\n",
      "            codons in all three reading frames of this 'remnant gene'.\n",
      "            COMPLETENESS: full length.\n",
      "FEATURES             Location/Qualifiers\n",
      "     source          1..11932\n",
      "                     /organism=\"Lyssavirus rabies\"\n",
      "                     /mol_type=\"genomic RNA\"\n",
      "                     /db_xref=\"taxon:11292\"\n",
      "     gene            59..1482\n",
      "                     /locus_tag=\"RABVgp1\"\n",
      "                     /db_xref=\"GeneID:1489853\"\n",
      "     mRNA            59..1482\n",
      "                     /locus_tag=\"RABVgp1\"\n",
      "                     /product=\"N mRNA\"\n"
     ]
    }
   ],
   "source": [
    "handle = Entrez.efetch(db=\"nucleotide\", id=\"NC_001542\", rettype=\"gb\", retmode=\"text\")\n",
    "record = handle.read().split(\"\\n\")\n",
    "\n",
    "# Algunas anotaciones de la secuencia\n",
    "for i in range(50):\n",
    "    print(record[i])"
   ]
  },
  {
   "cell_type": "markdown",
   "metadata": {},
   "source": [
    "2. **¿Cuántas secuencias de nucleótidos hay de la bacteria Chlamydia trachomatis en la base de datos de secuencias del NCBI?**"
   ]
  },
  {
   "cell_type": "code",
   "execution_count": 15,
   "metadata": {},
   "outputs": [],
   "source": [
    "busqueda=Entrez.esearch(db=\"nucleotide\", term=\"Chlamydia trachomatis[ORGN]\")\n",
    "handle = Entrez.read(busqueda)\n",
    "count = handle[\"Count\"]"
   ]
  },
  {
   "cell_type": "code",
   "execution_count": 16,
   "metadata": {},
   "outputs": [
    {
     "data": {
      "text/plain": [
       "'79520'"
      ]
     },
     "execution_count": 16,
     "metadata": {},
     "output_type": "execute_result"
    }
   ],
   "source": [
    "count"
   ]
  },
  {
   "cell_type": "markdown",
   "metadata": {},
   "source": [
    "3. **¿Cuántas secuencias de nucleótidos hay de la bacteria Chlamydia trachomatis en la parte RefSeq de la base de datos de secuencias del NCBI?**"
   ]
  },
  {
   "cell_type": "code",
   "execution_count": 17,
   "metadata": {},
   "outputs": [],
   "source": [
    "busqueda=Entrez.esearch(db=\"nucleotide\", term=\"Chlamydia trachomatis[ORGN] AND srcdb_refseq[PROP]\")\n",
    "handle = Entrez.read(busqueda)\n",
    "count = handle[\"Count\"]"
   ]
  },
  {
   "cell_type": "code",
   "execution_count": 18,
   "metadata": {},
   "outputs": [
    {
     "data": {
      "text/plain": [
       "'490'"
      ]
     },
     "execution_count": 18,
     "metadata": {},
     "output_type": "execute_result"
    }
   ],
   "source": [
    "count"
   ]
  },
  {
   "cell_type": "markdown",
   "metadata": {},
   "source": [
    "4. **¿Cuántas secuencias de nucleótidos envió Matthew Berriman al NCBI?**"
   ]
  },
  {
   "cell_type": "code",
   "execution_count": 19,
   "metadata": {},
   "outputs": [],
   "source": [
    "busqueda=Entrez.esearch(db=\"nucleotide\", term=\"Berriman M[AU]\")\n",
    "handle = Entrez.read(busqueda)\n",
    "count = handle[\"Count\"]"
   ]
  },
  {
   "cell_type": "code",
   "execution_count": 20,
   "metadata": {},
   "outputs": [
    {
     "data": {
      "text/plain": [
       "'648267'"
      ]
     },
     "execution_count": 20,
     "metadata": {},
     "output_type": "execute_result"
    }
   ],
   "source": [
    "count"
   ]
  },
  {
   "cell_type": "markdown",
   "metadata": {},
   "source": [
    "5. **¿Cuántas secuencias de nucleótidos de gusanos nematodos hay en la base de datos RefSeq?**"
   ]
  },
  {
   "cell_type": "code",
   "execution_count": 21,
   "metadata": {},
   "outputs": [],
   "source": [
    "busqueda=Entrez.esearch(db=\"nucleotide\", term=\"Nematoda[ORGN] AND srcdb_refseq[PROP]\")\n",
    "handle = Entrez.read(busqueda)\n",
    "count = handle[\"Count\"]"
   ]
  },
  {
   "cell_type": "code",
   "execution_count": 22,
   "metadata": {},
   "outputs": [
    {
     "data": {
      "text/plain": [
       "'205388'"
      ]
     },
     "execution_count": 22,
     "metadata": {},
     "output_type": "execute_result"
    }
   ],
   "source": [
    "count"
   ]
  },
  {
   "cell_type": "markdown",
   "metadata": {},
   "source": [
    "6. **¿Cuántas secuencias de ARNm para genes de colágeno de gusanos nematodos hay en la base de datos del NCBI?**"
   ]
  },
  {
   "cell_type": "code",
   "execution_count": 23,
   "metadata": {},
   "outputs": [],
   "source": [
    "busqueda=Entrez.esearch(db=\"nucleotide\", term=\"Nematoda[Organism] AND Collagen\")\n",
    "handle = Entrez.read(busqueda)\n",
    "count = handle[\"Count\"]"
   ]
  },
  {
   "cell_type": "code",
   "execution_count": 24,
   "metadata": {},
   "outputs": [
    {
     "data": {
      "text/plain": [
       "'10635'"
      ]
     },
     "execution_count": 24,
     "metadata": {},
     "output_type": "execute_result"
    }
   ],
   "source": [
    "count"
   ]
  },
  {
   "cell_type": "markdown",
   "metadata": {},
   "source": [
    "7. **¿Cuántas secuencias de ARNm para genes de colágeno de gusanos nematodos hay en la base de datos del NCBI?**"
   ]
  },
  {
   "cell_type": "code",
   "execution_count": 25,
   "metadata": {},
   "outputs": [],
   "source": [
    "busqueda=Entrez.esearch(db=\"nucleotide\", term=\"Nematoda[ORGN] AND collagen AND biomol mRNA[PROP]\")\n",
    "handle = Entrez.read(busqueda)\n",
    "count = handle[\"Count\"]"
   ]
  },
  {
   "cell_type": "code",
   "execution_count": 26,
   "metadata": {},
   "outputs": [
    {
     "data": {
      "text/plain": [
       "'7606'"
      ]
     },
     "execution_count": 26,
     "metadata": {},
     "output_type": "execute_result"
    }
   ],
   "source": [
    "count"
   ]
  },
  {
   "cell_type": "markdown",
   "metadata": {},
   "source": [
    "8. **¿Cuántas secuencias de proteínas para proteínas de colágeno de gusanos nematodos hay en la base de datos del NCBI?**"
   ]
  },
  {
   "cell_type": "code",
   "execution_count": 27,
   "metadata": {},
   "outputs": [],
   "source": [
    "busqueda=Entrez.esearch(db=\"protein\", term=\"Nematoda[ORGN] AND collagen\")\n",
    "handle = Entrez.read(busqueda)\n",
    "count = handle[\"Count\"]"
   ]
  },
  {
   "cell_type": "code",
   "execution_count": 28,
   "metadata": {},
   "outputs": [
    {
     "data": {
      "text/plain": [
       "'9656'"
      ]
     },
     "execution_count": 28,
     "metadata": {},
     "output_type": "execute_result"
    }
   ],
   "source": [
    "count"
   ]
  },
  {
   "cell_type": "markdown",
   "metadata": {},
   "source": [
    "9. **¿Cuál es el número de acceso para el genoma de *Trypanosoma cruzi* en NCBI?**"
   ]
  },
  {
   "cell_type": "code",
   "execution_count": 29,
   "metadata": {},
   "outputs": [],
   "source": [
    "busqueda=Entrez.esearch(db=\"genome\", term=\"Trypanosoma cruzi[ORGN]\")\n",
    "busqueda = Entrez.read(busqueda)\n",
    "summary_handle = Entrez.esummary(db=\"genome\", id=busqueda[\"IdList\"][0])\n",
    "summary_record = Entrez.read(summary_handle)"
   ]
  },
  {
   "cell_type": "code",
   "execution_count": 30,
   "metadata": {},
   "outputs": [
    {
     "data": {
      "text/plain": [
       "'GCA_000209065.1'"
      ]
     },
     "execution_count": 30,
     "metadata": {},
     "output_type": "execute_result"
    }
   ],
   "source": [
    "summary_record[0][\"Assembly_Accession\"]"
   ]
  },
  {
   "cell_type": "code",
   "execution_count": 31,
   "metadata": {},
   "outputs": [],
   "source": [
    "busqueda=Entrez.esearch(db=\"nucleotide\", term=\"Trypanosoma cruzi[ORGN] AND complete genome[TITLE]\")\n",
    "handle = Entrez.read(busqueda)\n",
    "id_lista = handle['IdList']\n",
    "handle = Entrez.efetch(db=\"nucleotide\", id=id_lista, rettype=\"gb\", retmode=\"text\")\n",
    "secuencias = handle.read().split(\"\\n\")[3].split(\" \")[3]\n"
   ]
  },
  {
   "cell_type": "code",
   "execution_count": 32,
   "metadata": {},
   "outputs": [
    {
     "data": {
      "text/plain": [
       "'MT554701'"
      ]
     },
     "execution_count": 32,
     "metadata": {},
     "output_type": "execute_result"
    }
   ],
   "source": [
    "secuencias"
   ]
  },
  {
   "cell_type": "markdown",
   "metadata": {},
   "source": [
    "10. **¿Cuántas especies de gusanos nematodos completamente secuenciadas están representadas en la base de datos del Genoma del NCBI?**"
   ]
  },
  {
   "cell_type": "code",
   "execution_count": 33,
   "metadata": {},
   "outputs": [],
   "source": [
    "busqueda=Entrez.esearch(db=\"genome\", term=\"nematoda[ORGN] AND complete genome\")\n",
    "handle = Entrez.read(busqueda)\n",
    "count = handle[\"Count\"]"
   ]
  },
  {
   "cell_type": "code",
   "execution_count": 34,
   "metadata": {},
   "outputs": [
    {
     "data": {
      "text/plain": [
       "'68'"
      ]
     },
     "execution_count": 34,
     "metadata": {},
     "output_type": "execute_result"
    }
   ],
   "source": [
    "count"
   ]
  },
  {
   "cell_type": "markdown",
   "metadata": {},
   "source": [
    "## Conclusiones\n",
    "La función seqinr en **R** utiliza el sistema ACNUC, el cual ejecuta un filtrado más exhaustivo y es más especializado para ver nucleótidos, en cambio, en **PYTHON** nos direcciona a cualquier información de NCBI como si estuviésemos buscando directamente en la página web."
   ]
  }
 ],
 "metadata": {
  "kernelspec": {
   "display_name": "Python 3 (ipykernel)",
   "language": "python",
   "name": "python3"
  },
  "language_info": {
   "codemirror_mode": {
    "name": "ipython",
    "version": 3
   },
   "file_extension": ".py",
   "mimetype": "text/x-python",
   "name": "python",
   "nbconvert_exporter": "python",
   "pygments_lexer": "ipython3",
   "version": "3.11.2"
  }
 },
 "nbformat": 4,
 "nbformat_minor": 1
}
