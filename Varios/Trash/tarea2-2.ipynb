{
 "cells": [
  {
   "cell_type": "markdown",
   "id": "8b38ee73",
   "metadata": {},
   "source": [
    "# Importar librerías"
   ]
  },
  {
   "cell_type": "code",
   "execution_count": 1,
   "id": "0f445e79",
   "metadata": {},
   "outputs": [],
   "source": [
    "import math           # Importa una librería\n",
    "import pandas as pd   # Importa librería completa y le da un alias\n",
    "from Bio import SeqIO # Importa una función o clase de una librería"
   ]
  },
  {
   "cell_type": "code",
   "execution_count": 2,
   "id": "8233b135",
   "metadata": {},
   "outputs": [],
   "source": [
    "# pip install biopython (instalar desde Anaconda Prompt/Terminal de Anaconda)"
   ]
  },
  {
   "cell_type": "markdown",
   "id": "8f1379de",
   "metadata": {},
   "source": [
    "# Leer archivo FASTA sin ayuda de librerías externas como BioPython"
   ]
  },
  {
   "cell_type": "code",
   "execution_count": 3,
   "id": "814c736c",
   "metadata": {},
   "outputs": [],
   "source": [
    "secuencias = [] # Crea una lista vacía\n",
    "\n",
    "with open(\"data/adn.fasta\", \"r\") as f: # Usa función open en modo de lectura (\"r\" de \"read\") y darle alias f\n",
    "    linea = f.readline()                # Lee primera línea del archivo y la guarda en la variable nombre\n",
    "    while linea != None and linea != \"\": # Mientras haya líneas no vacías...\n",
    "        nombre = linea\n",
    "        nombre = nombre.strip()          # Elimina caracteres en blanco (espacios, tabulaciones, saltos de línea) antes y después del texto\n",
    "        nombre = nombre[1:]              # Elimina el carácter \">\" del nombre. Toma la cadena nombre desde el carácter en el índice 1\n",
    "        secuencia = f.readline().strip() # Lee segunda línea del archivo, elimina caracteres en blanco y la guarda en la variable nombre\n",
    "        secuencia = secuencia.upper()    # Pone toda la secuencia en mayúsculas\n",
    "        entrada = (nombre, secuencia)    # Crea una tupla con dos datos: el nombre y la secuencia de la proteína\n",
    "        secuencias.append(entrada)       # Agrega la tupla a una lista\n",
    "        linea = f.readline()            # Lee el nombre en la siguiente línea. Puede que no exista, lo que haría que el ciclo se frene.\n",
    "\n",
    "# print(secuencias) # Las listas se muestran entre [], las tuplas entre ()"
   ]
  },
  {
   "cell_type": "markdown",
   "id": "d1bf731d",
   "metadata": {},
   "source": [
    "# Leer archivo FASTA con BioPython"
   ]
  },
  {
   "cell_type": "code",
   "execution_count": 4,
   "id": "c9659ec4",
   "metadata": {},
   "outputs": [],
   "source": [
    "# Crea función leerArchivo para leer archivos de secuencias de ADN o proteínas. Por defecto es de tipo fasta.\n",
    "def leerArchivo(ruta, tipo=\"fasta\"):\n",
    "    entradas = [] # Crea una lista vacía\n",
    "\n",
    "    # Usando la función parse de la clase SeqIO, lee e interpreta el archivo como un FASTA. Recorre todas las entradas una por una.\n",
    "    for record in SeqIO.parse(ruta, tipo): \n",
    "        nombre = record.id              # Obtiene el nombre de la secuencia de la variable record\n",
    "        secuencia = str(record.seq)     # Obtiene la secuencia de la variable record y la transforma en cadena de texto   \n",
    "        secuencia = secuencia.upper()   # Pone toda la secuencia en mayúsculas\n",
    "        entrada = (nombre, secuencia)   # Crea una tupla con dos datos: el nombre y la secuencia de la proteína\n",
    "        entradas.append(entrada)        # Agrega la tupla a una lista\n",
    "\n",
    "    return entradas # Las listas se muestran entre [], las tuplas entre ()\n",
    "    \n",
    "# entradas = leerArchivo(\"data/adn.fasta\")\n",
    "\n",
    "# print(entradas)"
   ]
  },
  {
   "cell_type": "markdown",
   "id": "b5066068",
   "metadata": {},
   "source": [
    "# Leer matriz BLOSUM (solo para proteínas)"
   ]
  },
  {
   "cell_type": "code",
   "execution_count": 5,
   "id": "7959da6c",
   "metadata": {
    "scrolled": true
   },
   "outputs": [],
   "source": [
    "blosum = {} # Crear matriz como un diccionario vacío\n",
    "        \n",
    "alfabeto = [\"A\", \"R\", \"N\", \"D\", \"C\", \"E\", \"Q\", \"G\", \"H\", \"I\", \"L\", \"K\", \"M\", \"F\", \"P\", \"S\", \"T\", \"W\", \"Y\", \"V\"]\n",
    "\n",
    "with open(\"data/blosum62.txt\", \"r\") as f: # Abrir archivo blosum62.txt en modo lectura. Este archivo está en el mismo orden que nuestro alfabeto.\n",
    "    f.readline()                          # Se omite la primera línea del archivo, ya que son encabezados de columnas\n",
    "    for letra in alfabeto:                # Recorre todas las letras del alfabeto en orden\n",
    "        blosum[letra] = {}                # Para cada letra se asigna un nuevo diccionario\n",
    "        linea = f.readline().strip()      # Se lee una línea por cada letra\n",
    "        valores = linea.split()           # Se divide la línea cada vez que encuentre un espacio.\n",
    "        for i in range(len(alfabeto)):     # Se recorre el listado de valores\n",
    "            columna = alfabeto[i]\n",
    "            blosum[letra][columna] = int(valores[i]) # Se asigna el valor correspondiente a cada letra en la fila\n",
    "\n",
    "# print(\"\\nMATRIZ BLOSUM62\")           # \\n es el carácter de salto de línea\n",
    "# encabezado = \"AA\\t\"                  # \\t es el carácter de tabulación\n",
    "# for letra in alfabeto:\n",
    "#     encabezado += letra + \"\\t\"\n",
    "# print(encabezado)              \n",
    "# for letra1 in alfabeto:\n",
    "#     print(letra1 + \"\\t\", end=\"\") # El parámetro end=\"\" es para que no salte a la siguiente línea\n",
    "#     for letra2 in alfabeto:\n",
    "#         print(str(blosum[letra1][letra2]) + \"\\t\", end=\"\")\n",
    "#     print(\"\")"
   ]
  },
  {
   "cell_type": "markdown",
   "id": "d3f80e4b",
   "metadata": {},
   "source": [
    "# Imprimir tabla"
   ]
  },
  {
   "cell_type": "code",
   "execution_count": 6,
   "id": "723224e3",
   "metadata": {},
   "outputs": [],
   "source": [
    "def imprimirTabla(tabla, decimales=4):\n",
    "    tablaMayusculas = tabla.upper()\n",
    "    if tabla == \"conteo\":\n",
    "        datos = conteo\n",
    "    elif tabla == \"frecuencias\":\n",
    "        datos = frecuencias\n",
    "    else:\n",
    "        datos = pesos\n",
    "    print(\"\\nTABLA DE \" + tablaMayusculas) # \\n es el carácter de salto de línea\n",
    "    encabezado = \"\\t\"                      # \\t es el carácter de tabulación\n",
    "    for letra in alfabeto:\n",
    "        encabezado += letra + \"\\t\"\n",
    "    print(encabezado)              \n",
    "    for posicion in range(len(datos)):\n",
    "        print(str(posicion + 1) + \" A\\t\", end=\"\") # El parámetro end=\"\" es para que no salte a la siguiente línea\n",
    "        for letra in alfabeto:\n",
    "            formato = \"{0:.\" + str(decimales) + \"f}\"\n",
    "            print(formato.format(datos[posicion][letra]) + \"\\t\", end=\"\")\n",
    "        print(\"\")"
   ]
  },
  {
   "cell_type": "markdown",
   "id": "af84a0e1",
   "metadata": {},
   "source": [
    "# Crear alfabeto para ADN o proteínas"
   ]
  },
  {
   "cell_type": "code",
   "execution_count": 7,
   "id": "1373d9f5",
   "metadata": {},
   "outputs": [],
   "source": [
    "def obtenerAlfabeto(entradas): # Crea función llamada obtenerAlfabeto que recibe una lista de entradas\n",
    "    alfabeto = set()             # Crea un set vacío. Los sets son listas que no permiten elementos repetidos.\n",
    "    \n",
    "    for entrada in entradas:     # Recorre las entradas una por una\n",
    "        for letra in entrada[1]: # Recorre cada letra en la secuencia de la entrada\n",
    "            alfabeto.add(letra)\n",
    "            \n",
    "    print(alfabeto)              # Los sets se muestran entre {} \n",
    "            \n",
    "    adn = [\"A\", \"C\", \"T\", \"G\"]   # Crea una lista inicializado con las letras de ADN\n",
    "    \n",
    "    if alfabeto.issubset(adn):   # Si el alfabeto creado a partir de las entradas solo contiene letras de ADN, es ADN\n",
    "        alfabeto = adn\n",
    "    else:\n",
    "        alfabeto = [\"A\", \"R\", \"N\", \"D\", \"C\", \"E\", \"Q\", \"G\", \"H\", \"I\", \"L\", \"K\", \"M\", \"F\", \"P\", \"S\", \"T\", \"W\", \"Y\", \"V\"]\n",
    "            \n",
    "    return alfabeto\n",
    "\n",
    "# alfabeto = obtenerAlfabeto(entradas)\n",
    "\n",
    "# print(alfabeto)"
   ]
  },
  {
   "cell_type": "markdown",
   "id": "7f5d7a42",
   "metadata": {},
   "source": [
    "# Calcular conteos"
   ]
  },
  {
   "cell_type": "code",
   "execution_count": 8,
   "id": "e8d01a50",
   "metadata": {},
   "outputs": [],
   "source": [
    "# Crea función llamada calcularConteo que recibe una lista de entradas\n",
    "def calcularConteo(entradas):\n",
    "    modeloConteo = {}            # Crea un diccionario vacío para el modelo de conteo\n",
    "    for letra in alfabeto:       # Recorre las letras del alfabeto\n",
    "        modeloConteo[letra] = 0  # Crea la llave de la letra en el diccionario en valor 0\n",
    "        \n",
    "    conteo = []                             # Crea una lista vacía para los conteos\n",
    "    longitud = len(entradas[0][1])          # Obtiene la longitud de las secuencias\n",
    "    for i in range(longitud):               # Repite el ciclo N veces, siendo N la longitud de las secuencias\n",
    "        conteo.append(modeloConteo.copy())  # Copia el modelo de conteo y agrega a la lista tantos modelos como carácteres haya en las secuencias  \n",
    "        \n",
    "    for entrada in entradas:       # Recorre las entradas una por una\n",
    "        i = 0                      # Posición de la letra actual\n",
    "        for letra in entrada[1]:   # Recorre cada letra en la secuencia de la entrada\n",
    "            conteo[i][letra] += 1  # Suma 1 al conteo de la letra en la posición i. También se podría con conteo[i][letra] = conteo[i][letra] + 1\n",
    "            i += 1                 # Se mueve a la siguiente posición\n",
    "            \n",
    "    return conteo\n",
    "\n",
    "# conteo = calcularConteo(entradas) # Guardar el conteo en la variable conteo   \n",
    "\n",
    "# print(conteo) # Los diccionarios también se muestran entre {}, pero con el formato {llave: valor, llave: valor, ...}\n",
    "\n",
    "# imprimirTabla(\"conteo\", decimales=0)"
   ]
  },
  {
   "cell_type": "markdown",
   "id": "b2d948f1",
   "metadata": {},
   "source": [
    "# Calcular frecuencias"
   ]
  },
  {
   "cell_type": "code",
   "execution_count": 9,
   "id": "fffa4ea1",
   "metadata": {
    "scrolled": true
   },
   "outputs": [],
   "source": [
    "# Crea función llamada calcularFrecuencias que recibe una lista de entradas y una tabla de conteos\n",
    "# ponderarSecuencia define si se calcula la frecuencia con ponderación con pseudoconteos (para evitar ceros) o no. Por defecto está activado.\n",
    "# beta define el peso del pseudoconteo. Por defecto toma valor 1.\n",
    "def calcularFrecuencias(entradas, conteo, ponderarSecuencia = True, beta = 1):\n",
    "    modeloFrecuencias = {}            # Crea un diccionario vacío para el modelo de frecuencias\n",
    "    for letra in alfabeto:            # Recorre las letras del alfabeto\n",
    "        modeloFrecuencias[letra] = 0  # Crea la llave de la letra en el diccionario en valor 0\n",
    "        \n",
    "    frecuencias = []                        # Crea una lista vacía para las frecuencias\n",
    "    longitud = len(entradas[0][1])          # Obtiene la longitud de las secuencias\n",
    "    for i in range(longitud):               # Repite el ciclo N veces, siendo N la longitud de las secuencias\n",
    "        frecuencias.append(modeloFrecuencias.copy())  # Copia el modelo de frecuencias y agrega a la lista tantos modelos como carácteres haya en las secuencias  \n",
    "    \n",
    "    if ponderarSecuencia:                      # Si se calcula frecuencia con ponderación...\n",
    "        # Calcula la frecuencia previa general dependiendo de cuántas letras hay en el alfabeto.\n",
    "        frecuenciasPrevias = {}\n",
    "        for letra in alfabeto:\n",
    "            frecuenciasPrevias[letra] = 1 / len(alfabeto)   # En este caso, todas las letras tendrán igual frecuencia previa.\n",
    "        for i in range(len(conteo)):                  # Recorre la lista de conteos\n",
    "            sumaPseudofrecuencias = 0                 # Variable para almacenar suma de pseudofrecuencias antes de normalizar\n",
    "            for llave, valor in conteo[i].items():    # Recorre el diccionario del conteo de la posición i\n",
    "                frecuencias[i][llave] = (valor + beta * frecuenciasPrevias[llave]) / len(entradas) # (Cij + b * fij) / N, N = cantidad de entradas\n",
    "                sumaPseudofrecuencias += frecuencias[i][llave]  # Suma el resultado a la suma de pseudofrecuencias\n",
    "            for llave in conteo[i]:\n",
    "                frecuencias[i][llave] /= sumaPseudofrecuencias # Normaliza con respecto a la suma de pseudofrecuencias\n",
    "    else:\n",
    "        for i in range(len(conteo)):                  # Recorre la lista de conteos\n",
    "            for llave, valor in conteo[i].items():    # Recorre el diccionario del conteo de la posición i\n",
    "                frecuencias[i][llave] = valor / len(entradas) # Cij / N, N = cantidad de entradas\n",
    "    \n",
    "    return frecuencias\n",
    "            \n",
    "# frecuencias = calcularFrecuencias(entradas, conteo, ponderarSecuencia=True, beta=50) # Guardar el conteo en la variable frecuencias \n",
    "\n",
    "# print(frecuencias)\n",
    "\n",
    "# imprimirTabla(\"frecuencias\", decimales=3)"
   ]
  },
  {
   "cell_type": "markdown",
   "id": "9ffb8c9a",
   "metadata": {},
   "source": [
    "# Calcular pesos"
   ]
  },
  {
   "cell_type": "code",
   "execution_count": 16,
   "id": "4ec52ebb",
   "metadata": {},
   "outputs": [],
   "source": [
    "# Crea función llamada calcularPesos que recibe una lista de entradas y una tabla de frecuencias\n",
    "def calcularPesos(entradas, frecuencias):\n",
    "    modeloPesos = {}                  # Crea un diccionario vacío para el modelo de pesos\n",
    "    for letra in alfabeto:            # Recorre las letras del alfabeto\n",
    "        modeloPesos[letra] = 0        # Crea la llave de la letra en el diccionario en valor 0\n",
    "        \n",
    "    pesos = []                              # Crea una lista vacía para los pesos\n",
    "    longitud = len(entradas[0][1])          # Obtiene la longitud de las secuencias\n",
    "    for i in range(longitud):               # Repite el ciclo N veces, siendo N la longitud de las secuencias\n",
    "        pesos.append(modeloPesos.copy())    # Copia el modelo de frecuencias y agrega a la lista tantos modelos como carácteres haya en las secuencias  \n",
    "    \n",
    "    if len(entradas) == 1 and len(alfabeto) == 20: # Si solo hay una secuencia y se leyeron proteínas, el peso es igual al valor de la matriz BLOSUM62\n",
    "        i = 0\n",
    "        for letra1 in entradas[0][1]:               # Recorre cada letra de la secuencia única\n",
    "            for letra2 in alfabeto:\n",
    "                pesos[i][letra2] = blosum[letra1][letra2]\n",
    "            i += 1\n",
    "    \n",
    "    else:\n",
    "        # Calcula la frecuencia previa general dependiendo de cuántas letras hay en el alfabeto.\n",
    "        frecuenciasPrevias = {}\n",
    "        for letra in alfabeto:\n",
    "            frecuenciasPrevias[letra] = 1 / len(alfabeto)   # En este caso, todas las letras tendrán igual frecuencia previa.\n",
    "        for i in range(len(pesos)):                  # Recorre la lista de frecuencias\n",
    "            for llave, valor in pesos[i].items():    # Recorre el diccionario del conteo de la posición i\n",
    "                # CORRIGE AQUÍ - El código lanza error si no hay ponderación. Haz que esto no suceda.\n",
    "                pesos[i][llave] = math.log(frecuencias[i][llave] / frecuenciasPrevias[llave])\n",
    "    \n",
    "    return pesos\n",
    "\n",
    "# pesos = calcularPesos(entradas, frecuencias)\n",
    "\n",
    "# imprimirTabla(\"pesos\")"
   ]
  },
  {
   "cell_type": "markdown",
   "id": "affcf56d",
   "metadata": {},
   "source": [
    "# Prueba con una secuencia de aminoácidos"
   ]
  },
  {
   "cell_type": "code",
   "execution_count": 11,
   "id": "27732133",
   "metadata": {},
   "outputs": [
    {
     "name": "stdout",
     "output_type": "stream",
     "text": [
      "{'A', 'C', 'G', 'T'}\n",
      "\n",
      "TABLA DE PESOS\n",
      "\tA\tC\tT\tG\t\n",
      "1 A\t0.9163\t-0.6931\t-0.6931\t-0.6931\t\n",
      "2 A\t-0.6931\t0.9163\t-0.6931\t-0.6931\t\n",
      "3 A\t0.9163\t-0.6931\t-0.6931\t-0.6931\t\n",
      "4 A\t-0.6931\t0.9163\t-0.6931\t-0.6931\t\n",
      "5 A\t-0.6931\t-0.6931\t0.9163\t-0.6931\t\n",
      "6 A\t-0.6931\t-0.6931\t0.9163\t-0.6931\t\n",
      "7 A\t0.9163\t-0.6931\t-0.6931\t-0.6931\t\n",
      "8 A\t-0.6931\t0.9163\t-0.6931\t-0.6931\t\n",
      "9 A\t-0.6931\t-0.6931\t0.9163\t-0.6931\t\n",
      "10 A\t-0.6931\t-0.6931\t-0.6931\t0.9163\t\n"
     ]
    }
   ],
   "source": [
    "entradas = leerArchivo(\"data/adn.fasta\")\n",
    "alfabeto = obtenerAlfabeto(entradas)\n",
    "conteos = calcularConteo(entradas)\n",
    "frecuencias = calcularFrecuencias(entradas, conteos)\n",
    "pesos = calcularPesos(entradas, frecuencias)\n",
    "imprimirTabla(\"pesos\")"
   ]
  },
  {
   "cell_type": "markdown",
   "id": "342e1612",
   "metadata": {},
   "source": [
    "# Prueba con una secuencia de aminoácidos"
   ]
  },
  {
   "cell_type": "code",
   "execution_count": 21,
   "id": "7ff0c666",
   "metadata": {},
   "outputs": [
    {
     "name": "stdout",
     "output_type": "stream",
     "text": [
      "{'A', 'P', 'C', 'G', 'V', 'R', 'Y', 'I', 'D', 'K', 'N', 'W', 'E', 'M', 'T', 'S', 'H', 'F'}\n",
      "\n",
      "TABLA DE PESOS\n",
      "\tA\tR\tN\tD\tC\tE\tQ\tG\tH\tI\tL\tK\tM\tF\tP\tS\tT\tW\tY\tV\t\n",
      "1 A\t-1.9459\t1.0986\t-1.9459\t-1.9459\t-1.9459\t-1.9459\t-1.9459\t1.0986\t-1.9459\t-1.9459\t-1.9459\t1.0986\t-1.9459\t-1.9459\t-1.9459\t-1.9459\t-1.9459\t-1.9459\t1.0986\t1.7677\t\n",
      "2 A\t1.0986\t-1.9459\t-1.9459\t1.0986\t-1.9459\t-1.9459\t-1.9459\t1.0986\t-1.9459\t-1.9459\t-1.9459\t1.0986\t1.7677\t-1.9459\t-1.9459\t-1.9459\t-1.9459\t-1.9459\t-1.9459\t-1.9459\t\n",
      "3 A\t-1.9459\t1.0986\t-1.9459\t-1.9459\t1.0986\t-1.9459\t-1.9459\t-1.9459\t-1.9459\t-1.9459\t-1.9459\t-1.9459\t-1.9459\t-1.9459\t1.0986\t1.0986\t1.0986\t1.0986\t-1.9459\t-1.9459\t\n",
      "4 A\t-1.9459\t1.0986\t1.0986\t1.0986\t1.0986\t-1.9459\t-1.9459\t-1.9459\t-1.9459\t-1.9459\t-1.9459\t-1.9459\t-1.9459\t-1.9459\t-1.9459\t1.7677\t-1.9459\t-1.9459\t-1.9459\t-1.9459\t\n",
      "5 A\t1.0986\t1.0986\t1.0986\t-1.9459\t-1.9459\t1.0986\t-1.9459\t-1.9459\t-1.9459\t-1.9459\t-1.9459\t1.7677\t-1.9459\t-1.9459\t-1.9459\t-1.9459\t-1.9459\t-1.9459\t-1.9459\t-1.9459\t\n",
      "6 A\t-1.9459\t1.0986\t1.0986\t-1.9459\t-1.9459\t1.0986\t-1.9459\t-1.9459\t-1.9459\t-1.9459\t-1.9459\t-1.9459\t1.0986\t-1.9459\t-1.9459\t1.0986\t-1.9459\t-1.9459\t-1.9459\t1.0986\t\n",
      "7 A\t-1.9459\t-1.9459\t-1.9459\t-1.9459\t-1.9459\t-1.9459\t-1.9459\t-1.9459\t-1.9459\t1.0986\t-1.9459\t1.0986\t1.7677\t-1.9459\t-1.9459\t-1.9459\t1.0986\t1.0986\t-1.9459\t-1.9459\t\n",
      "8 A\t1.0986\t-1.9459\t-1.9459\t1.0986\t-1.9459\t-1.9459\t-1.9459\t-1.9459\t-1.9459\t1.0986\t-1.9459\t-1.9459\t-1.9459\t-1.9459\t-1.9459\t-1.9459\t1.0986\t1.7677\t-1.9459\t-1.9459\t\n",
      "9 A\t-1.9459\t-1.9459\t-1.9459\t1.0986\t-1.9459\t-1.9459\t-1.9459\t-1.9459\t1.0986\t-1.9459\t-1.9459\t-1.9459\t-1.9459\t1.0986\t-1.9459\t1.0986\t1.0986\t1.0986\t-1.9459\t-1.9459\t\n",
      "10 A\t-1.9459\t1.0986\t-1.9459\t-1.9459\t-1.9459\t-1.9459\t-1.9459\t1.0986\t-1.9459\t1.0986\t-1.9459\t-1.9459\t-1.9459\t1.0986\t-1.9459\t-1.9459\t-1.9459\t1.7677\t-1.9459\t-1.9459\t\n"
     ]
    }
   ],
   "source": [
    "entradas = leerArchivo(\"data/proteinas-5.fasta\")\n",
    "alfabeto = obtenerAlfabeto(entradas)\n",
    "conteos = calcularConteo(entradas)\n",
    "frecuencias = calcularFrecuencias(entradas, conteos)\n",
    "pesos = calcularPesos(entradas, frecuencias)\n",
    "imprimirTabla(\"pesos\")"
   ]
  },
  {
   "cell_type": "markdown",
   "id": "a892bcd1",
   "metadata": {},
   "source": [
    "# Cálculo de eficiencia de matriz PSSM"
   ]
  },
  {
   "cell_type": "markdown",
   "id": "96d50f4e",
   "metadata": {},
   "source": [
    "### Cargar datos"
   ]
  },
  {
   "cell_type": "code",
   "execution_count": 13,
   "id": "f06ade0d",
   "metadata": {},
   "outputs": [
    {
     "name": "stdout",
     "output_type": "stream",
     "text": [
      "['ILYQVPFSV', 'VVMGTLVAL', 'ILDEAYVMA', 'KILSVFFLA', 'HLYQGCQVV']\n",
      "[0.8532, 0.5891, 0.4941, 0.8512, 0.5386]\n"
     ]
    }
   ],
   "source": [
    "from scipy.stats import pearsonr # Importar función para calcular PCC\n",
    "\n",
    "secuencias = []              # Lista vacía para guardar las secuencias\n",
    "puntajesOriginales = []      # Lista vacía para guardar los puntajes del archivo\n",
    "\n",
    "with open(\"data/test1.lig\", \"r\") as f: # Leer archivo de entrada\n",
    "    linea = f.readline()                   # Lee la primera línea del archivo\n",
    "    while linea != None and linea != \"\":   # Mientras haya líneas no vacías...\n",
    "        datos = linea.split()              # Separa la línea por espacio\n",
    "        secuencia = datos[0]               # El primer elemento es la secuencia\n",
    "        puntaje = float(datos[1])          # El segundo elemento es el valor original. Se transforma en float.\n",
    "        secuencias.append(secuencia)       # Agrega la secuencia a la lista de secuencias\n",
    "        puntajesOriginales.append(puntaje) # Agrega el puntaje a la lista de puntajes originales\n",
    "        linea = f.readline()               # Lee la siguiente línea\n",
    "\n",
    "print(secuencias)\n",
    "print(puntajesOriginales)"
   ]
  },
  {
   "cell_type": "markdown",
   "id": "586b5e5d",
   "metadata": {},
   "source": [
    "### Función para calcular puntajes"
   ]
  },
  {
   "cell_type": "code",
   "execution_count": 14,
   "id": "d7682a95",
   "metadata": {},
   "outputs": [
    {
     "name": "stdout",
     "output_type": "stream",
     "text": [
      "[-11, -10, -6, -17, -13]\n"
     ]
    }
   ],
   "source": [
    "# Crea función llamada calcularPuntajes que recibe una lista de entradas y una tabla PSSM\n",
    "def calcularPuntajes(secuencias, pssm):\n",
    "    puntajes = []                  # Crea una lista vacía para los puntajes calculados\n",
    "    longitud = len(secuencias[0])  # Longitud de las secuencias (se presupone que todas tienen la misma longitud)\n",
    "    for secuencia in secuencias:   # Recorre una por una las secuencias\n",
    "        puntaje = 0                # Variable para guardar el puntaje calculado de la secuencia actual\n",
    "        for i in range(longitud):  # Recorre letra por letra de la secuencia\n",
    "            letra = secuencia[i]\n",
    "            puntaje += pesos[i][letra] # Suma el peso de la matriz para la letra en la posición actual al puntaje total\n",
    "        puntajes.append(puntaje)   # Agrega el puntaje calculado a la lista de puntajes\n",
    "    return puntajes\n",
    "\n",
    "puntajesCalculados = calcularPuntajes(secuencias, pesos)\n",
    "\n",
    "print(puntajesCalculados)"
   ]
  },
  {
   "cell_type": "markdown",
   "id": "8d98bd27",
   "metadata": {},
   "source": [
    "### Cálculo de coeficiente"
   ]
  },
  {
   "cell_type": "code",
   "execution_count": 15,
   "id": "38ed875e",
   "metadata": {},
   "outputs": [
    {
     "data": {
      "text/plain": [
       "(-0.6387375632182636, 0.24604048827429162)"
      ]
     },
     "execution_count": 15,
     "metadata": {},
     "output_type": "execute_result"
    }
   ],
   "source": [
    "pearsonr(puntajesOriginales, puntajesCalculados) # El primer valor es el coeficiente. Se puede ignorar el segundo."
   ]
  },
  {
   "cell_type": "code",
   "execution_count": null,
   "id": "cb5c71b1",
   "metadata": {},
   "outputs": [],
   "source": []
  }
 ],
 "metadata": {
  "kernelspec": {
   "display_name": "Python 3 (ipykernel)",
   "language": "python",
   "name": "python3"
  },
  "language_info": {
   "codemirror_mode": {
    "name": "ipython",
    "version": 3
   },
   "file_extension": ".py",
   "mimetype": "text/x-python",
   "name": "python",
   "nbconvert_exporter": "python",
   "pygments_lexer": "ipython3",
   "version": "3.9.7"
  }
 },
 "nbformat": 4,
 "nbformat_minor": 5
}
