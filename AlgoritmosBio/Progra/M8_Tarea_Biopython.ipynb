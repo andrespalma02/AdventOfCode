{
 "cells": [
  {
   "cell_type": "markdown",
   "id": "424eacb6",
   "metadata": {},
   "source": [
    "# Programación para las ciencias biológicas - Python, parte 2\n",
    "## Python\n",
    "**Docente: Charles Escobar**  \n",
    "2022"
   ]
  },
  {
   "cell_type": "markdown",
   "id": "21d9291d",
   "metadata": {},
   "source": [
    "Alumno: \n",
    "* Ponga aquí su nombre"
   ]
  },
  {
   "cell_type": "markdown",
   "id": "8792ebc1",
   "metadata": {},
   "source": [
    "## Tarea de Análisis de Secuencias con Biopython\n",
    "Podría decirse que las secuencias biológicas son el objeto central de la bioinformática, por tanto presentaremos el mecanismo de Biopython para tratar con secuencias, el objeto Seq.\n",
    "\n",
    "Las secuencias son esencialmente cadenas de letras como AGTACACTGGT, lo que parece muy natural ya que esta es la forma más común en que se ven las secuencias en formatos de archivos biológicos.\n",
    "\n",
    "La diferencia más importante entre los objetos Seq y las cadenas estándar de Python es que tienen métodos diferentes. Aunque el objeto Seq admite muchos de los mismos métodos que una cadena simple, su método translate() difiere al realizar la traducción biológica, y también hay métodos biológicamente relevantes adicionales como reverse_complement().\n",
    "\n",
    "(Biopython Tutorial and Cookbook, Jeff Chang, Brad Chapman, Iddo Friedberg, Thomas Hamelryck, Michiel de Hoon, Peter Cock, Tiago Antao, Eric Talevich, Bartek Wilczyńsk, 2021)\n"
   ]
  },
  {
   "cell_type": "markdown",
   "id": "2ba9eb20",
   "metadata": {},
   "source": [
    "# 1. Usando Biopyton cargue el siguiente archivo de secuencias:\n",
    "\n",
    "* /usr/local/bioinf/sampledata/t-coffee/sproteases_small_dna.fasta"
   ]
  },
  {
   "cell_type": "code",
   "execution_count": null,
   "id": "9db37310",
   "metadata": {},
   "outputs": [],
   "source": [
    "from Bio import SeqIO"
   ]
  },
  {
   "cell_type": "code",
   "execution_count": null,
   "id": "72d4687c",
   "metadata": {
    "scrolled": false
   },
   "outputs": [],
   "source": [
    "for seq_record in SeqIO.parse(....\n",
    "    ..\n",
    "    ..\n",
    "    .."
   ]
  },
  {
   "cell_type": "markdown",
   "id": "7dc86f64",
   "metadata": {},
   "source": [
    "# 2. Muestre los identificadores de este archivo"
   ]
  },
  {
   "cell_type": "code",
   "execution_count": null,
   "id": "f6cc2d57",
   "metadata": {},
   "outputs": [],
   "source": [
    "identifiers = [seq_record.id for seq_record in...."
   ]
  },
  {
   "cell_type": "code",
   "execution_count": null,
   "id": "0f518fe5",
   "metadata": {},
   "outputs": [],
   "source": [
    "print(identifiers)"
   ]
  },
  {
   "cell_type": "markdown",
   "id": "d622277a",
   "metadata": {},
   "source": [
    "# 3. Iterando con los registros:\n",
    "De este archivo de secuencias, asigne la tercera secuencia (registro) en la variable sec_dna:"
   ]
  },
  {
   "cell_type": "code",
   "execution_count": null,
   "id": "8d093f78",
   "metadata": {},
   "outputs": [],
   "source": [
    "record_iterator = SeqIO.parse(\"......."
   ]
  },
  {
   "cell_type": "code",
   "execution_count": null,
   "id": "bd5931b4",
   "metadata": {
    "scrolled": true
   },
   "outputs": [],
   "source": [
    "first_record = next(record_iterator)\n",
    "print(first_record.id)\n",
    "print(first_record.description)\n",
    "print(first_record.seq)"
   ]
  },
  {
   "cell_type": "code",
   "execution_count": null,
   "id": "2bed69f1",
   "metadata": {
    "scrolled": true
   },
   "outputs": [],
   "source": [
    "second_record = ..\n",
    "..\n",
    "..\n",
    ".."
   ]
  },
  {
   "cell_type": "code",
   "execution_count": null,
   "id": "99dbd630",
   "metadata": {},
   "outputs": [],
   "source": [
    "third_record = ..\n",
    "..\n",
    "..\n",
    ".."
   ]
  },
  {
   "cell_type": "code",
   "execution_count": null,
   "id": "2195ccdc",
   "metadata": {},
   "outputs": [],
   "source": [
    "sec_dna="
   ]
  },
  {
   "cell_type": "markdown",
   "id": "3b59163a",
   "metadata": {},
   "source": [
    "# 4. Transcription: \n",
    "\n",
    "Con la tercera secuencia realice el proceso de transcripción  y asígnelo a la variable messenger_rna. Imprima el contenido de esa variable\n"
   ]
  },
  {
   "cell_type": "code",
   "execution_count": null,
   "id": "d8e1c2a7",
   "metadata": {},
   "outputs": [],
   "source": [
    "messenger_rna=...\n",
    "print(messenger_rna)"
   ]
  },
  {
   "cell_type": "markdown",
   "id": "c8cefeb9",
   "metadata": {},
   "source": [
    "# 5. Traducción:\n",
    "Siguiendo con el mismo ejemplo discutido en la sección de transcripción anterior, ahora traduzcamos este ARNm en la secuencia de proteína correspondiente, nuevamente aprovechando uno de los métodos biológicos del objeto Seq:\n",
    "Asigne el resultado a la variable translated e imprima su contenido"
   ]
  },
  {
   "cell_type": "code",
   "execution_count": null,
   "id": "e0dd7cce",
   "metadata": {
    "scrolled": true
   },
   "outputs": [],
   "source": [
    "translated=...\n",
    "print(translated)"
   ]
  },
  {
   "cell_type": "markdown",
   "id": "e86703d4",
   "metadata": {},
   "source": [
    "Realice la traducción partiendo directamente de la cadena de adn. Asigne el resultado a la variable translated_dna e imprima su resultado"
   ]
  },
  {
   "cell_type": "code",
   "execution_count": null,
   "id": "112763fb",
   "metadata": {
    "scrolled": true
   },
   "outputs": [],
   "source": [
    "translated_dna=sec_dna.xxxxxxx\n",
    "print(sec_dna.translate())"
   ]
  },
  {
   "cell_type": "markdown",
   "id": "84749a03",
   "metadata": {},
   "source": [
    "Compare si los dos resultados son iguales."
   ]
  },
  {
   "cell_type": "markdown",
   "id": "2345333f",
   "metadata": {},
   "source": [
    "# 6. Conclusiones \n",
    "Desarrolle las conclusiones de los ejercicios realizados y la herramienta Biopython"
   ]
  }
 ],
 "metadata": {
  "kernelspec": {
   "display_name": "Python 3 (ipykernel)",
   "language": "python",
   "name": "python3"
  },
  "language_info": {
   "codemirror_mode": {
    "name": "ipython",
    "version": 3
   },
   "file_extension": ".py",
   "mimetype": "text/x-python",
   "name": "python",
   "nbconvert_exporter": "python",
   "pygments_lexer": "ipython3",
   "version": "3.10.4"
  }
 },
 "nbformat": 4,
 "nbformat_minor": 5
}
