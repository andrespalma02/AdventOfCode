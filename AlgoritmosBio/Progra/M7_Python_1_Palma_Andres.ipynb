{
 "cells": [
  {
   "attachments": {},
   "cell_type": "markdown",
   "id": "e6530c39",
   "metadata": {},
   "source": [
    "# Programación para las ciencias biológicas\n",
    "## Python\n",
    "**Charles Escobar**  \n",
    "2022\n",
    "\n",
    "**Estudiante:** Andrés Palma"
   ]
  },
  {
   "attachments": {},
   "cell_type": "markdown",
   "id": "fc4c076c",
   "metadata": {},
   "source": [
    "# Python\n",
    "Python, pertenece al grupo de los lenguajes de programación y puede ser clasificado como un lenguaje interpretado, de alto nivel, multiplataforma, de tipado dinámico y multiparadigma. A diferencia de la mayoría de los lenguajes de programación, Python nos provee de reglas de estilos, a fin de poder escribir código fuente más legible y de manera estandarizada. Estas reglas de estilo, son definidas a través de la Python Enhancement Proposal Nº 8 (PEP 8) (Curso Python para Principiantes– Eugenia Bahit, 20212)"
   ]
  },
  {
   "attachments": {},
   "cell_type": "markdown",
   "id": "c0eb10ae",
   "metadata": {},
   "source": [
    "\n",
    "Python es un lenguaje de programación creado por Guido van Rossum a principios de los años 90 cuyo nombre está inspirado en el grupo de cómicos ingleses “Monty Python”. Es un lenguaje similar a Perl, pero con una sintaxis muy limpia y que favorece un código legible. Se trata de un lenguaje interpretado o de script, con tipado dinámico,fuertemente tipado, multiplataforma y orientado a objetos. (Python para todos, R. González,2008)"
   ]
  },
  {
   "attachments": {},
   "cell_type": "markdown",
   "id": "a89a0467",
   "metadata": {},
   "source": [
    "## Tipado dinámico\n",
    "\n",
    "La característica de tipado dinámico se refiere a que no es necesario declarar el tipo de dato que va a contener una determinada variable, sino que su tipo se determinará en tiempo de ejecución según el tipo del valor al que se asigne, y el tipo de esta variable puede cambiar si se le asigna un valor de otro tipo. (Python para todos, R. González,2008)"
   ]
  },
  {
   "attachments": {},
   "cell_type": "markdown",
   "id": "f88e41b6",
   "metadata": {},
   "source": [
    "## Fuertemente tipado\n",
    "\n",
    "No se permite tratar a una variable como si fuera de un tipo distinto al que tiene, es necesario convertir de forma explícita dicha variable al nuevo tipo previamente. Por ejemplo, si tenemos una variable que contiene un texto (variable de tipo cadena o string) no podremos tratarla como un número (sumar la cadena “9” y el número 8 ). En otros lenguajes el tipo de la variable cambiaría para adaptarse al al comportamiento esperado, aunque esto es más propenso a errores.(Python para todos, R. González,2008)"
   ]
  },
  {
   "attachments": {},
   "cell_type": "markdown",
   "id": "42666572",
   "metadata": {},
   "source": [
    "## Orientado a objetos\n",
    "\n",
    "La orientación a objetos es un paradigma de programación en el que los conceptos del mundo real relevantes para nuestro problema se trasladan a clases y objetos en nuestro programa. La ejecución del programa consiste en una serie de interacciones entre los objetos.\n",
    "\n",
    "Python también permite la programación imperativa, programación funcional y programación orientada a aspectos."
   ]
  },
  {
   "attachments": {},
   "cell_type": "markdown",
   "id": "f6ce2bc1",
   "metadata": {},
   "source": [
    "## Documentación de Pyhton\n",
    "Existe una amplia documentación alrededor de esta herramienta que puede ser fácilmente accedida por los usuarios, sin embargo debe percatarse que la documentación corresponda a la versión de Python 3 y no a versiones previas.;\n",
    "\n",
    "Non-Programmer’s Tutorial for Python 3\n",
    "https://upload.wikimedia.org/wikipedia/commons/1/1d/Non-Programmer%27s_Tutorial_for_Python_3.pdf\n",
    "\n",
    "Revíselo y practique en Spyder en su máquina virtual del curso o instálese directamente en su sistema operativo."
   ]
  },
  {
   "attachments": {},
   "cell_type": "markdown",
   "id": "9eb030ee",
   "metadata": {},
   "source": [
    "## Python como soporte a Bioinformática\n",
    "Dado que python es un lenguaje muy versatil y ampliamente usada, una nutrida comunidad alrededor de el colabora desarrollando herramientas para distintos campos de la ciencia, como referencia puede revisar el libro PYTHON FOR BIOINFORMATICS, de Sebastián Bassi, 2018\n",
    "\n",
    "http://englishonlineclub.com/pdf/Python%20for%20Bioinformatics%20(Second%20Edition)%20[EnglishOnlineClub.com].pdf\n",
    "\n",
    "Existe una gran oferta de textos en este campo de las ciencias."
   ]
  },
  {
   "attachments": {},
   "cell_type": "markdown",
   "id": "edb33b8f",
   "metadata": {},
   "source": [
    "## Mas documentación de Python\n",
    "También puede revisar el texto “Python para todos, Explorando la información con Python 3” de Charles R. Severance, 2020\n",
    "\n",
    "Este texto está registrado bajo una Licencia Creative Commons Attribution NonCommercial-ShareAlike 3.0 Unported License y lo puede desacrgar desde la plataforma del curso y lo usaremos como referencia en varias secciones de este curso"
   ]
  },
  {
   "attachments": {},
   "cell_type": "markdown",
   "id": "dfc265d9",
   "metadata": {},
   "source": [
    "# Python - Variables, expresiones y sentencias"
   ]
  },
  {
   "attachments": {},
   "cell_type": "markdown",
   "id": "2454de34",
   "metadata": {},
   "source": [
    "## Variables en Python\n",
    "En Python los nombres de las variables pueden ser arbitrariamente largos. Pueden contener tanto letras como números, pero no pueden comenzar con un número. Se pueden usar letras mayúsculas, pero es buena idea comenzar los nombres de las variables con una letras minúscula.\n",
    "\n",
    "El carácter guión-bajo (_) puede utilizarse en un nombre. A menudo se utiliza en nombres con múltiples palabras, como en mi_nombre o velocidad_de_golondrina_sin_carga. Los nombres de las variables pueden comenzar con un carácter guión-bajo, pero generalmente se evita usarlo así a menos que se esté escribiendo código para librerías que luego utilizarán otros. (“Explorando la información con Python 3”, Charles R. Severance, 2020)"
   ]
  },
  {
   "attachments": {},
   "cell_type": "markdown",
   "id": "8d07d2f3",
   "metadata": {},
   "source": [
    "Los tipos básicos de variables en Python se pueden clasificar de manera general en:\n",
    "\n",
    "* Números\n",
    "* Enteros\n",
    "* De coma flotante\n",
    "* Complejos\n",
    "* Cadenas de texto\n",
    "* Valores booleanos\n",
    "\n",
    "(Python para todos, R. González,2008)"
   ]
  },
  {
   "attachments": {},
   "cell_type": "markdown",
   "id": "80bf243b",
   "metadata": {},
   "source": [
    "En Python también es posible trabajar con colecciones de datos, entre ellas:\n",
    "\n",
    "* Listas\n",
    "* Tuplas\n",
    "* Diccionarios\n",
    "* Dataframes\n",
    "\n",
    "(Python para todos, R. González,2008)"
   ]
  },
  {
   "attachments": {},
   "cell_type": "markdown",
   "id": "9d93a298",
   "metadata": {},
   "source": [
    "## Sentencias en Python\n",
    "Una sentencia es una unidad de código que el intérprete de Python puede ejecutar, por ejemplo print(). Cuando se escribe una sentencia en modo interactivo, el intérprete la ejecuta y muestra el resultado, si es que lo hay.\n",
    "\n",
    "Un script normalmente contiene una secuencia de sentencias. Si hay más de una sentencia, los resultados aparecen de uno en uno según se van ejecutando las sentencias. (“Explorando la información con Python 3”, Charles R. Severance, 2020)"
   ]
  },
  {
   "attachments": {},
   "cell_type": "markdown",
   "id": "27296f35",
   "metadata": {},
   "source": [
    "## Expresiones en Python\n",
    "Una expresión es una combinación de valores, variables y operadores. Un valor por si mismo se considera una expresión, y también lo es una variable, así que las siguientes expresiones son todas válidas (asumiendo que la variable x tenga un valor asignado):\n",
    "\n",
    "17 \n",
    "x = 17  \n",
    "x + 17  \n",
    "\n",
    "(Explorando la información con Python 3, Charles R. Severance, 2020)"
   ]
  },
  {
   "cell_type": "code",
   "execution_count": 69,
   "id": "8e6efe55",
   "metadata": {},
   "outputs": [
    {
     "data": {
      "text/plain": "'ddf'"
     },
     "execution_count": 69,
     "metadata": {},
     "output_type": "execute_result"
    }
   ],
   "source": [
    "17 \n",
    "x = 17  \n",
    "x + 17\n",
    "v=\"\"\"ddf\"\"\"\n",
    "v"
   ]
  },
  {
   "attachments": {},
   "cell_type": "markdown",
   "id": "16d7bc31",
   "metadata": {},
   "source": [
    "## Orden de las operaciones en Python\n",
    "Cuando en una expresión aparece más de un operador, el orden de evaluación depende de las reglas de precedencia. Para los operadores matemáticos, Python sigue las convenciones matemáticas. El acrónimo PEMDSR resulta útil para recordar esas reglas (Paréntesis, Exponenciación, M ultiplicación y División, Suma y Resta)"
   ]
  },
  {
   "attachments": {},
   "cell_type": "markdown",
   "id": "947986e7",
   "metadata": {},
   "source": [
    "## Comentarios\n",
    "A medida que los programas se van volviendo más grandes y complicados, se vuelven más difíciles de leer. Los lenguajes formales son densos, y a menudo es complicado mirar un trozo de código e imaginarse qué es lo que hace, o por qué. Por eso es buena idea añadir notas a los programas, para explicar en un lenguaje normal qué es lo que el programa está haciendo. Estas notas reciben el nombre de comentarios, y en Python comienzan con el símbolo #:"
   ]
  },
  {
   "cell_type": "code",
   "execution_count": 3,
   "id": "5e5897ca",
   "metadata": {},
   "outputs": [
    {
     "name": "stdout",
     "output_type": "stream",
     "text": [
      "Hola mundo\n"
     ]
    }
   ],
   "source": [
    "# Este es un comentario\n",
    "print(\"Hola mundo\")"
   ]
  },
  {
   "attachments": {},
   "cell_type": "markdown",
   "id": "9c2ac7ff",
   "metadata": {},
   "source": [
    "## Entorno de Python\n",
    "Con Python se puede trabajar con varios entornos de trabajo, entre ellos\n",
    "\n",
    "* Consola de python\n",
    "* IDE Spyder\n",
    "* IDE Jupyter\n",
    "\n",
    "Las dos primeras están instaladas en la máquina virtual de este curso, mientras que la tercera se puede acceder a través de la nube o instalarla con el entorno de programación Anaconda."
   ]
  },
  {
   "attachments": {},
   "cell_type": "markdown",
   "id": "543e4ed4",
   "metadata": {},
   "source": [
    "## La Consola (terminal) de Python\n",
    "\n",
    "Cuando Python espera la entrada de órdenes, presenta un sı́mbolo para indicarlo. El símbolo predeterminado es ‘>>>’, que en UNIX puede coincidir con el sı́mbolo del sistema\n",
    "Python es un lenguaje de expresiones con una sintaxis muy simple.\n",
    "Las órdenes elementales consisten en expresiones o en asignaciones. Si una orden consiste en una expresión, se evalúa, se imprime y su valor se pierde.\n",
    "Por el contrario, si evalúa una expresión, no la imprime y guarda su valor en una variable.\n",
    "Las órdenes se pueden separar mediante punto y coma, (‘;’), o mediante un cambio de lı́nea."
   ]
  },
  {
   "attachments": {},
   "cell_type": "markdown",
   "id": "bcddbe32",
   "metadata": {},
   "source": [
    "## Programación Básica: Tipos de Datos\n",
    "Python tiene sus propios tipos de datos característicos. Una de esas estructuras de datos fundamentales es una **secuencia**. Dentro de una secuencia, los elementos tienen un orden secuencial. Por ejemplo, la cadena, que es una secuencia ordenada de caracteres. Otras secuencias son listas y tuplas. Aunque existen diferencias fundamentales entre estos tipos de secuencias, comparten propiedades comunes. Los elementos de secuencia tienen un orden, se pueden indexar, se pueden dividir y se pueden iterar.\n",
    "\n",
    "Aparte de las secuencias, también existen tipos de datos desordenados: diccionarios y conjuntos.\n",
    "\n",
    "Un diccionario almacena relaciones entre una clave y un valor, mientras que un conjunto es solo una colección desordenada de valores.\n",
    "\n",
    "(PYTHON FOR BIOINFORMATICS, Sebastián Bassi, 2018)\n",
    "\n",
    "### Cadenas en Python\n",
    "Una cadena es una secuencia de símbolos delimitados por comillas simples (’), comillas dobles (“), comillas simples triples (’’’) o comillas dobles triples (\"\"\"). Por lo tanto, las siguientes cadenas son equivalentes:\n",
    "\n",
    "\"This is a string in Python\"  \n",
    "'This is a string in Python'  \n",
    "'''This is a string in Python'''  \n",
    "\"\"\"This is a string in Python\"\"\"  \n",
    "\n",
    "La ventaja de tener delimitadores de comillas simples (’) y dobles (\"\") es que podemos insertar una comilla simple en una cadena delimitada por comillas dobles, y viceversa (PYTHON FOR BIOINFORMATICS, Sebastián Bassi, 2018)\n",
    "\n",
    "### Manipulación de Cadenas en Python\n",
    "Las cadenas son inmutables. Una vez que se crea una cadena, no se puede modificar. Si necesita cambiar una cadena, lo que puede hacer es crear una cadena derivada. Esto se hace usando la cadena como parámetro en una función y luego obtiene el valor devuelto. En el siguiente ejemplo hay una cadena que representa una secuencia de aminoácidos y se llama signal_peptide (PYTHON FOR BIOINFORMATICS, Sebastián Bassi, 2018):\n",
    "\n",
    "\n"
   ]
  },
  {
   "cell_type": "code",
   "execution_count": 4,
   "id": "55088cb6",
   "metadata": {
    "scrolled": true
   },
   "outputs": [
    {
     "name": "stdout",
     "output_type": "stream",
     "text": [
      "singal_petide: MASKATLLLAFTLLFATCIA\n",
      "singanl_peptide_lower: maskatlllaftllfatcia\n"
     ]
    }
   ],
   "source": [
    "signal_peptide = 'MASKATLLLAFTLLFATCIA'\n",
    "signal_peptide_lower=signal_peptide.lower()\n",
    "print(\"singal_petide:\",signal_peptide)\n",
    "## singal_petide: MASKATLLLAFTLLFATCIA\n",
    "print(\"singanl_peptide_lower:\",signal_peptide_lower)\n",
    "## singanl_peptide_lower: maskatlllaftllfatcia\n"
   ]
  },
  {
   "attachments": {},
   "cell_type": "markdown",
   "id": "f35f168c",
   "metadata": {},
   "source": [
    "Python si reconoce una diferencia entre mayúsculas y minúsculas"
   ]
  },
  {
   "cell_type": "code",
   "execution_count": 5,
   "id": "bf69be2b",
   "metadata": {},
   "outputs": [
    {
     "data": {
      "text/plain": "False"
     },
     "execution_count": 5,
     "metadata": {},
     "output_type": "execute_result"
    }
   ],
   "source": [
    "'a'=='A'"
   ]
  },
  {
   "attachments": {},
   "cell_type": "markdown",
   "id": "7b8ace39",
   "metadata": {},
   "source": [
    "### Métodos asociados con cadenas\n",
    "|Método\t|Operación|\n",
    "|:--|:--|\n",
    "|replace(old,new[,count])\t|Permite reemplazar una parte de una cadena (old ) por otra (new ). Si se usa el argumento opcional count, solo se reemplazarán las primeras ocurrencias de recuento anteriores|\n",
    "|count(sub[, start[, end]])\t|Cuenta cuántas veces aparece la subcadena sub, entre las posiciones inicial y final (si está disponible).|\n",
    "|find(sub[,start[,end]])\t|Devuelve la posición de la subcadena sub, entre las posiciones inicial y final (si está disponible). Si la subcadena no se encuentra en la cadena, este método devuelve el valor -1|\n",
    "|index(sub[,start[,end]])\t|Funciona como find(). La diferencia es que el índice generará una excepción ValueError cuando no se encuentre la subcadena. Se recomienda este método sobre find() porque el valor -1 podría interpretarse como un valor válido.|\n",
    "|split([sep [,maxsplit]])\t|Separa las “palabras” de una cadena y las devuelve en una lista. Si no se especifica un separador (sep), el separador predeterminado será un espacio en blanco|\n",
    "|join(seq)\t|Une la secuencia usando una cadena como un “carácter adhesivo”, es la función inversa de split() es join()|\n"
   ]
  },
  {
   "attachments": {},
   "cell_type": "markdown",
   "id": "e2bdc58a",
   "metadata": {},
   "source": [
    "Método replace(old,new[,count])\n",
    "\n",
    "Ejemplo (PYTHON FOR BIOINFORMATICS, Sebastián Bassi, 2018):\n"
   ]
  },
  {
   "cell_type": "code",
   "execution_count": 6,
   "id": "b2976b7a",
   "metadata": {},
   "outputs": [
    {
     "name": "stdout",
     "output_type": "stream",
     "text": [
      "m_rna_seq:  GCUAGUAAUGUG\n"
     ]
    }
   ],
   "source": [
    "dna_seq = 'GCTAGTAATGTG'\n",
    "m_rna_seq = dna_seq.replace('T','U')\n",
    "print(\"m_rna_seq: \",m_rna_seq)"
   ]
  },
  {
   "attachments": {},
   "cell_type": "markdown",
   "id": "670ccc38",
   "metadata": {},
   "source": [
    "Método count(sub[, start[, end]])\n",
    "\n",
    "Ejemplo: Veamos cómo se puede usar para calcular el contenido de CG de una secuencia:\n",
    "El contenido de CG es la cantidad de citosina y guanina en una secuencia de ADN. El contenido de CG está relacionado con la temperatura de fusión del ADN y otras propiedades físicas (PYTHON FOR BIOINFORMATICS, Sebastián Bassi, 2018):"
   ]
  },
  {
   "cell_type": "code",
   "execution_count": 7,
   "id": "80487beb",
   "metadata": {
    "scrolled": true
   },
   "outputs": [
    {
     "name": "stdout",
     "output_type": "stream",
     "text": [
      "Porcentaje CG 41.66666666666667\n"
     ]
    }
   ],
   "source": [
    "dna_seq = 'GCTAGTAATGTG'\n",
    "c = dna_seq.count(\"C\")\n",
    "g = dna_seq.count(\"G\")\n",
    "porc = (c+g)/len(dna_seq)*100\n",
    "print(\"Porcentaje CG\",porc)"
   ]
  },
  {
   "cell_type": "code",
   "execution_count": 8,
   "id": "6066f4d7",
   "metadata": {
    "scrolled": true
   },
   "outputs": [
    {
     "name": "stdout",
     "output_type": "stream",
     "text": [
      "1\n"
     ]
    }
   ],
   "source": [
    "c = dna_seq.count(\"C\"), print(c)"
   ]
  },
  {
   "cell_type": "code",
   "execution_count": 9,
   "id": "56e9e609",
   "metadata": {},
   "outputs": [
    {
     "name": "stdout",
     "output_type": "stream",
     "text": [
      "4\n"
     ]
    }
   ],
   "source": [
    "g = dna_seq.count(\"G\"), print(g)"
   ]
  },
  {
   "attachments": {},
   "cell_type": "markdown",
   "id": "d43f9d94",
   "metadata": {},
   "source": [
    "Método find(sub[,start[,end]])\n",
    "\n",
    "Ejemplo (PYTHON FOR BIOINFORMATICS, Sebastián Bassi, 2018):"
   ]
  },
  {
   "cell_type": "code",
   "execution_count": 10,
   "id": "16dd22fe",
   "metadata": {
    "scrolled": true
   },
   "outputs": [
    {
     "name": "stdout",
     "output_type": "stream",
     "text": [
      "GCUAGUAAUGUG\n",
      "Ubicación:  7\n"
     ]
    }
   ],
   "source": [
    "dna_seq = 'GCTAGTAATGTG'\n",
    "m_rna_seq = dna_seq.replace('T','U')\n",
    "print(m_rna_seq)\n",
    "print(\"Ubicación: \",m_rna_seq.find('AUG'))"
   ]
  },
  {
   "cell_type": "code",
   "execution_count": 11,
   "id": "a49b5c34",
   "metadata": {},
   "outputs": [
    {
     "name": "stdout",
     "output_type": "stream",
     "text": [
      "AUG\n"
     ]
    }
   ],
   "source": [
    "print(m_rna_seq[7:10])"
   ]
  },
  {
   "attachments": {},
   "cell_type": "markdown",
   "id": "1d99f447",
   "metadata": {},
   "source": [
    "Método split([sep [,maxsplit]])\n",
    "\n",
    "Ejemplo (PYTHON FOR BIOINFORMATICS, Sebastián Bassi, 2018):\n"
   ]
  },
  {
   "cell_type": "code",
   "execution_count": 12,
   "id": "891970bf",
   "metadata": {
    "scrolled": false
   },
   "outputs": [
    {
     "name": "stdout",
     "output_type": "stream",
     "text": [
      "arn_sec_desc_list[0]:  MN908947.3 \n",
      "\n",
      "arn_sec_desc_list:  ['MN908947.3', 'Severe', 'acute', 'respiratory', 'syndrome', 'coronavirus', '2', 'isolate', 'Wuhan-Hu-1,', 'complete', 'genome']\n"
     ]
    }
   ],
   "source": [
    "arn_sec_desc = 'MN908947.3 Severe acute respiratory syndrome coronavirus 2 isolate Wuhan-Hu-1, complete genome'\n",
    "arn_sec_desc_list=arn_sec_desc.split()\n",
    "print(\"arn_sec_desc_list[0]: \",arn_sec_desc_list[0],\"\\n\")\n",
    "print(\"arn_sec_desc_list: \",arn_sec_desc_list)"
   ]
  },
  {
   "cell_type": "code",
   "execution_count": 13,
   "id": "17732bbc",
   "metadata": {
    "scrolled": true
   },
   "outputs": [
    {
     "data": {
      "text/plain": "['MN908947.3',\n 'Severe',\n 'acute',\n 'respiratory',\n 'syndrome',\n 'coronavirus',\n '2',\n 'isolate',\n 'Wuhan-Hu-1,',\n 'complete',\n 'genome']"
     },
     "execution_count": 13,
     "metadata": {},
     "output_type": "execute_result"
    }
   ],
   "source": [
    "arn_sec_desc_list"
   ]
  },
  {
   "cell_type": "code",
   "execution_count": 14,
   "id": "074c2232",
   "metadata": {
    "scrolled": true
   },
   "outputs": [
    {
     "data": {
      "text/plain": "'Severe'"
     },
     "execution_count": 14,
     "metadata": {},
     "output_type": "execute_result"
    }
   ],
   "source": [
    "arn_sec_desc_list[1]"
   ]
  },
  {
   "attachments": {},
   "cell_type": "markdown",
   "id": "4d115b33",
   "metadata": {},
   "source": [
    "Si queremos el final de la lista"
   ]
  },
  {
   "cell_type": "code",
   "execution_count": 15,
   "id": "1620a8ba",
   "metadata": {},
   "outputs": [
    {
     "data": {
      "text/plain": "'genome'"
     },
     "execution_count": 15,
     "metadata": {},
     "output_type": "execute_result"
    }
   ],
   "source": [
    "arn_sec_desc_list[-1]"
   ]
  },
  {
   "cell_type": "code",
   "execution_count": 16,
   "id": "e4f35769",
   "metadata": {},
   "outputs": [
    {
     "data": {
      "text/plain": "11"
     },
     "execution_count": 16,
     "metadata": {},
     "output_type": "execute_result"
    }
   ],
   "source": [
    "len(arn_sec_desc_list)"
   ]
  },
  {
   "cell_type": "code",
   "execution_count": 17,
   "id": "9aab9d96",
   "metadata": {},
   "outputs": [
    {
     "data": {
      "text/plain": "'genome'"
     },
     "execution_count": 17,
     "metadata": {},
     "output_type": "execute_result"
    }
   ],
   "source": [
    "arn_sec_desc_list[10]"
   ]
  },
  {
   "attachments": {},
   "cell_type": "markdown",
   "id": "dba1b404",
   "metadata": {},
   "source": [
    "Método join(seq)\n",
    "\n",
    "Ejemplo (PYTHON FOR BIOINFORMATICS, Sebastián Bassi, 2018):\n"
   ]
  },
  {
   "cell_type": "code",
   "execution_count": 18,
   "id": "04042b1c",
   "metadata": {},
   "outputs": [
    {
     "name": "stdout",
     "output_type": "stream",
     "text": [
      "MN908947.3 Severe acute respiratory syndrome coronavirus 2 isolate Wuhan-Hu-1, complete genome\n"
     ]
    }
   ],
   "source": [
    "arn_sec_desc = 'MN908947.3 Severe acute respiratory syndrome coronavirus 2 isolate Wuhan-Hu-1, complete genome'\n",
    "arn_sec_desc_list=arn_sec_desc.split()\n",
    "#print(\"arn_sec_desc_list: \",arn_sec_desc_list)\n",
    "arn_sec_join=\" \".join(arn_sec_desc_list)\n",
    "print(arn_sec_join)"
   ]
  },
  {
   "attachments": {},
   "cell_type": "markdown",
   "id": "292f6879",
   "metadata": {},
   "source": [
    "# Ejemplos de manipulación de cadenas (Strings)"
   ]
  },
  {
   "attachments": {},
   "cell_type": "markdown",
   "id": "87df53be",
   "metadata": {},
   "source": [
    "## Caracteres especiales\n",
    "\n",
    "|Secuencia de escape\t|Significado|\n",
    "|:--|:--|\n",
    "|\\\\\t|Backslash|\n",
    "|'\t|Comilla simple|\n",
    "|\"\t|Comilla doble|\n",
    "|\\\\n\t|Nueva línea|\n",
    "|\\\\t\t|Tab|\n"
   ]
  },
  {
   "attachments": {},
   "cell_type": "markdown",
   "id": "46489a2b",
   "metadata": {},
   "source": [
    "## Accesando a caracteres simples\n"
   ]
  },
  {
   "cell_type": "code",
   "execution_count": 19,
   "id": "d86763ed",
   "metadata": {
    "scrolled": true
   },
   "outputs": [
    {
     "name": "stdout",
     "output_type": "stream",
     "text": [
      "A\n"
     ]
    }
   ],
   "source": [
    "secuencia='ATTAAAGGTTTATACCTTCCCAGGTAACAAACCAACCAACTTTCGATCTCTTGTAGATCTGTTCTCTAAA'\n",
    "print(secuencia[0])"
   ]
  },
  {
   "cell_type": "code",
   "execution_count": 20,
   "id": "e9694340",
   "metadata": {
    "scrolled": true
   },
   "outputs": [
    {
     "name": "stdout",
     "output_type": "stream",
     "text": [
      "T\n"
     ]
    }
   ],
   "source": [
    "print(secuencia[2])"
   ]
  },
  {
   "cell_type": "code",
   "execution_count": 21,
   "id": "137a3c68",
   "metadata": {
    "scrolled": false
   },
   "outputs": [
    {
     "name": "stdout",
     "output_type": "stream",
     "text": [
      "A\n"
     ]
    }
   ],
   "source": [
    "print(secuencia[-1])"
   ]
  },
  {
   "attachments": {},
   "cell_type": "markdown",
   "id": "f5dfd395",
   "metadata": {},
   "source": [
    "## Accesando a subcadenas (Slicing)\n"
   ]
  },
  {
   "cell_type": "code",
   "execution_count": 22,
   "id": "14072af4",
   "metadata": {},
   "outputs": [
    {
     "data": {
      "text/plain": "'A'"
     },
     "execution_count": 22,
     "metadata": {},
     "output_type": "execute_result"
    }
   ],
   "source": [
    "secuencia[0]"
   ]
  },
  {
   "cell_type": "markdown",
   "source": [
    "Las variables van entre comilla simple o doble"
   ],
   "metadata": {
    "collapsed": false
   }
  },
  {
   "cell_type": "code",
   "execution_count": 23,
   "id": "724987c1",
   "metadata": {
    "scrolled": true
   },
   "outputs": [
    {
     "ename": "NameError",
     "evalue": "name 'T' is not defined",
     "output_type": "error",
     "traceback": [
      "\u001B[1;31m---------------------------------------------------------------------------\u001B[0m",
      "\u001B[1;31mNameError\u001B[0m                                 Traceback (most recent call last)",
      "Cell \u001B[1;32mIn[23], line 1\u001B[0m\n\u001B[1;32m----> 1\u001B[0m secuencia[\u001B[38;5;241m0\u001B[39m]\u001B[38;5;241m=\u001B[39m\u001B[43mT\u001B[49m\n",
      "\u001B[1;31mNameError\u001B[0m: name 'T' is not defined"
     ]
    }
   ],
   "source": [
    "secuencia[0]=T"
   ]
  },
  {
   "cell_type": "code",
   "execution_count": 24,
   "id": "7fb42bfb",
   "metadata": {
    "scrolled": true
   },
   "outputs": [
    {
     "name": "stdout",
     "output_type": "stream",
     "text": [
      "ATT \n",
      " ATT \n",
      " AAGGTTTATACCTTCCCAGGTAACAAACCAACCAACTTTCGATCTCTTGTAGATCTGTTCTCTAAA \n",
      " AA \n",
      " ATTAAAGGTTTATACCTTCCCAGGTAACAAACCAACCAACTTTCGATCTCTTGTAGATCTGTTCTCTAAA\n"
     ]
    }
   ],
   "source": [
    "secuencia='ATTAAAGGTTTATACCTTCCCAGGTAACAAACCAACCAACTTTCGATCTCTTGTAGATCTGTTCTCTAAA'\n",
    "print(secuencia[0:3],\"\\n\",secuencia[:3],\"\\n\",secuencia[4:],\"\\n\",secuencia[3:5],\"\\n\",secuencia[:])"
   ]
  },
  {
   "attachments": {},
   "cell_type": "markdown",
   "id": "449cfc29",
   "metadata": {},
   "source": [
    "## Funcionalidad de cadenas\n"
   ]
  },
  {
   "cell_type": "code",
   "execution_count": 25,
   "id": "55f8d71b",
   "metadata": {},
   "outputs": [
    {
     "data": {
      "text/plain": "70"
     },
     "execution_count": 25,
     "metadata": {},
     "output_type": "execute_result"
    }
   ],
   "source": [
    "secuencia='ATTAAAGGTTTATACCTTCCCAGGTAACAAACCAACCAACTTTCGATCTCTTGTAGATCTGTTCTCTAAA'\n",
    "len(secuencia)"
   ]
  },
  {
   "cell_type": "code",
   "execution_count": 26,
   "id": "58a013b2",
   "metadata": {
    "scrolled": true
   },
   "outputs": [
    {
     "data": {
      "text/plain": "23"
     },
     "execution_count": 26,
     "metadata": {},
     "output_type": "execute_result"
    }
   ],
   "source": [
    "secuencia.count('T')"
   ]
  },
  {
   "cell_type": "code",
   "execution_count": 27,
   "id": "24ae2563",
   "metadata": {
    "scrolled": true
   },
   "outputs": [
    {
     "name": "stdout",
     "output_type": "stream",
     "text": [
      "ATTTAAAGGTTTATACCTTCCCAGGTAACAAACCAACCAACTTTCGATCTCTTGTAGATCTGTTCTCTAAA\n"
     ]
    }
   ],
   "source": [
    "print(secuencia[:3]+secuencia[2:])"
   ]
  },
  {
   "cell_type": "code",
   "execution_count": 28,
   "id": "f9fc80fa",
   "metadata": {},
   "outputs": [
    {
     "data": {
      "text/plain": "71"
     },
     "execution_count": 28,
     "metadata": {},
     "output_type": "execute_result"
    }
   ],
   "source": [
    "len(secuencia[:3]+secuencia[2:])"
   ]
  },
  {
   "cell_type": "code",
   "execution_count": 29,
   "id": "192b33e5",
   "metadata": {
    "scrolled": true
   },
   "outputs": [
    {
     "data": {
      "text/plain": "70"
     },
     "execution_count": 29,
     "metadata": {},
     "output_type": "execute_result"
    }
   ],
   "source": [
    "len(secuencia[:3]+secuencia[3:])"
   ]
  },
  {
   "cell_type": "code",
   "execution_count": 30,
   "id": "7a99ad1f",
   "metadata": {
    "scrolled": true
   },
   "outputs": [
    {
     "name": "stdout",
     "output_type": "stream",
     "text": [
      "ATTATTATTATTATTATTATTATTATTATT\n"
     ]
    }
   ],
   "source": [
    "print(secuencia[:3]*10)"
   ]
  },
  {
   "cell_type": "code",
   "execution_count": 31,
   "id": "d25655cf",
   "metadata": {
    "scrolled": true
   },
   "outputs": [
    {
     "data": {
      "text/plain": "30"
     },
     "execution_count": 31,
     "metadata": {},
     "output_type": "execute_result"
    }
   ],
   "source": [
    "len(secuencia[:3]*10)"
   ]
  },
  {
   "cell_type": "code",
   "execution_count": 32,
   "id": "046cf18d",
   "metadata": {},
   "outputs": [
    {
     "name": "stdout",
     "output_type": "stream",
     "text": [
      "AAAGGTT\n"
     ]
    }
   ],
   "source": [
    "subsecuencia=secuencia[3:10]\n",
    "print(subsecuencia)"
   ]
  },
  {
   "cell_type": "code",
   "execution_count": 33,
   "id": "46f59159",
   "metadata": {},
   "outputs": [
    {
     "data": {
      "text/plain": "'ATTAAAGGTTTATACCTTCCCAGGTAACAAACCAACCAACTTTCGATCTCTTGTAGATCTGTTCTCTAAA'"
     },
     "execution_count": 33,
     "metadata": {},
     "output_type": "execute_result"
    }
   ],
   "source": [
    "secuencia"
   ]
  },
  {
   "cell_type": "code",
   "execution_count": 34,
   "id": "c11cac5d",
   "metadata": {
    "scrolled": true
   },
   "outputs": [
    {
     "data": {
      "text/plain": "True"
     },
     "execution_count": 34,
     "metadata": {},
     "output_type": "execute_result"
    }
   ],
   "source": [
    "\"ATTA\" in secuencia"
   ]
  },
  {
   "cell_type": "code",
   "execution_count": 35,
   "id": "8fee1cce",
   "metadata": {
    "scrolled": true
   },
   "outputs": [
    {
     "data": {
      "text/plain": "False"
     },
     "execution_count": 35,
     "metadata": {},
     "output_type": "execute_result"
    }
   ],
   "source": [
    "\"GTTG\" in secuencia"
   ]
  },
  {
   "cell_type": "code",
   "execution_count": 36,
   "id": "4bb07635",
   "metadata": {},
   "outputs": [
    {
     "data": {
      "text/plain": "True"
     },
     "execution_count": 36,
     "metadata": {},
     "output_type": "execute_result"
    }
   ],
   "source": [
    "secuencia.endswith('AAA')"
   ]
  },
  {
   "cell_type": "code",
   "execution_count": 37,
   "id": "11cb53a8",
   "metadata": {
    "scrolled": true
   },
   "outputs": [
    {
     "data": {
      "text/plain": "True"
     },
     "execution_count": 37,
     "metadata": {},
     "output_type": "execute_result"
    }
   ],
   "source": [
    "secuencia.startswith('ATT')"
   ]
  },
  {
   "cell_type": "code",
   "execution_count": 38,
   "id": "305f545c",
   "metadata": {
    "scrolled": true
   },
   "outputs": [
    {
     "data": {
      "text/plain": "False"
     },
     "execution_count": 38,
     "metadata": {},
     "output_type": "execute_result"
    }
   ],
   "source": [
    "secuencia.startswith('AGG')"
   ]
  },
  {
   "cell_type": "code",
   "execution_count": 39,
   "id": "816ebe13",
   "metadata": {
    "scrolled": true
   },
   "outputs": [
    {
     "data": {
      "text/plain": "'attaaaggtttataccttcccaggtaacaaaccaaccaactttcgatctcttgtagatctgttctctaaa'"
     },
     "execution_count": 39,
     "metadata": {},
     "output_type": "execute_result"
    }
   ],
   "source": [
    "secuencia.lower()"
   ]
  },
  {
   "cell_type": "code",
   "execution_count": 40,
   "id": "bf4156a9",
   "metadata": {
    "scrolled": true
   },
   "outputs": [
    {
     "data": {
      "text/plain": "'ATTAAAGGTTTATACCTTCCCAGGTAACAAACCAACCAACTTTCGATCTCTTGTAGATCTGTTCTCTAAA'"
     },
     "execution_count": 40,
     "metadata": {},
     "output_type": "execute_result"
    }
   ],
   "source": [
    "secuencia.lower().upper()"
   ]
  },
  {
   "attachments": {},
   "cell_type": "markdown",
   "id": "83acc660",
   "metadata": {},
   "source": [
    "Resumen Operaciones básicas:\n",
    "    \n",
    "* S = “AATTGG” –> Asignación de una cadena\n",
    "* s1 + s2 –> Concatena\n",
    "* s2 * 3 –> Repite\n",
    "* s2\\[i\\] –> Caracter de la posición i\n",
    "* s2\\[x:y\\] –> Subcadena entr x y y\n",
    "* len(S) –> Longitud de un string\n",
    "* int(S) –> Convierte un string en un entero\n",
    "* float(S) –> Convierte un string en un número flotante"
   ]
  },
  {
   "cell_type": "code",
   "execution_count": 41,
   "id": "9bc5c214",
   "metadata": {},
   "outputs": [],
   "source": [
    "A=int(\"3\")"
   ]
  },
  {
   "cell_type": "code",
   "execution_count": 42,
   "id": "ade16bd6",
   "metadata": {
    "scrolled": true
   },
   "outputs": [
    {
     "data": {
      "text/plain": "3"
     },
     "execution_count": 42,
     "metadata": {},
     "output_type": "execute_result"
    }
   ],
   "source": [
    "A"
   ]
  },
  {
   "cell_type": "code",
   "execution_count": 43,
   "id": "6950e7ea",
   "metadata": {},
   "outputs": [
    {
     "data": {
      "text/plain": "int"
     },
     "execution_count": 43,
     "metadata": {},
     "output_type": "execute_result"
    }
   ],
   "source": [
    "type(A)"
   ]
  },
  {
   "attachments": {},
   "cell_type": "markdown",
   "id": "c82a8e97",
   "metadata": {},
   "source": [
    "Resumen de métodos con cadena\n",
    "\n",
    "* S.upper()\n",
    "* S.lower()\n",
    "* S.count(substring)\n",
    "* S.replace(old,new)\n",
    "* S.find(substring)\n",
    "* S.startswith(substring)\n",
    "* S. endswith(substring)"
   ]
  },
  {
   "attachments": {},
   "cell_type": "markdown",
   "id": "9f6c0810",
   "metadata": {},
   "source": [
    "## Listas en Python\n",
    "Las listas son uno de los tipos de objetos más versátiles en Python. Una lista es una colección ordenada de objetos. Se representa mediante elementos separados por comas y encerrados entre corchetes (PYTHON FOR BIOINFORMATICS, Sebastián Bassi, 2018). El siguiente código define y nombra varios tipos de lista:"
   ]
  },
  {
   "cell_type": "code",
   "execution_count": 44,
   "id": "9c8ae9f5",
   "metadata": {},
   "outputs": [
    {
     "name": "stdout",
     "output_type": "stream",
     "text": [
      "(1, 2, 3, 4, 5)\n"
     ]
    }
   ],
   "source": [
    "first_tupla=(1,2,3,4,5)\n",
    "print(first_tupla)"
   ]
  },
  {
   "cell_type": "code",
   "execution_count": 45,
   "id": "f6d3b365",
   "metadata": {},
   "outputs": [
    {
     "data": {
      "text/plain": "1"
     },
     "execution_count": 45,
     "metadata": {},
     "output_type": "execute_result"
    }
   ],
   "source": [
    "first_tupla[0]"
   ]
  },
  {
   "cell_type": "code",
   "execution_count": 46,
   "id": "28c278b5",
   "metadata": {},
   "outputs": [
    {
     "data": {
      "text/plain": "5"
     },
     "execution_count": 46,
     "metadata": {},
     "output_type": "execute_result"
    }
   ],
   "source": [
    "first_tupla[-1]"
   ]
  },
  {
   "cell_type": "code",
   "execution_count": 47,
   "id": "ffa73bfc",
   "metadata": {
    "scrolled": true
   },
   "outputs": [
    {
     "data": {
      "text/plain": "4"
     },
     "execution_count": 47,
     "metadata": {},
     "output_type": "execute_result"
    }
   ],
   "source": [
    "first_tupla[-2]"
   ]
  },
  {
   "cell_type": "markdown",
   "source": [
    "Las tuplas son inmutables"
   ],
   "metadata": {
    "collapsed": false
   }
  },
  {
   "cell_type": "code",
   "execution_count": 48,
   "id": "b6afe2ca",
   "metadata": {},
   "outputs": [
    {
     "ename": "TypeError",
     "evalue": "'tuple' object does not support item assignment",
     "output_type": "error",
     "traceback": [
      "\u001B[1;31m---------------------------------------------------------------------------\u001B[0m",
      "\u001B[1;31mTypeError\u001B[0m                                 Traceback (most recent call last)",
      "Cell \u001B[1;32mIn[48], line 1\u001B[0m\n\u001B[1;32m----> 1\u001B[0m \u001B[43mfirst_tupla\u001B[49m\u001B[43m[\u001B[49m\u001B[38;5;241;43m1\u001B[39;49m\u001B[43m]\u001B[49m\u001B[38;5;241m=\u001B[39m\u001B[38;5;241m7\u001B[39m\n",
      "\u001B[1;31mTypeError\u001B[0m: 'tuple' object does not support item assignment"
     ]
    }
   ],
   "source": [
    "first_tupla[1]=7"
   ]
  },
  {
   "cell_type": "code",
   "execution_count": 49,
   "id": "7a99d2c7",
   "metadata": {},
   "outputs": [
    {
     "data": {
      "text/plain": "bool"
     },
     "execution_count": 49,
     "metadata": {},
     "output_type": "execute_result"
    }
   ],
   "source": [
    "second_tupla=(\"uno\", 2, 3, 4.0, True, (1,2,3))\n",
    "type(second_tupla[4])"
   ]
  },
  {
   "cell_type": "code",
   "execution_count": 50,
   "id": "f01b1ae0",
   "metadata": {
    "scrolled": true
   },
   "outputs": [
    {
     "name": "stdout",
     "output_type": "stream",
     "text": [
      "('uno', 2, 3, 4.0, True, (1, 2, 3))\n"
     ]
    }
   ],
   "source": [
    "print(second_tupla)"
   ]
  },
  {
   "cell_type": "code",
   "execution_count": 51,
   "id": "281593b3",
   "metadata": {
    "scrolled": true
   },
   "outputs": [
    {
     "data": {
      "text/plain": "tuple"
     },
     "execution_count": 51,
     "metadata": {},
     "output_type": "execute_result"
    }
   ],
   "source": [
    "type(second_tupla)"
   ]
  },
  {
   "cell_type": "code",
   "execution_count": 52,
   "id": "c69087e0",
   "metadata": {},
   "outputs": [
    {
     "name": "stdout",
     "output_type": "stream",
     "text": [
      "('uno', 2, 3, 4.0, True, (1, 2, 3))\n"
     ]
    }
   ],
   "source": [
    "print(second_tupla)"
   ]
  },
  {
   "cell_type": "code",
   "execution_count": 53,
   "id": "16e01a31",
   "metadata": {
    "scrolled": false
   },
   "outputs": [
    {
     "name": "stdout",
     "output_type": "stream",
     "text": [
      "first_list:  [1, 2, 3, 4, 5] \n",
      "other_list:  [1, 'two', 3, 4, 'last'] \n",
      "nested_list:  [1, 'two', [1, 2, 3, 4, 5], 4, 'last'] \n",
      "empty_list:  []\n"
     ]
    }
   ],
   "source": [
    "first_list = [1, 2, 3, 4, 5]\n",
    "other_list = [1, 'two', 3, 4, 'last']\n",
    "nested_list = [1, 'two', first_list, 4, 'last']\n",
    "empty_list = []\n",
    "print(\"first_list: \", first_list,\"\\nother_list: \", other_list,\"\\nnested_list: \", nested_list,\"\\nempty_list: \", empty_list)"
   ]
  },
  {
   "attachments": {},
   "cell_type": "markdown",
   "id": "5fae6ee1",
   "metadata": {},
   "source": [
    "### Accesando los Elementos de las Listas en Python"
   ]
  },
  {
   "cell_type": "code",
   "execution_count": 54,
   "id": "67e62259",
   "metadata": {
    "scrolled": true
   },
   "outputs": [
    {
     "name": "stdout",
     "output_type": "stream",
     "text": [
      "first_list[0]:  1 \n",
      "first_list[1]:  2 \n",
      "first_list[2]:  3 \n",
      "first_list[3]:  4 \n",
      "first_list[-1]:  5\n"
     ]
    }
   ],
   "source": [
    "first_list = [1, 2, 3, 4, 5]\n",
    "\n",
    "print(\"first_list[0]: \", first_list[0],\"\\nfirst_list[1]: \", first_list[1],\"\\nfirst_list[2]: \", first_list[2],\"\\nfirst_list[3]: \", first_list[3],\"\\nfirst_list[-1]: \", first_list[-1])"
   ]
  },
  {
   "attachments": {},
   "cell_type": "markdown",
   "id": "daf87ce8",
   "metadata": {},
   "source": [
    "## Función list()\n",
    "Otra forma de obtener listas es convirtiendo un objeto que no es una lista en una lista usando la función incorporada list() (PYTHON FOR BIOINFORMATICS, Sebastián Bassi, 2018):"
   ]
  },
  {
   "cell_type": "code",
   "execution_count": 55,
   "id": "102145e0",
   "metadata": {},
   "outputs": [
    {
     "data": {
      "text/plain": "[1, 2, 3, 4, 5]"
     },
     "execution_count": 55,
     "metadata": {},
     "output_type": "execute_result"
    }
   ],
   "source": [
    "list(first_tupla)"
   ]
  },
  {
   "cell_type": "code",
   "execution_count": 56,
   "id": "87a8cb73",
   "metadata": {},
   "outputs": [
    {
     "name": "stdout",
     "output_type": "stream",
     "text": [
      "aseq_list:  ['a', 't', 'g', 'g', 'c', 't', 'a', 'g', 'g', 'c']\n"
     ]
    }
   ],
   "source": [
    "aseq = \"atggctaggc\"\n",
    "aseq_list=list(aseq)\n",
    "print(\"aseq_list: \",aseq_list)"
   ]
  },
  {
   "attachments": {},
   "cell_type": "markdown",
   "id": "c66ae9b1",
   "metadata": {},
   "source": [
    "## Listas con elementos repetidos\n",
    "Si desea inicializar una lista con el mismo elemento repetido varias veces, puede usar el operador * de esta manera (PYTHON FOR BIOINFORMATICS, Sebastián Bassi, 2018):\n",
    "\n"
   ]
  },
  {
   "cell_type": "code",
   "execution_count": 57,
   "id": "395daf8a",
   "metadata": {
    "scrolled": true
   },
   "outputs": [
    {
     "name": "stdout",
     "output_type": "stream",
     "text": [
      "['red', 'red', 'red', 'red', 'red']\n"
     ]
    }
   ],
   "source": [
    "samples = ['red'] * 5\n",
    "print(samples)\n"
   ]
  },
  {
   "cell_type": "code",
   "execution_count": 58,
   "id": "ef3a21f8",
   "metadata": {},
   "outputs": [
    {
     "name": "stdout",
     "output_type": "stream",
     "text": [
      "[None, None, None, None, None]\n"
     ]
    }
   ],
   "source": [
    "samples = [None] * 5\n",
    "print(samples)"
   ]
  },
  {
   "cell_type": "code",
   "execution_count": 59,
   "id": "8494256a",
   "metadata": {
    "scrolled": true
   },
   "outputs": [
    {
     "data": {
      "text/plain": "[1, 2, 3, 4, 5]"
     },
     "execution_count": 59,
     "metadata": {},
     "output_type": "execute_result"
    }
   ],
   "source": [
    "first_list"
   ]
  },
  {
   "cell_type": "code",
   "execution_count": 60,
   "id": "f657ec18",
   "metadata": {
    "scrolled": true
   },
   "outputs": [
    {
     "data": {
      "text/plain": "5"
     },
     "execution_count": 60,
     "metadata": {},
     "output_type": "execute_result"
    }
   ],
   "source": [
    "first_list[4]"
   ]
  },
  {
   "cell_type": "markdown",
   "source": [
    "Si la lista tiene 5 elementos, el último elemento es el índice 4"
   ],
   "metadata": {
    "collapsed": false
   }
  },
  {
   "cell_type": "code",
   "execution_count": 61,
   "id": "d26e2e55",
   "metadata": {},
   "outputs": [
    {
     "ename": "IndexError",
     "evalue": "list assignment index out of range",
     "output_type": "error",
     "traceback": [
      "\u001B[1;31m---------------------------------------------------------------------------\u001B[0m",
      "\u001B[1;31mIndexError\u001B[0m                                Traceback (most recent call last)",
      "Cell \u001B[1;32mIn[61], line 1\u001B[0m\n\u001B[1;32m----> 1\u001B[0m \u001B[43mfirst_list\u001B[49m\u001B[43m[\u001B[49m\u001B[38;5;241;43m5\u001B[39;49m\u001B[43m]\u001B[49m\u001B[38;5;241m=\u001B[39m\u001B[38;5;241m10\u001B[39m\n",
      "\u001B[1;31mIndexError\u001B[0m: list assignment index out of range"
     ]
    }
   ],
   "source": [
    "first_list[5]=10"
   ]
  },
  {
   "cell_type": "code",
   "execution_count": 62,
   "id": "ccc45c5a",
   "metadata": {},
   "outputs": [],
   "source": [
    "first_list.append(10)"
   ]
  },
  {
   "cell_type": "code",
   "execution_count": 63,
   "id": "750908c7",
   "metadata": {},
   "outputs": [
    {
     "name": "stdout",
     "output_type": "stream",
     "text": [
      "[1, 2, 3, 4, 5, 10]\n"
     ]
    }
   ],
   "source": [
    "print(first_list)"
   ]
  },
  {
   "attachments": {},
   "cell_type": "markdown",
   "id": "831818e9",
   "metadata": {},
   "source": [
    "Operaciones con listas\n",
    "\n",
    "Método –> Descripción  \n",
    "l.append(x) –> Agrega el elemento x a la lista l  \n",
    "l.count(x) –> Cuenta cuantas veces x está en la lista l  \n",
    "l.index(x) –> Devuelve la posición de x en la lista l  \n",
    "l.remove(x) –> Remueve el elemento x de la lista l  \n",
    "l.reverse() –> Invierte la lista l  \n",
    "l.sort() Ordena la lista l  "
   ]
  },
  {
   "attachments": {},
   "cell_type": "markdown",
   "id": "629ed09d",
   "metadata": {},
   "source": [
    "## Diccionarios\n",
    "Los diccionarios son un tipo de datos especial que no están presente en todos los lenguajes de programación. La característica principal de un diccionario es que almacena tipos de datos desordenados e indexados en estructuras clave-valor de manera arbitraria."
   ]
  },
  {
   "cell_type": "code",
   "execution_count": 64,
   "id": "1d06db9a",
   "metadata": {
    "scrolled": true
   },
   "outputs": [
    {
     "name": "stdout",
     "output_type": "stream",
     "text": [
      "Adenina \n",
      " Citosina \n",
      " Guanina \n",
      " Thimina\n"
     ]
    }
   ],
   "source": [
    "DNA={'T':'Thimina','A':'Adenina','G':'Guanina','C':'Citosina'}\n",
    "print(DNA['A'],'\\n',DNA['C'],'\\n',DNA['G'],'\\n',DNA['T'])"
   ]
  },
  {
   "attachments": {},
   "cell_type": "markdown",
   "id": "b7f382a4",
   "metadata": {},
   "source": [
    "No todos los objetos se pueden usar como una clave de diccionario. Solo los objetos inmutables como: cadenas, tuplas y números pueden ser usados como claves. Si la tupla contiene cualquier objeto mutable, no se puede usar como clave. También se puede crear un diccionario a partir de una secuencia con dict:"
   ]
  },
  {
   "cell_type": "code",
   "execution_count": 65,
   "id": "438bcc5a",
   "metadata": {
    "scrolled": false
   },
   "outputs": [
    {
     "name": "stdout",
     "output_type": "stream",
     "text": [
      "{'red': 'ff0000', 'green': '00ff00', 'blue': '0000ff'}\n"
     ]
    }
   ],
   "source": [
    "rgb = dict(red='ff0000', green='00ff00', blue='0000ff')\n",
    "print(rgb)"
   ]
  },
  {
   "cell_type": "code",
   "execution_count": 66,
   "id": "44f7f6cf",
   "metadata": {
    "scrolled": true
   },
   "outputs": [
    {
     "name": "stdout",
     "output_type": "stream",
     "text": [
      "ff0000\n"
     ]
    }
   ],
   "source": [
    "print(rgb['red'])"
   ]
  },
  {
   "attachments": {},
   "cell_type": "markdown",
   "id": "d52358e1",
   "metadata": {},
   "source": [
    "Otra forma de inicializar un diccionario es crear un diccionario vacío y agregar los elementos cuando sea necesario:"
   ]
  },
  {
   "cell_type": "code",
   "execution_count": 67,
   "id": "e8ce50b6",
   "metadata": {},
   "outputs": [
    {
     "name": "stdout",
     "output_type": "stream",
     "text": [
      "{'red': 'ff0000', 'green': '00ff00'}\n"
     ]
    }
   ],
   "source": [
    "rgb = {}\n",
    "rgb['red'] = 'ff0000'\n",
    "rgb['green'] = '00ff00'\n",
    "print(rgb)"
   ]
  },
  {
   "cell_type": "code",
   "execution_count": 68,
   "id": "ac0df534",
   "metadata": {},
   "outputs": [
    {
     "data": {
      "text/plain": "2"
     },
     "execution_count": 68,
     "metadata": {},
     "output_type": "execute_result"
    }
   ],
   "source": [
    "len(rgb)"
   ]
  },
  {
   "attachments": {},
   "cell_type": "markdown",
   "id": "6a7e4f64",
   "metadata": {},
   "source": [
    "### Métodos asociados con diccionarios\n",
    "\n",
    "Propiedades –> Descripción  \n",
    "len(d) –> Número de elementos de d  \n",
    "d[k] –> El elemento de d que tiene una clave k  \n",
    "d[k] = v –> Establecer d[k] a v  \n",
    "del d[k] –> Eliminar d[k] de d  \n",
    "d.clear() –> Eliminar todos los elementos de d  \n",
    "d.copy() –> Copiar d  \n",
    "k in d –> Verdadero si d tiene una clave k, si no Falso  \n",
    "k not in d –> Equivalente a no k en d  \n",
    "d.has_key(k) –> Equivalente a k en d, usar esa forma en el nuevo código \n",
    "d.items() –> Una copia de la lista de pares de (clave, valor) de d.  \n",
    "d.keys() –> Una copia de la lista de claves de d  \n",
    "Propiedades –> Descripción  \n",
    "d.update([b]) –> Actualiza (y sobrescribe) pares de clave / valor de b  \n",
    "d.fromkeys(seq[, valor]) –> Crea diccionario con claves de seq y valores de value  \n",
    "d.values() –> Una copia de la lista de valores de d  \n",
    "d.get(k[, x]) –> d[k], si k en d, sino x  \n",
    "d.setdefault(k[, x]) –> d[k], si k en d, sino x (también configurándolo)  \n",
    "d.pop(k[, x]) –> d[k] si k en d, sino x (y eliminar k)  \n",
    "d.popitem() –> Eliminar y devolver un par arbitrario (clave, valor)  "
   ]
  },
  {
   "attachments": {},
   "cell_type": "markdown",
   "id": "fbb04cd3",
   "metadata": {},
   "source": [
    "### El método get() en diccionarios\n",
    "\n",
    "d.get(k[, x]) –> d[k], si k en d, sino x\n",
    "\n",
    "El método get() se usa en los diccionarios para evitar obtener errores cuando no existe el valor de una de las claves, de esta manera se puede pre-determianr el valor de salida cuando esto ocurra\n",
    "\n",
    "\n",
    "get(‘Clave’,‘0’)"
   ]
  },
  {
   "attachments": {},
   "cell_type": "markdown",
   "id": "9e1b0b59",
   "metadata": {},
   "source": [
    "### Conclusiones y recomendaciones"
   ]
  },
  {
   "attachments": {},
   "cell_type": "markdown",
   "id": "508c667d",
   "metadata": {},
   "source": [
    "- Python es un lenguaje muy intuitivo, con una sintaxis muy sencilla y clara, que se asemeja\n",
    "mucho al pseudocódigo, disminuyendo su curva de aprendizaje.\n",
    "- Las estructuras de datos existentes en python resultan muy útiles, ya que permiten realizar operaciones mucho más\n",
    "complejas o que requieren ciertas restricciones (por ejemplo la inmutabilidad), como por ejemplo, las listas, tuplas y\n",
    "diccionarios.\n",
    "- Resulta muy conveniente utilizar lenguajes flexibles como python, ya que permiten realizar operaciones complejas de\n",
    " manera mucho más sencillas con menos líneas de código.\n",
    " - Utilizar entornos como colab o jupyter notebook, resulta muy conveniente para el desarrollo de código, ya que permite\n",
    "  realizar pruebas de manera interactiva, y permite visualizar los resultados de manera más clara."
   ]
  },
  {
   "cell_type": "code",
   "execution_count": null,
   "outputs": [],
   "source": [],
   "metadata": {
    "collapsed": false
   }
  }
 ],
 "metadata": {
  "kernelspec": {
   "display_name": "Python 3 (ipykernel)",
   "language": "python",
   "name": "python3"
  },
  "language_info": {
   "codemirror_mode": {
    "name": "ipython",
    "version": 3
   },
   "file_extension": ".py",
   "mimetype": "text/x-python",
   "name": "python",
   "nbconvert_exporter": "python",
   "pygments_lexer": "ipython3",
   "version": "3.10.6"
  }
 },
 "nbformat": 4,
 "nbformat_minor": 5
}
