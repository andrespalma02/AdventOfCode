{
 "cells": [
  {
   "cell_type": "markdown",
   "id": "39a8ebfe",
   "metadata": {},
   "source": [
    "## Programación para las ciencias biológicas - Rstudio (parte 2)\n",
    "**Docente:** Charles Escobar  \n",
    "2021"
   ]
  },
  {
   "cell_type": "markdown",
   "id": "8cd3143a",
   "metadata": {},
   "source": [
    "**Nombre del estudiante:**"
   ]
  },
  {
   "cell_type": "markdown",
   "id": "dc515467",
   "metadata": {},
   "source": [
    "ingrese aquí su nombre"
   ]
  },
  {
   "cell_type": "markdown",
   "id": "f94adb48",
   "metadata": {},
   "source": [
    "## R - Operadores Básicos\n",
    "\n",
    "\n",
    "|Operadores|||\t\n",
    "|:--- |:--- |:--- |\n",
    "|**Ariméticos**|**Comparativos**|**Lógicos**|\n",
    "|+ :Suma\t|x>y :Mayor que\t|!x :Negación (NOT)|\n",
    "|- :Resta\t|x<y :Menor que\t|x&&y :Y (AND)|\n",
    "|* :Multiplicación\t|x>=y :Mayor o igual que\t|x\\|\\|y :O (OR)\n",
    "|/ :División\t|x<=y :Menor o igual que||\t\n",
    "|^ :Potencia\t|== :Igual a||\t\n",
    "|%% :Módulo\t|!= :No es igual a||\t\n",
    "|%/% :División de enteros|||\t\t\n"
   ]
  },
  {
   "cell_type": "markdown",
   "id": "588ad78a",
   "metadata": {},
   "source": [
    "## R - Funciones Básicas\n",
    "\n",
    "|Función\t|Operación|\n",
    "|:---|:---|\n",
    "|max(x)\t|Valor máximo de x|\n",
    "|minx(x)\t|Valor mínimo de x|\n",
    "|sum(x)\t|Suma de todos los valores de x|\n",
    "|mean(x)\t|Promedio de los valores de x|\n",
    "|median(x)\t|Mediana de los valores de x|\n",
    "|range(x)\t|Rango entre los valores de x|\n",
    "|var(x)\t|Varianza de los valores de x|\n",
    "|cor(x,y)\t|Correlación entre los vectores x y y|\n",
    "|sort(x)\t|Ordenar x|\n",
    "|exp(x)\t|Función exponencial de x|\n",
    "|factor(x)|\tVector que se usa para especificar una clasificación discreta de los componentes de otros vectores|"
   ]
  },
  {
   "cell_type": "markdown",
   "id": "105cb612",
   "metadata": {},
   "source": [
    "## R - Operaciones con matrices\n",
    "\n",
    "|Función\t|Operación|\n",
    "|:---|:---|\n",
    "|rowSums(x)\t|Suma los valores de las filas|\n",
    "|colSums(x)\t|Suma los valores de las columnas|\n",
    "|rowMeans(x)\t|Obtiene el promedio de las filas|\n",
    "|colMean(x)\t|Obtiene el promedio de las columnas|\n",
    "|+\t|Suma de matrices|\n",
    "|-\t|Resta de matrices|\n",
    "|*\t|Multiplicación vectorizada de matrices|\n",
    "|%*%\t|Producto de matrices|\n",
    "|t()\t|Transposición de la matriz|\n",
    "|det()\t|Determinante de la matriz|\n",
    "|solve()\t|Inverso de la matriz|"
   ]
  },
  {
   "cell_type": "markdown",
   "id": "d45229e2",
   "metadata": {},
   "source": [
    "# R - Importar y exportar datos datos\n",
    "En R es posible importar y exportar datos con el entorno del sistema operativo con el que se esté trabajando"
   ]
  },
  {
   "cell_type": "markdown",
   "id": "897c9b38",
   "metadata": {},
   "source": [
    "## R - Importar datos\n",
    "\n",
    "|Función\t|Operación|\n",
    "|:--|:--|\n",
    "|read.table()\t|Importa datos separados por tabuladores. Requiere de algunos argumentos básicos:<br />• file: Ruta y nombre del archivo a importar<br />• header: Indica si existe un encabezado (TRUE) o no (FALSE)<br />• as.is: convierte las cadenas de caracteres a factores (TRUE) o los importa como tales (FALSE)|\n",
    "|read.delim()\t|Variante que importa datos separados por otros separadores que deben ser especificados con el argumento sep|\n",
    "|read.csv()\t|Variante de read.table que importa datos separados por comas|\n",
    "|readLines()\t|Lee las líneas de un archivo de texto|\n",
    "|source()\t|Lee un archivo de scrips de R|\n",
    "|load()\t|Lee y carga espacios de trabajo guardados|"
   ]
  },
  {
   "cell_type": "markdown",
   "id": "3a7efc83",
   "metadata": {},
   "source": [
    "## R - Exportar datos\n",
    "|Función\t|Operación|\n",
    "|:--|:--|\n",
    "|write.table()\t|Crea un archivo tabular a partir del objeto especificado. Requiere de algunos argumentos importantes<br />• x: Objeto a exportar<br />• file: Ruta y nombre del archivo a crear<br />• append: Agrega (TRUE) o no (FALSE) el objeto al final del archivo especificado<br />• quote: Coloca (TRUE) o no (FALSE) las comillas a las cadenas de caracteres<br />• row.names o col.names: Incluye (TRUE) o no (FALSE) los nombres de las columnas en el archivo|\n",
    "|write.cvs()\t|Crea un archivo separado por comas a partir del objeto|\n",
    "|writeChar()\t|Escribe cadenas de caracteres en un archivo existente|\n",
    "|writeLines()\t|Escribe líneas en un archivo existente|"
   ]
  },
  {
   "cell_type": "markdown",
   "id": "26f82214",
   "metadata": {},
   "source": [
    "# Ejemplos\n",
    "\n",
    "## Ejemplos con matrices:\n",
    "\n",
    "A<-matrix(c(2,3,4,1,2,3,2,1,0),nrow=3)\n",
    "print(A)"
   ]
  },
  {
   "cell_type": "code",
   "execution_count": 1,
   "id": "cf403272",
   "metadata": {
    "pycharm": {
     "is_executing": true
    },
    "scrolled": false
   },
   "outputs": [
    {
     "name": "stdout",
     "output_type": "stream",
     "text": [
      "     [,1] [,2] [,3]\n",
      "[1,]    2    1    2\n",
      "[2,]    3    2    1\n",
      "[3,]    4    3    0\n"
     ]
    }
   ],
   "source": [
    "A<-matrix(c(2,3,4,1,2,3,2,1,0),nrow=3)\n",
    "print(A)"
   ]
  },
  {
   "cell_type": "markdown",
   "id": "f286982d",
   "metadata": {},
   "source": [
    "A<-matrix(c(2,3,4,1,2,3,2,1,0),nrow=3,byrow = T)  \n",
    "print(A)"
   ]
  },
  {
   "cell_type": "code",
   "execution_count": 2,
   "id": "83c00978",
   "metadata": {
    "pycharm": {
     "is_executing": true
    },
    "scrolled": true
   },
   "outputs": [
    {
     "name": "stdout",
     "output_type": "stream",
     "text": [
      "     [,1] [,2] [,3]\n",
      "[1,]    2    3    4\n",
      "[2,]    1    2    3\n",
      "[3,]    2    1    0\n"
     ]
    }
   ],
   "source": [
    "A<-matrix(c(2,3,4,1,2,3,2,1,0),nrow=3,byrow = T)\n",
    "print(A)"
   ]
  },
  {
   "cell_type": "markdown",
   "id": "c8d5057f",
   "metadata": {},
   "source": [
    "A<-matrix(c(2,3,4,1,2,3,2,1,0),nrow=3,byrow = T  \n",
    "B<-A*A  \n",
    "print(B)  "
   ]
  },
  {
   "cell_type": "code",
   "execution_count": 3,
   "id": "41f84cf2",
   "metadata": {
    "pycharm": {
     "is_executing": true
    },
    "scrolled": false
   },
   "outputs": [
    {
     "name": "stdout",
     "output_type": "stream",
     "text": [
      "     [,1] [,2] [,3]\n",
      "[1,]    4    9   16\n",
      "[2,]    1    4    9\n",
      "[3,]    4    1    0\n"
     ]
    }
   ],
   "source": [
    "A<-matrix(c(2,3,4,1,2,3,2,1,0),nrow=3,byrow = T)\n",
    "B<-A*A\n",
    "print(B)"
   ]
  },
  {
   "cell_type": "code",
   "execution_count": 4,
   "id": "dd5126ea",
   "metadata": {},
   "outputs": [
    {
     "data": {
      "text/html": [
       "48"
      ],
      "text/latex": [
       "48"
      ],
      "text/markdown": [
       "48"
      ],
      "text/plain": [
       "[1] 48"
      ]
     },
     "metadata": {},
     "output_type": "display_data"
    }
   ],
   "source": [
    "det(B)"
   ]
  },
  {
   "cell_type": "markdown",
   "id": "4a5ed91e",
   "metadata": {},
   "source": [
    "A<-matrix(c(2,3,4,1,2,3,2,1,0),nrow=3,byrow = T)  \n",
    "B<-A*A  \n",
    "C<-solve(B)  \n",
    "print(B%*%C)  "
   ]
  },
  {
   "cell_type": "code",
   "execution_count": 14,
   "id": "f0c2ede3",
   "metadata": {
    "scrolled": true
   },
   "outputs": [
    {
     "name": "stdout",
     "output_type": "stream",
     "text": [
      "     [,1]         [,2] [,3]\n",
      "[1,]    1 0.000000e+00    0\n",
      "[2,]    0 1.000000e+00    0\n",
      "[3,]    0 6.661338e-16    1\n"
     ]
    }
   ],
   "source": [
    "A<-matrix(c(2,3,4,1,2,3,2,1,0),nrow=3,byrow = T)\n",
    "B<-A*A\n",
    "C<-solve(B)\n",
    "print(B%*%C)"
   ]
  },
  {
   "cell_type": "code",
   "execution_count": 6,
   "id": "1d602f50",
   "metadata": {},
   "outputs": [],
   "source": [
    "help(solve)"
   ]
  },
  {
   "cell_type": "markdown",
   "id": "da805af9",
   "metadata": {},
   "source": [
    "# Ejemplos con datasets"
   ]
  },
  {
   "cell_type": "markdown",
   "id": "10ad2f7e",
   "metadata": {},
   "source": [
    "## Dataset Iris\n",
    "https://www.statology.org/iris-dataset-r/"
   ]
  },
  {
   "cell_type": "markdown",
   "id": "f85958b9",
   "metadata": {
    "scrolled": true
   },
   "source": [
    "data(\"iris\")  \n",
    "names(iris)  "
   ]
  },
  {
   "cell_type": "code",
   "execution_count": 19,
   "id": "362e3199",
   "metadata": {
    "scrolled": false
   },
   "outputs": [
    {
     "data": {
      "text/html": [
       "<style>\n",
       ".list-inline {list-style: none; margin:0; padding: 0}\n",
       ".list-inline>li {display: inline-block}\n",
       ".list-inline>li:not(:last-child)::after {content: \"\\00b7\"; padding: 0 .5ex}\n",
       "</style>\n",
       "<ol class=list-inline><li>'Sepal.Length'</li><li>'Sepal.Width'</li><li>'Petal.Length'</li><li>'Petal.Width'</li><li>'Species'</li></ol>\n"
      ],
      "text/latex": [
       "\\begin{enumerate*}\n",
       "\\item 'Sepal.Length'\n",
       "\\item 'Sepal.Width'\n",
       "\\item 'Petal.Length'\n",
       "\\item 'Petal.Width'\n",
       "\\item 'Species'\n",
       "\\end{enumerate*}\n"
      ],
      "text/markdown": [
       "1. 'Sepal.Length'\n",
       "2. 'Sepal.Width'\n",
       "3. 'Petal.Length'\n",
       "4. 'Petal.Width'\n",
       "5. 'Species'\n",
       "\n",
       "\n"
      ],
      "text/plain": [
       "[1] \"Sepal.Length\" \"Sepal.Width\"  \"Petal.Length\" \"Petal.Width\"  \"Species\"     "
      ]
     },
     "metadata": {},
     "output_type": "display_data"
    }
   ],
   "source": [
    "data(\"iris\")\n",
    "names(iris)"
   ]
  },
  {
   "cell_type": "markdown",
   "id": "4c2a01cd",
   "metadata": {},
   "source": [
    "head(iris)"
   ]
  },
  {
   "cell_type": "code",
   "execution_count": 20,
   "id": "770cf42c",
   "metadata": {
    "scrolled": false
   },
   "outputs": [
    {
     "data": {
      "text/html": [
       "<table class=\"dataframe\">\n",
       "<caption>A data.frame: 6 × 5</caption>\n",
       "<thead>\n",
       "\t<tr><th></th><th scope=col>Sepal.Length</th><th scope=col>Sepal.Width</th><th scope=col>Petal.Length</th><th scope=col>Petal.Width</th><th scope=col>Species</th></tr>\n",
       "\t<tr><th></th><th scope=col>&lt;dbl&gt;</th><th scope=col>&lt;dbl&gt;</th><th scope=col>&lt;dbl&gt;</th><th scope=col>&lt;dbl&gt;</th><th scope=col>&lt;fct&gt;</th></tr>\n",
       "</thead>\n",
       "<tbody>\n",
       "\t<tr><th scope=row>1</th><td>5.1</td><td>3.5</td><td>1.4</td><td>0.2</td><td>setosa</td></tr>\n",
       "\t<tr><th scope=row>2</th><td>4.9</td><td>3.0</td><td>1.4</td><td>0.2</td><td>setosa</td></tr>\n",
       "\t<tr><th scope=row>3</th><td>4.7</td><td>3.2</td><td>1.3</td><td>0.2</td><td>setosa</td></tr>\n",
       "\t<tr><th scope=row>4</th><td>4.6</td><td>3.1</td><td>1.5</td><td>0.2</td><td>setosa</td></tr>\n",
       "\t<tr><th scope=row>5</th><td>5.0</td><td>3.6</td><td>1.4</td><td>0.2</td><td>setosa</td></tr>\n",
       "\t<tr><th scope=row>6</th><td>5.4</td><td>3.9</td><td>1.7</td><td>0.4</td><td>setosa</td></tr>\n",
       "</tbody>\n",
       "</table>\n"
      ],
      "text/latex": [
       "A data.frame: 6 × 5\n",
       "\\begin{tabular}{r|lllll}\n",
       "  & Sepal.Length & Sepal.Width & Petal.Length & Petal.Width & Species\\\\\n",
       "  & <dbl> & <dbl> & <dbl> & <dbl> & <fct>\\\\\n",
       "\\hline\n",
       "\t1 & 5.1 & 3.5 & 1.4 & 0.2 & setosa\\\\\n",
       "\t2 & 4.9 & 3.0 & 1.4 & 0.2 & setosa\\\\\n",
       "\t3 & 4.7 & 3.2 & 1.3 & 0.2 & setosa\\\\\n",
       "\t4 & 4.6 & 3.1 & 1.5 & 0.2 & setosa\\\\\n",
       "\t5 & 5.0 & 3.6 & 1.4 & 0.2 & setosa\\\\\n",
       "\t6 & 5.4 & 3.9 & 1.7 & 0.4 & setosa\\\\\n",
       "\\end{tabular}\n"
      ],
      "text/markdown": [
       "\n",
       "A data.frame: 6 × 5\n",
       "\n",
       "| <!--/--> | Sepal.Length &lt;dbl&gt; | Sepal.Width &lt;dbl&gt; | Petal.Length &lt;dbl&gt; | Petal.Width &lt;dbl&gt; | Species &lt;fct&gt; |\n",
       "|---|---|---|---|---|---|\n",
       "| 1 | 5.1 | 3.5 | 1.4 | 0.2 | setosa |\n",
       "| 2 | 4.9 | 3.0 | 1.4 | 0.2 | setosa |\n",
       "| 3 | 4.7 | 3.2 | 1.3 | 0.2 | setosa |\n",
       "| 4 | 4.6 | 3.1 | 1.5 | 0.2 | setosa |\n",
       "| 5 | 5.0 | 3.6 | 1.4 | 0.2 | setosa |\n",
       "| 6 | 5.4 | 3.9 | 1.7 | 0.4 | setosa |\n",
       "\n"
      ],
      "text/plain": [
       "  Sepal.Length Sepal.Width Petal.Length Petal.Width Species\n",
       "1 5.1          3.5         1.4          0.2         setosa \n",
       "2 4.9          3.0         1.4          0.2         setosa \n",
       "3 4.7          3.2         1.3          0.2         setosa \n",
       "4 4.6          3.1         1.5          0.2         setosa \n",
       "5 5.0          3.6         1.4          0.2         setosa \n",
       "6 5.4          3.9         1.7          0.4         setosa "
      ]
     },
     "metadata": {},
     "output_type": "display_data"
    }
   ],
   "source": [
    "head(iris)"
   ]
  },
  {
   "cell_type": "markdown",
   "id": "2b0a3fe6",
   "metadata": {},
   "source": [
    "summary(iris)"
   ]
  },
  {
   "cell_type": "code",
   "execution_count": 9,
   "id": "052dd367",
   "metadata": {
    "scrolled": true
   },
   "outputs": [
    {
     "data": {
      "text/plain": [
       "  Sepal.Length    Sepal.Width     Petal.Length    Petal.Width   \n",
       " Min.   :4.300   Min.   :2.000   Min.   :1.000   Min.   :0.100  \n",
       " 1st Qu.:5.100   1st Qu.:2.800   1st Qu.:1.600   1st Qu.:0.300  \n",
       " Median :5.800   Median :3.000   Median :4.350   Median :1.300  \n",
       " Mean   :5.843   Mean   :3.057   Mean   :3.758   Mean   :1.199  \n",
       " 3rd Qu.:6.400   3rd Qu.:3.300   3rd Qu.:5.100   3rd Qu.:1.800  \n",
       " Max.   :7.900   Max.   :4.400   Max.   :6.900   Max.   :2.500  \n",
       "       Species  \n",
       " setosa    :50  \n",
       " versicolor:50  \n",
       " virginica :50  \n",
       "                \n",
       "                \n",
       "                "
      ]
     },
     "metadata": {},
     "output_type": "display_data"
    }
   ],
   "source": [
    "summary(iris)"
   ]
  },
  {
   "cell_type": "code",
   "execution_count": 23,
   "id": "2f136e32",
   "metadata": {
    "scrolled": true
   },
   "outputs": [
    {
     "data": {
      "text/html": [
       "7.9"
      ],
      "text/latex": [
       "7.9"
      ],
      "text/markdown": [
       "7.9"
      ],
      "text/plain": [
       "[1] 7.9"
      ]
     },
     "metadata": {},
     "output_type": "display_data"
    }
   ],
   "source": [
    "max(iris$Sepal.Length)"
   ]
  },
  {
   "cell_type": "code",
   "execution_count": 24,
   "id": "b081e4f9",
   "metadata": {
    "scrolled": true
   },
   "outputs": [
    {
     "data": {
      "text/html": [
       "4.3"
      ],
      "text/latex": [
       "4.3"
      ],
      "text/markdown": [
       "4.3"
      ],
      "text/plain": [
       "[1] 4.3"
      ]
     },
     "metadata": {},
     "output_type": "display_data"
    }
   ],
   "source": [
    "min(iris$Sepal.Length)"
   ]
  },
  {
   "cell_type": "code",
   "execution_count": 57,
   "id": "5b7e3e33",
   "metadata": {},
   "outputs": [
    {
     "data": {
      "text/html": [
       "1"
      ],
      "text/latex": [
       "1"
      ],
      "text/markdown": [
       "1"
      ],
      "text/plain": [
       "[1] 1"
      ]
     },
     "metadata": {},
     "output_type": "display_data"
    }
   ],
   "source": [
    "5%/%3"
   ]
  },
  {
   "cell_type": "markdown",
   "id": "d87f9672",
   "metadata": {},
   "source": [
    "### Correlación y Regresión Lineal\n",
    "\n",
    "En ocasiones nos puede interesar estudiar si existe o no algún tipo de relación entre dos variables aleatorias. Las relaciones o asociaciones de este tipo entre variables se denominan correlaciones; y están medidas en escalas ordinales o de intervalos. En particular, nos interesa cuantificar la intensidad de la relación lineal entre dos variables.\n",
    "\n",
    "Cuando el aumento de una de las variables viene acompañado del aumento de la otra, se trata de una correlación positiva o directa. La superficie de un bosque y el numero de nidos en el están correlacionados positivamente. Si el aumento de una variable viene acompañado de una disminución en la otra, la correlación es negativa o inversa.\n",
    "\n",
    "El hecho de que dos variables estén correlacionadas no quiere decir que una sea la causante de la otra dos variables pueden estar independientemente relacionadas con una tercera (quizás no identificada).\n",
    "\n",
    "Es importante notar que la existencia de correlación entre variables no implica causalidad.\n",
    "\n",
    "Una Correlación perfecta se da cuando todos los puntos de un diagrama de dispersión forman una linea recta perfecta. Estas correlaciones perfectas (positivas o negativas) prácticamente no existen en biología; suelen ser privilegio exclusivo de los físicos.\n",
    "\n",
    "En lenguaje llano, la palabra “correlación” describe cualquier tipo de relación entre objetos y hechos. No obstante, en estadística tiene un significado mas preciso: se refiere a la relación cuantitativa entre dos variables medidas en escalas ordinales o de intervalos.\n",
    "\n",
    "Los coeficientes de correlación se pueden calcular mediante métodos paramétricos y no paramétricos. Un coeficiente paramétrico es el Coeficiente de Correlación de Pearson, que se usa para observaciones obtenidas sobre una escala de intervalos y esta sujeto a condiciones mas restrictivas que las alternativas no paramétricas. De estas, una de las mas ampliamente utilizadas es el Coeficiente de Correlación por Rangos de Spearman.\n",
    "\n",
    "Si no hay correlación de ningún tipo entre dos variable, entonces tampoco habrá correlación lineal, por lo que r = 0. Sin embargo, el que ocurra r = 0 solo nos dice que no hay correlación lineal, pero puede que la haya de otro tipo. Mientras mas cercano a cero la correlación es mas débil.\n",
    "\n",
    "Fuente: https://rpubs.com/osoramirez/316691 \n"
   ]
  },
  {
   "cell_type": "markdown",
   "id": "179e37b5",
   "metadata": {},
   "source": [
    "cor(iris\\\\$Sepal.Length,iris\\\\$Petal.Length) "
   ]
  },
  {
   "cell_type": "code",
   "execution_count": 25,
   "id": "49cac278",
   "metadata": {
    "scrolled": false
   },
   "outputs": [
    {
     "data": {
      "text/html": [
       "0.871753775886583"
      ],
      "text/latex": [
       "0.871753775886583"
      ],
      "text/markdown": [
       "0.871753775886583"
      ],
      "text/plain": [
       "[1] 0.8717538"
      ]
     },
     "metadata": {},
     "output_type": "display_data"
    }
   ],
   "source": [
    "cor(iris$Sepal.Length,iris$Petal.Length)"
   ]
  },
  {
   "cell_type": "markdown",
   "id": "81aabbc8",
   "metadata": {},
   "source": [
    "cor(iris\\\\$Sepal.Length,iris\\\\$Petal.Width)"
   ]
  },
  {
   "cell_type": "code",
   "execution_count": 26,
   "id": "5f6419f2",
   "metadata": {
    "scrolled": true
   },
   "outputs": [
    {
     "data": {
      "text/html": [
       "0.817941126271575"
      ],
      "text/latex": [
       "0.817941126271575"
      ],
      "text/markdown": [
       "0.817941126271575"
      ],
      "text/plain": [
       "[1] 0.8179411"
      ]
     },
     "metadata": {},
     "output_type": "display_data"
    }
   ],
   "source": [
    "cor(iris$Sepal.Length,iris$Petal.Width)"
   ]
  },
  {
   "cell_type": "markdown",
   "id": "137b060c",
   "metadata": {},
   "source": [
    "cor(iris\\\\$Sepal.Width,iris\\\\$Petal.Width)"
   ]
  },
  {
   "cell_type": "code",
   "execution_count": 27,
   "id": "c8a0a407",
   "metadata": {
    "scrolled": true
   },
   "outputs": [
    {
     "data": {
      "text/html": [
       "-0.366125932536439"
      ],
      "text/latex": [
       "-0.366125932536439"
      ],
      "text/markdown": [
       "-0.366125932536439"
      ],
      "text/plain": [
       "[1] -0.3661259"
      ]
     },
     "metadata": {},
     "output_type": "display_data"
    }
   ],
   "source": [
    "cor(iris$Sepal.Width,iris$Petal.Width)"
   ]
  },
  {
   "cell_type": "markdown",
   "id": "5ca87676",
   "metadata": {},
   "source": [
    "### Factor\n",
    "\n",
    "Los factores son la forma en la que R guarda toda la informacion categorica. Un ejemplo de factor puede ser el genero (masculino/femenino), tienen sus propios valores y orden.\n",
    "\n",
    "Fuente: https://rpubs.com/mikeldejuan/424099\n",
    "\n"
   ]
  },
  {
   "cell_type": "markdown",
   "id": "9f4580b9",
   "metadata": {},
   "source": [
    "irisfactor<-factor(iris\\\\$Species)  \n",
    "levels(irisfactor)"
   ]
  },
  {
   "cell_type": "code",
   "execution_count": 29,
   "id": "02fb6e13",
   "metadata": {
    "scrolled": true
   },
   "outputs": [],
   "source": [
    "irisfactor<-factor(iris$Species)"
   ]
  },
  {
   "cell_type": "code",
   "execution_count": 34,
   "id": "c32d729a",
   "metadata": {},
   "outputs": [
    {
     "data": {
      "text/html": [
       "<style>\n",
       ".list-inline {list-style: none; margin:0; padding: 0}\n",
       ".list-inline>li {display: inline-block}\n",
       ".list-inline>li:not(:last-child)::after {content: \"\\00b7\"; padding: 0 .5ex}\n",
       "</style>\n",
       "<ol class=list-inline><li>setosa</li><li>setosa</li><li>setosa</li><li>setosa</li><li>setosa</li><li>setosa</li><li>setosa</li><li>setosa</li><li>setosa</li><li>setosa</li><li>setosa</li><li>setosa</li><li>setosa</li><li>setosa</li><li>setosa</li><li>setosa</li><li>setosa</li><li>setosa</li><li>setosa</li><li>setosa</li><li>setosa</li><li>setosa</li><li>setosa</li><li>setosa</li><li>setosa</li><li>setosa</li><li>setosa</li><li>setosa</li><li>setosa</li><li>setosa</li><li>setosa</li><li>setosa</li><li>setosa</li><li>setosa</li><li>setosa</li><li>setosa</li><li>setosa</li><li>setosa</li><li>setosa</li><li>setosa</li><li>setosa</li><li>setosa</li><li>setosa</li><li>setosa</li><li>setosa</li><li>setosa</li><li>setosa</li><li>setosa</li><li>setosa</li><li>setosa</li><li>versicolor</li><li>versicolor</li><li>versicolor</li><li>versicolor</li><li>versicolor</li><li>versicolor</li><li>versicolor</li><li>versicolor</li><li>versicolor</li><li>versicolor</li><li>versicolor</li><li>versicolor</li><li>versicolor</li><li>versicolor</li><li>versicolor</li><li>versicolor</li><li>versicolor</li><li>versicolor</li><li>versicolor</li><li>versicolor</li><li>versicolor</li><li>versicolor</li><li>versicolor</li><li>versicolor</li><li>versicolor</li><li>versicolor</li><li>versicolor</li><li>versicolor</li><li>versicolor</li><li>versicolor</li><li>versicolor</li><li>versicolor</li><li>versicolor</li><li>versicolor</li><li>versicolor</li><li>versicolor</li><li>versicolor</li><li>versicolor</li><li>versicolor</li><li>versicolor</li><li>versicolor</li><li>versicolor</li><li>versicolor</li><li>versicolor</li><li>versicolor</li><li>versicolor</li><li>versicolor</li><li>versicolor</li><li>versicolor</li><li>versicolor</li><li>virginica</li><li>virginica</li><li>virginica</li><li>virginica</li><li>virginica</li><li>virginica</li><li>virginica</li><li>virginica</li><li>virginica</li><li>virginica</li><li>virginica</li><li>virginica</li><li>virginica</li><li>virginica</li><li>virginica</li><li>virginica</li><li>virginica</li><li>virginica</li><li>virginica</li><li>virginica</li><li>virginica</li><li>virginica</li><li>virginica</li><li>virginica</li><li>virginica</li><li>virginica</li><li>virginica</li><li>virginica</li><li>virginica</li><li>virginica</li><li>virginica</li><li>virginica</li><li>virginica</li><li>virginica</li><li>virginica</li><li>virginica</li><li>virginica</li><li>virginica</li><li>virginica</li><li>virginica</li><li>virginica</li><li>virginica</li><li>virginica</li><li>virginica</li><li>virginica</li><li>virginica</li><li>virginica</li><li>virginica</li><li>virginica</li><li>virginica</li></ol>\n",
       "\n",
       "<details>\n",
       "\t<summary style=display:list-item;cursor:pointer>\n",
       "\t\t<strong>Levels</strong>:\n",
       "\t</summary>\n",
       "\t<style>\n",
       "\t.list-inline {list-style: none; margin:0; padding: 0}\n",
       "\t.list-inline>li {display: inline-block}\n",
       "\t.list-inline>li:not(:last-child)::after {content: \"\\00b7\"; padding: 0 .5ex}\n",
       "\t</style>\n",
       "\t<ol class=list-inline><li>'setosa'</li><li>'versicolor'</li><li>'virginica'</li></ol>\n",
       "</details>"
      ],
      "text/latex": [
       "\\begin{enumerate*}\n",
       "\\item setosa\n",
       "\\item setosa\n",
       "\\item setosa\n",
       "\\item setosa\n",
       "\\item setosa\n",
       "\\item setosa\n",
       "\\item setosa\n",
       "\\item setosa\n",
       "\\item setosa\n",
       "\\item setosa\n",
       "\\item setosa\n",
       "\\item setosa\n",
       "\\item setosa\n",
       "\\item setosa\n",
       "\\item setosa\n",
       "\\item setosa\n",
       "\\item setosa\n",
       "\\item setosa\n",
       "\\item setosa\n",
       "\\item setosa\n",
       "\\item setosa\n",
       "\\item setosa\n",
       "\\item setosa\n",
       "\\item setosa\n",
       "\\item setosa\n",
       "\\item setosa\n",
       "\\item setosa\n",
       "\\item setosa\n",
       "\\item setosa\n",
       "\\item setosa\n",
       "\\item setosa\n",
       "\\item setosa\n",
       "\\item setosa\n",
       "\\item setosa\n",
       "\\item setosa\n",
       "\\item setosa\n",
       "\\item setosa\n",
       "\\item setosa\n",
       "\\item setosa\n",
       "\\item setosa\n",
       "\\item setosa\n",
       "\\item setosa\n",
       "\\item setosa\n",
       "\\item setosa\n",
       "\\item setosa\n",
       "\\item setosa\n",
       "\\item setosa\n",
       "\\item setosa\n",
       "\\item setosa\n",
       "\\item setosa\n",
       "\\item versicolor\n",
       "\\item versicolor\n",
       "\\item versicolor\n",
       "\\item versicolor\n",
       "\\item versicolor\n",
       "\\item versicolor\n",
       "\\item versicolor\n",
       "\\item versicolor\n",
       "\\item versicolor\n",
       "\\item versicolor\n",
       "\\item versicolor\n",
       "\\item versicolor\n",
       "\\item versicolor\n",
       "\\item versicolor\n",
       "\\item versicolor\n",
       "\\item versicolor\n",
       "\\item versicolor\n",
       "\\item versicolor\n",
       "\\item versicolor\n",
       "\\item versicolor\n",
       "\\item versicolor\n",
       "\\item versicolor\n",
       "\\item versicolor\n",
       "\\item versicolor\n",
       "\\item versicolor\n",
       "\\item versicolor\n",
       "\\item versicolor\n",
       "\\item versicolor\n",
       "\\item versicolor\n",
       "\\item versicolor\n",
       "\\item versicolor\n",
       "\\item versicolor\n",
       "\\item versicolor\n",
       "\\item versicolor\n",
       "\\item versicolor\n",
       "\\item versicolor\n",
       "\\item versicolor\n",
       "\\item versicolor\n",
       "\\item versicolor\n",
       "\\item versicolor\n",
       "\\item versicolor\n",
       "\\item versicolor\n",
       "\\item versicolor\n",
       "\\item versicolor\n",
       "\\item versicolor\n",
       "\\item versicolor\n",
       "\\item versicolor\n",
       "\\item versicolor\n",
       "\\item versicolor\n",
       "\\item versicolor\n",
       "\\item virginica\n",
       "\\item virginica\n",
       "\\item virginica\n",
       "\\item virginica\n",
       "\\item virginica\n",
       "\\item virginica\n",
       "\\item virginica\n",
       "\\item virginica\n",
       "\\item virginica\n",
       "\\item virginica\n",
       "\\item virginica\n",
       "\\item virginica\n",
       "\\item virginica\n",
       "\\item virginica\n",
       "\\item virginica\n",
       "\\item virginica\n",
       "\\item virginica\n",
       "\\item virginica\n",
       "\\item virginica\n",
       "\\item virginica\n",
       "\\item virginica\n",
       "\\item virginica\n",
       "\\item virginica\n",
       "\\item virginica\n",
       "\\item virginica\n",
       "\\item virginica\n",
       "\\item virginica\n",
       "\\item virginica\n",
       "\\item virginica\n",
       "\\item virginica\n",
       "\\item virginica\n",
       "\\item virginica\n",
       "\\item virginica\n",
       "\\item virginica\n",
       "\\item virginica\n",
       "\\item virginica\n",
       "\\item virginica\n",
       "\\item virginica\n",
       "\\item virginica\n",
       "\\item virginica\n",
       "\\item virginica\n",
       "\\item virginica\n",
       "\\item virginica\n",
       "\\item virginica\n",
       "\\item virginica\n",
       "\\item virginica\n",
       "\\item virginica\n",
       "\\item virginica\n",
       "\\item virginica\n",
       "\\item virginica\n",
       "\\end{enumerate*}\n",
       "\n",
       "\\emph{Levels}: \\begin{enumerate*}\n",
       "\\item 'setosa'\n",
       "\\item 'versicolor'\n",
       "\\item 'virginica'\n",
       "\\end{enumerate*}\n"
      ],
      "text/markdown": [
       "1. setosa\n",
       "2. setosa\n",
       "3. setosa\n",
       "4. setosa\n",
       "5. setosa\n",
       "6. setosa\n",
       "7. setosa\n",
       "8. setosa\n",
       "9. setosa\n",
       "10. setosa\n",
       "11. setosa\n",
       "12. setosa\n",
       "13. setosa\n",
       "14. setosa\n",
       "15. setosa\n",
       "16. setosa\n",
       "17. setosa\n",
       "18. setosa\n",
       "19. setosa\n",
       "20. setosa\n",
       "21. setosa\n",
       "22. setosa\n",
       "23. setosa\n",
       "24. setosa\n",
       "25. setosa\n",
       "26. setosa\n",
       "27. setosa\n",
       "28. setosa\n",
       "29. setosa\n",
       "30. setosa\n",
       "31. setosa\n",
       "32. setosa\n",
       "33. setosa\n",
       "34. setosa\n",
       "35. setosa\n",
       "36. setosa\n",
       "37. setosa\n",
       "38. setosa\n",
       "39. setosa\n",
       "40. setosa\n",
       "41. setosa\n",
       "42. setosa\n",
       "43. setosa\n",
       "44. setosa\n",
       "45. setosa\n",
       "46. setosa\n",
       "47. setosa\n",
       "48. setosa\n",
       "49. setosa\n",
       "50. setosa\n",
       "51. versicolor\n",
       "52. versicolor\n",
       "53. versicolor\n",
       "54. versicolor\n",
       "55. versicolor\n",
       "56. versicolor\n",
       "57. versicolor\n",
       "58. versicolor\n",
       "59. versicolor\n",
       "60. versicolor\n",
       "61. versicolor\n",
       "62. versicolor\n",
       "63. versicolor\n",
       "64. versicolor\n",
       "65. versicolor\n",
       "66. versicolor\n",
       "67. versicolor\n",
       "68. versicolor\n",
       "69. versicolor\n",
       "70. versicolor\n",
       "71. versicolor\n",
       "72. versicolor\n",
       "73. versicolor\n",
       "74. versicolor\n",
       "75. versicolor\n",
       "76. versicolor\n",
       "77. versicolor\n",
       "78. versicolor\n",
       "79. versicolor\n",
       "80. versicolor\n",
       "81. versicolor\n",
       "82. versicolor\n",
       "83. versicolor\n",
       "84. versicolor\n",
       "85. versicolor\n",
       "86. versicolor\n",
       "87. versicolor\n",
       "88. versicolor\n",
       "89. versicolor\n",
       "90. versicolor\n",
       "91. versicolor\n",
       "92. versicolor\n",
       "93. versicolor\n",
       "94. versicolor\n",
       "95. versicolor\n",
       "96. versicolor\n",
       "97. versicolor\n",
       "98. versicolor\n",
       "99. versicolor\n",
       "100. versicolor\n",
       "101. virginica\n",
       "102. virginica\n",
       "103. virginica\n",
       "104. virginica\n",
       "105. virginica\n",
       "106. virginica\n",
       "107. virginica\n",
       "108. virginica\n",
       "109. virginica\n",
       "110. virginica\n",
       "111. virginica\n",
       "112. virginica\n",
       "113. virginica\n",
       "114. virginica\n",
       "115. virginica\n",
       "116. virginica\n",
       "117. virginica\n",
       "118. virginica\n",
       "119. virginica\n",
       "120. virginica\n",
       "121. virginica\n",
       "122. virginica\n",
       "123. virginica\n",
       "124. virginica\n",
       "125. virginica\n",
       "126. virginica\n",
       "127. virginica\n",
       "128. virginica\n",
       "129. virginica\n",
       "130. virginica\n",
       "131. virginica\n",
       "132. virginica\n",
       "133. virginica\n",
       "134. virginica\n",
       "135. virginica\n",
       "136. virginica\n",
       "137. virginica\n",
       "138. virginica\n",
       "139. virginica\n",
       "140. virginica\n",
       "141. virginica\n",
       "142. virginica\n",
       "143. virginica\n",
       "144. virginica\n",
       "145. virginica\n",
       "146. virginica\n",
       "147. virginica\n",
       "148. virginica\n",
       "149. virginica\n",
       "150. virginica\n",
       "\n",
       "\n",
       "\n",
       "**Levels**: 1. 'setosa'\n",
       "2. 'versicolor'\n",
       "3. 'virginica'\n",
       "\n",
       "\n"
      ],
      "text/plain": [
       "  [1] setosa     setosa     setosa     setosa     setosa     setosa    \n",
       "  [7] setosa     setosa     setosa     setosa     setosa     setosa    \n",
       " [13] setosa     setosa     setosa     setosa     setosa     setosa    \n",
       " [19] setosa     setosa     setosa     setosa     setosa     setosa    \n",
       " [25] setosa     setosa     setosa     setosa     setosa     setosa    \n",
       " [31] setosa     setosa     setosa     setosa     setosa     setosa    \n",
       " [37] setosa     setosa     setosa     setosa     setosa     setosa    \n",
       " [43] setosa     setosa     setosa     setosa     setosa     setosa    \n",
       " [49] setosa     setosa     versicolor versicolor versicolor versicolor\n",
       " [55] versicolor versicolor versicolor versicolor versicolor versicolor\n",
       " [61] versicolor versicolor versicolor versicolor versicolor versicolor\n",
       " [67] versicolor versicolor versicolor versicolor versicolor versicolor\n",
       " [73] versicolor versicolor versicolor versicolor versicolor versicolor\n",
       " [79] versicolor versicolor versicolor versicolor versicolor versicolor\n",
       " [85] versicolor versicolor versicolor versicolor versicolor versicolor\n",
       " [91] versicolor versicolor versicolor versicolor versicolor versicolor\n",
       " [97] versicolor versicolor versicolor versicolor virginica  virginica \n",
       "[103] virginica  virginica  virginica  virginica  virginica  virginica \n",
       "[109] virginica  virginica  virginica  virginica  virginica  virginica \n",
       "[115] virginica  virginica  virginica  virginica  virginica  virginica \n",
       "[121] virginica  virginica  virginica  virginica  virginica  virginica \n",
       "[127] virginica  virginica  virginica  virginica  virginica  virginica \n",
       "[133] virginica  virginica  virginica  virginica  virginica  virginica \n",
       "[139] virginica  virginica  virginica  virginica  virginica  virginica \n",
       "[145] virginica  virginica  virginica  virginica  virginica  virginica \n",
       "Levels: setosa versicolor virginica"
      ]
     },
     "metadata": {},
     "output_type": "display_data"
    }
   ],
   "source": [
    "irisfactor"
   ]
  },
  {
   "cell_type": "markdown",
   "id": "ff185b9d",
   "metadata": {},
   "source": [
    "summary(irisfactor)"
   ]
  },
  {
   "cell_type": "code",
   "execution_count": 32,
   "id": "90b6180c",
   "metadata": {
    "scrolled": false
   },
   "outputs": [
    {
     "data": {
      "text/html": [
       "<style>\n",
       ".list-inline {list-style: none; margin:0; padding: 0}\n",
       ".list-inline>li {display: inline-block}\n",
       ".list-inline>li:not(:last-child)::after {content: \"\\00b7\"; padding: 0 .5ex}\n",
       "</style>\n",
       "<ol class=list-inline><li>'setosa'</li><li>'versicolor'</li><li>'virginica'</li></ol>\n"
      ],
      "text/latex": [
       "\\begin{enumerate*}\n",
       "\\item 'setosa'\n",
       "\\item 'versicolor'\n",
       "\\item 'virginica'\n",
       "\\end{enumerate*}\n"
      ],
      "text/markdown": [
       "1. 'setosa'\n",
       "2. 'versicolor'\n",
       "3. 'virginica'\n",
       "\n",
       "\n"
      ],
      "text/plain": [
       "[1] \"setosa\"     \"versicolor\" \"virginica\" "
      ]
     },
     "metadata": {},
     "output_type": "display_data"
    }
   ],
   "source": [
    "levels(irisfactor)"
   ]
  },
  {
   "cell_type": "code",
   "execution_count": 31,
   "id": "b0563c9b",
   "metadata": {
    "scrolled": false
   },
   "outputs": [
    {
     "data": {
      "text/html": [
       "<style>\n",
       ".list-inline {list-style: none; margin:0; padding: 0}\n",
       ".list-inline>li {display: inline-block}\n",
       ".list-inline>li:not(:last-child)::after {content: \"\\00b7\"; padding: 0 .5ex}\n",
       "</style>\n",
       "<ol class=list-inline><li>setosa</li><li>versicolor</li><li>virginica</li></ol>\n",
       "\n",
       "<details>\n",
       "\t<summary style=display:list-item;cursor:pointer>\n",
       "\t\t<strong>Levels</strong>:\n",
       "\t</summary>\n",
       "\t<style>\n",
       "\t.list-inline {list-style: none; margin:0; padding: 0}\n",
       "\t.list-inline>li {display: inline-block}\n",
       "\t.list-inline>li:not(:last-child)::after {content: \"\\00b7\"; padding: 0 .5ex}\n",
       "\t</style>\n",
       "\t<ol class=list-inline><li>'setosa'</li><li>'versicolor'</li><li>'virginica'</li></ol>\n",
       "</details>"
      ],
      "text/latex": [
       "\\begin{enumerate*}\n",
       "\\item setosa\n",
       "\\item versicolor\n",
       "\\item virginica\n",
       "\\end{enumerate*}\n",
       "\n",
       "\\emph{Levels}: \\begin{enumerate*}\n",
       "\\item 'setosa'\n",
       "\\item 'versicolor'\n",
       "\\item 'virginica'\n",
       "\\end{enumerate*}\n"
      ],
      "text/markdown": [
       "1. setosa\n",
       "2. versicolor\n",
       "3. virginica\n",
       "\n",
       "\n",
       "\n",
       "**Levels**: 1. 'setosa'\n",
       "2. 'versicolor'\n",
       "3. 'virginica'\n",
       "\n",
       "\n"
      ],
      "text/plain": [
       "[1] setosa     versicolor virginica \n",
       "Levels: setosa versicolor virginica"
      ]
     },
     "metadata": {},
     "output_type": "display_data"
    }
   ],
   "source": [
    "unique(factor(iris$Species))"
   ]
  },
  {
   "cell_type": "code",
   "execution_count": 33,
   "id": "0a552334",
   "metadata": {},
   "outputs": [
    {
     "data": {
      "text/html": [
       "<style>\n",
       ".dl-inline {width: auto; margin:0; padding: 0}\n",
       ".dl-inline>dt, .dl-inline>dd {float: none; width: auto; display: inline-block}\n",
       ".dl-inline>dt::after {content: \":\\0020\"; padding-right: .5ex}\n",
       ".dl-inline>dt:not(:first-of-type) {padding-left: .5ex}\n",
       "</style><dl class=dl-inline><dt>setosa</dt><dd>50</dd><dt>versicolor</dt><dd>50</dd><dt>virginica</dt><dd>50</dd></dl>\n"
      ],
      "text/latex": [
       "\\begin{description*}\n",
       "\\item[setosa] 50\n",
       "\\item[versicolor] 50\n",
       "\\item[virginica] 50\n",
       "\\end{description*}\n"
      ],
      "text/markdown": [
       "setosa\n",
       ":   50versicolor\n",
       ":   50virginica\n",
       ":   50\n",
       "\n"
      ],
      "text/plain": [
       "    setosa versicolor  virginica \n",
       "        50         50         50 "
      ]
     },
     "metadata": {},
     "output_type": "display_data"
    }
   ],
   "source": [
    "summary(irisfactor)"
   ]
  },
  {
   "cell_type": "markdown",
   "id": "0258d54a",
   "metadata": {},
   "source": [
    "# R - Gráficos\n",
    "Existe una enorme variedad de gráficos que se pueden crear con R\n",
    "\n",
    "* Distribuciones\n",
    "    * Violín\n",
    "    * Densidad\n",
    "    * Histograma\n",
    "    * BoxPlot\n",
    "    * Ridgeline\n",
    "* Correlaciones\n",
    "    * Dispersión\n",
    "    * Mapas de calor\n",
    "    * Correlogramas\n",
    "    * Burbujas\n",
    "    * Dispersión conectados\n",
    "    * Densidad 2D\n",
    "* Rankings\n",
    "    * Gráficos de barras\n",
    "    * Araña / radar\n",
    "    * Nube de palabras\n",
    "    * Paralelos\n",
    "    * Lollipop\n",
    "    * Barras circulares\n",
    "* Partes de un todo\n",
    "    * Árboles\n",
    "    * Dendogramas\n",
    "    * Diagrama de Venn\n",
    "    * Barras divididas\n",
    "    * Pasteles\n",
    "    * Donas\n",
    "    * Paquetes circulares\n",
    "* Mapas\n",
    "    * Mapas\n",
    "    * Conexiones\n",
    "    * Burbujas\n",
    "    * etc\n",
    "* Flujos\n",
    "    * Redes\n",
    "    * Diagramas de cuerdas\n",
    "    * Agrupamiento jerárquico\n",
    "    * Diagrama de Sankey\n",
    "* Etc, etc.\n",
    "\n",
    "\n",
    "\n"
   ]
  },
  {
   "cell_type": "markdown",
   "id": "a2cea387",
   "metadata": {},
   "source": [
    "## R - Gráficos\n",
    "|Función\t|Operación|\n",
    "|:--|:--|\n",
    "|plot()\t|Crea gráficos de nubes de puntos (Scatterplots) que varía según el objeto graficado|\n",
    "|lines()\t|Agrega lineas a un gráfico existente según una matriz de coordenadas de inicio y fin en los ejes x y y|\n",
    "|points()\t|Agrega puntos a un gráfico existente según las coordenadas dadas|\n",
    "|text()\t|Agrega un texto a un gráfico existente según las coordenadas dadas|\n",
    "|title()\t|Agrega anotaciones a los ejes, título o subtítulo|\n",
    "|mtext()\t|Agrega un texto a las márgenes|\n",
    "|axis()\t|Agrega graduación a los ejes|"
   ]
  },
  {
   "cell_type": "markdown",
   "id": "dcb9e439",
   "metadata": {},
   "source": [
    "## R - Gráficos dataset iris (Histograma)"
   ]
  },
  {
   "cell_type": "markdown",
   "id": "c5118e31",
   "metadata": {},
   "source": [
    "<pre>hist(iris$Sepal.Length,  \n",
    "    col='green',\n",
    "    main='Histograma',  \n",
    "    xlab='Longitud',  \n",
    "    ylab='Frecuencia')  "
   ]
  },
  {
   "cell_type": "code",
   "execution_count": 35,
   "id": "9ade116c",
   "metadata": {
    "scrolled": true
   },
   "outputs": [
    {
     "data": {
      "image/png": "[encoded data removed]",
      "text/plain": [
       "Plot with title \"Histograma\""
      ]
     },
     "metadata": {
      "image/png": {
       "height": 420,
       "width": 420
      }
     },
     "output_type": "display_data"
    }
   ],
   "source": [
    "hist(iris$Sepal.Length,\n",
    "    col='green',\n",
    "    main='Histograma',\n",
    "    xlab='Longitud',\n",
    "    ylab='Frecuencia')"
   ]
  },
  {
   "cell_type": "markdown",
   "id": "cc1e4364",
   "metadata": {},
   "source": [
    "## R - Gráficos dataset iris (Dispersión)"
   ]
  },
  {
   "cell_type": "markdown",
   "id": "fdf03275",
   "metadata": {},
   "source": [
    "<pre>plot(iris$Sepal.Width, iris$Sepal.Length,\n",
    "     col='red',\n",
    "     main='Scatterplot',\n",
    "     xlab='Ancho sépalo',\n",
    "     ylab='Longitud sépalo',\n",
    "     pch=19)"
   ]
  },
  {
   "cell_type": "code",
   "execution_count": 36,
   "id": "ec52204b",
   "metadata": {
    "scrolled": true
   },
   "outputs": [
    {
     "data": {
      "image/png": "[encoded data removed]",
      "text/plain": [
       "Plot with title \"Scatterplot\""
      ]
     },
     "metadata": {
      "image/png": {
       "height": 420,
       "width": 420
      }
     },
     "output_type": "display_data"
    }
   ],
   "source": [
    "plot(iris$Sepal.Width, iris$Sepal.Length,\n",
    "     col='red',\n",
    "     main='Scatterplot',\n",
    "     xlab='Ancho sépalo',\n",
    "     ylab='Longitud sépalo',\n",
    "     pch=19)"
   ]
  },
  {
   "cell_type": "code",
   "execution_count": 52,
   "id": "fbd08519",
   "metadata": {},
   "outputs": [
    {
     "data": {
      "image/png": "[encoded data removed]",
      "text/plain": [
       "Plot with title \"Scatterplot\""
      ]
     },
     "metadata": {
      "image/png": {
       "height": 420,
       "width": 420
      }
     },
     "output_type": "display_data"
    }
   ],
   "source": [
    "plot(iris$Sepal.Width, iris$Petal.Length,\n",
    "     main='Scatterplot',\n",
    "     xlab='Ancho sépalo',\n",
    "     ylab='Longitud pétalo',\n",
    "     pch=21,\n",
    "    bg=c(\"red\",\"blue\",\"green\")[unclass(iris$Species)],)"
   ]
  },
  {
   "cell_type": "markdown",
   "id": "d48fa55b",
   "metadata": {},
   "source": [
    "## R - Gráficos dataset iris (Box Plot)"
   ]
  },
  {
   "cell_type": "markdown",
   "id": "2eb4eccb",
   "metadata": {},
   "source": [
    "<pre>boxplot(Sepal.Length~Species,\n",
    "        data=iris,\n",
    "        main='Longitud del Sépalo por especies',\n",
    "        xlab='Especies',\n",
    "        ylab='Longitud Sépalo',\n",
    "        col='green',\n",
    "        border='black')"
   ]
  },
  {
   "cell_type": "code",
   "execution_count": 38,
   "id": "527a46a9",
   "metadata": {
    "scrolled": false
   },
   "outputs": [
    {
     "data": {
      "image/png": "[encoded data removed]",
      "text/plain": [
       "Plot with title \"Longitud del Sépalo por especies\""
      ]
     },
     "metadata": {
      "image/png": {
       "height": 420,
       "width": 420
      }
     },
     "output_type": "display_data"
    }
   ],
   "source": [
    "boxplot(Sepal.Length~Species,\n",
    "        data=iris,\n",
    "        main='Longitud del Sépalo por especies',\n",
    "        xlab='Especies',\n",
    "        ylab='Longitud Sépalo',\n",
    "        col='green',\n",
    "        border='black')"
   ]
  },
  {
   "cell_type": "markdown",
   "id": "6e8ae733",
   "metadata": {},
   "source": [
    "## Dataset CSV"
   ]
  },
  {
   "cell_type": "markdown",
   "id": "dfbe8a39",
   "metadata": {},
   "source": [
    "y<-read.csv(\"http://www.seracademia.com/academia/massa.csv\") \n",
    "\n",
    "names(y)"
   ]
  },
  {
   "cell_type": "code",
   "execution_count": 39,
   "id": "0c3a3077",
   "metadata": {
    "scrolled": true
   },
   "outputs": [
    {
     "data": {
      "text/html": [
       "<style>\n",
       ".list-inline {list-style: none; margin:0; padding: 0}\n",
       ".list-inline>li {display: inline-block}\n",
       ".list-inline>li:not(:last-child)::after {content: \"\\00b7\"; padding: 0 .5ex}\n",
       "</style>\n",
       "<ol class=list-inline><li>'A'</li><li>'B'</li><li>'C'</li><li>'D'</li></ol>\n"
      ],
      "text/latex": [
       "\\begin{enumerate*}\n",
       "\\item 'A'\n",
       "\\item 'B'\n",
       "\\item 'C'\n",
       "\\item 'D'\n",
       "\\end{enumerate*}\n"
      ],
      "text/markdown": [
       "1. 'A'\n",
       "2. 'B'\n",
       "3. 'C'\n",
       "4. 'D'\n",
       "\n",
       "\n"
      ],
      "text/plain": [
       "[1] \"A\" \"B\" \"C\" \"D\""
      ]
     },
     "metadata": {},
     "output_type": "display_data"
    }
   ],
   "source": [
    "y<-read.csv(\"http://www.seracademia.com/academia/massa.csv\")\n",
    "\n",
    "names(y)"
   ]
  },
  {
   "cell_type": "markdown",
   "id": "55ef319f",
   "metadata": {},
   "source": [
    "head(y)"
   ]
  },
  {
   "cell_type": "code",
   "execution_count": 40,
   "id": "f99a4610",
   "metadata": {
    "scrolled": false
   },
   "outputs": [
    {
     "data": {
      "text/html": [
       "<table class=\"dataframe\">\n",
       "<caption>A data.frame: 6 × 4</caption>\n",
       "<thead>\n",
       "\t<tr><th></th><th scope=col>A</th><th scope=col>B</th><th scope=col>C</th><th scope=col>D</th></tr>\n",
       "\t<tr><th></th><th scope=col>&lt;int&gt;</th><th scope=col>&lt;int&gt;</th><th scope=col>&lt;int&gt;</th><th scope=col>&lt;int&gt;</th></tr>\n",
       "</thead>\n",
       "<tbody>\n",
       "\t<tr><th scope=row>1</th><td>78</td><td>78</td><td>79</td><td>77</td></tr>\n",
       "\t<tr><th scope=row>2</th><td>88</td><td>78</td><td>73</td><td>69</td></tr>\n",
       "\t<tr><th scope=row>3</th><td>87</td><td>83</td><td>79</td><td>75</td></tr>\n",
       "\t<tr><th scope=row>4</th><td>88</td><td>81</td><td>75</td><td>70</td></tr>\n",
       "\t<tr><th scope=row>5</th><td>83</td><td>78</td><td>77</td><td>74</td></tr>\n",
       "\t<tr><th scope=row>6</th><td>82</td><td>81</td><td>78</td><td>83</td></tr>\n",
       "</tbody>\n",
       "</table>\n"
      ],
      "text/latex": [
       "A data.frame: 6 × 4\n",
       "\\begin{tabular}{r|llll}\n",
       "  & A & B & C & D\\\\\n",
       "  & <int> & <int> & <int> & <int>\\\\\n",
       "\\hline\n",
       "\t1 & 78 & 78 & 79 & 77\\\\\n",
       "\t2 & 88 & 78 & 73 & 69\\\\\n",
       "\t3 & 87 & 83 & 79 & 75\\\\\n",
       "\t4 & 88 & 81 & 75 & 70\\\\\n",
       "\t5 & 83 & 78 & 77 & 74\\\\\n",
       "\t6 & 82 & 81 & 78 & 83\\\\\n",
       "\\end{tabular}\n"
      ],
      "text/markdown": [
       "\n",
       "A data.frame: 6 × 4\n",
       "\n",
       "| <!--/--> | A &lt;int&gt; | B &lt;int&gt; | C &lt;int&gt; | D &lt;int&gt; |\n",
       "|---|---|---|---|---|\n",
       "| 1 | 78 | 78 | 79 | 77 |\n",
       "| 2 | 88 | 78 | 73 | 69 |\n",
       "| 3 | 87 | 83 | 79 | 75 |\n",
       "| 4 | 88 | 81 | 75 | 70 |\n",
       "| 5 | 83 | 78 | 77 | 74 |\n",
       "| 6 | 82 | 81 | 78 | 83 |\n",
       "\n"
      ],
      "text/plain": [
       "  A  B  C  D \n",
       "1 78 78 79 77\n",
       "2 88 78 73 69\n",
       "3 87 83 79 75\n",
       "4 88 81 75 70\n",
       "5 83 78 77 74\n",
       "6 82 81 78 83"
      ]
     },
     "metadata": {},
     "output_type": "display_data"
    }
   ],
   "source": [
    "head(y)"
   ]
  },
  {
   "cell_type": "markdown",
   "id": "636582e4",
   "metadata": {},
   "source": [
    "## Histograma"
   ]
  },
  {
   "cell_type": "markdown",
   "id": "e2332474",
   "metadata": {},
   "source": [
    "y<-read.csv(\"http://www.seracademia.com/academia/massa.csv\")\n",
    "<pre>hist(y$A,\n",
    "     col='steelblue',\n",
    "     main='Histograma',\n",
    "     xlab='Masa(g)',\n",
    "     ylab='Frecuencia')"
   ]
  },
  {
   "cell_type": "code",
   "execution_count": 41,
   "id": "911d9625",
   "metadata": {
    "scrolled": true
   },
   "outputs": [
    {
     "data": {
      "image/png": "[encoded data removed]",
      "text/plain": [
       "Plot with title \"Histograma\""
      ]
     },
     "metadata": {
      "image/png": {
       "height": 420,
       "width": 420
      }
     },
     "output_type": "display_data"
    }
   ],
   "source": [
    "y<-read.csv(\"http://www.seracademia.com/academia/massa.csv\")\n",
    "hist(y$A,\n",
    "     col='steelblue',\n",
    "     main='Histograma',\n",
    "     xlab='Masa(g)',\n",
    "     ylab='Frecuencia')"
   ]
  },
  {
   "cell_type": "code",
   "execution_count": 65,
   "id": "c6b964d9",
   "metadata": {},
   "outputs": [
    {
     "ename": "ERROR",
     "evalue": "Error in scan(file = file, what = what, sep = sep, quote = quote, dec = dec, : line 2 did not have 2 elements\n",
     "output_type": "error",
     "traceback": [
      "Error in scan(file = file, what = what, sep = sep, quote = quote, dec = dec, : line 2 did not have 2 elements\nTraceback:\n",
      "1. read.table(\"http://www.seracademia.com/academia/massa.csv\")",
      "2. scan(file = file, what = what, sep = sep, quote = quote, dec = dec, \n .     nmax = nrows, skip = 0, na.strings = na.strings, quiet = TRUE, \n .     fill = fill, strip.white = strip.white, blank.lines.skip = blank.lines.skip, \n .     multi.line = FALSE, comment.char = comment.char, allowEscapes = allowEscapes, \n .     flush = flush, encoding = encoding, skipNul = skipNul)"
     ]
    }
   ],
   "source": [
    "y<-read.table(\"http://www.seracademia.com/academia/massa.csv\")"
   ]
  },
  {
   "cell_type": "code",
   "execution_count": 66,
   "id": "afbc45ea",
   "metadata": {},
   "outputs": [
    {
     "data": {
      "text/html": [
       "<table class=\"dataframe\">\n",
       "<caption>A data.frame: 150 × 5</caption>\n",
       "<thead>\n",
       "\t<tr><th scope=col>Sepal.Length</th><th scope=col>Sepal.Width</th><th scope=col>Petal.Length</th><th scope=col>Petal.Width</th><th scope=col>Species</th></tr>\n",
       "\t<tr><th scope=col>&lt;dbl&gt;</th><th scope=col>&lt;dbl&gt;</th><th scope=col>&lt;dbl&gt;</th><th scope=col>&lt;dbl&gt;</th><th scope=col>&lt;fct&gt;</th></tr>\n",
       "</thead>\n",
       "<tbody>\n",
       "\t<tr><td>5.1</td><td>3.5</td><td>1.4</td><td>0.2</td><td>setosa</td></tr>\n",
       "\t<tr><td>4.9</td><td>3.0</td><td>1.4</td><td>0.2</td><td>setosa</td></tr>\n",
       "\t<tr><td>4.7</td><td>3.2</td><td>1.3</td><td>0.2</td><td>setosa</td></tr>\n",
       "\t<tr><td>4.6</td><td>3.1</td><td>1.5</td><td>0.2</td><td>setosa</td></tr>\n",
       "\t<tr><td>5.0</td><td>3.6</td><td>1.4</td><td>0.2</td><td>setosa</td></tr>\n",
       "\t<tr><td>5.4</td><td>3.9</td><td>1.7</td><td>0.4</td><td>setosa</td></tr>\n",
       "\t<tr><td>4.6</td><td>3.4</td><td>1.4</td><td>0.3</td><td>setosa</td></tr>\n",
       "\t<tr><td>5.0</td><td>3.4</td><td>1.5</td><td>0.2</td><td>setosa</td></tr>\n",
       "\t<tr><td>4.4</td><td>2.9</td><td>1.4</td><td>0.2</td><td>setosa</td></tr>\n",
       "\t<tr><td>4.9</td><td>3.1</td><td>1.5</td><td>0.1</td><td>setosa</td></tr>\n",
       "\t<tr><td>5.4</td><td>3.7</td><td>1.5</td><td>0.2</td><td>setosa</td></tr>\n",
       "\t<tr><td>4.8</td><td>3.4</td><td>1.6</td><td>0.2</td><td>setosa</td></tr>\n",
       "\t<tr><td>4.8</td><td>3.0</td><td>1.4</td><td>0.1</td><td>setosa</td></tr>\n",
       "\t<tr><td>4.3</td><td>3.0</td><td>1.1</td><td>0.1</td><td>setosa</td></tr>\n",
       "\t<tr><td>5.8</td><td>4.0</td><td>1.2</td><td>0.2</td><td>setosa</td></tr>\n",
       "\t<tr><td>5.7</td><td>4.4</td><td>1.5</td><td>0.4</td><td>setosa</td></tr>\n",
       "\t<tr><td>5.4</td><td>3.9</td><td>1.3</td><td>0.4</td><td>setosa</td></tr>\n",
       "\t<tr><td>5.1</td><td>3.5</td><td>1.4</td><td>0.3</td><td>setosa</td></tr>\n",
       "\t<tr><td>5.7</td><td>3.8</td><td>1.7</td><td>0.3</td><td>setosa</td></tr>\n",
       "\t<tr><td>5.1</td><td>3.8</td><td>1.5</td><td>0.3</td><td>setosa</td></tr>\n",
       "\t<tr><td>5.4</td><td>3.4</td><td>1.7</td><td>0.2</td><td>setosa</td></tr>\n",
       "\t<tr><td>5.1</td><td>3.7</td><td>1.5</td><td>0.4</td><td>setosa</td></tr>\n",
       "\t<tr><td>4.6</td><td>3.6</td><td>1.0</td><td>0.2</td><td>setosa</td></tr>\n",
       "\t<tr><td>5.1</td><td>3.3</td><td>1.7</td><td>0.5</td><td>setosa</td></tr>\n",
       "\t<tr><td>4.8</td><td>3.4</td><td>1.9</td><td>0.2</td><td>setosa</td></tr>\n",
       "\t<tr><td>5.0</td><td>3.0</td><td>1.6</td><td>0.2</td><td>setosa</td></tr>\n",
       "\t<tr><td>5.0</td><td>3.4</td><td>1.6</td><td>0.4</td><td>setosa</td></tr>\n",
       "\t<tr><td>5.2</td><td>3.5</td><td>1.5</td><td>0.2</td><td>setosa</td></tr>\n",
       "\t<tr><td>5.2</td><td>3.4</td><td>1.4</td><td>0.2</td><td>setosa</td></tr>\n",
       "\t<tr><td>4.7</td><td>3.2</td><td>1.6</td><td>0.2</td><td>setosa</td></tr>\n",
       "\t<tr><td>⋮</td><td>⋮</td><td>⋮</td><td>⋮</td><td>⋮</td></tr>\n",
       "\t<tr><td>6.9</td><td>3.2</td><td>5.7</td><td>2.3</td><td>virginica</td></tr>\n",
       "\t<tr><td>5.6</td><td>2.8</td><td>4.9</td><td>2.0</td><td>virginica</td></tr>\n",
       "\t<tr><td>7.7</td><td>2.8</td><td>6.7</td><td>2.0</td><td>virginica</td></tr>\n",
       "\t<tr><td>6.3</td><td>2.7</td><td>4.9</td><td>1.8</td><td>virginica</td></tr>\n",
       "\t<tr><td>6.7</td><td>3.3</td><td>5.7</td><td>2.1</td><td>virginica</td></tr>\n",
       "\t<tr><td>7.2</td><td>3.2</td><td>6.0</td><td>1.8</td><td>virginica</td></tr>\n",
       "\t<tr><td>6.2</td><td>2.8</td><td>4.8</td><td>1.8</td><td>virginica</td></tr>\n",
       "\t<tr><td>6.1</td><td>3.0</td><td>4.9</td><td>1.8</td><td>virginica</td></tr>\n",
       "\t<tr><td>6.4</td><td>2.8</td><td>5.6</td><td>2.1</td><td>virginica</td></tr>\n",
       "\t<tr><td>7.2</td><td>3.0</td><td>5.8</td><td>1.6</td><td>virginica</td></tr>\n",
       "\t<tr><td>7.4</td><td>2.8</td><td>6.1</td><td>1.9</td><td>virginica</td></tr>\n",
       "\t<tr><td>7.9</td><td>3.8</td><td>6.4</td><td>2.0</td><td>virginica</td></tr>\n",
       "\t<tr><td>6.4</td><td>2.8</td><td>5.6</td><td>2.2</td><td>virginica</td></tr>\n",
       "\t<tr><td>6.3</td><td>2.8</td><td>5.1</td><td>1.5</td><td>virginica</td></tr>\n",
       "\t<tr><td>6.1</td><td>2.6</td><td>5.6</td><td>1.4</td><td>virginica</td></tr>\n",
       "\t<tr><td>7.7</td><td>3.0</td><td>6.1</td><td>2.3</td><td>virginica</td></tr>\n",
       "\t<tr><td>6.3</td><td>3.4</td><td>5.6</td><td>2.4</td><td>virginica</td></tr>\n",
       "\t<tr><td>6.4</td><td>3.1</td><td>5.5</td><td>1.8</td><td>virginica</td></tr>\n",
       "\t<tr><td>6.0</td><td>3.0</td><td>4.8</td><td>1.8</td><td>virginica</td></tr>\n",
       "\t<tr><td>6.9</td><td>3.1</td><td>5.4</td><td>2.1</td><td>virginica</td></tr>\n",
       "\t<tr><td>6.7</td><td>3.1</td><td>5.6</td><td>2.4</td><td>virginica</td></tr>\n",
       "\t<tr><td>6.9</td><td>3.1</td><td>5.1</td><td>2.3</td><td>virginica</td></tr>\n",
       "\t<tr><td>5.8</td><td>2.7</td><td>5.1</td><td>1.9</td><td>virginica</td></tr>\n",
       "\t<tr><td>6.8</td><td>3.2</td><td>5.9</td><td>2.3</td><td>virginica</td></tr>\n",
       "\t<tr><td>6.7</td><td>3.3</td><td>5.7</td><td>2.5</td><td>virginica</td></tr>\n",
       "\t<tr><td>6.7</td><td>3.0</td><td>5.2</td><td>2.3</td><td>virginica</td></tr>\n",
       "\t<tr><td>6.3</td><td>2.5</td><td>5.0</td><td>1.9</td><td>virginica</td></tr>\n",
       "\t<tr><td>6.5</td><td>3.0</td><td>5.2</td><td>2.0</td><td>virginica</td></tr>\n",
       "\t<tr><td>6.2</td><td>3.4</td><td>5.4</td><td>2.3</td><td>virginica</td></tr>\n",
       "\t<tr><td>5.9</td><td>3.0</td><td>5.1</td><td>1.8</td><td>virginica</td></tr>\n",
       "</tbody>\n",
       "</table>\n"
      ],
      "text/latex": [
       "A data.frame: 150 × 5\n",
       "\\begin{tabular}{lllll}\n",
       " Sepal.Length & Sepal.Width & Petal.Length & Petal.Width & Species\\\\\n",
       " <dbl> & <dbl> & <dbl> & <dbl> & <fct>\\\\\n",
       "\\hline\n",
       "\t 5.1 & 3.5 & 1.4 & 0.2 & setosa\\\\\n",
       "\t 4.9 & 3.0 & 1.4 & 0.2 & setosa\\\\\n",
       "\t 4.7 & 3.2 & 1.3 & 0.2 & setosa\\\\\n",
       "\t 4.6 & 3.1 & 1.5 & 0.2 & setosa\\\\\n",
       "\t 5.0 & 3.6 & 1.4 & 0.2 & setosa\\\\\n",
       "\t 5.4 & 3.9 & 1.7 & 0.4 & setosa\\\\\n",
       "\t 4.6 & 3.4 & 1.4 & 0.3 & setosa\\\\\n",
       "\t 5.0 & 3.4 & 1.5 & 0.2 & setosa\\\\\n",
       "\t 4.4 & 2.9 & 1.4 & 0.2 & setosa\\\\\n",
       "\t 4.9 & 3.1 & 1.5 & 0.1 & setosa\\\\\n",
       "\t 5.4 & 3.7 & 1.5 & 0.2 & setosa\\\\\n",
       "\t 4.8 & 3.4 & 1.6 & 0.2 & setosa\\\\\n",
       "\t 4.8 & 3.0 & 1.4 & 0.1 & setosa\\\\\n",
       "\t 4.3 & 3.0 & 1.1 & 0.1 & setosa\\\\\n",
       "\t 5.8 & 4.0 & 1.2 & 0.2 & setosa\\\\\n",
       "\t 5.7 & 4.4 & 1.5 & 0.4 & setosa\\\\\n",
       "\t 5.4 & 3.9 & 1.3 & 0.4 & setosa\\\\\n",
       "\t 5.1 & 3.5 & 1.4 & 0.3 & setosa\\\\\n",
       "\t 5.7 & 3.8 & 1.7 & 0.3 & setosa\\\\\n",
       "\t 5.1 & 3.8 & 1.5 & 0.3 & setosa\\\\\n",
       "\t 5.4 & 3.4 & 1.7 & 0.2 & setosa\\\\\n",
       "\t 5.1 & 3.7 & 1.5 & 0.4 & setosa\\\\\n",
       "\t 4.6 & 3.6 & 1.0 & 0.2 & setosa\\\\\n",
       "\t 5.1 & 3.3 & 1.7 & 0.5 & setosa\\\\\n",
       "\t 4.8 & 3.4 & 1.9 & 0.2 & setosa\\\\\n",
       "\t 5.0 & 3.0 & 1.6 & 0.2 & setosa\\\\\n",
       "\t 5.0 & 3.4 & 1.6 & 0.4 & setosa\\\\\n",
       "\t 5.2 & 3.5 & 1.5 & 0.2 & setosa\\\\\n",
       "\t 5.2 & 3.4 & 1.4 & 0.2 & setosa\\\\\n",
       "\t 4.7 & 3.2 & 1.6 & 0.2 & setosa\\\\\n",
       "\t ⋮ & ⋮ & ⋮ & ⋮ & ⋮\\\\\n",
       "\t 6.9 & 3.2 & 5.7 & 2.3 & virginica\\\\\n",
       "\t 5.6 & 2.8 & 4.9 & 2.0 & virginica\\\\\n",
       "\t 7.7 & 2.8 & 6.7 & 2.0 & virginica\\\\\n",
       "\t 6.3 & 2.7 & 4.9 & 1.8 & virginica\\\\\n",
       "\t 6.7 & 3.3 & 5.7 & 2.1 & virginica\\\\\n",
       "\t 7.2 & 3.2 & 6.0 & 1.8 & virginica\\\\\n",
       "\t 6.2 & 2.8 & 4.8 & 1.8 & virginica\\\\\n",
       "\t 6.1 & 3.0 & 4.9 & 1.8 & virginica\\\\\n",
       "\t 6.4 & 2.8 & 5.6 & 2.1 & virginica\\\\\n",
       "\t 7.2 & 3.0 & 5.8 & 1.6 & virginica\\\\\n",
       "\t 7.4 & 2.8 & 6.1 & 1.9 & virginica\\\\\n",
       "\t 7.9 & 3.8 & 6.4 & 2.0 & virginica\\\\\n",
       "\t 6.4 & 2.8 & 5.6 & 2.2 & virginica\\\\\n",
       "\t 6.3 & 2.8 & 5.1 & 1.5 & virginica\\\\\n",
       "\t 6.1 & 2.6 & 5.6 & 1.4 & virginica\\\\\n",
       "\t 7.7 & 3.0 & 6.1 & 2.3 & virginica\\\\\n",
       "\t 6.3 & 3.4 & 5.6 & 2.4 & virginica\\\\\n",
       "\t 6.4 & 3.1 & 5.5 & 1.8 & virginica\\\\\n",
       "\t 6.0 & 3.0 & 4.8 & 1.8 & virginica\\\\\n",
       "\t 6.9 & 3.1 & 5.4 & 2.1 & virginica\\\\\n",
       "\t 6.7 & 3.1 & 5.6 & 2.4 & virginica\\\\\n",
       "\t 6.9 & 3.1 & 5.1 & 2.3 & virginica\\\\\n",
       "\t 5.8 & 2.7 & 5.1 & 1.9 & virginica\\\\\n",
       "\t 6.8 & 3.2 & 5.9 & 2.3 & virginica\\\\\n",
       "\t 6.7 & 3.3 & 5.7 & 2.5 & virginica\\\\\n",
       "\t 6.7 & 3.0 & 5.2 & 2.3 & virginica\\\\\n",
       "\t 6.3 & 2.5 & 5.0 & 1.9 & virginica\\\\\n",
       "\t 6.5 & 3.0 & 5.2 & 2.0 & virginica\\\\\n",
       "\t 6.2 & 3.4 & 5.4 & 2.3 & virginica\\\\\n",
       "\t 5.9 & 3.0 & 5.1 & 1.8 & virginica\\\\\n",
       "\\end{tabular}\n"
      ],
      "text/markdown": [
       "\n",
       "A data.frame: 150 × 5\n",
       "\n",
       "| Sepal.Length &lt;dbl&gt; | Sepal.Width &lt;dbl&gt; | Petal.Length &lt;dbl&gt; | Petal.Width &lt;dbl&gt; | Species &lt;fct&gt; |\n",
       "|---|---|---|---|---|\n",
       "| 5.1 | 3.5 | 1.4 | 0.2 | setosa |\n",
       "| 4.9 | 3.0 | 1.4 | 0.2 | setosa |\n",
       "| 4.7 | 3.2 | 1.3 | 0.2 | setosa |\n",
       "| 4.6 | 3.1 | 1.5 | 0.2 | setosa |\n",
       "| 5.0 | 3.6 | 1.4 | 0.2 | setosa |\n",
       "| 5.4 | 3.9 | 1.7 | 0.4 | setosa |\n",
       "| 4.6 | 3.4 | 1.4 | 0.3 | setosa |\n",
       "| 5.0 | 3.4 | 1.5 | 0.2 | setosa |\n",
       "| 4.4 | 2.9 | 1.4 | 0.2 | setosa |\n",
       "| 4.9 | 3.1 | 1.5 | 0.1 | setosa |\n",
       "| 5.4 | 3.7 | 1.5 | 0.2 | setosa |\n",
       "| 4.8 | 3.4 | 1.6 | 0.2 | setosa |\n",
       "| 4.8 | 3.0 | 1.4 | 0.1 | setosa |\n",
       "| 4.3 | 3.0 | 1.1 | 0.1 | setosa |\n",
       "| 5.8 | 4.0 | 1.2 | 0.2 | setosa |\n",
       "| 5.7 | 4.4 | 1.5 | 0.4 | setosa |\n",
       "| 5.4 | 3.9 | 1.3 | 0.4 | setosa |\n",
       "| 5.1 | 3.5 | 1.4 | 0.3 | setosa |\n",
       "| 5.7 | 3.8 | 1.7 | 0.3 | setosa |\n",
       "| 5.1 | 3.8 | 1.5 | 0.3 | setosa |\n",
       "| 5.4 | 3.4 | 1.7 | 0.2 | setosa |\n",
       "| 5.1 | 3.7 | 1.5 | 0.4 | setosa |\n",
       "| 4.6 | 3.6 | 1.0 | 0.2 | setosa |\n",
       "| 5.1 | 3.3 | 1.7 | 0.5 | setosa |\n",
       "| 4.8 | 3.4 | 1.9 | 0.2 | setosa |\n",
       "| 5.0 | 3.0 | 1.6 | 0.2 | setosa |\n",
       "| 5.0 | 3.4 | 1.6 | 0.4 | setosa |\n",
       "| 5.2 | 3.5 | 1.5 | 0.2 | setosa |\n",
       "| 5.2 | 3.4 | 1.4 | 0.2 | setosa |\n",
       "| 4.7 | 3.2 | 1.6 | 0.2 | setosa |\n",
       "| ⋮ | ⋮ | ⋮ | ⋮ | ⋮ |\n",
       "| 6.9 | 3.2 | 5.7 | 2.3 | virginica |\n",
       "| 5.6 | 2.8 | 4.9 | 2.0 | virginica |\n",
       "| 7.7 | 2.8 | 6.7 | 2.0 | virginica |\n",
       "| 6.3 | 2.7 | 4.9 | 1.8 | virginica |\n",
       "| 6.7 | 3.3 | 5.7 | 2.1 | virginica |\n",
       "| 7.2 | 3.2 | 6.0 | 1.8 | virginica |\n",
       "| 6.2 | 2.8 | 4.8 | 1.8 | virginica |\n",
       "| 6.1 | 3.0 | 4.9 | 1.8 | virginica |\n",
       "| 6.4 | 2.8 | 5.6 | 2.1 | virginica |\n",
       "| 7.2 | 3.0 | 5.8 | 1.6 | virginica |\n",
       "| 7.4 | 2.8 | 6.1 | 1.9 | virginica |\n",
       "| 7.9 | 3.8 | 6.4 | 2.0 | virginica |\n",
       "| 6.4 | 2.8 | 5.6 | 2.2 | virginica |\n",
       "| 6.3 | 2.8 | 5.1 | 1.5 | virginica |\n",
       "| 6.1 | 2.6 | 5.6 | 1.4 | virginica |\n",
       "| 7.7 | 3.0 | 6.1 | 2.3 | virginica |\n",
       "| 6.3 | 3.4 | 5.6 | 2.4 | virginica |\n",
       "| 6.4 | 3.1 | 5.5 | 1.8 | virginica |\n",
       "| 6.0 | 3.0 | 4.8 | 1.8 | virginica |\n",
       "| 6.9 | 3.1 | 5.4 | 2.1 | virginica |\n",
       "| 6.7 | 3.1 | 5.6 | 2.4 | virginica |\n",
       "| 6.9 | 3.1 | 5.1 | 2.3 | virginica |\n",
       "| 5.8 | 2.7 | 5.1 | 1.9 | virginica |\n",
       "| 6.8 | 3.2 | 5.9 | 2.3 | virginica |\n",
       "| 6.7 | 3.3 | 5.7 | 2.5 | virginica |\n",
       "| 6.7 | 3.0 | 5.2 | 2.3 | virginica |\n",
       "| 6.3 | 2.5 | 5.0 | 1.9 | virginica |\n",
       "| 6.5 | 3.0 | 5.2 | 2.0 | virginica |\n",
       "| 6.2 | 3.4 | 5.4 | 2.3 | virginica |\n",
       "| 5.9 | 3.0 | 5.1 | 1.8 | virginica |\n",
       "\n"
      ],
      "text/plain": [
       "    Sepal.Length Sepal.Width Petal.Length Petal.Width Species  \n",
       "1   5.1          3.5         1.4          0.2         setosa   \n",
       "2   4.9          3.0         1.4          0.2         setosa   \n",
       "3   4.7          3.2         1.3          0.2         setosa   \n",
       "4   4.6          3.1         1.5          0.2         setosa   \n",
       "5   5.0          3.6         1.4          0.2         setosa   \n",
       "6   5.4          3.9         1.7          0.4         setosa   \n",
       "7   4.6          3.4         1.4          0.3         setosa   \n",
       "8   5.0          3.4         1.5          0.2         setosa   \n",
       "9   4.4          2.9         1.4          0.2         setosa   \n",
       "10  4.9          3.1         1.5          0.1         setosa   \n",
       "11  5.4          3.7         1.5          0.2         setosa   \n",
       "12  4.8          3.4         1.6          0.2         setosa   \n",
       "13  4.8          3.0         1.4          0.1         setosa   \n",
       "14  4.3          3.0         1.1          0.1         setosa   \n",
       "15  5.8          4.0         1.2          0.2         setosa   \n",
       "16  5.7          4.4         1.5          0.4         setosa   \n",
       "17  5.4          3.9         1.3          0.4         setosa   \n",
       "18  5.1          3.5         1.4          0.3         setosa   \n",
       "19  5.7          3.8         1.7          0.3         setosa   \n",
       "20  5.1          3.8         1.5          0.3         setosa   \n",
       "21  5.4          3.4         1.7          0.2         setosa   \n",
       "22  5.1          3.7         1.5          0.4         setosa   \n",
       "23  4.6          3.6         1.0          0.2         setosa   \n",
       "24  5.1          3.3         1.7          0.5         setosa   \n",
       "25  4.8          3.4         1.9          0.2         setosa   \n",
       "26  5.0          3.0         1.6          0.2         setosa   \n",
       "27  5.0          3.4         1.6          0.4         setosa   \n",
       "28  5.2          3.5         1.5          0.2         setosa   \n",
       "29  5.2          3.4         1.4          0.2         setosa   \n",
       "30  4.7          3.2         1.6          0.2         setosa   \n",
       "⋮   ⋮            ⋮           ⋮            ⋮           ⋮        \n",
       "121 6.9          3.2         5.7          2.3         virginica\n",
       "122 5.6          2.8         4.9          2.0         virginica\n",
       "123 7.7          2.8         6.7          2.0         virginica\n",
       "124 6.3          2.7         4.9          1.8         virginica\n",
       "125 6.7          3.3         5.7          2.1         virginica\n",
       "126 7.2          3.2         6.0          1.8         virginica\n",
       "127 6.2          2.8         4.8          1.8         virginica\n",
       "128 6.1          3.0         4.9          1.8         virginica\n",
       "129 6.4          2.8         5.6          2.1         virginica\n",
       "130 7.2          3.0         5.8          1.6         virginica\n",
       "131 7.4          2.8         6.1          1.9         virginica\n",
       "132 7.9          3.8         6.4          2.0         virginica\n",
       "133 6.4          2.8         5.6          2.2         virginica\n",
       "134 6.3          2.8         5.1          1.5         virginica\n",
       "135 6.1          2.6         5.6          1.4         virginica\n",
       "136 7.7          3.0         6.1          2.3         virginica\n",
       "137 6.3          3.4         5.6          2.4         virginica\n",
       "138 6.4          3.1         5.5          1.8         virginica\n",
       "139 6.0          3.0         4.8          1.8         virginica\n",
       "140 6.9          3.1         5.4          2.1         virginica\n",
       "141 6.7          3.1         5.6          2.4         virginica\n",
       "142 6.9          3.1         5.1          2.3         virginica\n",
       "143 5.8          2.7         5.1          1.9         virginica\n",
       "144 6.8          3.2         5.9          2.3         virginica\n",
       "145 6.7          3.3         5.7          2.5         virginica\n",
       "146 6.7          3.0         5.2          2.3         virginica\n",
       "147 6.3          2.5         5.0          1.9         virginica\n",
       "148 6.5          3.0         5.2          2.0         virginica\n",
       "149 6.2          3.4         5.4          2.3         virginica\n",
       "150 5.9          3.0         5.1          1.8         virginica"
      ]
     },
     "metadata": {},
     "output_type": "display_data"
    }
   ],
   "source": [
    "iris"
   ]
  },
  {
   "cell_type": "markdown",
   "id": "bed05bcc",
   "metadata": {},
   "source": [
    "## Dispersión"
   ]
  },
  {
   "cell_type": "markdown",
   "id": "708230a7",
   "metadata": {},
   "source": [
    "y<-read.csv(\"http://www.seracademia.com/academia/massa.csv\")\n",
    "<pre>plot(y$A, y$B,\n",
    "     col='red',\n",
    "     main='Scatterplot',\n",
    "     xlab='Nidos A',\n",
    "     ylab='Nidos B',\n",
    "     pch=19)"
   ]
  },
  {
   "cell_type": "code",
   "execution_count": 42,
   "id": "60e7f1d4",
   "metadata": {},
   "outputs": [
    {
     "data": {
      "image/png": "[encoded data removed]",
      "text/plain": [
       "Plot with title \"Scatterplot\""
      ]
     },
     "metadata": {
      "image/png": {
       "height": 420,
       "width": 420
      }
     },
     "output_type": "display_data"
    }
   ],
   "source": [
    "y<-read.csv(\"http://www.seracademia.com/academia/massa.csv\")\n",
    "plot(y$A, y$B,\n",
    "     col='red',\n",
    "     main='Scatterplot',\n",
    "     xlab='Nidos A',\n",
    "     ylab='Nidos B',\n",
    "     pch=19)"
   ]
  },
  {
   "cell_type": "markdown",
   "id": "2af3c674",
   "metadata": {},
   "source": [
    "## Box plot\n",
    "Cuartiles entre 25% y 75%, así como los máximos y mínimos\n",
    "\n"
   ]
  },
  {
   "cell_type": "markdown",
   "id": "8bf4195e",
   "metadata": {},
   "source": [
    "y<-read.csv(\"http://www.seracademia.com/academia/massa.csv\")  \n",
    "\n",
    "boxplot(y, col=\"yellow\", ylab=\"Masa(g)\", xlab=\"Ubicación del nido\")"
   ]
  },
  {
   "cell_type": "code",
   "execution_count": 53,
   "id": "2837c89c",
   "metadata": {
    "scrolled": true
   },
   "outputs": [
    {
     "data": {
      "image/png": "[encoded data removed]",
      "text/plain": [
       "plot without title"
      ]
     },
     "metadata": {
      "image/png": {
       "height": 420,
       "width": 420
      }
     },
     "output_type": "display_data"
    }
   ],
   "source": [
    "y<-read.csv(\"http://www.seracademia.com/academia/massa.csv\")\n",
    "\n",
    "boxplot(y, col=2:5, ylab=\"Masa(g)\", xlab=\"Ubicación del nido\")"
   ]
  },
  {
   "cell_type": "markdown",
   "id": "2a2f8198",
   "metadata": {},
   "source": [
    "## Mapa de calor"
   ]
  },
  {
   "cell_type": "markdown",
   "id": "a3571321",
   "metadata": {},
   "source": [
    "y<-read.csv(\"http://www.seracademia.com/academia/massa.csv\")\n",
    "\n",
    "\n",
    "cor(data.frame(y))"
   ]
  },
  {
   "cell_type": "code",
   "execution_count": 44,
   "id": "336b3139",
   "metadata": {
    "scrolled": true
   },
   "outputs": [
    {
     "data": {
      "text/html": [
       "<table class=\"dataframe\">\n",
       "<caption>A matrix: 4 × 4 of type dbl</caption>\n",
       "<thead>\n",
       "\t<tr><th></th><th scope=col>A</th><th scope=col>B</th><th scope=col>C</th><th scope=col>D</th></tr>\n",
       "</thead>\n",
       "<tbody>\n",
       "\t<tr><th scope=row>A</th><td> 1.000000000</td><td>-0.004401999</td><td>-0.2299540</td><td>-0.5879739</td></tr>\n",
       "\t<tr><th scope=row>B</th><td>-0.004401999</td><td> 1.000000000</td><td>-0.3812249</td><td> 0.1757441</td></tr>\n",
       "\t<tr><th scope=row>C</th><td>-0.229954014</td><td>-0.381224882</td><td> 1.0000000</td><td> 0.4916448</td></tr>\n",
       "\t<tr><th scope=row>D</th><td>-0.587973941</td><td> 0.175744057</td><td> 0.4916448</td><td> 1.0000000</td></tr>\n",
       "</tbody>\n",
       "</table>\n"
      ],
      "text/latex": [
       "A matrix: 4 × 4 of type dbl\n",
       "\\begin{tabular}{r|llll}\n",
       "  & A & B & C & D\\\\\n",
       "\\hline\n",
       "\tA &  1.000000000 & -0.004401999 & -0.2299540 & -0.5879739\\\\\n",
       "\tB & -0.004401999 &  1.000000000 & -0.3812249 &  0.1757441\\\\\n",
       "\tC & -0.229954014 & -0.381224882 &  1.0000000 &  0.4916448\\\\\n",
       "\tD & -0.587973941 &  0.175744057 &  0.4916448 &  1.0000000\\\\\n",
       "\\end{tabular}\n"
      ],
      "text/markdown": [
       "\n",
       "A matrix: 4 × 4 of type dbl\n",
       "\n",
       "| <!--/--> | A | B | C | D |\n",
       "|---|---|---|---|---|\n",
       "| A |  1.000000000 | -0.004401999 | -0.2299540 | -0.5879739 |\n",
       "| B | -0.004401999 |  1.000000000 | -0.3812249 |  0.1757441 |\n",
       "| C | -0.229954014 | -0.381224882 |  1.0000000 |  0.4916448 |\n",
       "| D | -0.587973941 |  0.175744057 |  0.4916448 |  1.0000000 |\n",
       "\n"
      ],
      "text/plain": [
       "  A            B            C          D         \n",
       "A  1.000000000 -0.004401999 -0.2299540 -0.5879739\n",
       "B -0.004401999  1.000000000 -0.3812249  0.1757441\n",
       "C -0.229954014 -0.381224882  1.0000000  0.4916448\n",
       "D -0.587973941  0.175744057  0.4916448  1.0000000"
      ]
     },
     "metadata": {},
     "output_type": "display_data"
    }
   ],
   "source": [
    "y<-read.csv(\"http://www.seracademia.com/academia/massa.csv\")\n",
    "\n",
    "\n",
    "cor(data.frame(y))"
   ]
  },
  {
   "cell_type": "markdown",
   "id": "faabba6d",
   "metadata": {},
   "source": [
    "y<-read.csv(\"http://www.seracademia.com/academia/massa.csv\")\n",
    "\n",
    "heatmap(cor(data.frame(y)))"
   ]
  },
  {
   "cell_type": "code",
   "execution_count": 45,
   "id": "02fbf703",
   "metadata": {
    "scrolled": true
   },
   "outputs": [
    {
     "data": {
      "image/png": "[encoded data removed]",
      "text/plain": [
       "plot without title"
      ]
     },
     "metadata": {
      "image/png": {
       "height": 420,
       "width": 420
      }
     },
     "output_type": "display_data"
    }
   ],
   "source": [
    "y<-read.csv(\"http://www.seracademia.com/academia/massa.csv\")\n",
    "\n",
    "heatmap(cor(data.frame(y)))"
   ]
  },
  {
   "cell_type": "markdown",
   "id": "7eca3c33",
   "metadata": {},
   "source": [
    "# Mas de Gráficos en R\n",
    "El estudiante puede revisar a mas detalle otros aspectos de R para presentar gráficos con la librería ggplot2"
   ]
  },
  {
   "cell_type": "markdown",
   "id": "7aeec5d8",
   "metadata": {},
   "source": [
    "# Instalar nuevos paquetes en R\n",
    "* Los paquetes son colecciones de funciones que pueden ser utilizadas para llevar a cabo análisis específicos\n",
    "* Están bien documentados, puesto que tienen que contar con manuales y viñetas\n",
    "* Se encuentran disponibles en el repositorio del CRAN, Bioconductor, y en sitios personales como GitHub\n",
    "* Se instalan con la función install.packages()\n",
    "* Una vez instalados, para su utilización deben ser cargados con la función library()\n",
    "\n",
    "## Paquetes recomendados:\n",
    "* tidyverse\n",
    "* ggplot2\n",
    "* dplyr\n",
    "* tidyr\n",
    "* readr\n",
    "* purr\n",
    "* stringr\n",
    "* tibble\n",
    "\n",
    "Por ejemplo par ainstalar la librería tidyverse ejecute en su consola de R:  \n",
    "\n",
    "install.packages(“tidyverse”)    \n",
    "\n"
   ]
  },
  {
   "cell_type": "markdown",
   "id": "df8bfe56",
   "metadata": {},
   "source": [
    "# R Estructuras de programación\n",
    "## Estructuras de control y manejo de datos\n",
    "\n",
    "En los lenguajes de programación, se entiende por estructuras de control aquellas construcciones sintácticas del lenguaje que dirigen el flujo de la ejecución de un programa en una dirección o en otra dentro de su código.\n"
   ]
  },
  {
   "cell_type": "markdown",
   "id": "6a6285f1",
   "metadata": {},
   "source": [
    "## Condicionante IF - ELSE\n",
    "\n",
    "Estas construcciones son semejantes a las de otros lenguajes de programación, con una salvedad que puede ser capitalizada por los usuarios del lenguaje: la construcción en sí misma regresa un valor, que puede, si se quiere, ser asignado a una variable o utilizado de otras maneras."
   ]
  },
  {
   "cell_type": "markdown",
   "id": "c3489cfd",
   "metadata": {},
   "source": [
    "if(condición){  \n",
    "instrucción 1  \n",
    "insrucción 2  \n",
    "...  \n",
    "}  "
   ]
  },
  {
   "cell_type": "markdown",
   "id": "f56398ce",
   "metadata": {},
   "source": [
    "## Condicionante IF con ELSE \n",
    "\n",
    "if(condición){  \n",
    "instrucción 1  \n",
    "instrucción 2  \n",
    "...  \n",
    "} else {  \n",
    "instrucción 3  \n",
    "instrucción 4  \n",
    "}  "
   ]
  },
  {
   "cell_type": "markdown",
   "id": "efc740c9",
   "metadata": {},
   "source": [
    "## Condicionante IF con ELSE IF y ELSE \n",
    "\n",
    "if(condición){  \n",
    "  instrucción 1  \n",
    "  instrucción 2  \n",
    "...  \n",
    "} else if () {  \n",
    "  instrucción 3  \n",
    "  instrucción 4  \n",
    "} else {  \n",
    "  instrucción 5  \n",
    "  instrucción 6  \n",
    "}  "
   ]
  },
  {
   "cell_type": "markdown",
   "id": "6ecbfff2",
   "metadata": {},
   "source": [
    "## Condicionante IF a una variable\n",
    "\n",
    "variable <- if(condición) VALOR"
   ]
  },
  {
   "cell_type": "markdown",
   "id": "ecea2fb0",
   "metadata": {},
   "source": [
    "variable  <- \"desconocida\"  \n",
    "variable  <- if (iris$Species[10]==\"setosa\") \"setosa\"  \n",
    "sprintf(\"la especie es; %s\", variable)  "
   ]
  },
  {
   "cell_type": "code",
   "execution_count": 54,
   "id": "1e972d78",
   "metadata": {},
   "outputs": [
    {
     "data": {
      "text/html": [
       "'la especie es; setosa'"
      ],
      "text/latex": [
       "'la especie es; setosa'"
      ],
      "text/markdown": [
       "'la especie es; setosa'"
      ],
      "text/plain": [
       "[1] \"la especie es; setosa\""
      ]
     },
     "metadata": {},
     "output_type": "display_data"
    }
   ],
   "source": [
    "variable  <- \"desconocida\"\n",
    "variable  <- if (iris$Species[10]==\"setosa\") \"setosa\"\n",
    "sprintf(\"la especie es; %s\", variable)"
   ]
  },
  {
   "cell_type": "markdown",
   "id": "ccafdb25",
   "metadata": {},
   "source": [
    "### Conclusiones y recomendaciones"
   ]
  },
  {
   "cell_type": "markdown",
   "id": "aecd71af",
   "metadata": {},
   "source": [
    "- El lenguaje R tiene una gran variedad de funciones muy útiles que permiten realizar análisis estadísticos de manera muy secilla en comparación a otros lenguajes de programación\n",
    "- Manejar un cuaderno como jupyter permite aumentar la flexibilidad al momento de crear código de manera más visual e intuitiva\n",
    "- R puede llegar a tener una curva de aprendizaje más alta que otros lenguajes, sin embargo la cantidad de herramientas que posee, lo vuelve un lenguaje más poderoso en ámbitos como la estadística y la bioinformática"
   ]
  },
  {
   "cell_type": "code",
   "execution_count": null,
   "id": "92c2088a",
   "metadata": {},
   "outputs": [],
   "source": []
  }
 ],
 "metadata": {
  "kernelspec": {
   "display_name": "R",
   "language": "R",
   "name": "ir"
  },
  "language_info": {
   "codemirror_mode": "r",
   "file_extension": ".r",
   "mimetype": "text/x-r-source",
   "name": "R",
   "pygments_lexer": "r",
   "version": "4.2.2"
  }
 },
 "nbformat": 4,
 "nbformat_minor": 5
}
