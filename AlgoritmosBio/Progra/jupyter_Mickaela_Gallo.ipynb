{
 "cells": [
  {
   "cell_type": "markdown",
   "id": "bd634359",
   "metadata": {},
   "source": [
    "# Programación para las ciencias biológicas\n",
    "M7: Python\n",
    "#### Docente:Charles Escobar\n",
    "#### Alumna: Mickaela Gallo"
   ]
  },
  {
   "cell_type": "markdown",
   "id": "3cb354b1",
   "metadata": {},
   "source": [
    "## Ejercicio carga neta\n",
    "A un pH fijo es posible calcular la carga neta de una proteína sumando la carga de sus aminoácidos\n",
    "individuales. Esto es una aproximación ya que no se tiene en cuenta si los aminoácidos están\n",
    "expuestos u ocultos en la estructura de la proteína. Este programa tampoco tiene en cuenta el hecho\n",
    "de que la cisteína agrega carga solo cuando no es parte de un puente disulfuro. Dado que es un valor\n",
    "aproximado, los valores obtenidos deben considerarse como una estimación."
   ]
  },
  {
   "cell_type": "markdown",
   "id": "3d091eef",
   "metadata": {},
   "source": [
    "Ingresamos la secuencia"
   ]
  },
  {
   "cell_type": "code",
   "execution_count": 9,
   "id": "da425d8f",
   "metadata": {},
   "outputs": [],
   "source": [
    "prot_seq = input('Secuencia de la proteína: ')"
   ]
  },
  {
   "cell_type": "markdown",
   "id": "223ac93f",
   "metadata": {},
   "source": [
    "Indicamos el peso de las proteínas"
   ]
  },
  {
   "cell_type": "code",
   "execution_count": 10,
   "id": "78c6b737",
   "metadata": {},
   "outputs": [],
   "source": [
    "charge = -0.002"
   ]
  },
  {
   "cell_type": "code",
   "execution_count": 11,
   "id": "dfc97c8d",
   "metadata": {},
   "outputs": [],
   "source": [
    "prot_charge = {'C':-.045, 'D':-.999, 'E':-.998,\n",
    "               'H':.091, 'K':1, 'R':1, 'Y':-.001}"
   ]
  },
  {
   "cell_type": "markdown",
   "id": "e39fb520",
   "metadata": {},
   "source": [
    "Inicio del bucle:\n",
    "\n",
    "A partir de este paso los caracteres de cada aminoácido se transforma a mayúscula"
   ]
  },
  {
   "cell_type": "code",
   "execution_count": 12,
   "id": "b19679d9",
   "metadata": {},
   "outputs": [],
   "source": [
    "for carga in prot_seq.upper():\n",
    "    if carga in prot_charge:\n",
    "        charge+= prot_charge[carga]"
   ]
  },
  {
   "cell_type": "markdown",
   "id": "4e501bf9",
   "metadata": {},
   "source": [
    "Visualizamos la carga neta"
   ]
  },
  {
   "cell_type": "code",
   "execution_count": 13,
   "id": "3c10a59c",
   "metadata": {},
   "outputs": [
    {
     "name": "stdout",
     "output_type": "stream",
     "text": [
      "-7.126000000000001\n"
     ]
    }
   ],
   "source": [
    "print(charge)"
   ]
  },
  {
   "cell_type": "markdown",
   "id": "99a70516",
   "metadata": {},
   "source": [
    "## Ejercicio peso molecular\n",
    "\n",
    "El siguiente código calcula el peso molecular de una proteína basado en sus aminoácidos individuales. Dado que el aminoácido se almacena en una cadena, el programa recorrerá cada letra usando for."
   ]
  },
  {
   "cell_type": "markdown",
   "id": "42dd509f",
   "metadata": {},
   "source": [
    "Ingresamos la secuencia"
   ]
  },
  {
   "cell_type": "code",
   "execution_count": 14,
   "id": "29ff980d",
   "metadata": {},
   "outputs": [],
   "source": [
    "prot_seq = input('Ingrese la secuencia de la proteína: ')"
   ]
  },
  {
   "cell_type": "markdown",
   "id": "32e91215",
   "metadata": {},
   "source": [
    "Indicamos el peso molecular de las proteínas"
   ]
  },
  {
   "cell_type": "code",
   "execution_count": 15,
   "id": "d451827c",
   "metadata": {},
   "outputs": [],
   "source": [
    "prot_weight = {'A':89, 'V':117, 'L':131, 'I':131, 'P':115,\n",
    "                'F':165, 'W':204, 'M':149, 'G':75, 'S':105,\n",
    "                'C':121, 'T':119, 'Y':181, 'N':132, 'Q':146,\n",
    "                'D':133, 'E':147, 'K':146, 'R':174, 'H':155}"
   ]
  },
  {
   "cell_type": "code",
   "execution_count": 16,
   "id": "d8e27afc",
   "metadata": {},
   "outputs": [],
   "source": [
    "total_weight = 0"
   ]
  },
  {
   "cell_type": "markdown",
   "id": "6843809d",
   "metadata": {},
   "source": [
    "Inicio del bucle:"
   ]
  },
  {
   "cell_type": "code",
   "execution_count": 17,
   "id": "f03d5323",
   "metadata": {},
   "outputs": [],
   "source": [
    "\n",
    "for proteina in prot_seq:\n",
    "    total_weight = total_weight + prot_weight.get(proteina.upper(), 0)\n",
    "total_weight = total_weight - (18 * (len(prot_seq) - 1))  # Se ajusta el peso total "
   ]
  },
  {
   "cell_type": "markdown",
   "id": "07c3b4c9",
   "metadata": {},
   "source": [
    "Visualizamos el peso molecular neto"
   ]
  },
  {
   "cell_type": "code",
   "execution_count": 18,
   "id": "812505ae",
   "metadata": {},
   "outputs": [
    {
     "name": "stdout",
     "output_type": "stream",
     "text": [
      "El peso neto es : 675\n"
     ]
    }
   ],
   "source": [
    "print('El peso neto es : {}'.format(total_weight))"
   ]
  },
  {
   "cell_type": "code",
   "execution_count": 19,
   "id": "dac2dc1e",
   "metadata": {},
   "outputs": [],
   "source": [
    "i=0"
   ]
  },
  {
   "cell_type": "markdown",
   "id": "8e8228a5",
   "metadata": {},
   "source": [
    "Visualizamos los números de 0 al 8 incrementando 2 en cada iteración"
   ]
  },
  {
   "cell_type": "code",
   "execution_count": 20,
   "id": "3bb821b2",
   "metadata": {},
   "outputs": [
    {
     "name": "stdout",
     "output_type": "stream",
     "text": [
      "0\n",
      "2\n",
      "4\n",
      "6\n",
      "8\n"
     ]
    }
   ],
   "source": [
    "while i < 10:\n",
    "    print(i)\n",
    "    i+=2"
   ]
  },
  {
   "cell_type": "code",
   "execution_count": null,
   "outputs": [],
   "source": [],
   "metadata": {
    "collapsed": false
   }
  }
 ],
 "metadata": {
  "kernelspec": {
   "display_name": "Python 3 (ipykernel)",
   "language": "python",
   "name": "python3"
  },
  "language_info": {
   "codemirror_mode": {
    "name": "ipython",
    "version": 3
   },
   "file_extension": ".py",
   "mimetype": "text/x-python",
   "name": "python",
   "nbconvert_exporter": "python",
   "pygments_lexer": "ipython3",
   "version": "3.10.6"
  }
 },
 "nbformat": 4,
 "nbformat_minor": 5
}
