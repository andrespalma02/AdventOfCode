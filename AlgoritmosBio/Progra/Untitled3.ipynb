{
 "cells": [
  {
   "cell_type": "markdown",
   "id": "2d0ab696",
   "metadata": {},
   "source": []
  },
  {
   "cell_type": "markdown",
   "id": "1434bd78",
   "metadata": {},
   "source": []
  },
  {
   "cell_type": "markdown",
   "id": "95cc7b2a",
   "metadata": {},
   "source": [
    "## 1 Programación para las ciencias biológicas - Python, parte 2"
   ]
  },
  {
   "cell_type": "markdown",
   "id": "a128ad6c",
   "metadata": {},
   "source": [
    "### 1.1 Python"
   ]
  },
  {
   "cell_type": "markdown",
   "id": "f7d0bf6b",
   "metadata": {},
   "source": [
    "**Charles Escobar**\n",
    "\n",
    "2022"
   ]
  },
  {
   "cell_type": "markdown",
   "id": "a67f2171",
   "metadata": {},
   "source": [
    "## 2 Conjuntos"
   ]
  },
  {
   "cell_type": "markdown",
   "id": "68ef5568",
   "metadata": {},
   "source": [
    "**Colección desordenada de objetos**"
   ]
  },
  {
   "cell_type": "markdown",
   "id": "656e8c35",
   "metadata": {},
   "source": [
    "(PYTHON FOR BIOINFORMATICS, Sebastián Bassi, 2018)\n",
    "\n",
    "Este tipo de datos tampoco se encuentra comúnmente en otros lenguajes de programación. Un\n",
    "conjunto es una estructura que vemos con frecuencia en la matemática. Los conjuntos son similares\n",
    "a las listas, con dos diferencias destacadas: sus elementos no conservan un orden implícito y cada\n",
    "elemento es único. Los usos más comunes de los conjuntos son las pruebas de membresía, la\n",
    "eliminación de duplicados y la aplicación de operaciones matemáticas:\n",
    "- intersecciones,\n",
    "- uniones,\n",
    "- diferencias y diferencias simétricas.\n",
    "\n",
    "Dado que un conjunto (set) no acepta elementos repetidos no hay efecto si se trata de agregar un\n",
    "elemento que ya esté en el conjunto\n",
    "\n",
    "**Creando un conjunto**\n",
    "\n",
    "\n",
    "Los conjuntos son creados con la instrucción set():\n"
   ]
  },
  {
   "cell_type": "code",
   "execution_count": 1,
   "id": "c1b4e501",
   "metadata": {},
   "outputs": [
    {
     "name": "stdout",
     "output_type": "stream",
     "text": [
      "{'XJ8113.5', 'EF3617.3', 'CP0141.1'}\n"
     ]
    }
   ],
   "source": [
    "A = {'CP0141.1','XJ8113.5','EF3617.3'}\n",
    "print(A)"
   ]
  },
  {
   "cell_type": "markdown",
   "id": "a7c7ead4",
   "metadata": {},
   "source": [
    "Es también posible crear un conjunto vacío y luego agregar tantos elementos como hagan falta:"
   ]
  },
  {
   "cell_type": "code",
   "execution_count": 2,
   "id": "582c2b32",
   "metadata": {},
   "outputs": [
    {
     "name": "stdout",
     "output_type": "stream",
     "text": [
      "{'XJ8113.5', 'CP0140.1', 'EF3616.3'}\n"
     ]
    }
   ],
   "source": [
    "B = set()\n",
    "B.add('CP0140.1')\n",
    "B.add('XJ8113.5')\n",
    "B.add('EF3616.3')\n",
    "print(B)"
   ]
  },
  {
   "cell_type": "markdown",
   "id": "0e13bbc5",
   "metadata": {},
   "source": [
    "### 2.1  Operaciones de conjuntos"
   ]
  },
  {
   "cell_type": "markdown",
   "id": "26f407cf",
   "metadata": {},
   "source": [
    "#### 2.1.1 Unión"
   ]
  },
  {
   "cell_type": "markdown",
   "id": "0584c3f6",
   "metadata": {},
   "source": [
    "𝐴 ∪ 𝐵\n",
    "\n",
    "La unión de dos (o más) conjuntos es el operador union y se abrevia de la forma |"
   ]
  },
  {
   "cell_type": "code",
   "execution_count": 3,
   "id": "3f9ec0f4",
   "metadata": {},
   "outputs": [
    {
     "name": "stdout",
     "output_type": "stream",
     "text": [
      "{'XJ8113.5', 'EF3617.3', 'CP0140.1', 'CP0141.1', 'EF3616.3'}\n"
     ]
    }
   ],
   "source": [
    " A_u_B=A.union(B)\n",
    "print(A_u_B)\n"
   ]
  },
  {
   "cell_type": "markdown",
   "id": "ef27abb5",
   "metadata": {},
   "source": [
    "#### 2.1.2 Intersección  (&)"
   ]
  },
  {
   "cell_type": "markdown",
   "id": "6a5c1fce",
   "metadata": {},
   "source": [
    "𝐴 ∩ 𝐵\n",
    "Para obtener los elementos en común de dos conjuntos se usa el operador **intersection():**\n"
   ]
  },
  {
   "cell_type": "code",
   "execution_count": 4,
   "id": "5e67cc5d",
   "metadata": {},
   "outputs": [
    {
     "name": "stdout",
     "output_type": "stream",
     "text": [
      "{'XJ8113.5'}\n"
     ]
    }
   ],
   "source": [
    "A_n_B=A.intersection(B)\n",
    "print(A_n_B)"
   ]
  },
  {
   "cell_type": "code",
   "execution_count": 5,
   "id": "e188d872",
   "metadata": {},
   "outputs": [
    {
     "data": {
      "text/plain": "{'CP0140.1', 'EF3616.3'}"
     },
     "execution_count": 5,
     "metadata": {},
     "output_type": "execute_result"
    }
   ],
   "source": [
    "B.difference(A)"
   ]
  },
  {
   "cell_type": "code",
   "execution_count": 6,
   "id": "ec59a4dc",
   "metadata": {},
   "outputs": [
    {
     "data": {
      "text/plain": "{'CP0141.1', 'EF3617.3'}"
     },
     "execution_count": 6,
     "metadata": {},
     "output_type": "execute_result"
    }
   ],
   "source": [
    "A.difference(B)"
   ]
  },
  {
   "cell_type": "code",
   "execution_count": 7,
   "id": "7944782d",
   "metadata": {},
   "outputs": [
    {
     "data": {
      "text/plain": "{'CP0140.1', 'CP0141.1', 'EF3616.3', 'EF3617.3'}"
     },
     "execution_count": 7,
     "metadata": {},
     "output_type": "execute_result"
    }
   ],
   "source": [
    "A.symmetric_difference(B)"
   ]
  },
  {
   "cell_type": "code",
   "execution_count": 8,
   "id": "fc313f03",
   "metadata": {},
   "outputs": [
    {
     "data": {
      "text/plain": "'XJ8113.5'"
     },
     "execution_count": 8,
     "metadata": {},
     "output_type": "execute_result"
    }
   ],
   "source": [
    "max(A)"
   ]
  },
  {
   "cell_type": "code",
   "execution_count": 9,
   "id": "90f9ece0",
   "metadata": {},
   "outputs": [
    {
     "data": {
      "text/plain": "3"
     },
     "execution_count": 9,
     "metadata": {},
     "output_type": "execute_result"
    }
   ],
   "source": [
    "len(B)"
   ]
  },
  {
   "cell_type": "code",
   "execution_count": 12,
   "id": "fedf70b1",
   "metadata": {},
   "outputs": [
    {
     "name": "stdout",
     "output_type": "stream",
     "text": [
      "['XJ8113.5', 'EF3617.3', 'CP0141.1']\n"
     ]
    }
   ],
   "source": [
    "Lista_A=list(A)\n",
    "print(Lista_A)"
   ]
  },
  {
   "cell_type": "code",
   "execution_count": 13,
   "id": "7cbad806",
   "metadata": {},
   "outputs": [
    {
     "name": "stdout",
     "output_type": "stream",
     "text": [
      "frozenset({'a', 'b'})\n"
     ]
    }
   ],
   "source": [
    "fs = frozenset(['a','b'])\n",
    "print(fs)"
   ]
  },
  {
   "cell_type": "code",
   "execution_count": 10,
   "id": "2df4b8a1",
   "metadata": {},
   "outputs": [],
   "source": [
    "fs.remove('a')"
   ]
  },
  {
   "cell_type": "code",
   "execution_count": 10,
   "id": "84b5af91",
   "metadata": {},
   "outputs": [],
   "source": [
    "sequences = open('/home/jupyter/Libreta/Sample Data/t-coffee/sample_dnaseq1.\n",
    "↪fasta', 'r')\n",
    "print(sequences.read())"
   ]
  },
  {
   "cell_type": "code",
   "execution_count": 10,
   "id": "f0b8898c",
   "metadata": {},
   "outputs": [],
   "source": []
  }
 ],
 "metadata": {
  "kernelspec": {
   "display_name": "Python 3 (ipykernel)",
   "language": "python",
   "name": "python3"
  },
  "language_info": {
   "codemirror_mode": {
    "name": "ipython",
    "version": 3
   },
   "file_extension": ".py",
   "mimetype": "text/x-python",
   "name": "python",
   "nbconvert_exporter": "python",
   "pygments_lexer": "ipython3",
   "version": "3.10.6"
  }
 },
 "nbformat": 4,
 "nbformat_minor": 5
}
