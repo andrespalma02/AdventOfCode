{
 "cells": [
  {
   "cell_type": "markdown",
   "source": [
    "## Programación para las ciencias biológicas - Carga neta y peso molecular\n",
    "**Docente:** Charles Escobar\n",
    "2023"
   ],
   "metadata": {
    "collapsed": false
   }
  },
  {
   "cell_type": "markdown",
   "source": [
    "**Nombre del estudiante:**\n",
    "Andrés Palma"
   ],
   "metadata": {
    "collapsed": false
   }
  },
  {
   "cell_type": "markdown",
   "source": [
    "### Ejercicio 1. Cálculo de peso molecular\n",
    "El siguiente código calcula el peso molecular de una proteína basado en sus aminoácidos\n",
    "individuales. Dado que el aminoácido se almacena en una cadena, el programa recorrerá\n",
    "cada letra usando for."
   ],
   "metadata": {
    "collapsed": false
   }
  },
  {
   "cell_type": "code",
   "execution_count": 1,
   "outputs": [],
   "source": [
    "prot_seq = input('Ingrese la secuencia de la proteína: ')\n",
    "prot_weight = {'A':89, 'V':117, 'L':131, 'I':131, 'P':115,\n",
    "                'F':165, 'W':204, 'M':149, 'G':75, 'S':105,\n",
    "                'C':121, 'T':119, 'Y':181, 'N':132, 'Q':146,\n",
    "                'D':133, 'E':147, 'K':146, 'R':174, 'H':155}"
   ],
   "metadata": {
    "collapsed": false
   }
  },
  {
   "cell_type": "code",
   "execution_count": 2,
   "outputs": [
    {
     "name": "stdout",
     "output_type": "stream",
     "text": [
      "La secuencia válida es: CDSFEFET\n"
     ]
    }
   ],
   "source": [
    "seq_valida=''\n",
    "for aminoacido in prot_seq.upper():\n",
    "    if aminoacido in prot_weight:\n",
    "        seq_valida += aminoacido\n",
    "print('La secuencia válida es: {}'.format(seq_valida))"
   ],
   "metadata": {
    "collapsed": false
   }
  },
  {
   "cell_type": "code",
   "execution_count": 4,
   "outputs": [
    {
     "name": "stdout",
     "output_type": "stream",
     "text": [
      "El peso neto es : 886\n"
     ]
    }
   ],
   "source": [
    "total_weight = 0\n",
    "for proteina in prot_seq:\n",
    "    total_weight = total_weight + prot_weight.get(proteina.upper(), 0)\n",
    "total_weight = total_weight - (18 * (len(prot_seq) - 1))\n",
    "print('El peso neto es : {}'.format(total_weight))"
   ],
   "metadata": {
    "collapsed": false
   }
  },
  {
   "cell_type": "markdown",
   "source": [
    "### Ejercicio 2. Cálculo de la carga neta\n",
    "A un pH fijo es posible calcular la carga neta de una proteína sumando la carga de sus aminoácidos individuales. Esto\n",
    "es una aproximación ya que no se tiene en cuenta si los aminoácidos están expuestos u ocultos en la estructura de la\n",
    "proteína. Este programa tampoco tiene en cuenta el hecho de que la cisteína agrega carga solo cuando no es parte de\n",
    "un puente disulfuro. Dado que es un valor aproximado, los valores obtenidos deben considerarse como una estimación."
   ],
   "metadata": {
    "collapsed": false
   }
  },
  {
   "cell_type": "code",
   "execution_count": 5,
   "outputs": [],
   "source": [
    "prot_seq = input('Secuencia de la proteína: ')"
   ],
   "metadata": {
    "collapsed": false
   }
  },
  {
   "cell_type": "code",
   "execution_count": 6,
   "outputs": [],
   "source": [
    "charge = -0.002\n",
    "prot_charge = {'C':-.045, 'D':-.999, 'E':-.998,\n",
    "               'H':.091, 'K':1, 'R':1, 'Y':-.001}"
   ],
   "metadata": {
    "collapsed": false
   }
  },
  {
   "cell_type": "code",
   "execution_count": 7,
   "outputs": [
    {
     "name": "stdout",
     "output_type": "stream",
     "text": [
      "La secuencia válida es: DERREFKLKTLT\n"
     ]
    }
   ],
   "source": [
    "seq_valida = ''\n",
    "for aminoacido in prot_seq.upper():\n",
    "    if aminoacido in prot_weight:\n",
    "        seq_valida += aminoacido\n",
    "print('La secuencia válida es: {}'.format(seq_valida))"
   ],
   "metadata": {
    "collapsed": false
   }
  },
  {
   "cell_type": "code",
   "execution_count": 8,
   "outputs": [
    {
     "name": "stdout",
     "output_type": "stream",
     "text": [
      "1.0030000000000001\n"
     ]
    }
   ],
   "source": [
    "for carga in prot_seq.upper():\n",
    "    if carga in prot_charge:\n",
    "        charge+= prot_charge[carga]\n",
    "print(charge)"
   ],
   "metadata": {
    "collapsed": false
   }
  },
  {
   "cell_type": "markdown",
   "source": [
    "### Conclusiones y recomendaciones"
   ],
   "metadata": {
    "collapsed": false
   }
  },
  {
   "cell_type": "markdown",
   "source": [
    "- La conversión de un script a un cuaderno de jupyter resulta muy conveniente, ya que permite la ejecución de cada\n",
    "bloque de código de manera independiente, lo que facilita la depuración del código, además de ser mucho más versátil\n",
    " visual.\n",
    " - Si bien existen herramientas especializadas para la realización de este tipo de cálculos, es importante conocer y entender los algoritmos utilizados, permitiendo practicar y mejorar las habilidades de programación.\n",
    "  - Existen varias estructuras y funciones que facilitan la realización de ciertos cálculos dentro de python,\n",
    "  facilitando así la realización de tareas de bioinformática."
   ],
   "metadata": {
    "collapsed": false
   }
  },
  {
   "cell_type": "markdown",
   "source": [],
   "metadata": {
    "collapsed": false
   }
  }
 ],
 "metadata": {
  "kernelspec": {
   "display_name": "Python 3",
   "language": "python",
   "name": "python3"
  },
  "language_info": {
   "codemirror_mode": {
    "name": "ipython",
    "version": 2
   },
   "file_extension": ".py",
   "mimetype": "text/x-python",
   "name": "python",
   "nbconvert_exporter": "python",
   "pygments_lexer": "ipython2",
   "version": "2.7.6"
  }
 },
 "nbformat": 4,
 "nbformat_minor": 0
}
