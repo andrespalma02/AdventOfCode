{
 "cells": [
  {
   "cell_type": "markdown",
   "id": "7f5ff283",
   "metadata": {},
   "source": [
    "# Visualización en R\n",
    "Taller elaborado por Alfonso Prado  \n",
    "Migrado a Jupyter por Charles Escobar  \n",
    "PUCE - 2022  "
   ]
  },
  {
   "cell_type": "markdown",
   "id": "1acf8a27",
   "metadata": {
    "slideshow": {
     "slide_type": "-"
    }
   },
   "source": [
    "# ggplot2 \n",
    "* **[Visualizaciones de Cantidades](#Cantidades)**\n",
    "* **[Visualizaciones de Dispersión](#Dispersion)**\n",
    "* **[Visualización de Proporciones](#Proporciones)** \n",
    "* **[Visualizaciones de Data Geoespacial](#Geoespacial)** "
   ]
  },
  {
   "cell_type": "markdown",
   "id": "bf7a441e",
   "metadata": {},
   "source": [
    "ggplot2 es un paquete de visualización de datos para el lenguaje R. \n",
    "\n",
    "Es un esquema general para la visualización de datos que divide los gráficos en componentes semánticos en una modalidad de capas. \n",
    "\n",
    "ggplot2 es un paquete mejorado de los gráficos base en R (plot) \n",
    "\n",
    "La versión última es 3.3.5 y puede descargarse desde cran"
   ]
  },
  {
   "cell_type": "markdown",
   "id": "409ecf11",
   "metadata": {},
   "source": [
    "Forma parte del paquete Tidyverse, un sistema para la manipulación, exploración y visualización de datos que comparten una filosofía de diseño común. Los paquetes de Tidyverse están destinados a ser usados por estadísticos y científicos de datos. Básicamente, tidyverse trata sobre las conexiones entre las herramientas que hacen posible el flujo de trabajo. \n",
    "\n",
    "Normalmente incluido cuando se instala pero si no, estas son las instrucciones: "
   ]
  },
  {
   "cell_type": "code",
   "execution_count": null,
   "id": "ab850f99",
   "metadata": {},
   "outputs": [
    {
     "name": "stderr",
     "output_type": "stream",
     "text": [
      "Installing package into 'C:/Users/pc/AppData/Local/R/win-library/4.2'\n",
      "(as 'lib' is unspecified)\n",
      "\n"
     ]
    }
   ],
   "source": [
    "install.packages('ggplot2',repos='http://cran.us.r-project.org') # Ejecutar desde terminal"
   ]
  },
  {
   "cell_type": "code",
   "execution_count": null,
   "id": "0518c6a5",
   "metadata": {
    "scrolled": false
   },
   "outputs": [],
   "source": [
    "install.packages('tidyverse',repos='http://cran.us.r-project.org')"
   ]
  },
  {
   "cell_type": "code",
   "execution_count": null,
   "id": "9eb9aaaa",
   "metadata": {},
   "outputs": [],
   "source": [
    "library('ggplot2')"
   ]
  },
  {
   "cell_type": "markdown",
   "id": "68b126c4",
   "metadata": {},
   "source": [
    "* El sistema de capas permite definir en primer lugar los datos base del gráfico a desarrollar para luego ir aumentando funcionalidad al gráfico. Por ejemplo usted puede definir inicialmente un gráfico XY para luego aumentar líneas de tendencia, puntos de control, temas etc. \n",
    "* Cada capa se define a continuación de la anterior y el orden es importante \n",
    "* Podemos catalogar las capas en los siguientes conceptos "
   ]
  },
  {
   "cell_type": "markdown",
   "id": "66a1d03b",
   "metadata": {},
   "source": [
    "https://www.maths.usyd.edu.au/u/UG/SM/STAT3022/r/current/Misc/data-visualization-2.1.pdf"
   ]
  },
  {
   "cell_type": "markdown",
   "id": "801f7081",
   "metadata": {},
   "source": [
    "**Capas**\n",
    "\n",
    "* Data: Especifica los dataset que se usarán, solo tiene un argumento: data-xxxx, solo utiliza data frames, otras capas podrían definir data adicional. \n",
    "* Aesthetics: aes() especifica el mapeo de estética a los datos \n",
    "* Geometrics: geom.xxx() especifica un objeto geométrico (tipo de gráfico) y combina: datos, mapeo estético, funciones estadísticas (stat) y ajuste de posición. Ej: puntos, líneas, barras \n",
    "* Facets: facet_xxx(). Es una capa que permite desagregar relaciones complejas en pequeños múltiples \n",
    "* Statistics: stat_xx(). Cada geom está asociado a una función estadística, pero puede ser cambiado mediante esta capa para especificar exactamente lo que se desea ver \n",
    "* Coordinates: coord.xxx(). El sistema de coordenadas determina cómo se combinan la estética x y para colocar elementos en el gráfico. Ej coord_polar(). \n",
    "* Themes: theme_xxx(). Los temas controlan la visualización de todos los elementos del gráfico que no son datos, como colores, líneas, tamaño letra etc. \n",
    "* Labs: No es en realidad una capa, pero permite crear títulos, leyendas en los ejes. "
   ]
  },
  {
   "cell_type": "code",
   "execution_count": null,
   "id": "444d9e47",
   "metadata": {},
   "outputs": [],
   "source": [
    "install.packages('png')"
   ]
  },
  {
   "cell_type": "code",
   "execution_count": null,
   "id": "632b2a0f",
   "metadata": {},
   "outputs": [],
   "source": [
    "options(warn=-1)"
   ]
  },
  {
   "cell_type": "code",
   "execution_count": null,
   "id": "b32a2bd5",
   "metadata": {
    "scrolled": false
   },
   "outputs": [],
   "source": [
    "library('png')\n",
    "img<-readPNG('ge_themes.png')\n",
    "grid::grid.raster(img)"
   ]
  },
  {
   "cell_type": "markdown",
   "id": "6c89f59b",
   "metadata": {},
   "source": [
    "<a id='Cantidades'></a>\n",
    "## VISUALIZACION DE CANTIDADES\n",
    "En muchos escenarios, estamos interesados en la magnitud de algún conjunto de números.\n",
    "Por ejemplo, es posible que queramos visualizar el volumen total de ventas de diferentes\n",
    "marcas de automóviles o el número total de personas que viven en diferentes ciudades. \n",
    "\n",
    "La visualización estándar en este escenario es el gráfico de barras, que tiene algunas\n",
    "variantes, incluidas barras simples y barras agrupadas y apiladas. Las alternativas\n",
    "al diagrama de barras son el diagrama de puntos (SCATTER CHARTS) y el mapa de calor. "
   ]
  },
  {
   "cell_type": "markdown",
   "id": "bed2c234",
   "metadata": {},
   "source": [
    "### DIAGRAMAS DE BARRA\n",
    "Hay dos tipos de gráficos de barras: geom_bar() y geom_col(). \n",
    "geom_bar() hace que la altura de la barra sea proporcional al número de casos en cada grupo. Si desea que las alturas de las barras representen valores en los datos, use geom_col() en su lugar. \n",
    "\n",
    "geom_bar() usa stat_count() por defecto: cuenta el número de observaciones en cada posición x.\n",
    "geom_col() usa stat_identity(): deja los datos como están. \n",
    "\n",
    "geom_bar aes incluye las siguientes propiedades :\n",
    "x y alpha colour  fill group linetype size "
   ]
  },
  {
   "cell_type": "code",
   "execution_count": null,
   "id": "f928b70b",
   "metadata": {
    "scrolled": false
   },
   "outputs": [],
   "source": [
    "rm(list=ls())\n",
    "require(dplyr)\n",
    "require(ggplot2)\n",
    "require(ggplot2movies)\n",
    "require(scales)\n",
    "require(lubridate)"
   ]
  },
  {
   "cell_type": "code",
   "execution_count": null,
   "id": "5a4ab867",
   "metadata": {
    "scrolled": true
   },
   "outputs": [],
   "source": [
    "data(mpg)\n",
    "names(mpg)\n",
    "unique(mpg$class)"
   ]
  },
  {
   "cell_type": "code",
   "execution_count": null,
   "id": "44256d48",
   "metadata": {},
   "outputs": [],
   "source": [
    "print(mpg$class)"
   ]
  },
  {
   "cell_type": "markdown",
   "id": "db53b6b1",
   "metadata": {},
   "source": [
    "Vamos a crear un diagrama de barras  sobre la variable class  \n",
    "por defecto X es mapeado a la variable  \n",
    "En este caso, si voy a contar registros solo necesito indicar la columna que es el factor"
   ]
  },
  {
   "cell_type": "code",
   "execution_count": null,
   "id": "01bf01dc",
   "metadata": {},
   "outputs": [],
   "source": [
    "print(mpg$class)"
   ]
  },
  {
   "cell_type": "code",
   "execution_count": null,
   "id": "96ed65ad",
   "metadata": {
    "scrolled": false
   },
   "outputs": [],
   "source": [
    "ggplot(mpg, aes(x=class))+\n",
    "  geom_bar()"
   ]
  },
  {
   "cell_type": "markdown",
   "id": "97bbdf97",
   "metadata": {},
   "source": [
    "Si mapeamos la Y a la variable, el gráfico que se presenta es de barras horizontales"
   ]
  },
  {
   "cell_type": "code",
   "execution_count": null,
   "id": "729b19a9",
   "metadata": {
    "scrolled": false
   },
   "outputs": [],
   "source": [
    "ggplot(mpg, aes(y=class))+\n",
    "  geom_bar()"
   ]
  },
  {
   "cell_type": "markdown",
   "id": "4cb65650",
   "metadata": {},
   "source": [
    "Si queremos agrupar la data basado en otro factor usaremos  fill y color  \n",
    "note que en este caso el aesthetics esta parte en el ggplot y parte en el geom. Esto demuestra el concepto de herencia "
   ]
  },
  {
   "cell_type": "code",
   "execution_count": null,
   "id": "1a68b712",
   "metadata": {
    "scrolled": false
   },
   "outputs": [],
   "source": [
    "ggplot(data=mpg , aes(y=class))+\n",
    "  geom_bar(aes(fill  = drv))"
   ]
  },
  {
   "cell_type": "markdown",
   "id": "866649f2",
   "metadata": {},
   "source": [
    "O todo junto en el geom()"
   ]
  },
  {
   "cell_type": "code",
   "execution_count": null,
   "id": "e7d88d4a",
   "metadata": {
    "scrolled": false
   },
   "outputs": [],
   "source": [
    "\n",
    "ggplot(data=mpg )+\n",
    "  geom_bar( aes(y=class, fill  = drv))"
   ]
  },
  {
   "cell_type": "markdown",
   "id": "180a9896",
   "metadata": {},
   "source": [
    "El orden en el que aparecen las barras depende del factor  \n",
    "Si se requiere  cambiar el orden de los segmentos de cada barra solo tenemos que indicarle el orden de sort a-z  o z-a"
   ]
  },
  {
   "cell_type": "code",
   "execution_count": null,
   "id": "3daf588e",
   "metadata": {
    "scrolled": false
   },
   "outputs": [],
   "source": [
    "ggplot(mpg, aes(y=class)) +\n",
    "  geom_bar(aes(fill = drv), position = position_stack(reverse = TRUE))"
   ]
  },
  {
   "cell_type": "markdown",
   "id": "d9431866",
   "metadata": {},
   "source": [
    "Note que el orden se refiere a la posición de los factores en las columnas y NO al orden que aparece en eje X o Y  \n",
    "Note también que estos diagramas tienden a ser confusos porque no es claro si el valor de drv=4 va desde que termina la columna f o va desde 0  \n",
    "\n",
    "Por defecto geom_bar usa stat_count(), es decir cuenta la cantidad de registros y eso despliega.   \n",
    "Pero si deseo sumar columnas de valores de cada class, deberemos cambiar el stat stat=\"identity\""
   ]
  },
  {
   "cell_type": "code",
   "execution_count": null,
   "id": "43f99ce1",
   "metadata": {
    "scrolled": false
   },
   "outputs": [],
   "source": [
    "ggplot(data=mpg , aes(x=class ,y=cty))+\n",
    "  geom_bar(aes( fill  = drv), stat=\"identity\")"
   ]
  },
  {
   "cell_type": "markdown",
   "id": "a1768f04",
   "metadata": {},
   "source": [
    "El ejercicio anterior en realidad no hace mucho sentido, porque está sumando las millas por galón\n",
    "en ciudad de  todos los carros por clase, con un poco de data wrangling podemos sacar la media \n",
    "usaremos geom_col en lugar de bar porque bar nos deplegaría siempre 1."
   ]
  },
  {
   "cell_type": "code",
   "execution_count": null,
   "id": "44a1fb9c",
   "metadata": {
    "scrolled": false
   },
   "outputs": [],
   "source": [
    "mpg <- as.data.frame(mpg)\n",
    "mpg1 <-  aggregate(x=mpg , by=list(CLASE=mpg$class),FUN=mean)\n",
    "ggplot( data=mpg1 , aes(x=CLASE, y=cty ))+\n",
    "    geom_col()"
   ]
  },
  {
   "cell_type": "markdown",
   "id": "526917f7",
   "metadata": {},
   "source": [
    "geom_col es similar a geom_bar pero geom_col se utiliza más con variables  \n",
    "discretas, mientras que geom_bar puede usarse con variable continuas  \n",
    "\n",
    "Otra buena práctica es colocar el valor en el gráfico.  \n",
    "Es necesario cuando los valores son importantes y/o la escala de los ejes es muy grande  \n",
    " para esto usamos geom_text. Veamos un ejemplo   "
   ]
  },
  {
   "cell_type": "code",
   "execution_count": null,
   "id": "1623e6e0",
   "metadata": {
    "scrolled": false
   },
   "outputs": [],
   "source": [
    "df <- data.frame(trt = c(\"a\", \"b\", \"c\"), salida = c(2.3, 1.9, 3.2))\n",
    "ggplot(df, aes(x=trt, y=salida, fill=trt)) +\n",
    "  geom_col()+\n",
    "  geom_text(aes(label=salida), vjust=1.6, color=\"black\", size=4)"
   ]
  },
  {
   "cell_type": "markdown",
   "id": "e3ec9943",
   "metadata": {},
   "source": [
    "Desafortunadamente esto no se puede aplicar cuando hay varios subsets, veamos como nos saldría "
   ]
  },
  {
   "cell_type": "code",
   "execution_count": null,
   "id": "5729305f",
   "metadata": {
    "scrolled": false
   },
   "outputs": [],
   "source": [
    "ggplot(data=mpg , aes(x=class ,y=cty))+ \n",
    "  geom_bar(aes( fill  = drv), stat=\"identity\", position=\"dodge\" ) +\n",
    "  geom_text(aes(label=cty),size=3.5,hjust=1, vjust=1.6)"
   ]
  },
  {
   "cell_type": "markdown",
   "id": "104ed208",
   "metadata": {},
   "source": [
    "Esto es porque label=cty nos da un vector y no un único valor numérico  \n",
    "tenemos que hacer un poco de data wrangling"
   ]
  },
  {
   "cell_type": "code",
   "execution_count": null,
   "id": "8ef8bd0f",
   "metadata": {
    "scrolled": false
   },
   "outputs": [],
   "source": [
    "mpg <- as.data.frame(mpg)\n",
    "mpg1 <-  aggregate(x=mpg , by=list(CLASE=mpg$class , DRV=mpg$drv),FUN=mean)\n",
    "mpg1$cty <- round(mpg1$cty)\n",
    "ggplot( data=mpg1 , aes(x=CLASE, y=cty, fill= DRV ))+\n",
    "  geom_col(position=\"dodge\")+\n",
    "  geom_text(aes(label=cty),size=3.5,hjust=0, vjust=1.6)"
   ]
  },
  {
   "cell_type": "markdown",
   "id": "dfd5d96b",
   "metadata": {},
   "source": [
    "Otra buena práctica es el ordenamiento\n",
    "El orden que aparecen las columnas esta dado por el orden natural del factor por \n",
    "el cual se agrupó. Pero como hemos visto, siempre agrupamos de mayor a menor para \n",
    "ser  consistentes con la Gestalt y los patrones de visualización \n",
    "En este caso necesitamos un preprocesamiento  ya que ggplot no lo hace \n",
    "Veamos con mpg para contar registros "
   ]
  },
  {
   "cell_type": "code",
   "execution_count": null,
   "id": "c3827697",
   "metadata": {
    "scrolled": false
   },
   "outputs": [],
   "source": [
    "mpg1 <-  aggregate(x=mpg , by=list(unique.values=mpg$class),FUN=length)\n",
    "ggplot(mpg1, aes(x = reorder(unique.values, -class), y = class)) + \n",
    "  geom_bar(stat = \"identity\" , fill=\"darkolivegreen4\")+\n",
    "  geom_text(aes(label=class),size=3.5,hjust=0, vjust=1.6)"
   ]
  },
  {
   "cell_type": "markdown",
   "id": "43d3cfa0",
   "metadata": {},
   "source": [
    "El signo menos (-) en la función reorder indica que ordene de acuerdo a class en forma descendente  \n",
    "sin el signo menos (-) seria ascendente  \n",
    "  \n",
    "Otro tema intereante es el resaltar  un dato en especial \n",
    "  \n"
   ]
  },
  {
   "cell_type": "code",
   "execution_count": null,
   "id": "467b817b",
   "metadata": {
    "scrolled": false
   },
   "outputs": [],
   "source": [
    "mpg1 <-  aggregate(x=mpg , by=list(unique.values=mpg$class),FUN=length)\n",
    "mpg1$resaltado <- NA\n",
    "mpg1[mpg1$unique.values==\"suv\" ,]$resaltado=\"si\"\n",
    "ggplot(mpg1, aes(x = reorder(unique.values, -class), y = class, fill=resaltado)) + \n",
    "  geom_bar(stat = \"identity\")+\n",
    "  geom_text(aes(label=class),size=3.5,hjust=0, vjust=1.6)"
   ]
  },
  {
   "cell_type": "markdown",
   "id": "8547620e",
   "metadata": {},
   "source": [
    "Por último no se olvide de poner los títulos correspondientes"
   ]
  },
  {
   "cell_type": "code",
   "execution_count": null,
   "id": "e60f0fc8",
   "metadata": {
    "scrolled": false
   },
   "outputs": [],
   "source": [
    "ggplot(mpg1, aes(x = reorder(unique.values, -class), y = class, fill=resaltado)) + \n",
    "  geom_bar(stat = \"identity\") + \n",
    "  geom_text(aes(label=class),size=3.5,hjust=0, vjust=1.6)+\n",
    "  ggtitle(\"Análisis de mpg \")+\n",
    "  xlab(\"Class\") + ylab(\"Número\")"
   ]
  },
  {
   "cell_type": "markdown",
   "id": "2b5bd23b",
   "metadata": {},
   "source": [
    "<a id='Dispersion'></a>\n",
    "## DIAGRAMAS DE DISPERSIÓN X Y  (SCATTER PLOT) \n",
    "El diagrama de dispersión grafica pares de datos numéricos, con una variable en cada eje, para buscar una relación entre ellos.\n",
    "\n",
    "El diagrama nos permitirá unir los puntos mediante una línea para ver tendencias o relaciones \n",
    "\n",
    "### Cuando usar este tipo de diagrama:\n",
    "Cuando haya  datos numéricos emparejados\n",
    "Cuando su variable de respuesta puede tener múltiples valores para cada valor de su variable predictoras\n",
    "Al intentar determinar si las dos variables est?n relacionadas, como por ejemplo:\n",
    "Al intentar identificar las posibles causas raíz de los problemas\n",
    "Al determinar si dos efectos que parecen estar relacionados ambos ocurren con la misma causa\n",
    "Al probar la autocorrelación antes de construir un gráfico de control "
   ]
  },
  {
   "cell_type": "code",
   "execution_count": null,
   "id": "1dfe92e0",
   "metadata": {
    "scrolled": false
   },
   "outputs": [],
   "source": [
    "data(mtcars)\n",
    "names(mtcars)\n",
    "\n",
    "ggplot(mtcars, aes(wt, mpg)) +\n",
    "  geom_point()\n"
   ]
  },
  {
   "cell_type": "markdown",
   "id": "94ae0d34",
   "metadata": {},
   "source": [
    "geom_point entiende los siguientes  aes:  \n",
    "x y alpha colour fill group shape size stroke"
   ]
  },
  {
   "cell_type": "code",
   "execution_count": null,
   "id": "bb259418",
   "metadata": {
    "scrolled": false
   },
   "outputs": [],
   "source": [
    "ggplot(mtcars, aes(x=wt, y=mpg)) + geom_point(colour = \"tomato4\", size =6)"
   ]
  },
  {
   "cell_type": "markdown",
   "id": "e414e5df",
   "metadata": {},
   "source": [
    "Podemos definir color basado en un factor "
   ]
  },
  {
   "cell_type": "code",
   "execution_count": null,
   "id": "00cc7b80",
   "metadata": {
    "scrolled": false
   },
   "outputs": [],
   "source": [
    "ggplot(mtcars, aes(x=wt, y=mpg)) +\n",
    "  geom_point(aes(colour = factor(cyl))) "
   ]
  },
  {
   "cell_type": "markdown",
   "id": "d47d2f95",
   "metadata": {},
   "source": [
    "Podemos definir forma basado en un factor "
   ]
  },
  {
   "cell_type": "code",
   "execution_count": null,
   "id": "99c848ab",
   "metadata": {
    "scrolled": false
   },
   "outputs": [],
   "source": [
    "ggplot(mtcars, aes(x=wt, y=mpg)) +\n",
    "  geom_point(aes(shape = factor(cyl),size=6))"
   ]
  },
  {
   "cell_type": "markdown",
   "id": "adeca2c4",
   "metadata": {},
   "source": [
    "O basado en un color o ambos "
   ]
  },
  {
   "cell_type": "code",
   "execution_count": null,
   "id": "ee4e154b",
   "metadata": {
    "scrolled": false
   },
   "outputs": [],
   "source": [
    "ggplot(mtcars, aes(x=wt, y=mpg)) +\n",
    "  geom_point(aes(shape = factor(cyl), colour=factor(cyl),size=5))\n"
   ]
  },
  {
   "cell_type": "markdown",
   "id": "23351153",
   "metadata": {},
   "source": [
    "Usando aes  size se puede crear un diagrama de burbuja con el mismo geom"
   ]
  },
  {
   "cell_type": "code",
   "execution_count": null,
   "id": "c5c22e5a",
   "metadata": {
    "scrolled": false
   },
   "outputs": [],
   "source": [
    "ggplot(mtcars, aes(x=wt, y=mpg)) +\n",
    "  geom_point(aes( size = qsec), colour=\"aquamarine3\")\n"
   ]
  },
  {
   "cell_type": "markdown",
   "id": "306a1e0a",
   "metadata": {},
   "source": [
    "La variación de alpha es útil para dataset muy grandes porque permite ver puntos que están por detrás"
   ]
  },
  {
   "cell_type": "code",
   "execution_count": null,
   "id": "fee6c6b7",
   "metadata": {
    "scrolled": false
   },
   "outputs": [],
   "source": [
    "data(diamonds)\n",
    "\n",
    "ggplot(diamonds, aes(carat, price)) +\n",
    "  geom_point(alpha = 1/10) \n",
    "\n",
    "ggplot(diamonds, aes(carat, price)) +\n",
    "  geom_point(alpha = 1/20) \n",
    "\n",
    "ggplot(diamonds, aes(carat, price)) +\n",
    "  geom_point(alpha = 1/100)\n"
   ]
  },
  {
   "cell_type": "markdown",
   "id": "bdac9018",
   "metadata": {},
   "source": [
    "Para formas que tienen un borde que tiene forma de donut\n",
    "se puede colorear el interior y exterior en forma separada.\n",
    "se puede usar stroke para definir el tamaño  de la línea . "
   ]
  },
  {
   "cell_type": "code",
   "execution_count": null,
   "id": "e3f82b29",
   "metadata": {
    "scrolled": false
   },
   "outputs": [],
   "source": [
    "ggplot(mtcars, aes(wt, mpg)) +\n",
    "  geom_point(shape = 21, colour = \"black\", fill = \"palevioletred3\", size = 3, stroke = 1)"
   ]
  },
  {
   "cell_type": "markdown",
   "id": "74afc616",
   "metadata": {},
   "source": [
    "Se pueden crear  figuras interesantes usando varias capas de geom_point"
   ]
  },
  {
   "cell_type": "code",
   "execution_count": null,
   "id": "a0bf1043",
   "metadata": {},
   "outputs": [],
   "source": [
    "\n",
    "ggplot(mtcars, aes(mpg, wt, shape = factor(cyl))) +\n",
    "  geom_point(aes(colour = factor(cyl)), size = 4) +\n",
    "  geom_point(colour = \"black\", size = 1.5) "
   ]
  },
  {
   "cell_type": "markdown",
   "id": "8d42aef1",
   "metadata": {},
   "source": [
    "lo que quiere decir que el punto debe ser color  (casi negro) de tamaño 1.5\n",
    "pero el contorno depende del factor y tiene tamaño 4\n",
    "Se pueden lograr muchas combinaciones de estos argumentos, pero no hay que abusar porque el \n",
    "diagrama se vuelve dificil de digerir "
   ]
  },
  {
   "cell_type": "code",
   "execution_count": null,
   "id": "11913db1",
   "metadata": {},
   "outputs": [],
   "source": [
    "ggplot(mtcars, aes(mpg, wt, shape = factor(cyl))) +\n",
    "  geom_point(colour = \"pink\", size = 4) + geom_point(aes(shape = factor(cyl)))"
   ]
  },
  {
   "cell_type": "markdown",
   "id": "4a68e2a0",
   "metadata": {},
   "source": [
    "Una limitación importante de las barras es que deben comenzar en cero, de modo que la longitud de la barra sea proporcional a la cantidad mostrada.  \n",
    "Para algunos conjuntos de datos, esto puede ser poco práctico.  \n",
    "En este caso, podemos indicar cantidades colocando puntos en las ubicaciones apropiadas a lo largo de ejes x o y  y limitando el área de despliegue "
   ]
  },
  {
   "cell_type": "code",
   "execution_count": null,
   "id": "0e3611d5",
   "metadata": {},
   "outputs": [],
   "source": [
    "ggplot(mtcars, aes(x=mpg, y=wt)) +\n",
    "  geom_point() +\n",
    "  xlim(15, 25) + ylim(2.5,4)"
   ]
  },
  {
   "cell_type": "markdown",
   "id": "816f6029",
   "metadata": {},
   "source": [
    "Cuando los puntos se sobreponen es difícil  apreciar  cuantos puntos hay  \n",
    "recurrimos a geom_jitter  \n",
    "geom_jitter introduce una variación en los valores de forma aleatoria de tal manera de que se pueda visualizar  adecuadamente "
   ]
  },
  {
   "cell_type": "code",
   "execution_count": null,
   "id": "23e389ca",
   "metadata": {},
   "outputs": [],
   "source": [
    "data(mpg)\n",
    "ggplot(mpg, aes(x=cyl, y=hwy)) +\n",
    "  geom_point(aes(colour=cyl) )+\n",
    "  geom_jitter()"
   ]
  },
  {
   "cell_type": "markdown",
   "id": "bbc033a4",
   "metadata": {},
   "source": [
    "Eventualmente necesitamos unir los puntos mediante una línea "
   ]
  },
  {
   "cell_type": "markdown",
   "id": "2d9040c3",
   "metadata": {},
   "source": [
    "creando nuevas columnas"
   ]
  },
  {
   "cell_type": "code",
   "execution_count": null,
   "id": "0be7e6e0",
   "metadata": {
    "scrolled": false
   },
   "outputs": [],
   "source": [
    "data(economics)\n",
    "economics$año <- year(economics$date)\n",
    "economics$mes <- month(economics$date, label=TRUE)\n",
    "economics\n",
    "class(economics)"
   ]
  },
  {
   "cell_type": "markdown",
   "id": "1cd65707",
   "metadata": {},
   "source": [
    "podemos crear un filtro a la data para hacerla más visible  \n",
    "en este caso todos los registros mayores que año 2000"
   ]
  },
  {
   "cell_type": "code",
   "execution_count": null,
   "id": "6763ee70",
   "metadata": {},
   "outputs": [],
   "source": [
    "econ2000 <- economics[which(economics$año >2000),]"
   ]
  },
  {
   "cell_type": "code",
   "execution_count": null,
   "id": "b924dec5",
   "metadata": {
    "scrolled": true
   },
   "outputs": [],
   "source": [
    "graf3 <-ggplot(econ2000, aes(x=mes,y=pop)) + geom_point()+ \n",
    "  geom_line(aes(color=factor(año), group=año)) +\n",
    "  scale_color_discrete()  +\n",
    "  labs(title=\"poblacion\", x= \"mes\", y=\"poblacion\")+\n",
    "  theme(axis.text.x=element_text(angle=90, vjust=1))\n",
    "graf3"
   ]
  },
  {
   "cell_type": "markdown",
   "id": "61fde28e",
   "metadata": {},
   "source": [
    "<a id='Proporciones'></a>\n",
    "### VISUALIZACION DE PROPORCIONES \n",
    "* [DIAGRAMAS PASTEL Y COORDENADAS POLARES](#Pasteles)\n",
    "* [MOSAICOS](#Mosaicos) \n",
    "* [TREEMAPS](#Treemaps)\n",
    "* [PARALEL SETS](#Paralel)"
   ]
  },
  {
   "cell_type": "markdown",
   "id": "a17781e5",
   "metadata": {},
   "source": [
    "A menudo queremos mostrar cómo algón grupo, entidad o cantidad se descompone en partes individuales que representan cada una  proporción del todo.  \n",
    "Los ejemplos comunes incluyen las proporciones de hombres y mujeres en un grupo de personas, los porcentajes de personas que votan por diferentes partidos políticos, etc.\n",
    "\n",
    "La visualización es el gráfico típico de pastel, aunque no es muy usado en  la ciencia de datos.  \n",
    "Visualizar proporciones puede ser un desafío, en particular cuando el todo se divide en muchas partes diferentes o cuando queremos ver cambios en las proporciones a lo  largo del tiempo o entre condiciones.  \n",
    "No existe una visualización ideal única que siempre funcione. "
   ]
  },
  {
   "cell_type": "code",
   "execution_count": null,
   "id": "52ebf666",
   "metadata": {
    "scrolled": true
   },
   "outputs": [],
   "source": [
    "install.packages('ggmosaic')"
   ]
  },
  {
   "cell_type": "code",
   "execution_count": null,
   "id": "77b5b106",
   "metadata": {
    "scrolled": false
   },
   "outputs": [],
   "source": [
    "install.packages('reshape2')"
   ]
  },
  {
   "cell_type": "code",
   "execution_count": null,
   "id": "8e62cb33",
   "metadata": {
    "scrolled": true
   },
   "outputs": [],
   "source": [
    "install.packages('ggforce')"
   ]
  },
  {
   "cell_type": "code",
   "execution_count": null,
   "id": "109daecc",
   "metadata": {},
   "outputs": [],
   "source": [
    "install.packages('treemapify')"
   ]
  },
  {
   "cell_type": "code",
   "execution_count": null,
   "id": "324d1f1d",
   "metadata": {
    "scrolled": false
   },
   "outputs": [],
   "source": [
    "#importar pie3D y ver que pasa con totales\n",
    "rm(list=ls())\n",
    "require(ggplot2)\n",
    "#require(hrbrthemes)\n",
    "require(dplyr)\n",
    "require(tidyr)\n",
    "require(viridis)\n",
    "require(ggmosaic)\n",
    "require(treemap)\n",
    "require(tidyverse)\n",
    "require(ggfittext)\n",
    "require(treemapify)\n",
    "require(plotrix)\n",
    "require(ggforce)\n",
    "require(reshape2)\n",
    "require(pie3D)"
   ]
  },
  {
   "cell_type": "code",
   "execution_count": null,
   "id": "f67cd91b",
   "metadata": {
    "scrolled": true
   },
   "outputs": [],
   "source": [
    "data(midwest)\n",
    "names(midwest)\n",
    "totales=data.frame( totalpop =NA,state=NA)\n",
    "for (st in unique(midwest$state))\n",
    "{\n",
    "statedf <- midwest %>%   filter(state == st) %>%  summarise( sum(poptotal))\n",
    "statedf$state <- st\n",
    "names(statedf)<-c(\"totalpop\", \"state\")\n",
    "totales <-rbind(totales ,statedf)\n",
    "} \n",
    "totales<- na.omit(totales)\n",
    "totales$totalpop <- round(totales$totalpop/1000000, 2) # en millones \n",
    "View(totales)"
   ]
  },
  {
   "cell_type": "markdown",
   "id": "624c99e1",
   "metadata": {},
   "source": [
    "<a id='Pasteles'></a>\n",
    "### Pasteles y Coordenadas Polares\n",
    "En coordenadas polares tenemos 2 variables que pueden ser mapeadas al dataset . El radio r y el ángulo theta.\n",
    "Si:\n",
    "* El ángulo theta esta mapeado a la variable numérica, y;\n",
    "* No existe otro valor \n",
    "\n",
    "el gráfico se convierte en un pastel clásico"
   ]
  },
  {
   "cell_type": "code",
   "execution_count": null,
   "id": "b4db4567",
   "metadata": {
    "scrolled": false
   },
   "outputs": [],
   "source": [
    "ggplot(data=totales , aes(x=\"\", y=totalpop , fill=state))+\n",
    "  geom_bar(stat=\"identity\") +coord_polar(theta=\"y\", start=0)"
   ]
  },
  {
   "cell_type": "markdown",
   "id": "fa0aa84e",
   "metadata": {},
   "source": [
    "Note el uso de geom_bar\n",
    "\n",
    "Si existen 2 variables; una categórica y otra numérica, donde el theta esta mapeado al valor numérico y el radio a la categórica obtenemos un gráfico tipo blanco (target), entonces cada categórica tiene un radio definido, y los círculos podrían no ser completos.\n",
    "\n",
    "Note los valores referenciales de la escala , 0,3,6,9 y compare con el dataset"
   ]
  },
  {
   "cell_type": "code",
   "execution_count": null,
   "id": "f545f680",
   "metadata": {
    "scrolled": false
   },
   "outputs": [],
   "source": [
    "ggplot(data=totales , aes(x=state, y=totalpop , fill=state))+\n",
    "  geom_bar(stat=\"identity\") +coord_polar(theta=\"y\", start=0)"
   ]
  },
  {
   "cell_type": "markdown",
   "id": "09fb9757",
   "metadata": {},
   "source": [
    "si no se especifica cual mapea a theta entonces el radio es mapeado a la numérica y el ángulo es constante ."
   ]
  },
  {
   "cell_type": "code",
   "execution_count": null,
   "id": "55972616",
   "metadata": {
    "scrolled": false
   },
   "outputs": [],
   "source": [
    "ggplot(data=totales , aes(x=state, y=totalpop , fill=state))+\n",
    "  geom_bar(stat=\"identity\") +coord_polar( start=0)"
   ]
  },
  {
   "cell_type": "markdown",
   "id": "2bc932dd",
   "metadata": {},
   "source": [
    "Si no hay una segunda variable se obtendrá un blanco completo, en ese caso el radio es mapeado a la variable numérica, pero cada factor se suma al anterior"
   ]
  },
  {
   "cell_type": "code",
   "execution_count": null,
   "id": "ab8f0583",
   "metadata": {
    "scrolled": false
   },
   "outputs": [],
   "source": [
    "ggplot(data=totales , aes(x=\"\", y=totalpop , fill=state))+\n",
    "  geom_bar(stat=\"identity\") +coord_polar( start=0)"
   ]
  },
  {
   "cell_type": "markdown",
   "id": "8cf2f747",
   "metadata": {},
   "source": [
    "### Gráficos 3D\n",
    "ggplot no contiene librerías para diagramas 3D, pero se hace usando la librería **plotrix**"
   ]
  },
  {
   "cell_type": "code",
   "execution_count": null,
   "id": "bdacc6f1",
   "metadata": {
    "scrolled": false
   },
   "outputs": [],
   "source": [
    "slices <- totales$totalpop\n",
    "lbls <- paste(totales$state, as.character(totales$totalpop), \"M\")\n",
    "pie3D(slices,labels=lbls,explode=0.1, main=\"Población por estado Estado \")"
   ]
  },
  {
   "cell_type": "markdown",
   "id": "6133d5fa",
   "metadata": {},
   "source": [
    "Los gráficos circulares tienen un caso de uso bastante reducido que se resume particularmente bien en su definición. \n",
    "\n",
    "El objetivo principal en un gráfico circular, debe ser el comparar la contribución de cada grupo al todo, en lugar de comparar grupos.\n",
    "\n",
    "Como ejemplo vamos a crear una nueva columna alterando +- 10% el valor de la población"
   ]
  },
  {
   "cell_type": "code",
   "execution_count": null,
   "id": "297d85c9",
   "metadata": {},
   "outputs": [],
   "source": [
    "totales$year <- \"2000\" \n",
    "for (st in totales$state)\n",
    "{\n",
    "  \n",
    "  val <- totales[totales$state==st ,1]\n",
    "  valmin<- val*.9\n",
    "  valmax<- val*1.1\n",
    "  val1 <- runif(1,valmin, valmax )\n",
    "  df2010 <- data.frame(totalpop=round(val1) ,state=st, year=\"2010\" )\n",
    "  totales<-rbind(totales,df2010)\n",
    "}\n",
    "\n",
    "ggplot(data=totales , aes(x=\"\", y=totalpop , fill=state))+\n",
    "  geom_bar(stat=\"identity\") +coord_polar( start=0)+\n",
    "  facet_wrap(vars(year))"
   ]
  },
  {
   "cell_type": "markdown",
   "id": "d8ec7660",
   "metadata": {},
   "source": [
    "En el ejemplo anterior tenemos 2 gráficos similares, de hecho, existen diferencias de +- 10% y resulta muy difícil su comparación"
   ]
  },
  {
   "cell_type": "markdown",
   "id": "944606d9",
   "metadata": {},
   "source": [
    "<a id='Mosaicos'></a>\n",
    "### MOSAICOS \n",
    "Diseñado para crear visualizaciones de datos categóricos, geom_mosaic() tiene la capacidad de producir gráficos de barras, gráficos de barras apiladas, diagramas de mosaico y diagramas de dos pisos y por lo tanto, ofrece una amplia gama de diagramas potenciales.  \n",
    "\n",
    "Para usar ggmosaic dentro del marco de ggplot2, debemos ser capaces de crear la fórmula a partir de la estética (aes) definida. Es decir, la estética configura la fórmula que determina cómo romper la distribución conjunta.  \n",
    "\n",
    "La principal diferencia de geom_mosaic es que los gráficos de mosaico no tienen un mapeo uno a uno entre una variable y el eje X o Y.  \n",
    "\n",
    "Para acomodar el número variable de variables, la función product() crea el mapeo a X. "
   ]
  },
  {
   "cell_type": "code",
   "execution_count": null,
   "id": "37fc03e1",
   "metadata": {},
   "outputs": [],
   "source": [
    "library('ggplot2')"
   ]
  },
  {
   "cell_type": "code",
   "execution_count": null,
   "id": "986b2a9c",
   "metadata": {
    "scrolled": false
   },
   "outputs": [],
   "source": [
    "data(Titanic)\n",
    "titanic <- as.data.frame(Titanic)\n",
    "titanic$Survived <- factor(titanic$Survived, levels=c(\"Yes\", \"No\"))  #solo cambiamos a clase factor\n",
    "head(titanic)\n",
    "xlabel=paste(\"1st  \", \"    2nd    \" , \"    3rd  \" , \"  Crew\")\n",
    "View(Titanic)"
   ]
  },
  {
   "cell_type": "markdown",
   "id": "5ed3ad17",
   "metadata": {},
   "source": [
    "Product es una función para crear una lista que indica como debe  desglosar las partes, en este caso por Clase (1ra, 2da, 3ra,Crew) y el segundo factor si sobrevivió  \n",
    "\n",
    "Note que mosaic no dibuja valores en 0   \n",
    "\n",
    "También note que mosaic no usa el argumento y, en su lugar habrá que usar weight y este mapea al área"
   ]
  },
  {
   "cell_type": "code",
   "execution_count": null,
   "id": "cb042003",
   "metadata": {
    "scrolled": false
   },
   "outputs": [],
   "source": [
    "p1 <- ggplot(data=titanic) +\n",
    "  geom_mosaic(aes(weight=Freq, x=product(Class), fill=Survived))+\n",
    "  xlab(xlabel) +\n",
    "  ylab(\"Sobrevive\")\n",
    "p1\n"
   ]
  },
  {
   "cell_type": "markdown",
   "id": "4386d2f8",
   "metadata": {},
   "source": [
    "Como es dificil comparar áreas es recomendable colocar el valor correspondiente a cada área, aunque  el proceso puede parecer  un tanto complicado ya que se requiere manipular el objeto mismo (p1 en este caso) "
   ]
  },
  {
   "cell_type": "code",
   "execution_count": null,
   "id": "7599bee9",
   "metadata": {
    "scrolled": false
   },
   "outputs": [],
   "source": [
    "p1d<- ggplot_build(p1)$data %>% as.data.frame() %>% filter(.wt > 0)\n",
    "p2<-p1 + \n",
    "  geom_label(data = p1d, aes(x = (xmin + xmax)/2, y = (ymin + ymax)/2,  label = .n))\n",
    "p2"
   ]
  },
  {
   "cell_type": "markdown",
   "id": "0ea9db97",
   "metadata": {},
   "source": [
    "Podemos validar el gráfico con un aggregate de la data"
   ]
  },
  {
   "cell_type": "code",
   "execution_count": null,
   "id": "2e651d28",
   "metadata": {
    "scrolled": true
   },
   "outputs": [],
   "source": [
    "aggregate(data=titanic , .~Class+Survived ,sum)"
   ]
  },
  {
   "cell_type": "markdown",
   "id": "f3ac4048",
   "metadata": {},
   "source": [
    "Veamos el siguiente gráfico con 2 variables categóricas"
   ]
  },
  {
   "cell_type": "code",
   "execution_count": null,
   "id": "e026792e",
   "metadata": {
    "scrolled": false
   },
   "outputs": [],
   "source": [
    "p3 <- ggplot(data=titanic) + \n",
    "  geom_mosaic(aes(weight=Freq, x=product(Class,Age), fill=Survived))+\n",
    "  theme(axis.text.x=element_text(angle=90, vjust=1))\n",
    "p3\n",
    "p3d<- ggplot_build(p3)$data %>% as.data.frame() %>% filter(.wt > 0)\n",
    "p4<-p3 + \n",
    "  geom_label(data = p1d, aes(x = (xmin + xmax)/2, y = (ymin + ymax)/2,  label = .n))\n",
    "p4"
   ]
  },
  {
   "cell_type": "markdown",
   "id": "0f549080",
   "metadata": {},
   "source": [
    "Nuevamente se puede validar las áreas con aggregate:"
   ]
  },
  {
   "cell_type": "code",
   "execution_count": null,
   "id": "8d2c2f6e",
   "metadata": {},
   "outputs": [],
   "source": [
    "aggregate(data=titanic , .~Class+Age+Survived ,sum)"
   ]
  },
  {
   "cell_type": "markdown",
   "id": "67abf6f3",
   "metadata": {},
   "source": [
    "Note que la correspondencia a una área en especial no es clara, por lo que en este caso una mejor forma de identificar las áreas podría ser mediante facets:"
   ]
  },
  {
   "cell_type": "code",
   "execution_count": null,
   "id": "416dc38f",
   "metadata": {},
   "outputs": [],
   "source": [
    "ggplot(data=titanic) + \n",
    "  geom_mosaic(aes(weight=Freq, x=product(Class,Age), fill=Survived))+\n",
    "  labs(x=\"Edad\", title='Sobrevivientes por Clase/Edad')  + \n",
    "  facet_grid(Class~.) + \n",
    "  guides(fill=guide_legend(title = \"Survived\", reverse = TRUE))+\n",
    "  theme(axis.text.x=element_text(angle=90, vjust=1))"
   ]
  },
  {
   "cell_type": "markdown",
   "id": "ebb91b44",
   "metadata": {},
   "source": [
    "Uno de los problemas de mosaicos es que pueden llevar a la conclusión que la suma de las partes es mayor que el total"
   ]
  },
  {
   "cell_type": "markdown",
   "id": "eb19eb15",
   "metadata": {},
   "source": [
    "<a id='Treemaps'></a>\n",
    "### TREEMAPS\n",
    "Se usa un mapa de árbol para \"mostrar datos jerárquicos usando figuras anidadas, generalmente rectángulos\".\n",
    "Hay muchas formas de hacerlo en R, la primera es con la librería treemap y la segunda es con ggplot\n",
    "Con la librería treemap se pueden lograr gráficos simples pero buenos en una fase exploratoria\n",
    "Los mapas de árbol funcionan bien si las subdivisiones de un grupo son completamente distintas de las subdivisiones de otro\n",
    "\n",
    "geom_treemap tiene los siguientes aes: area (required), subgroup, subgroup2 , subgroup3 (required),colour,size,linetype,alpha\n",
    "\n",
    "Primero un poco de data wrangling porque la data no está como la necesitamos"
   ]
  },
  {
   "cell_type": "code",
   "execution_count": null,
   "id": "7f02aeaa",
   "metadata": {
    "scrolled": false
   },
   "outputs": [],
   "source": [
    "cars <- mtcars \n",
    "cars$carname <- rownames(cars)\n",
    "cars <- mutate(cars, cyl = factor(cyl))\n",
    "\n",
    "ggplot(data=cars, aes(area = disp, fill = cyl, label = carname)) +\n",
    "  geom_treemap() +\n",
    "  geom_treemap_text(\n",
    "    fontface = \"italic\",\n",
    "    colour = \"white\",\n",
    "    place = \"centre\",\n",
    "    grow = TRUE\n",
    "  )"
   ]
  },
  {
   "cell_type": "markdown",
   "id": "70f8cf6f",
   "metadata": {},
   "source": [
    "<a id='Paralel'></a>\n",
    "### PARALEL SETS\n",
    "En una visualización de conjuntos paralelos, a cada variable categ?rica se le asignará una posici?ó en el eje x.   \n",
    "El tamaño de la intersección de categorías de variables vecinas se muestra luego como diagonales gruesas, escaladas por la suma de elementos compartidos entre las dos categorías. La representación de datos naturales para tal gráfico es tener cada variable categórica en una columna separada y luego tener una columna que indique la cantidad / magnitud de la combinación de niveles en la fila.   \n",
    "Desafortunadamente, esta representación no se ajusta a la API ggplot2, que necesita la codificación de todas las posiciones en la misma columna.  \n",
    "Para que sea más fácil trabajar con ggforce, se proporciona un asistente gather_set_data(), que se encarga de la transformación."
   ]
  },
  {
   "cell_type": "code",
   "execution_count": null,
   "id": "52fac17e",
   "metadata": {},
   "outputs": [],
   "source": [
    "data(Titanic)\n",
    "titanic<-as.data.frame(Titanic)\n",
    "\n",
    "datadf <- reshape2::melt(Titanic)\n",
    "head(datadf)"
   ]
  },
  {
   "cell_type": "markdown",
   "id": "601638e3",
   "metadata": {},
   "source": [
    "Veamos un ejemplo con 2 niveles (Edad y Sobrevivencia)"
   ]
  },
  {
   "cell_type": "code",
   "execution_count": null,
   "id": "e2063255",
   "metadata": {},
   "outputs": [],
   "source": [
    "data_gather <- gather_set_data(datadf, 3:4)"
   ]
  },
  {
   "cell_type": "markdown",
   "id": "566b70b1",
   "metadata": {},
   "source": [
    " Esta función sirve para crear el set, donde 3:4 son las columnas usadas como ejes, en ese orden, se puede alterar el orden de agregación"
   ]
  },
  {
   "cell_type": "code",
   "execution_count": null,
   "id": "df167269",
   "metadata": {
    "scrolled": false
   },
   "outputs": [],
   "source": [
    "ggplot(data_gather, aes(x, id = id, split = y, value = value)) +\n",
    "  geom_parallel_sets(aes(fill = Sex), alpha = 0.3, axis.width = 0.1) +\n",
    "  geom_parallel_sets_axes(axis.width = 0.1) +\n",
    "  geom_parallel_sets_labels(colour = 'white')"
   ]
  },
  {
   "cell_type": "markdown",
   "id": "c689a6d6",
   "metadata": {},
   "source": [
    "Veamos un ejemplo con 3 niveles (Edad, Sexo y sobrevivientes)"
   ]
  },
  {
   "cell_type": "code",
   "execution_count": null,
   "id": "e1731a0e",
   "metadata": {},
   "outputs": [],
   "source": [
    "data_gather <- gather_set_data(datadf, c(3,2,4))\n",
    "ggplot(data_gather, aes(x, id = id, split = y, value = value)) +\n",
    "  geom_parallel_sets(aes(fill = Sex), alpha = 0.3, axis.width = 0.1) +\n",
    "  geom_parallel_sets_axes(axis.width = 0.1) +\n",
    "  geom_parallel_sets_labels(colour = 'white')"
   ]
  },
  {
   "cell_type": "markdown",
   "id": "3e5d8e34",
   "metadata": {},
   "source": [
    "Veamos un ejemplo con 4 niveles (Sexo, Edad clase y sobrevivientes)"
   ]
  },
  {
   "cell_type": "code",
   "execution_count": null,
   "id": "014ac90f",
   "metadata": {},
   "outputs": [],
   "source": [
    "data_gather <- gather_set_data(datadf, 1:4)\n",
    "ggplot(data_gather, aes(x, id = id, split = y, value = value)) +\n",
    "  geom_parallel_sets(aes(fill = Sex), alpha = 0.3, axis.width = 0.1) +\n",
    "  geom_parallel_sets_axes(axis.width = 0.1) +\n",
    "  geom_parallel_sets_labels(colour = 'white')\n"
   ]
  },
  {
   "cell_type": "markdown",
   "id": "6489ac29",
   "metadata": {},
   "source": [
    "Otras formas de sets paralelos pueden encontrar en este sitio: https://www.data-imaginist.com/2019/the-ggforce-awakens-again/"
   ]
  },
  {
   "cell_type": "markdown",
   "id": "7da06c68",
   "metadata": {},
   "source": [
    "<a id='Geoespacial'></a>\n",
    "## COORDENADAS GEODÉSICAS\n",
    "\n",
    "* Coordenadas Geodésicas \n",
    "* [Proyección terrestre](#Proyeccion)\n",
    "* [Sistemas de Coordenadas](#Coordenadas) \n",
    "* [Mapas con Facets](#Facets)\n",
    "\n",
    "Los mapas pueden agregar un contexto vital al incorporar muchas variables en una visualización lo que los hace   fácil de leer y práctico.\n",
    "\n",
    "El paquete **ggplot2** base no maneja datos espaciales específicamente, por tanto el estado actual de los objetos espaciales en R se basa en las clases espaciales definidas en el **paquete sp**, aunque el nuevo **paquete sf** ha implementado recientemente el estándar de *características simples*\n",
    "\n",
    "\n",
    "* **Sp** es preferible cuando se desea integrar con otros sistemas GIS\n",
    "* **Sf** es más simple de usar, más intuitivo y más rápido\n",
    "\n",
    "Si no han sido instalados previamente, instalemos los paquetes necesarios:"
   ]
  },
  {
   "cell_type": "markdown",
   "id": "4e85304f",
   "metadata": {},
   "source": [
    "Antes de instalar las librerías ejecute en un terminal de GNU/Linux\n",
    "* sudo apt install subversion\n",
    "* sudo apt install libgeos-dev\n",
    "* sudo apt install libjq-dev\n",
    "* sudo apt install libudunits2-dev\n",
    "* sudo apt install gdal-bin\n",
    "* sudo apt install libgdal-dev"
   ]
  },
  {
   "cell_type": "code",
   "execution_count": null,
   "id": "e79ffa88",
   "metadata": {
    "scrolled": false
   },
   "outputs": [],
   "source": [
    "install.packages(c(\"maps\",\"rgeos\",\"cowplot\", \"googleway\", \"ggrepel\", \"ggspatial\",\"libwgeom\", \"sf\", \"rnaturalearth\", \"rnaturalearthdata\", \"rnaturalearthhires\"))"
   ]
  },
  {
   "cell_type": "markdown",
   "id": "e9b661cf",
   "metadata": {},
   "source": [
    "limpiemos las variables:"
   ]
  },
  {
   "cell_type": "code",
   "execution_count": null,
   "id": "36a77ffe",
   "metadata": {},
   "outputs": [],
   "source": [
    "rm(list=ls())"
   ]
  },
  {
   "cell_type": "markdown",
   "id": "5f610518",
   "metadata": {},
   "source": [
    "Carguemos las librerías:"
   ]
  },
  {
   "cell_type": "code",
   "execution_count": null,
   "id": "90a3e5d0",
   "metadata": {},
   "outputs": [],
   "source": [
    "require(maps)\n",
    "require(rgeos)\n",
    "require(cowplot)\n",
    "require(googleway)\n",
    "require(ggrepel)\n",
    "require(lwgeom)\n",
    "#require(libwgeom)  #esta no existe \n",
    "require(sf)\n",
    "require(rnaturalearth)\n",
    "require(rnaturalearthdata)\n",
    "#require(rnaturalearthhires)  #este require Rtools pero Rtools no esta disponible para esta version R\n",
    "require(devtools)\n",
    "require(\"ggplot2\")\n",
    "#install_github(\"ropensci/rnaturalearthhires\")  #posiblemente no necesitamos \n",
    "require(\"ggspatial\")"
   ]
  },
  {
   "cell_type": "markdown",
   "id": "3f0d85d3",
   "metadata": {},
   "source": [
    "<a id='Proyeccion'></a>\n",
    "## Proyección Terrestre\n",
    "Primero cargamos el mapa de la tierra, "
   ]
  },
  {
   "cell_type": "code",
   "execution_count": null,
   "id": "41301c10",
   "metadata": {},
   "outputs": [],
   "source": [
    "world <- ne_countries(scale = \"small\", returnclass = \"sf\")\n",
    "names(world)\n",
    "sudamerica <- ne_countries(scale = \"small\", returnclass = \"sf\", continent=\"South America\")"
   ]
  },
  {
   "cell_type": "markdown",
   "id": "41abfd98",
   "metadata": {},
   "source": [
    "* Note los argumentos scale, donde la escala puede ser small/medium/large\n",
    "* Note el tipo de objeto que nos devuelve  puede ser sp(por defecto) o sf \n",
    "* Note las propiedades del objeto retornado contiene 64 campos sobre los países y territorios\n",
    "\n",
    "Veamos una primera visualización "
   ]
  },
  {
   "cell_type": "code",
   "execution_count": null,
   "id": "acdb316a",
   "metadata": {},
   "outputs": [],
   "source": [
    "defplot <-   ggplot(data = world) +\n",
    "  geom_sf()+\n",
    "  ggtitle(\"Default\")\n",
    "defplot"
   ]
  },
  {
   "cell_type": "markdown",
   "id": "47c739bf",
   "metadata": {},
   "source": [
    "Note que esta proyección presenta una gran distorción hacia los polos (Antartica), pero podemos convertirle usando CRS o Proj4 \n",
    "\n",
    "**Proj4js** es una biblioteca de JavaScript para transformar coordenadas de puntos de un sistema de coordenadas a otro, incluidas las transformaciones de datums (puntos de referencia) incluidos .\n",
    "\n",
    "Para encontrar los códigos **proj4** debemos referirnos a : https://spatialreference.org/, abrir este URL , y buscar la transformacion deseada ej: **Robinson**, desplegar **Proj4js** format y copiar la transformación a la función.\n",
    "\n",
    "Robinson y Winkel son proyecciones intermedias entre ?reas Iguales y Conforme"
   ]
  },
  {
   "cell_type": "code",
   "execution_count": null,
   "id": "5b09b906",
   "metadata": {},
   "outputs": [],
   "source": [
    "robinson <- sf::st_transform(\n",
    "  world,\n",
    "  \"+proj=robin +lon_0=0 +x_0=0 +y_0=0 +a=6371000 +b=6371000 +units=m +no_defs\"\n",
    ")"
   ]
  },
  {
   "cell_type": "code",
   "execution_count": null,
   "id": "71ac80d4",
   "metadata": {},
   "outputs": [],
   "source": [
    "robinsonplot<- ggplot(data = robinson) +\n",
    "  geom_sf() +\n",
    "  xlab(\"Longitud\") + ylab(\"Latitud\") +\n",
    "  ggtitle(\"Robinson\")\n",
    "\n",
    "robinsonplot"
   ]
  },
  {
   "cell_type": "markdown",
   "id": "04d2564e",
   "metadata": {},
   "source": [
    "Ahora con Mollweide que es de áreas iguales"
   ]
  },
  {
   "cell_type": "code",
   "execution_count": null,
   "id": "6e105195",
   "metadata": {},
   "outputs": [],
   "source": [
    "mollweide <- sf::st_transform(\n",
    "  world,\n",
    "  \"+proj=moll +lon_0=0 +x_0=0 +y_0=0 +ellps=WGS84 +datum=WGS84 +units=m +no_defs\"\n",
    ")"
   ]
  },
  {
   "cell_type": "code",
   "execution_count": null,
   "id": "e536796d",
   "metadata": {},
   "outputs": [],
   "source": [
    "mollweideplot <-ggplot(data = mollweide) +\n",
    "  geom_sf() +\n",
    "  xlab(\"Longitud\") + ylab(\"Latitud\") +\n",
    "  ggtitle(\"Mollweide\")\n",
    "\n",
    "mollweideplot"
   ]
  },
  {
   "cell_type": "markdown",
   "id": "2049a97b",
   "metadata": {},
   "source": [
    "Ahora con mercator que es conforme"
   ]
  },
  {
   "cell_type": "code",
   "execution_count": null,
   "id": "d3f5b843",
   "metadata": {},
   "outputs": [],
   "source": [
    "mercator <- sf::st_transform(\n",
    "  world,\n",
    "  \"+proj=merc +a=6378137 +b=6378137 +lat_ts=0.0 +lon_0=0.0 +x_0=0.0 +y_0=0 +k=1.0 +units=m +nadgrids=@null +wktext  +no_defs\"\n",
    ")\n",
    "\n",
    "mercatorplot <-ggplot(data = mercator) +\n",
    "  geom_sf() +\n",
    "  xlab(\"Longitud\") + ylab(\"Latitud\") +\n",
    "  ggtitle(\"Mercator\")\n",
    "\n",
    "mercatorplot\n"
   ]
  },
  {
   "cell_type": "code",
   "execution_count": null,
   "id": "2315992d",
   "metadata": {},
   "outputs": [],
   "source": [
    "plot_grid(defplot,robinsonplot,mollweideplot, mercatorplot)"
   ]
  },
  {
   "cell_type": "markdown",
   "id": "526cade0",
   "metadata": {},
   "source": [
    "En el siguiente ejemplo obtenemos la cantidad de países de la data"
   ]
  },
  {
   "cell_type": "code",
   "execution_count": null,
   "id": "9c968bfe",
   "metadata": {},
   "outputs": [],
   "source": [
    "ggplot(data = world) +\n",
    "  geom_sf() +\n",
    "  xlab(\"Longitud\") + ylab(\"Latitud\") +\n",
    "  ggtitle(\"Mapa de la Tierra \", subtitle = paste0(\"(\",length(unique(world$name)), \" paises)\"))   "
   ]
  },
  {
   "cell_type": "markdown",
   "id": "159c1440",
   "metadata": {},
   "source": [
    "El siguiente mapa en color verde y contraste con países en negro "
   ]
  },
  {
   "cell_type": "code",
   "execution_count": null,
   "id": "5c372293",
   "metadata": {},
   "outputs": [],
   "source": [
    "ggplot(data = world) + \n",
    "  geom_sf(color = \"black\", fill = \"lightgreen\")"
   ]
  },
  {
   "cell_type": "markdown",
   "id": "0119c036",
   "metadata": {},
   "source": [
    "El dataset tiene mucha información sobre el mundo, veamos un mapa con la población"
   ]
  },
  {
   "cell_type": "code",
   "execution_count": null,
   "id": "57fc2361",
   "metadata": {},
   "outputs": [],
   "source": [
    "ggplot(data = world) +\n",
    "  geom_sf(aes(fill = pop_est)) +\n",
    "  scale_fill_viridis_c(option = \"plasma\", trans = \"log10\")"
   ]
  },
  {
   "cell_type": "markdown",
   "id": "08de2277",
   "metadata": {},
   "source": [
    "<a id='Coordenadas'></a>\n",
    "## Coordenadas\n",
    "El segundo tema que debemos tener en cuenta es el formato de las coordenadas, es decir como vamos a especificar las localización de un punto que está en la tierra que es esférica en un mapa de dos dimensiones. Esto lo hacemos\n",
    "mediante sistemas de referencia de coordenadas geográficas o CRS\n",
    "\n",
    "Con la ayuda de los sistemas de referencia de coordenadas (CRS), cada lugar de la tierra se puede especificar mediante un conjunto de tres números, llamados coordenadas.Que son : \n",
    "\n",
    "* latitud \n",
    "* longitud y,\n",
    "* a veces, también un valor de altura \n",
    "\n",
    "Esto nos sirve para describir una ubicación en la superficie de la tierra. El más popular se llama WGS84. \n",
    "\n",
    "Además de lo anterior el CRS contiene las unidades usadas para definir  los ejes X Y , los Datum que #son los orígenes utilizados para colocar el sistema de coordenadas en el espacio y la información de la proyección que es la ecuación matemática utilizada para aplanar objetos que están en una superficie redonda para que pueda verlos en una superficie plana \n",
    "\n",
    "\n",
    "La función **coord_sf()** permite manejar el sistema de coordenadas, \n",
    "\n",
    "De forma predeterminada, el mapa usará el sistema de coordenadas de la primera capa que defina, o por defecto usar? WGS84  (ver https://en.wikipedia.org/wiki/World_Geodetic_System) (latitud/longitud) y es el sistema de referencia usado en GPS\n",
    "\n",
    "\n",
    "Para cambiar la proyección deberemos usar la función coord_sf() y manipular el argumento crs. \n",
    "\n",
    "crs puede tomar códigos de varios tipos: \n",
    "* EPSG European Petroleum Survey Group EPSG \n",
    "* ETRS European Terrestrial Reference System 1989\n",
    "* Proj4\n",
    "\n",
    "\n",
    "**PROJ4** es un tipo antiguo pero todavía puede ser usado.  \n",
    "Para obtenerlo puede referirse a https://spatialreference.org , buscar las proyecciones listadas, seleccionar una proyección y buscar el códigos PROJ4 apropiado.\n",
    "\n",
    "Se puede hacer referencia a un CRS mediante un número SRID que forma parte de  códigos EPSG. \n",
    "\n",
    "## Ejemplo"
   ]
  },
  {
   "cell_type": "code",
   "execution_count": null,
   "id": "5e43b7e2",
   "metadata": {},
   "outputs": [],
   "source": [
    "crs1 <- coord_sf(crs = \"+proj=longlat +ellps=WGS84 +no_defs\")"
   ]
  },
  {
   "cell_type": "markdown",
   "id": "6aeaaaa8",
   "metadata": {},
   "source": [
    "#### Para Europa\n"
   ]
  },
  {
   "cell_type": "code",
   "execution_count": null,
   "id": "d3e39706",
   "metadata": {
    "scrolled": false
   },
   "outputs": [],
   "source": [
    "coord_sf(crs = \"+proj=laea +lat_0=52 +lon_0=10 +x_0=4321000 +y_0=3210000 +ellps=GRS80 +units=m +no_defs\")\n"
   ]
  },
  {
   "cell_type": "markdown",
   "id": "6b4fa9ec",
   "metadata": {},
   "source": [
    "Para Ecuador "
   ]
  },
  {
   "cell_type": "code",
   "execution_count": null,
   "id": "9891d867",
   "metadata": {
    "scrolled": true
   },
   "outputs": [],
   "source": [
    "coord_sf(crs = \"+proj=longlat +ellps=WGS84 +no_defs\") "
   ]
  },
  {
   "cell_type": "markdown",
   "id": "b171c2bf",
   "metadata": {},
   "source": [
    "Para Argentina"
   ]
  },
  {
   "cell_type": "code",
   "execution_count": null,
   "id": "074389bf",
   "metadata": {},
   "outputs": [],
   "source": [
    "coord_sf(crs =\"+proj=laea +lat_0=-40 +lon_0=-60 +x_0=0 +y_0=0 +ellps=WGS84 +units=m +no_defs\")\n"
   ]
  },
  {
   "cell_type": "code",
   "execution_count": null,
   "id": "c1795347",
   "metadata": {},
   "outputs": [],
   "source": [
    "ggplot(data = world) +\n",
    "  geom_sf() +\n",
    "  coord_sf(crs =\"+proj=laea +lat_0=52 +lon_0=10 +x_0=4321000 +y_0=3210000 +ellps=GRS80 +units=m +no_defs\")"
   ]
  },
  {
   "cell_type": "markdown",
   "id": "ab105b6e",
   "metadata": {},
   "source": [
    "La segunda usando el SRID de EPSG"
   ]
  },
  {
   "cell_type": "code",
   "execution_count": null,
   "id": "d2ba8800",
   "metadata": {},
   "outputs": [],
   "source": [
    "ggplot(data = world) +\n",
    "  geom_sf() +\n",
    "  coord_sf(crs = \"+init=epsg:3035\")"
   ]
  },
  {
   "cell_type": "markdown",
   "id": "6fc79816",
   "metadata": {},
   "source": [
    "Y la tercera usando la función st_crs para que  vaya y busque el código EPSG"
   ]
  },
  {
   "cell_type": "code",
   "execution_count": null,
   "id": "e9be92d0",
   "metadata": {},
   "outputs": [],
   "source": [
    "ggplot(data = world) +\n",
    "  geom_sf() +\n",
    "  coord_sf(crs = st_crs(3035))"
   ]
  },
  {
   "cell_type": "markdown",
   "id": "cb326e31",
   "metadata": {},
   "source": [
    "La extensión del mapa también se puede establecer en coord_sf(), lo que en la práctica permite \"hacer zoom\" en el área de interés,  proporcionado por límites en el eje x (xlim) y en el eje y (ylim).\n"
   ]
  },
  {
   "cell_type": "markdown",
   "id": "27547389",
   "metadata": {},
   "source": [
    "#### Para Ecuador "
   ]
  },
  {
   "cell_type": "code",
   "execution_count": null,
   "id": "66423dbf",
   "metadata": {
    "scrolled": false
   },
   "outputs": [],
   "source": [
    "ggplot(data = world) +\n",
    "  geom_sf()+\n",
    "  coord_sf(xlim = c(-102.15, -74.12), ylim = c(-7.65, 7.65), expand = FALSE)"
   ]
  },
  {
   "cell_type": "markdown",
   "id": "3f2933e9",
   "metadata": {},
   "source": [
    "MAS PUNTOS DE INTERÉS DEL ECUADOR EN EL URL https://www.geodatos.net/coordenadas/ecuador"
   ]
  },
  {
   "cell_type": "markdown",
   "id": "73f82a8c",
   "metadata": {},
   "source": [
    "#### Para Centro America"
   ]
  },
  {
   "cell_type": "code",
   "execution_count": null,
   "id": "3852784f",
   "metadata": {},
   "outputs": [],
   "source": [
    "ggplot(data = world) +\n",
    "  geom_sf() +\n",
    "  coord_sf(xlim = c(-102.15, -74.12), ylim = c(7.65, 33.97), expand = FALSE)"
   ]
  },
  {
   "cell_type": "markdown",
   "id": "3d70b453",
   "metadata": {},
   "source": [
    "Hay varios paquetes disponibles para crear la barra de escala en un mapa por ejemplo:  \n",
    "prettymapr, vcd, ggsn o legendMap, para el presente lab usaremos ggspatial, que proporciona funciones fáciles de usar.\n",
    "\n",
    "La ubicación de la barra de escala debe especificarse en longitud / latitud  en los argumentos lon y lat.\n",
    "\n",
    "La distancia sombreada dentro de la barra de escala está controlada por el argumento distance_lon. mientras que su ancho está determinado por distance_lat"
   ]
  },
  {
   "cell_type": "code",
   "execution_count": null,
   "id": "451ab5b7",
   "metadata": {},
   "outputs": [],
   "source": [
    "ggplot(data = world) +\n",
    "  geom_sf() +\n",
    "  annotation_scale(location = \"bl\", width_hint = 0.5) +\n",
    "  annotation_north_arrow(location = \"bl\", which_north = \"true\", \n",
    "                         pad_x = unit(0.75, \"in\"), pad_y = unit(0.5, \"in\"),\n",
    "                         style = north_arrow_fancy_orienteering) +\n",
    "  coord_sf(xlim = c(-102.15, -74.12), ylim = c(7.65, 33.97))"
   ]
  },
  {
   "cell_type": "markdown",
   "id": "387e5c9c",
   "metadata": {},
   "source": [
    "**location** es localización de la escala (bl= bottom left , tl=top left )\n",
    "\n",
    "\n",
    "El mapa mundial ya contiene nombres de países y las coordenadas de un centroide de cada país (entre otras informaciones). Las coordenadas del centroide son X y Y \n",
    "\n",
    "\n",
    "Podemos usar esta información para trazar nombres de paóses,\n",
    "\n",
    "\n",
    "La función **geom_text** se puede usar para agregar una capa de texto a un mapa usando coordenadas geográficas."
   ]
  },
  {
   "cell_type": "code",
   "execution_count": null,
   "id": "09de3bee",
   "metadata": {},
   "outputs": [],
   "source": [
    "sf::sf_use_s2(FALSE)   #no usar objetos s2\n",
    "world_points<- st_centroid(world)\n",
    "world_points <- cbind(world, st_coordinates(st_centroid(world$geometry)))\n",
    "\n",
    "ggplot(data = world) +\n",
    "  geom_sf() +\n",
    "  geom_text(data= world_points,aes(x=X, y=Y, label=name),\n",
    "            color = \"darkblue\", fontface = \"bold\", check_overlap = FALSE) +\n",
    "  coord_sf(xlim = c(-102.15, -74.12), ylim = c(7.65, 33.97), expand = FALSE)"
   ]
  },
  {
   "cell_type": "markdown",
   "id": "82006073",
   "metadata": {},
   "source": [
    "#### MAPA COMPLETO  DEL CENTROAMERICA"
   ]
  },
  {
   "cell_type": "code",
   "execution_count": null,
   "id": "3afa4c0a",
   "metadata": {},
   "outputs": [],
   "source": [
    "ggplot(data = world) + \n",
    "  geom_sf(fill= \"antiquewhite\") + \n",
    "  geom_text(data= world_points,aes(x=X, y=Y, label=name)\n",
    "   , color = \"darkblue\", fontface = \"bold\" \n",
    "   , check_overlap = FALSE) + \n",
    "  annotate(geom = \"text\", x = -90, y = 26, label = \"Centro America\"\n",
    "           , fontface = \"italic\", color = \"grey22\", size = 6) +\n",
    "  annotation_scale(location = \"bl\", width_hint = 0.5) + \n",
    "  annotation_north_arrow(location = \"bl\", which_north = \"true\"\n",
    "    , pad_x = unit(0.75, \"in\"), pad_y = unit(0.5, \"in\")\n",
    "    , style = north_arrow_fancy_orienteering) +\n",
    "  coord_sf(xlim = c(-102.15, -74.12), ylim = c(7.65, 33.97)\n",
    "    ,expand = FALSE) + xlab(\"Longitude\") + ylab(\"Latitude\")+ \n",
    "  ggtitle(\"Mapa de CentroAmerica\") + theme(panel.grid.major = element_line(color = gray(.5), linetype = \"dashed\", size = 0.5), panel.background = element_rect(fill = \"aliceblue\"))\n",
    "\n"
   ]
  },
  {
   "cell_type": "markdown",
   "id": "849b9472",
   "metadata": {},
   "source": [
    "#### MAPA COMPLETO  DEL ECUADOR\n",
    "* Añadiendo un capa de ciudades \n",
    "* Creamos un data.frame que contiene las coordenadas"
   ]
  },
  {
   "cell_type": "code",
   "execution_count": null,
   "id": "d8e0fed0",
   "metadata": {},
   "outputs": [],
   "source": [
    "data(world.cities)\n",
    "names(world.cities)\n",
    "\n",
    "sitios <- data.frame(longitude = world.cities[world.cities$country.etc==\"Ecuador\",5]\n",
    "                     , latitude = world.cities[world.cities$country.etc==\"Ecuador\",4])\n",
    "\n",
    "ggplot(data = world) + \n",
    "  geom_sf(fill= \"antiquewhite\") + \n",
    "  geom_point(data = sitios, aes(x = longitude, y = latitude), size = 1, \n",
    "             shape = 23, fill = \"darkred\") +\n",
    "  coord_sf(xlim = c(-85.0, -75.12), ylim = c(-4, 2), expand = FALSE) +\n",
    "  annotation_scale(location = \"bl\", width_hint = 0.5) + \n",
    "  annotation_north_arrow(location = \"bl\", which_north = \"true\"\n",
    "     ,pad_x = unit(0.1, \"in\"), pad_y = unit(0.5, \"in\")\n",
    "     ,style = north_arrow_fancy_orienteering) + \n",
    "  xlab(\"Longitude\") + ylab(\"Latitude\") + ggtitle(\"Mapa de Ecuador\") + theme(panel.grid.major = element_line(color = gray(.5), linetype = \"dashed\", size = 0.5), panel.background = element_rect(fill = \"aliceblue\"))\n"
   ]
  },
  {
   "cell_type": "markdown",
   "id": "78398494",
   "metadata": {},
   "source": [
    "<a id='Facets'></a>\n",
    "## Mapa con FACETS  \n",
    "Hay veces que nos interesa ver  una evolución de indicadores por cada elemento geogr?fico, en este caso podemos usar la función facet"
   ]
  },
  {
   "cell_type": "code",
   "execution_count": null,
   "id": "f8da38b6",
   "metadata": {},
   "outputs": [],
   "source": [
    "world <- ne_countries(scale = \"small\", returnclass = \"sf\")\n",
    "#Un poco de datawrangling \n",
    "world$gdp_md_est[is.na(world$gdp_md)] <- 0\n",
    "world$gdp_md_est[world$gdp_md<=20000] <- 1\n",
    "world$gdp_md_est[world$gdp_md>20000  &  world$gdp_md<=100000] <- 2\n",
    "world$gdp_md_est[world$gdp_md>100000  &  world$gdp_md<=200000] <- 3\n",
    "world$gdp_md_est[world$gdp_md>200000  &  world$gdp_md<=1000000] <- 4\n",
    "world$gdp_md_est[world$gdp_md>1000000  &  world$gdp_md<=20000000] <- 5\n",
    "\n",
    "world_points<- st_centroid(world)\n",
    "world_points <- cbind(world, st_coordinates(st_centroid(world$geometry)))\n",
    "\n",
    "\n",
    "centro <- subset(world , world$sov_a3 == \"CAN\"\n",
    "                 |world$sov_a3 == \"US1\"\n",
    "                 |world$sov_a3 == \"MEX\"\n",
    "                 |world$sov_a3 == \"GTM\"\n",
    "                 |world$sov_a3 == \"SLV\"\n",
    "                 |world$sov_a3 == \"NIC\"\n",
    "                 |world$sov_a3 == \"CRI\"\n",
    "                 |world$sov_a3 == \"PAN\"\n",
    "                 |world$sov_a3 == \"HND\"\n",
    "                 |world$sov_a3 == \"BLZ\" )\n",
    "\n",
    "centro_points <- subset(world_points , world_points$sov_a3 == \"CAN\"\n",
    "                                |world_points$sov_a3 == \"US1\"\n",
    "                                |world_points$sov_a3 == \"MEX\"\n",
    "                                |world_points$sov_a3 == \"GTM\"\n",
    "                                |world_points$sov_a3 == \"SLV\"\n",
    "                                |world_points$sov_a3 == \"NIC\"\n",
    "                                |world_points$sov_a3 == \"CRI\"\n",
    "                                |world_points$sov_a3 == \"PAN\"\n",
    "                                |world_points$sov_a3 == \"HND\"\n",
    "                                |world_points$sov_a3 == \"BLZ\" )"
   ]
  },
  {
   "cell_type": "markdown",
   "id": "59d147ab",
   "metadata": {},
   "source": [
    "ESTE SALE MÁS  FACETS PORQUE ESTA COLOCANDO NOMBRES DE WORLD POINTS QUE ESTÁN EN TODO EL MUNDO , Y WORLDPOINTS TIENE GDP_MD_EST"
   ]
  },
  {
   "cell_type": "code",
   "execution_count": null,
   "id": "01f103e0",
   "metadata": {},
   "outputs": [],
   "source": [
    "ggplot(data = centro) + \n",
    "  geom_sf(fill= centro$gdp_md_est) + \n",
    "  geom_text(data= world_points,aes(x=X, y=Y, label=name) \n",
    "    , color = \"darkblue\", fontface = \"bold\" \n",
    "     , check_overlap = FALSE) +\n",
    "      facet_wrap(vars(gdp_md_est))+\n",
    "    annotation_scale(location = \"bl\", width_hint = 0.5) + \n",
    "    coord_sf(xlim = c(-102.15, -74.12), ylim = c(7.65, 33.97)\n",
    "           ,expand = FALSE) + xlab(\"Longitude\") + ylab(\"Latitude\")+ \n",
    "  ggtitle(\"Mapa de Centro America  Por GDP\") + \n",
    "  theme(panel.grid.major = element_line(color = gray(.5), linetype = \"dashed\", size = 0.5), panel.background = element_rect(fill = \"aliceblue\"))\n"
   ]
  },
  {
   "cell_type": "markdown",
   "id": "c35ced00",
   "metadata": {},
   "source": [
    "#### Versión con nombres y centroides"
   ]
  },
  {
   "cell_type": "code",
   "execution_count": null,
   "id": "140847a6",
   "metadata": {},
   "outputs": [],
   "source": [
    "ggplot(data = centro) + \n",
    "  geom_sf(fill= centro$gdp_md_est) + \n",
    "  geom_text(data= centro_points,aes(x=X, y=Y, label=name)\n",
    "            , color = \"darkblue\", fontface = \"bold\" \n",
    "            , check_overlap = FALSE)+\n",
    "  facet_wrap(vars(gdp_md_est))+\n",
    "    annotation_scale(location = \"bl\", width_hint = 0.5) + \n",
    "  coord_sf(xlim = c(-102.15, -74.12), ylim = c(7.65, 43.97)\n",
    "           ,expand = FALSE) + xlab(\"Longitude\") + ylab(\"Latitude\")+ \n",
    "  ggtitle(\"Mapa de Centro America  Por GDP\") + \n",
    "   theme(panel.grid.major = element_line(color = gray(.5), linetype = \"dashed\", size = 0.5), panel.background = element_rect(fill = \"aliceblue\"))\n"
   ]
  },
  {
   "cell_type": "markdown",
   "id": "9897d62a",
   "metadata": {},
   "source": [
    "#### Algunos urls interesantes \n",
    "\n",
    "https://mgimond.github.io/Spatial/coordinate-systems-in-r.html  \n",
    "https://docs.qgis.org/3.22/en/docs/gentle_gis_introduction/coordinate_reference_systems.html  \n",
    "https://geocompr.robinlovelace.net/reproj-geo-data.html  \n"
   ]
  },
  {
   "cell_type": "markdown",
   "id": "7662d114",
   "metadata": {},
   "source": [
    "# Conclusión\n",
    "R es una herramienta muy poderosa tanto para la parte estadística como para la visualización de la información, sin embargo el investigador deberá identificar que tipo de herramientas de visualización debería utilizar de acuerdo a las necesidades del proyecto.\n",
    "\n",
    "También debe estar en capacidad de comprender como instalar nuevas librerías y solucionar sus dependencias, tanto a nivel de R como de sistema operativo."
   ]
  }
 ],
 "metadata": {
  "kernelspec": {
   "display_name": "R",
   "language": "R",
   "name": "ir"
  },
  "language_info": {
   "codemirror_mode": "r",
   "file_extension": ".r",
   "mimetype": "text/x-r-source",
   "name": "R",
   "pygments_lexer": "r",
   "version": "4.2.2"
  }
 },
 "nbformat": 4,
 "nbformat_minor": 5
}
