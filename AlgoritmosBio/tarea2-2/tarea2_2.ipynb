{
 "cells": [
  {
   "cell_type": "markdown",
   "id": "8b38ee73",
   "metadata": {
    "id": "8b38ee73"
   },
   "source": [
    "# Importar librerías"
   ]
  },
  {
   "cell_type": "code",
   "execution_count": 765,
   "id": "8233b135",
   "metadata": {
    "colab": {
     "base_uri": "https://localhost:8080/"
    },
    "id": "8233b135",
    "outputId": "3f6deb5f-59ab-4d2c-bf5c-d2e0d1882269"
   },
   "outputs": [
    {
     "name": "stderr",
     "output_type": "stream",
     "text": [
      "ERROR: Invalid requirement: '#'\n",
      "\n",
      "[notice] A new release of pip is available: 23.0.1 -> 23.1.2\n",
      "[notice] To update, run: python.exe -m pip install --upgrade pip\n"
     ]
    }
   ],
   "source": [
    "\n",
    "!pip install biopython  # (instalar desde Anaconda Prompt/Terminal de Anaconda)"
   ]
  },
  {
   "cell_type": "code",
   "execution_count": 766,
   "id": "0f445e79",
   "metadata": {
    "id": "0f445e79"
   },
   "outputs": [],
   "source": [
    "import math  # Importa una librería\n",
    "\n",
    "from Bio import SeqIO  # Importa una función o clase de una librería"
   ]
  },
  {
   "cell_type": "markdown",
   "id": "8f1379de",
   "metadata": {
    "id": "8f1379de"
   },
   "source": [
    "# Leer archivo FASTA sin ayuda de librerías externas como BioPython"
   ]
  },
  {
   "cell_type": "code",
   "execution_count": 767,
   "id": "814c736c",
   "metadata": {
    "colab": {
     "base_uri": "https://localhost:8080/"
    },
    "id": "814c736c",
    "outputId": "ef558576-8109-4a5e-86c8-1f880e60575e"
   },
   "outputs": [
    {
     "name": "stdout",
     "output_type": "stream",
     "text": [
      "[('secuencia1', 'ACACTTACTG')]\n"
     ]
    }
   ],
   "source": [
    "secuencias = []  # Crea una lista vacía\n",
    "\n",
    "with open(\"data/adn.fasta\", \"r\") as f:  # Usa función open en modo de lectura (\"r\" de \"read\") y darle alias f\n",
    "    linea = f.readline()  # Lee primera línea del archivo y la guarda en la variable nombre\n",
    "    while linea != None and linea != \"\":  # Mientras haya líneas no vacías...\n",
    "        nombre = linea  # El nombre de la secuencia es lo primero con lo que se topa (antepuesto por un >)\n",
    "        nombre = nombre.strip()  # Elimina caracteres en blanco (espacios, tabulaciones, saltos de línea) antes y después del texto\n",
    "        nombre = nombre[\n",
    "                 1:]  # Elimina el carácter \">\" del nombre. Toma la cadena nombre desde el carácter en el índice 1\n",
    "        secuencia = f.readline().strip()  # Lee segunda línea del archivo, elimina caracteres en blanco y la guarda en la variable nombre\n",
    "        secuencia = secuencia.upper()  # Pone toda la secuencia en mayúsculas\n",
    "        entrada = (nombre, secuencia)  # Crea una tupla con dos datos: el nombre y la secuencia de la proteína\n",
    "        secuencias.append(entrada)  # Agrega la tupla a una lista\n",
    "        linea = f.readline()  # Lee el nombre en la siguiente línea. Puede que no exista, lo que haría que el ciclo se frene.\n",
    "\n",
    "print(secuencias)  # Las listas se muestran entre [], las tuplas entre ()"
   ]
  },
  {
   "cell_type": "markdown",
   "id": "d1bf731d",
   "metadata": {
    "id": "d1bf731d"
   },
   "source": [
    "# Leer archivo FASTA con BioPython"
   ]
  },
  {
   "cell_type": "code",
   "execution_count": 768,
   "id": "c9659ec4",
   "metadata": {
    "colab": {
     "base_uri": "https://localhost:8080/"
    },
    "id": "c9659ec4",
    "outputId": "e9dde2c9-1e49-4d19-9918-2335dcaa71b3"
   },
   "outputs": [
    {
     "name": "stdout",
     "output_type": "stream",
     "text": [
      "[('0', 'GMWRRVTATF'), ('1', 'YARCEEMIHG'), ('2', 'VDTSKRKTFR'), ('3', 'RKPNKSMWWI'), ('4', 'KGSSNNWDSW'), ('5', 'VMCDAMIWDW')]\n"
     ]
    }
   ],
   "source": [
    "# Crea función leerArchivo para leer archivos de secuencias de ADN o proteínas. Por defecto es de tipo fasta.\n",
    "def leerArchivo(ruta):\n",
    "    entradas = []  # Crea una lista vacía\n",
    "\n",
    "    # Usando la función parse de la clase SeqIO, lee e interpreta el archivo como un FASTA. Recorre todas las entradas una por una.\n",
    "    for record in SeqIO.parse(ruta, \"fasta\"):\n",
    "        nombre = record.id  # Obtiene el nombre de la secuencia de la variable record\n",
    "        secuencia = str(record.seq)  # Obtiene la secuencia de la variable record y la transforma en cadena de texto\n",
    "        secuencia = secuencia.upper()  # Pone toda la secuencia en mayúsculas\n",
    "        entrada = (nombre, secuencia)  # Crea una tupla con dos datos: el nombre y la secuencia de la proteína\n",
    "        entradas.append(entrada)  # Agrega la tupla a una lista\n",
    "\n",
    "    return entradas  # Las listas se muestran entre [], las tuplas entre ()\n",
    "\n",
    "\n",
    "entradas = leerArchivo(\"data/proteinas-5.fasta\")\n",
    "\n",
    "print(entradas)"
   ]
  },
  {
   "cell_type": "markdown",
   "id": "b5066068",
   "metadata": {
    "id": "b5066068"
   },
   "source": [
    "# Leer matriz BLOSUM (solo para proteínas)"
   ]
  },
  {
   "cell_type": "code",
   "execution_count": 769,
   "id": "7959da6c",
   "metadata": {
    "scrolled": true,
    "colab": {
     "base_uri": "https://localhost:8080/"
    },
    "id": "7959da6c",
    "outputId": "94017a3d-c5f2-4260-bf17-cdb244f0397e"
   },
   "outputs": [
    {
     "name": "stdout",
     "output_type": "stream",
     "text": [
      "\n",
      "MATRIZ BLOSUM62\n",
      "AA\tA\tR\tN\tD\tC\tE\tQ\tG\tH\tI\tL\tK\tM\tF\tP\tS\tT\tW\tY\tV\t\n",
      "A\t4\t-1\t-2\t-2\t0\t-1\t-1\t0\t-2\t-1\t-1\t-1\t-1\t-2\t-1\t1\t0\t-3\t-2\t0\t\n",
      "R\t-1\t5\t0\t-2\t-3\t1\t0\t-2\t0\t-3\t-2\t2\t-1\t-3\t-2\t-1\t-1\t-3\t-2\t-3\t\n",
      "N\t-2\t0\t6\t1\t-3\t0\t0\t0\t1\t-3\t-3\t0\t-2\t-3\t-2\t1\t0\t-4\t-2\t-3\t\n",
      "D\t-2\t-2\t1\t6\t-3\t0\t2\t-1\t-1\t-3\t-4\t-1\t-3\t-3\t-1\t0\t-1\t-4\t-3\t-3\t\n",
      "C\t0\t-3\t-3\t-3\t9\t-3\t-4\t-3\t-3\t-1\t-1\t-3\t-1\t-2\t-3\t-1\t-1\t-2\t-2\t-1\t\n",
      "E\t-1\t1\t0\t0\t-3\t5\t2\t-2\t0\t-3\t-2\t1\t0\t-3\t-1\t0\t-1\t-2\t-1\t-2\t\n",
      "Q\t-1\t0\t0\t2\t-4\t2\t5\t-2\t0\t-3\t-3\t1\t-2\t-3\t-1\t0\t-1\t-3\t-2\t-2\t\n",
      "G\t0\t-2\t0\t-1\t-3\t-2\t-2\t6\t-2\t-4\t-4\t-2\t-3\t-3\t-2\t0\t-2\t-2\t-3\t-3\t\n",
      "H\t-2\t0\t1\t-1\t-3\t0\t0\t-2\t8\t-3\t-3\t-1\t-2\t-1\t-2\t-1\t-2\t-2\t2\t-3\t\n",
      "I\t-1\t-3\t-3\t-3\t-1\t-3\t-3\t-4\t-3\t4\t2\t-3\t1\t0\t-3\t-2\t-1\t-3\t-1\t3\t\n",
      "L\t-1\t-2\t-3\t-4\t-1\t-2\t-3\t-4\t-3\t2\t4\t-2\t2\t0\t-3\t-2\t-1\t-2\t-1\t1\t\n",
      "K\t-1\t2\t0\t-1\t-3\t1\t1\t-2\t-1\t-3\t-2\t5\t-1\t-3\t-1\t0\t-1\t-3\t-2\t-2\t\n",
      "M\t-1\t-1\t-2\t-3\t-1\t0\t-2\t-3\t-2\t1\t2\t-1\t5\t0\t-2\t-1\t-1\t-1\t-1\t1\t\n",
      "F\t-2\t-3\t-3\t-3\t-2\t-3\t-3\t-3\t-1\t0\t0\t-3\t0\t6\t-4\t-2\t-2\t1\t3\t-1\t\n",
      "P\t-1\t-2\t-2\t-1\t-3\t-1\t-1\t-2\t-2\t-3\t-3\t-1\t-2\t-4\t7\t-1\t-1\t-4\t-3\t-2\t\n",
      "S\t1\t-1\t1\t0\t-1\t0\t0\t0\t-1\t-2\t-2\t0\t-1\t-2\t-1\t4\t1\t-3\t-2\t-2\t\n",
      "T\t0\t-1\t0\t-1\t-1\t-1\t-1\t-2\t-2\t-1\t-1\t-1\t-1\t-2\t-1\t1\t5\t-2\t-2\t0\t\n",
      "W\t-3\t-3\t-4\t-4\t-2\t-2\t-3\t-2\t-2\t-3\t-2\t-3\t-1\t1\t-4\t-3\t-2\t11\t2\t-3\t\n",
      "Y\t-2\t-2\t-2\t-3\t-2\t-1\t-2\t-3\t2\t-1\t-1\t-2\t-1\t3\t-3\t-2\t-2\t2\t7\t-1\t\n",
      "V\t0\t-3\t-3\t-3\t-1\t-2\t-2\t-3\t-3\t3\t1\t-2\t1\t-1\t-2\t-2\t0\t-3\t-1\t4\t\n"
     ]
    }
   ],
   "source": [
    "blosum = {}  # Crear matriz como un diccionario vacío\n",
    "\n",
    "alfabeto = [\"A\", \"R\", \"N\", \"D\", \"C\", \"E\", \"Q\", \"G\", \"H\", \"I\", \"L\", \"K\", \"M\", \"F\", \"P\", \"S\", \"T\", \"W\", \"Y\", \"V\"]\n",
    "\n",
    "with open(\"data/blosum62.txt\", \"r\") as f:  # Abrir archivo blosum62.txt en modo lectura. Este archivo está en el mismo\n",
    "    # orden que nuestro alfabeto.\n",
    "    f.readline()  # Se omite la primera línea del archivo, ya que son encabezados de columnas\n",
    "    for letra in alfabeto:  # Recorre todas las letras del alfabeto en orden\n",
    "        blosum[letra] = {}  # Para cada letra se asigna un nuevo diccionario\n",
    "        linea = f.readline().strip()  # Se lee una línea por cada letra\n",
    "        valores = linea.split()  # Se divide la línea cada vez que encuentre un espacio.\n",
    "        for i in range(len(alfabeto)):  # Se recorre el listado de valores\n",
    "            columna = alfabeto[i]\n",
    "            blosum[letra][columna] = int(valores[i])  # Se asigna el valor correspondiente a cada letra en la fila\n",
    "\n",
    "print(\"\\nMATRIZ BLOSUM62\")  # \\n es el carácter de salto de línea\n",
    "encabezado = \"AA\\t\"  # \\t es el carácter de tabulación\n",
    "for letra in alfabeto:\n",
    "    encabezado += letra + \"\\t\"\n",
    "print(encabezado)\n",
    "for letra1 in alfabeto:\n",
    "    print(letra1 + \"\\t\", end=\"\")  # El parámetro end=\"\" es para que no salte a la siguiente línea\n",
    "    for letra2 in alfabeto:\n",
    "        print(str(blosum[letra1][letra2]) + \"\\t\", end=\"\")\n",
    "    print(\"\")"
   ]
  },
  {
   "cell_type": "markdown",
   "id": "d3f80e4b",
   "metadata": {
    "id": "d3f80e4b"
   },
   "source": [
    "# Imprimir tabla"
   ]
  },
  {
   "cell_type": "code",
   "execution_count": 770,
   "id": "723224e3",
   "metadata": {
    "id": "723224e3"
   },
   "outputs": [],
   "source": [
    "def imprimirTabla(nomTabla, tabla, decimales=4):\n",
    "    tablaMayusculas = nomTabla.upper()\n",
    "    print(\"\\nTABLA DE \" + tablaMayusculas)  # \\n es el carácter de salto de línea\n",
    "    encabezado = \"\\t\"  # \\t es el carácter de tabulación\n",
    "    for letra in alfabeto:\n",
    "        encabezado += letra + \"\\t\"\n",
    "    print(encabezado)\n",
    "    for posicion in range(len(tabla)):\n",
    "        print(str(posicion + 1) + \" A\\t\", end=\"\")  # El parámetro end=\"\" es para que no salte a la siguiente línea\n",
    "        for letra in alfabeto:\n",
    "            formato = \"{0:.\" + str(decimales) + \"f}\"\n",
    "            print(formato.format(tabla[posicion][letra]) + \"\\t\", end=\"\")\n",
    "        print(\"\")"
   ]
  },
  {
   "cell_type": "markdown",
   "id": "af84a0e1",
   "metadata": {
    "id": "af84a0e1"
   },
   "source": [
    "# Crear alfabeto para ADN o proteínas"
   ]
  },
  {
   "cell_type": "code",
   "execution_count": 771,
   "id": "1373d9f5",
   "metadata": {
    "colab": {
     "base_uri": "https://localhost:8080/"
    },
    "id": "1373d9f5",
    "outputId": "338ae1fc-81ae-41ee-d2f8-93be39a84432"
   },
   "outputs": [
    {
     "name": "stdout",
     "output_type": "stream",
     "text": [
      "Set de letras leídas: {'Y', 'I', 'D', 'A', 'P', 'T', 'R', 'S', 'G', 'V', 'F', 'E', 'W', 'C', 'H', 'N', 'K', 'M'}\n",
      "Alfabeto: ['A', 'R', 'N', 'D', 'C', 'E', 'Q', 'G', 'H', 'I', 'L', 'K', 'M', 'F', 'P', 'S', 'T', 'W', 'Y', 'V']\n"
     ]
    }
   ],
   "source": [
    "def obtenerAlfabeto(entradas):  # Crea función llamada obtenerAlfabeto que recibe una lista de entradas\n",
    "    alfabeto = set()  # Crea un set vacío. Los sets son listas que no permiten elementos repetidos.\n",
    "\n",
    "    for entrada in entradas:  # Recorre las entradas una por una\n",
    "        for letra in entrada[1]:  # Recorre cada letra en la secuencia de la entrada\n",
    "            alfabeto.add(letra)\n",
    "\n",
    "    print(\"Set de letras leídas:\", alfabeto)  # Los sets se muestran entre {}\n",
    "\n",
    "    adn = [\"A\", \"C\", \"T\", \"G\"]  # Crea una lista inicializado con las letras de ADN\n",
    "\n",
    "    if alfabeto.issubset(adn):  # Si el alfabeto creado a partir de las entradas solo contiene letras de ADN, es ADN\n",
    "        alfabeto = adn\n",
    "    else:\n",
    "        alfabeto = [\"A\", \"R\", \"N\", \"D\", \"C\", \"E\", \"Q\", \"G\", \"H\", \"I\", \"L\", \"K\", \"M\", \"F\", \"P\", \"S\", \"T\", \"W\", \"Y\", \"V\"]\n",
    "\n",
    "    return alfabeto\n",
    "\n",
    "\n",
    "alfabeto = obtenerAlfabeto(entradas)\n",
    "\n",
    "print(\"Alfabeto:\", alfabeto)"
   ]
  },
  {
   "cell_type": "markdown",
   "id": "7f5d7a42",
   "metadata": {
    "id": "7f5d7a42"
   },
   "source": [
    "# Calcular conteos"
   ]
  },
  {
   "cell_type": "code",
   "execution_count": 772,
   "id": "e8d01a50",
   "metadata": {
    "colab": {
     "base_uri": "https://localhost:8080/"
    },
    "id": "e8d01a50",
    "outputId": "7fe58a6f-69f1-49ce-e9a6-a7c614643d36"
   },
   "outputs": [
    {
     "name": "stdout",
     "output_type": "stream",
     "text": [
      "\n",
      "TABLA DE CONTEO\n",
      "\tA\tR\tN\tD\tC\tE\tQ\tG\tH\tI\tL\tK\tM\tF\tP\tS\tT\tW\tY\tV\t\n",
      "1 A\t0\t1\t0\t0\t0\t0\t0\t1\t0\t0\t0\t1\t0\t0\t0\t0\t0\t0\t1\t2\t\n",
      "2 A\t1\t0\t0\t1\t0\t0\t0\t1\t0\t0\t0\t1\t2\t0\t0\t0\t0\t0\t0\t0\t\n",
      "3 A\t0\t1\t0\t0\t1\t0\t0\t0\t0\t0\t0\t0\t0\t0\t1\t1\t1\t1\t0\t0\t\n",
      "4 A\t0\t1\t1\t1\t1\t0\t0\t0\t0\t0\t0\t0\t0\t0\t0\t2\t0\t0\t0\t0\t\n",
      "5 A\t1\t1\t1\t0\t0\t1\t0\t0\t0\t0\t0\t2\t0\t0\t0\t0\t0\t0\t0\t0\t\n",
      "6 A\t0\t1\t1\t0\t0\t1\t0\t0\t0\t0\t0\t0\t1\t0\t0\t1\t0\t0\t0\t1\t\n",
      "7 A\t0\t0\t0\t0\t0\t0\t0\t0\t0\t1\t0\t1\t2\t0\t0\t0\t1\t1\t0\t0\t\n",
      "8 A\t1\t0\t0\t1\t0\t0\t0\t0\t0\t1\t0\t0\t0\t0\t0\t0\t1\t2\t0\t0\t\n",
      "9 A\t0\t0\t0\t1\t0\t0\t0\t0\t1\t0\t0\t0\t0\t1\t0\t1\t1\t1\t0\t0\t\n",
      "10 A\t0\t1\t0\t0\t0\t0\t0\t1\t0\t1\t0\t0\t0\t1\t0\t0\t0\t2\t0\t0\t\n"
     ]
    }
   ],
   "source": [
    "# Crea función llamada calcularConteo que recibe una lista de entradas\n",
    "def calcularConteo(entradas):\n",
    "    modeloConteo = {}  # Crea un diccionario vacío para el modelo de conteo\n",
    "    for letra in alfabeto:  # Recorre las letras del alfabeto\n",
    "        modeloConteo[letra] = 0  # Crea la llave de la letra en el diccionario en valor 0\n",
    "\n",
    "    conteo = []  # Crea una lista vacía para los conteos\n",
    "    longitud = len(entradas[0][1])  # Obtiene la longitud de las secuencias\n",
    "    for i in range(longitud):  # Repite el ciclo N veces, siendo N la longitud de las secuencias\n",
    "        conteo.append(\n",
    "            modeloConteo.copy())  # Copia el modelo de conteo y agrega a la lista tantos modelos como carácteres haya en las secuencias\n",
    "\n",
    "    for entrada in entradas:  # Recorre las entradas una por una\n",
    "        i = 0  # Posición de la letra actual\n",
    "        for letra in entrada[1]:  # Recorre cada letra en la secuencia de la entrada\n",
    "            conteo[i][\n",
    "                letra] += 1  # Suma 1 al conteo de la letra en la posición i. También se podría con conteo[i][letra] = conteo[i][letra] + 1\n",
    "            i += 1  # Se mueve a la siguiente posición\n",
    "\n",
    "    return conteo\n",
    "\n",
    "\n",
    "conteo = calcularConteo(entradas)  # Guardar el conteo en la variable conteo\n",
    "\n",
    "# print(conteo) # Los diccionarios también se muestran entre {}, pero con el formato {llave: valor, llave: valor, ...}\n",
    "\n",
    "imprimirTabla(\"conteo\", conteo, decimales=0)"
   ]
  },
  {
   "cell_type": "markdown",
   "id": "b2d948f1",
   "metadata": {
    "id": "b2d948f1"
   },
   "source": [
    "# Calcular frecuencias"
   ]
  },
  {
   "cell_type": "code",
   "execution_count": 773,
   "id": "fffa4ea1",
   "metadata": {
    "scrolled": true,
    "colab": {
     "base_uri": "https://localhost:8080/"
    },
    "id": "fffa4ea1",
    "outputId": "1ce61352-4e10-4cb5-d25f-a9b5c9d087d1"
   },
   "outputs": [
    {
     "name": "stdout",
     "output_type": "stream",
     "text": [
      "\n",
      "TABLA DE FRECUENCIAS\n",
      "\tA\tR\tN\tD\tC\tE\tQ\tG\tH\tI\tL\tK\tM\tF\tP\tS\tT\tW\tY\tV\t\n",
      "1 A\t0.000\t0.167\t0.000\t0.000\t0.000\t0.000\t0.000\t0.167\t0.000\t0.000\t0.000\t0.167\t0.000\t0.000\t0.000\t0.000\t0.000\t0.000\t0.167\t0.333\t\n",
      "2 A\t0.167\t0.000\t0.000\t0.167\t0.000\t0.000\t0.000\t0.167\t0.000\t0.000\t0.000\t0.167\t0.333\t0.000\t0.000\t0.000\t0.000\t0.000\t0.000\t0.000\t\n",
      "3 A\t0.000\t0.167\t0.000\t0.000\t0.167\t0.000\t0.000\t0.000\t0.000\t0.000\t0.000\t0.000\t0.000\t0.000\t0.167\t0.167\t0.167\t0.167\t0.000\t0.000\t\n",
      "4 A\t0.000\t0.167\t0.167\t0.167\t0.167\t0.000\t0.000\t0.000\t0.000\t0.000\t0.000\t0.000\t0.000\t0.000\t0.000\t0.333\t0.000\t0.000\t0.000\t0.000\t\n",
      "5 A\t0.167\t0.167\t0.167\t0.000\t0.000\t0.167\t0.000\t0.000\t0.000\t0.000\t0.000\t0.333\t0.000\t0.000\t0.000\t0.000\t0.000\t0.000\t0.000\t0.000\t\n",
      "6 A\t0.000\t0.167\t0.167\t0.000\t0.000\t0.167\t0.000\t0.000\t0.000\t0.000\t0.000\t0.000\t0.167\t0.000\t0.000\t0.167\t0.000\t0.000\t0.000\t0.167\t\n",
      "7 A\t0.000\t0.000\t0.000\t0.000\t0.000\t0.000\t0.000\t0.000\t0.000\t0.167\t0.000\t0.167\t0.333\t0.000\t0.000\t0.000\t0.167\t0.167\t0.000\t0.000\t\n",
      "8 A\t0.167\t0.000\t0.000\t0.167\t0.000\t0.000\t0.000\t0.000\t0.000\t0.167\t0.000\t0.000\t0.000\t0.000\t0.000\t0.000\t0.167\t0.333\t0.000\t0.000\t\n",
      "9 A\t0.000\t0.000\t0.000\t0.167\t0.000\t0.000\t0.000\t0.000\t0.167\t0.000\t0.000\t0.000\t0.000\t0.167\t0.000\t0.167\t0.167\t0.167\t0.000\t0.000\t\n",
      "10 A\t0.000\t0.167\t0.000\t0.000\t0.000\t0.000\t0.000\t0.167\t0.000\t0.167\t0.000\t0.000\t0.000\t0.167\t0.000\t0.000\t0.000\t0.333\t0.000\t0.000\t\n"
     ]
    }
   ],
   "source": [
    "# Crea función llamada calcularFrecuencias que recibe una lista de entradas y una tabla de conteos\n",
    "# ponderarSecuencia define si se calcula la frecuencia con ponderación con pseudoconteos (para evitar ceros) o no. Por defecto está activado.\n",
    "# beta define el peso del pseudoconteo. Por defecto toma valor 1.\n",
    "def calcularFrecuencias(entradas, conteo, ponderarSecuencia=False, beta=1):\n",
    "    modeloFrecuencias = {}  # Crea un diccionario vacío para el modelo de frecuencias\n",
    "    for letra in alfabeto:  # Recorre las letras del alfabeto\n",
    "        modeloFrecuencias[letra] = 0  # Crea la llave de la letra en el diccionario en valor 0\n",
    "\n",
    "    frecuencias = []  # Crea una lista vacía para las frecuencias\n",
    "    longitud = len(entradas[0][1])  # Obtiene la longitud de las secuencias\n",
    "    for i in range(longitud):  # Repite el ciclo N veces, siendo N la longitud de las secuencias\n",
    "        frecuencias.append(\n",
    "            modeloFrecuencias.copy())  # Copia el modelo de frecuencias y agrega a la lista tantos modelos como carácteres haya en las secuencias\n",
    "\n",
    "    if ponderarSecuencia:  # Si se calcula frecuencia con ponderación...\n",
    "        # Calcula la frecuencia previa general dependiendo de cuántas letras hay en el alfabeto.\n",
    "        frecuenciasPrevias = {}\n",
    "        for letra in alfabeto:\n",
    "            frecuenciasPrevias[letra] = 1 / len(\n",
    "                alfabeto)  # En este caso, todas las letras tendrán igual frecuencia previa.\n",
    "        for i in range(len(conteo)):  # Recorre la lista de conteos\n",
    "            sumaPseudofrecuencias = 0  # Variable para almacenar suma de pseudofrecuencias antes de normalizar\n",
    "            for llave, valor in conteo[i].items():  # Recorre el diccionario del conteo de la posición i\n",
    "                frecuencias[i][llave] = (valor + beta * frecuenciasPrevias[llave]) / len(\n",
    "                    entradas)  # (Cij + b * fij) / N, N = cantidad de entradas\n",
    "                sumaPseudofrecuencias += frecuencias[i][llave]  # Suma el resultado a la suma de pseudofrecuencias\n",
    "            for llave in conteo[i]:\n",
    "                frecuencias[i][llave] /= sumaPseudofrecuencias  # Normaliza con respecto a la suma de pseudofrecuencias\n",
    "    else:\n",
    "        for i in range(len(conteo)):  # Recorre la lista de conteos\n",
    "            for llave, valor in conteo[i].items():  # Recorre el diccionario del conteo de la posición i\n",
    "                frecuencias[i][llave] = valor / len(entradas)  # Cij / N, N = cantidad de entradas\n",
    "\n",
    "    return frecuencias\n",
    "\n",
    "\n",
    "frecuencias = calcularFrecuencias(entradas, conteo, ponderarSecuencia=False, beta=0)\n",
    "# frecuencias = calcularFrecuencias(entradas, conteo, ponderarSecuencia=True, beta=50) # Guardar el conteo en la\n",
    "# variable frecuencias\n",
    "\n",
    "# print(frecuencias)\n",
    "\n",
    "imprimirTabla(\"frecuencias\", frecuencias, decimales=3)"
   ]
  },
  {
   "cell_type": "markdown",
   "id": "9ffb8c9a",
   "metadata": {
    "id": "9ffb8c9a"
   },
   "source": [
    "# Calcular pesos"
   ]
  },
  {
   "cell_type": "code",
   "execution_count": 774,
   "id": "4ec52ebb",
   "metadata": {
    "colab": {
     "base_uri": "https://localhost:8080/"
    },
    "id": "4ec52ebb",
    "outputId": "e6fd7293-526d-4eb3-e9bf-1f6e1afaee84"
   },
   "outputs": [
    {
     "name": "stdout",
     "output_type": "stream",
     "text": [
      "\n",
      "TABLA DE PESOS\n",
      "\tA\tR\tN\tD\tC\tE\tQ\tG\tH\tI\tL\tK\tM\tF\tP\tS\tT\tW\tY\tV\t\n",
      "1 A\t-inf\t1.2040\t-inf\t-inf\t-inf\t-inf\t-inf\t1.2040\t-inf\t-inf\t-inf\t1.2040\t-inf\t-inf\t-inf\t-inf\t-inf\t-inf\t1.2040\t1.8971\t\n",
      "2 A\t1.2040\t-inf\t-inf\t1.2040\t-inf\t-inf\t-inf\t1.2040\t-inf\t-inf\t-inf\t1.2040\t1.8971\t-inf\t-inf\t-inf\t-inf\t-inf\t-inf\t-inf\t\n",
      "3 A\t-inf\t1.2040\t-inf\t-inf\t1.2040\t-inf\t-inf\t-inf\t-inf\t-inf\t-inf\t-inf\t-inf\t-inf\t1.2040\t1.2040\t1.2040\t1.2040\t-inf\t-inf\t\n",
      "4 A\t-inf\t1.2040\t1.2040\t1.2040\t1.2040\t-inf\t-inf\t-inf\t-inf\t-inf\t-inf\t-inf\t-inf\t-inf\t-inf\t1.8971\t-inf\t-inf\t-inf\t-inf\t\n",
      "5 A\t1.2040\t1.2040\t1.2040\t-inf\t-inf\t1.2040\t-inf\t-inf\t-inf\t-inf\t-inf\t1.8971\t-inf\t-inf\t-inf\t-inf\t-inf\t-inf\t-inf\t-inf\t\n",
      "6 A\t-inf\t1.2040\t1.2040\t-inf\t-inf\t1.2040\t-inf\t-inf\t-inf\t-inf\t-inf\t-inf\t1.2040\t-inf\t-inf\t1.2040\t-inf\t-inf\t-inf\t1.2040\t\n",
      "7 A\t-inf\t-inf\t-inf\t-inf\t-inf\t-inf\t-inf\t-inf\t-inf\t1.2040\t-inf\t1.2040\t1.8971\t-inf\t-inf\t-inf\t1.2040\t1.2040\t-inf\t-inf\t\n",
      "8 A\t1.2040\t-inf\t-inf\t1.2040\t-inf\t-inf\t-inf\t-inf\t-inf\t1.2040\t-inf\t-inf\t-inf\t-inf\t-inf\t-inf\t1.2040\t1.8971\t-inf\t-inf\t\n",
      "9 A\t-inf\t-inf\t-inf\t1.2040\t-inf\t-inf\t-inf\t-inf\t1.2040\t-inf\t-inf\t-inf\t-inf\t1.2040\t-inf\t1.2040\t1.2040\t1.2040\t-inf\t-inf\t\n",
      "10 A\t-inf\t1.2040\t-inf\t-inf\t-inf\t-inf\t-inf\t1.2040\t-inf\t1.2040\t-inf\t-inf\t-inf\t1.2040\t-inf\t-inf\t-inf\t1.8971\t-inf\t-inf\t\n"
     ]
    }
   ],
   "source": [
    "# Crea función llamada calcularPesos que recibe una lista de entradas y una tabla de frecuencias\n",
    "def calcularPesos(entradas, frecuencias):\n",
    "    modeloPesos = {}  # Crea un diccionario vacío para el modelo de pesos\n",
    "    for letra in alfabeto:  # Recorre las letras del alfabeto\n",
    "        modeloPesos[letra] = 0  # Crea la llave de la letra en el diccionario en valor 0\n",
    "\n",
    "    pesos = []  # Crea una lista vacía para los pesos\n",
    "    longitud = len(entradas[0][1])  # Obtiene la longitud de las secuencias\n",
    "    for i in range(longitud):  # Repite el ciclo N veces, siendo N la longitud de las secuencias\n",
    "        pesos.append(\n",
    "            modeloPesos.copy())  # Copia el modelo de frecuencias y agrega a la lista tantos modelos como carácteres haya en las secuencias\n",
    "\n",
    "    if len(entradas) == 1 and len(\n",
    "            alfabeto) == 20:  # Si solo hay una secuencia y se leyeron proteínas, el peso es igual al valor de la matriz BLOSUM62\n",
    "        i = 0\n",
    "        for letra1 in entradas[0][1]:  # Recorre cada letra de la secuencia única\n",
    "            for letra2 in alfabeto:\n",
    "                pesos[i][letra2] = blosum[letra1][letra2]\n",
    "            i += 1\n",
    "\n",
    "    else:\n",
    "        # Calcula la frecuencia previa general dependiendo de cuántas letras hay en el alfabeto.\n",
    "        frecuenciasPrevias = {}\n",
    "        for letra in alfabeto:\n",
    "            frecuenciasPrevias[letra] = 1 / len(\n",
    "                alfabeto)  # En este caso, todas las letras tendrán igual frecuencia previa.\n",
    "        for i in range(len(pesos)):  # Recorre la lista de frecuencias\n",
    "            for llave, valor in pesos[i].items():  # Recorre el diccionario del conteo de la posición i\n",
    "                # CORRIGE AQUÍ - El código lanza error si no hay ponderación. Haz que esto no suceda.\n",
    "                if frecuencias[i][llave] <= 0:\n",
    "                    pesos[i][llave] = float('-inf')\n",
    "                else:\n",
    "                    pesos[i][llave] = math.log(frecuencias[i][llave] / frecuenciasPrevias[llave])\n",
    "\n",
    "    return pesos\n",
    "\n",
    "\n",
    "pesos = calcularPesos(entradas, frecuencias)\n",
    "\n",
    "imprimirTabla(\"pesos\", pesos)"
   ]
  },
  {
   "cell_type": "markdown",
   "id": "affcf56d",
   "metadata": {
    "id": "affcf56d"
   },
   "source": [
    "# Prueba con una secuencia de aminoácidos"
   ]
  },
  {
   "cell_type": "code",
   "execution_count": 775,
   "id": "27732133",
   "metadata": {
    "colab": {
     "base_uri": "https://localhost:8080/"
    },
    "id": "27732133",
    "outputId": "8c6ab015-efd2-4258-bf16-f2606831a129"
   },
   "outputs": [
    {
     "name": "stdout",
     "output_type": "stream",
     "text": [
      "Set de letras leídas: {'C', 'G', 'T', 'A'}\n",
      "\n",
      "TABLA DE PESOS\n",
      "\tA\tC\tT\tG\t\n",
      "1 A\t1.3863\t-inf\t-inf\t-inf\t\n",
      "2 A\t-inf\t1.3863\t-inf\t-inf\t\n",
      "3 A\t1.3863\t-inf\t-inf\t-inf\t\n",
      "4 A\t-inf\t1.3863\t-inf\t-inf\t\n",
      "5 A\t-inf\t-inf\t1.3863\t-inf\t\n",
      "6 A\t-inf\t-inf\t1.3863\t-inf\t\n",
      "7 A\t1.3863\t-inf\t-inf\t-inf\t\n",
      "8 A\t-inf\t1.3863\t-inf\t-inf\t\n",
      "9 A\t-inf\t-inf\t1.3863\t-inf\t\n",
      "10 A\t-inf\t-inf\t-inf\t1.3863\t\n"
     ]
    }
   ],
   "source": [
    "entradas = leerArchivo(\"data/adn.fasta\")\n",
    "alfabeto = obtenerAlfabeto(entradas)\n",
    "conteos = calcularConteo(entradas)\n",
    "frecuencias = calcularFrecuencias(entradas, conteos,ponderarSecuencia=False, beta=0)\n",
    "pesos = calcularPesos(entradas, frecuencias)\n",
    "imprimirTabla(\"pesos\", pesos)"
   ]
  },
  {
   "cell_type": "markdown",
   "id": "342e1612",
   "metadata": {
    "id": "342e1612"
   },
   "source": [
    "# Prueba con una secuencia de aminoácidos"
   ]
  },
  {
   "cell_type": "code",
   "execution_count": 776,
   "id": "7ff0c666",
   "metadata": {
    "colab": {
     "base_uri": "https://localhost:8080/"
    },
    "id": "7ff0c666",
    "outputId": "0ddece25-6e76-4a79-f04a-3b9b687fb242"
   },
   "outputs": [
    {
     "name": "stdout",
     "output_type": "stream",
     "text": [
      "Set de letras leídas: {'Y', 'I', 'D', 'A', 'P', 'T', 'R', 'S', 'G', 'V', 'F', 'E', 'W', 'C', 'H', 'N', 'K', 'M'}\n",
      "\n",
      "TABLA DE PESOS\n",
      "\tA\tR\tN\tD\tC\tE\tQ\tG\tH\tI\tL\tK\tM\tF\tP\tS\tT\tW\tY\tV\t\n",
      "1 A\t-inf\t1.2040\t-inf\t-inf\t-inf\t-inf\t-inf\t1.2040\t-inf\t-inf\t-inf\t1.2040\t-inf\t-inf\t-inf\t-inf\t-inf\t-inf\t1.2040\t1.8971\t\n",
      "2 A\t1.2040\t-inf\t-inf\t1.2040\t-inf\t-inf\t-inf\t1.2040\t-inf\t-inf\t-inf\t1.2040\t1.8971\t-inf\t-inf\t-inf\t-inf\t-inf\t-inf\t-inf\t\n",
      "3 A\t-inf\t1.2040\t-inf\t-inf\t1.2040\t-inf\t-inf\t-inf\t-inf\t-inf\t-inf\t-inf\t-inf\t-inf\t1.2040\t1.2040\t1.2040\t1.2040\t-inf\t-inf\t\n",
      "4 A\t-inf\t1.2040\t1.2040\t1.2040\t1.2040\t-inf\t-inf\t-inf\t-inf\t-inf\t-inf\t-inf\t-inf\t-inf\t-inf\t1.8971\t-inf\t-inf\t-inf\t-inf\t\n",
      "5 A\t1.2040\t1.2040\t1.2040\t-inf\t-inf\t1.2040\t-inf\t-inf\t-inf\t-inf\t-inf\t1.8971\t-inf\t-inf\t-inf\t-inf\t-inf\t-inf\t-inf\t-inf\t\n",
      "6 A\t-inf\t1.2040\t1.2040\t-inf\t-inf\t1.2040\t-inf\t-inf\t-inf\t-inf\t-inf\t-inf\t1.2040\t-inf\t-inf\t1.2040\t-inf\t-inf\t-inf\t1.2040\t\n",
      "7 A\t-inf\t-inf\t-inf\t-inf\t-inf\t-inf\t-inf\t-inf\t-inf\t1.2040\t-inf\t1.2040\t1.8971\t-inf\t-inf\t-inf\t1.2040\t1.2040\t-inf\t-inf\t\n",
      "8 A\t1.2040\t-inf\t-inf\t1.2040\t-inf\t-inf\t-inf\t-inf\t-inf\t1.2040\t-inf\t-inf\t-inf\t-inf\t-inf\t-inf\t1.2040\t1.8971\t-inf\t-inf\t\n",
      "9 A\t-inf\t-inf\t-inf\t1.2040\t-inf\t-inf\t-inf\t-inf\t1.2040\t-inf\t-inf\t-inf\t-inf\t1.2040\t-inf\t1.2040\t1.2040\t1.2040\t-inf\t-inf\t\n",
      "10 A\t-inf\t1.2040\t-inf\t-inf\t-inf\t-inf\t-inf\t1.2040\t-inf\t1.2040\t-inf\t-inf\t-inf\t1.2040\t-inf\t-inf\t-inf\t1.8971\t-inf\t-inf\t\n"
     ]
    }
   ],
   "source": [
    "# aquí cambiar los parámetros de ponderación y beta\n",
    "# tambien el archivo de entrenamiento\n",
    "entradas = leerArchivo(\"data/proteinas.fasta\")\n",
    "alfabeto = obtenerAlfabeto(entradas)\n",
    "conteos = calcularConteo(entradas)\n",
    "frecuencias = calcularFrecuencias(entradas, conteos,ponderarSecuencia=False, beta=50)\n",
    "pesos = calcularPesos(entradas, frecuencias)\n",
    "imprimirTabla(\"pesos\", pesos)"
   ]
  },
  {
   "cell_type": "markdown",
   "id": "a892bcd1",
   "metadata": {
    "id": "a892bcd1"
   },
   "source": [
    "# Cálculo de eficiencia de matriz PSSM"
   ]
  },
  {
   "cell_type": "markdown",
   "id": "96d50f4e",
   "metadata": {
    "id": "96d50f4e"
   },
   "source": [
    "### Cargar datos"
   ]
  },
  {
   "cell_type": "code",
   "execution_count": 777,
   "id": "f06ade0d",
   "metadata": {
    "id": "f06ade0d"
   },
   "outputs": [],
   "source": [
    "secuencias = []  # Lista vacía para guardar las secuencias\n",
    "puntajesOriginales = []  # Lista vacía para guardar los puntajes del archivo\n",
    "puntajes_min = float('inf')  # Inicializa el puntaje mínimo con un valor infinito\n",
    "puntajes_max = float('-inf')  # Inicializa el puntaje máximo con un valor infinitamente pequeño\n",
    "\n",
    "with open(\"data/test2.lig\", \"r\") as f:  # Leer archivo de entrada\n",
    "    linea = f.readline()  # Lee la primera línea del archivo\n",
    "    while linea != None and linea != \"\":  # Mientras haya líneas no vacías...\n",
    "        datos = linea.split()  # Separa la línea por espacio\n",
    "        secuencia = datos[0]  # El primer elemento es la secuencia\n",
    "        puntaje = float(datos[1])  # El segundo elemento es el valor original. Se transforma en float.\n",
    "        secuencias.append(secuencia)  # Agrega la secuencia a la lista de secuencias\n",
    "        puntajesOriginales.append(puntaje)  # Agrega el puntaje a la lista de puntajes originales\n",
    "        linea = f.readline()  # Lee la siguiente línea\n",
    "        puntajes_min = min(puntajes_min, puntaje)\n",
    "        puntajes_max = max(puntajes_max, puntaje)\n",
    "    for i in range(len(puntajesOriginales)):\n",
    "        puntajesOriginales[i] = (puntajesOriginales[i] - puntajes_min) / (puntajes_max - puntajes_min)\n"
   ]
  },
  {
   "cell_type": "markdown",
   "id": "586b5e5d",
   "metadata": {
    "id": "586b5e5d"
   },
   "source": [
    "### Función para calcular puntajes"
   ]
  },
  {
   "cell_type": "code",
   "execution_count": 778,
   "id": "d7682a95",
   "metadata": {
    "colab": {
     "base_uri": "https://localhost:8080/"
    },
    "id": "d7682a95",
    "outputId": "bdabd2a2-199f-4cbf-be0c-79b283ac5717"
   },
   "outputs": [
    {
     "data": {
      "text/plain": "'def calcularPuntajes(secuencias, pssm):\\n    puntajes = []  # Crea una lista vacía para los puntajes calculados\\n    longitud = len(secuencias[0])  # Longitud de las secuencias (se presupone que todas tienen la misma longitud)\\n    for secuencia in secuencias:  # Recorre una por una las secuencias\\n        puntaje = 0  # Variable para guardar el puntaje calculado de la secuencia actual\\n        for i in range(longitud):  # Recorre letra por letra de la secuencia\\n            letra = secuencia[i]\\n            puntaje += pssm[i][letra]  # Suma el peso de la matriz para la letra en la posición actual al puntaje total\\n        puntajes.append(puntaje)  # Agrega el puntaje calculado a la lista de puntajes\\n    return puntajes\\n\\n\\npuntajesCalculados = calcularPuntajes(secuencias, pesos)\\n'"
     },
     "execution_count": 778,
     "metadata": {},
     "output_type": "execute_result"
    }
   ],
   "source": [
    "# Crea función llamada calcularPuntajes que recibe una lista de entradas y una tabla PSSM\n",
    "\"\"\"def calcularPuntajes(secuencias, pssm):\n",
    "    puntajes = []  # Crea una lista vacía para los puntajes calculados\n",
    "    longitud = len(secuencias[0])  # Longitud de las secuencias (se presupone que todas tienen la misma longitud)\n",
    "    for secuencia in secuencias:  # Recorre una por una las secuencias\n",
    "        puntaje = 0  # Variable para guardar el puntaje calculado de la secuencia actual\n",
    "        for i in range(longitud):  # Recorre letra por letra de la secuencia\n",
    "            letra = secuencia[i]\n",
    "            puntaje += pssm[i][letra]  # Suma el peso de la matriz para la letra en la posición actual al puntaje total\n",
    "        puntajes.append(puntaje)  # Agrega el puntaje calculado a la lista de puntajes\n",
    "    return puntajes\n",
    "\n",
    "\n",
    "puntajesCalculados = calcularPuntajes(secuencias, pesos)\n",
    "\"\"\""
   ]
  },
  {
   "cell_type": "code",
   "execution_count": 779,
   "outputs": [
    {
     "name": "stdout",
     "output_type": "stream",
     "text": [
      "[0.48478339805273596, 0.4436667703499387, 0.5195463974815568, 0.5602148286406328, 0.5610933382454124, 0.3774420469735151, 0.3970539056393785, 0.7265449918633596, 0.6945408181093474, 0.3951548193700319, 0.1726745202829335, 0.6426977020210929, 0.2535936520708735, 0.6391492892983195, 0.43569967017235467, 0.6382139629430207, 0.5948416001360994, 0.4081180574359478, 0.6520019468195772, 0.40202525554702323, 0.6382619349258961, 0.5618816067971525, 0.8051628875687519, 0.5101823705594818, 0.39762348909120393, 0.47569934730618313, 0.5073261063505716, 0.12602355690928851, 0.5183834169735649, 0.7415869098966431, 0.33207751907543853, 0.5953050934126208, 0.3554137105320305, 0.5932001412388541, 0.10550537382152103, 0.41742775740581445, 0.6284247883822035, 0.5107420845844034, 0.5077163474869012, 0.3246617545718904, 0.6795491726329533, 0.3565873136045256, 0.6328815622587582, 0.446701327803753, 0.36346362942512916, 0.4684515854145428, 0.9655176941467988, 0.36243315438111123, 0.443787567483458, 0.6256307563361616, 0.341077094728626, 0.44994576850820567, 0.37588477133738046, 0.4133146507080676, 0.28348529680339035, 0.18757899723188787, 0.6687362577057496, 0.609725342327086, 0.3559841240199329, 0.5447269190741174, 0.490032169497202, 0.5845585813827436, 0.6363396948049769, 0.4624896746454048, 0.808132184491824, 0.7203530881253344, 0.624479872373321, 0.36968045438018504, 0.29444932941962126, 0.4665128678841431, 0.5924383331344981, 0.7691398292428611, 0.5336351692880488, 0.5023665815372669, 0.424568338149631, 0.6181921003769687, 0.39004121105722034, 0.23655492513986917, 0.4614607013256957, 0.676907965334911, 0.5847128299337325, 0.27589435032629295, 0.5415112623195878, 0.8475849849494052, 0.547099974379316, 0.48353657172024483, 0.6697240076090911, 0.2695347838944301, 0.5433499366013141, 0.16973036653771167, 0.478814182999016, 0.5793495031938872, 0.4416659225011703, 0.6651031195680704, 0.7809957615756637, 0.3348554883226011, 0.5716652687448096, 0.42926362082421776, 0.4557092566065893, 0.7317097736297006, 0.7298854728748211, 0.601999871387964, 0.7486760889066663, 0.41138689328932304, 0.5718306226352808, 0.4918945755734584, 0.533959094517402, 0.8370481428143531, 0.1876171674055232, 0.5474853903726163, 0.3201301090478225, 0.7800875064237262, 0.6968001189788072, 0.4792238341157, 0.3889553404006911, 0.7404722495561584, 0.620921440019233, 0.5378423413980434, 0.5872327230031259, 0.8090685822859456, 0.6166738989079249, 0.472713240764486, 0.6326703397627383, 0.5507929902953689, 0.7443369703497142, 0.5072877673254043, 0.4533943242965904, 0.36426843475000825, 0.6392787307598999, 0.595862039687849, 0.48412086554999056, 0.3162627369844382, 0.3778453257763545, 0.5727623512962284, 0.515031764578101, 0.40332369536725, 0.506938375714614, 0.4014426528830036, 0.4938037777992597, 0.7715886084943391, 0.7581145625880843, 0.5996716510162374, 0.6348595740242893, 0.70097671428396, 0.27847632828678415, 0.4604200077794735, 0.3341719718474026, 0.6088908415684319, 0.6625186035902956, 0.5025794859854901, 0.5983550228568135, 0.47720903042795687, 0.16971728121293053, 0.7034577219944311, 0.5201212667443564, 0.571248391728116, 0.4724704341360897, 0.15195685526471708, 0.461679177634948, 0.6004815642448119, 0.6053869526585537, 0.5092206507120911, 0.37979676863533646, 0.2761861071575352, 0.4268104126594033, 0.5285790391525081, 0.6242559417331457, 0.6012165045874662, 0.5619568330773868, 0.48291365919837065, 0.5287743253258327, 0.589555454945502, 0.4884833985856324, 0.3534555493731304, 0.35163097982892444, 0.5506501735212087, 0.6714386126165584, 0.5061202705957141, 0.6452779969186304, 0.6403514791771395, 0.5299881212945414, 0.36597949696960813, 0.8743819177733019, 0.25556114005037933, 0.4943775114275426, 0.6148652628476741, 0.3480638245712642, 0.4861961537277311, 0.43605859218931037, 0.8072102294226534, 0.5198243271830076, 0.5175144765799087, 0.30726197889102197, 0.5797141562964188, 0.39107126652592333, 0.5765215763774472, 0.6915140625622493, 0.3014430418933947, 0.5509062161360067, 0.6137065885757107, 0.4373587468872258, 0.4632629265657095, 0.2908040126204224, 0.361190692038695, 0.5706195151184773, 0.515490592318904, 0.2463365425918998, 0.5304791848895511, 0.5790192327106902, 0.28141845872456916, 0.39414706340100153, 0.563181504501627, 0.40211521687743695, 0.3505280283532384, 0.6208307876365089, 0.22753664335037438, 0.3332805554113527, 0.39144241092518195, 0.13564947590432025, 0.6203012829976322, 0.9014476294111206, 0.4551456742387233, 0.7263398688023761, 0.47932313701453005, 0.36514618092232876, 0.6066151235550278, 0.7850287868208107, 0.6289737832246354, 0.4589080649956916, 0.5364113950215748, 0.5613201218842913, 0.6600996803618997, 0.7066621320729486, 0.7293282300438434, 0.4815796582777016, 0.6761436519683705, 0.6825047778061762, 0.726844380651172, 0.45389311923874354, 0.6386501168190013, 0.8185705847595629, 0.7062262561337015, 0.4618110934834869, 0.3501385341756062, 0.5475476324452098, 0.8303833684298534, 0.09115249916007474, 0.9854635915418156, 0.4648111592006292, 0.8176750949912055, 0.46464183899867967, 0.3454591749731871, 0.4927423579958655, 0.5476926852466591, 0.26260971050817133, 0.41205474981335033, 0.6440328479220795, 0.9722369095442241, 0.43141436305223585, 0.684132106055882, 0.4658767036587345, 0.195017701260631, 0.40221797882371085, 0.5918494473050069, 0.8167807644217642, 0.4617789370870533, 0.5847829226289555, 0.6178331838496979, 0.5692801458432281, 0.4028223211463334, 0.5837432429386035, 0.7716715022565015, 0.6941137628237953, 0.17488472046380393, 0.7046516369092376, 0.555124599785787, 0.5766433548628247, 0.5861839283137709, 0.3389183772933125, 0.326849630888987, 0.2907006857455548, 0.6396052419591572, 0.5483163856016818, 0.546717665596709, 0.7924216778133705, 0.5937074559713718, 0.5706797026884786, 0.5996824290810453, 0.058278660868468196, 0.6279823993694993, 0.6295878654035151, 0.49799629610954044, 0.36849570777394275, 0.69781632829353, 0.588615119400989, 0.7245359778967423, 0.5784880433351044, 0.5423144756432223, 0.45148878523009667, 0.4390769002154032, 0.5359724380679993, 0.3941936637948118, 0.8129637009894394, 0.28622931822900216, 0.36846515292853455, 0.24258183379631867, 0.562360532930158, 0.3848768321663988, 0.6333584811544851, 0.770815041150954, 0.5293414465504983, 0.7039090643273421, 0.4587539263750452, 0.3529327556909054, 0.7738063086804592, 0.3512912455266813, 0.47344186295514135, 0.6036542528359635, 0.5224472649193452, 0.36559430277392757, 0.1989227947284503, 0.463363341455779, 0.3676260437225741, 0.7679071771411392, 0.32533998950153875, 0.7283764015292852, 0.37272521993373126, 0.5092492478209023, 0.1571976758731436, 0.3319229709669011, 0.5557576652867261, 0.6324678820220899, 0.48717920545124793, 0.738771465082855, 0.37039368037698867, 0.3733490809752903, 0.7516884019281773, 0.7278809348371453, 0.7987806658290094, 0.288987011444371, 0.5528622910239706, 0.753416892617997, 0.5013795302550688, 0.4510380267584341, 0.4526887516073562, 0.36766719951765875, 0.7537788469178326, 0.49773415040165403, 0.9227444286739537, 0.32295748755004405, 0.5166617603287557, 0.5344987453551678, 0.6787666555916579, 0.40724642940221284, 0.6332459537493675, 0.7881898040953454, 0.5393382129523114, 0.6185579012862032, 0.31505773873187776, 0.32463774255121, 0.5401844957436021, 0.4660226243134743, 0.842740521172102, 0.4653798100272326, 0.4707696079794339, 0.43273812128592165, 0.42560105809107807, 0.32372672873511704, 0.8607218615428123, 0.3649818147464542, 0.3801065516226381, 0.4181447335928291, 0.39137232834720553, 0.38030990852448515, 0.5079993545128635, 0.7609169658596409, 0.38903906322243864, 0.41760797850285464, 0.44924269220047935, 0.8391987371080025, 0.4581701558021711, 0.28455963407537493, 0.5375883074149197, 0.7391156976387374, 0.44969666735888325, 0.7626992142522151, 0.7050990587320355, 0.4521882019042023, 0.16482097749642996, 0.38631564858616, 0.28119742364984956, 0.49435228029674966, 0.3903835995900965, 0.587217801815573, 0.6211617388497948, 0.32547460522674526, 0.6104016204172755, 0.0834721609127736, 0.5839492490514107, 0.5961957185308124, 0.713643872107982, 0.4266256446276734, 0.47730503055097945, 0.4296849375992611, 0.3847643063343687, 0.6861585918443629, 0.5949786339474593, 0.39460646065473415, 0.3813041154542178, 0.9557019520022442, 0.7732034604255544, 0.6245106448825016, 0.666051764583215, 0.7354316312949124, 0.8190377797412368, 0.6602239155792347, 0.4859186165994136, 0.3072269458850199, 0.5778900463053113, 0.4636553814893734, 0.470084138941924, 0.48338176493502694, 0.43991973375409654, 0.7269740391090601, 0.5931447450299023, 0.5723299656429818, 0.35878664107617264, 0.012671627269412093, 0.3469021798616643, 0.7203843208600349, 0.3285432276597229, 0.713763049177917, 0.4362699633815122, 0.5631562081380562, 0.25672657360140144, 0.6418302944417117, 0.4161785277303214, 0.5755789694173193, 0.4399776961905115, 0.5609302320034583, 0.6401954399071118, 0.4247472437127288, 0.4599302787745016, 0.1661619516522753, 0.6694660620467023, 0.47560795024122593, 0.22303735233092617, 0.6281758619144782, 0.4901452847160982, 0.5841918584191437, 0.7434528396695744, 0.5647324077855079, 0.7614981297895679, 0.5544834180302801, 0.6838471670741201, 0.20408950385907446, 0.6942321365389582, 0.33057114382847713, 0.3728604086025637, 0.5904000579366327, 0.9548292048831608, 0.4797454692913809, 0.5724464456984868, 0.4305854908067198, 0.5672307015331657, 0.600142261866225, 0.8025609142866059, 0.17130131977375182, 0.7148564051049412, 0.2912570031675912, 0.29451859676838443, 0.4643460067402939, 0.3420051738393993, 0.5595569530765827, 0.342947332417325, 0.5970445050768401, 0.6374846197975522, 0.4884606293663139, 0.6627529388182885, 0.19435024260260822, 0.4616492697628581, 0.5739805856823688, 0.38079898481903623, 0.46138032221685604, 0.653786284431647, 0.28993129312194826, 0.4503355355263483, 0.7624474047921977, 0.44189313748386666, 0.41534742278541964, 0.37251477364063784, 0.3724783333202788, 0.4924798428534249, 0.5476081831135715, 0.4494415345814657, 0.7981051347311668, 0.5989558300934128, 0.823090498204596, 0.4808491916678358, 0.4870232151359143, 0.47193638953564565, 0.48839703807977547, 0.8258734495693162, 0.6786959870097345, 0.5092907598132914, 0.6154104543298599, 0.14593321346666582, 0.7514392656786149, 0.34864971614963297, 0.3807919299323075, 0.1681305160958078, 0.8104473629597851, 0.7007609538179516, 0.6899332522249964, 0.8860270198061728, 0.6344106750136544, 0.5008085557347385, 0.6020004175935318, 0.6128295866978123, 0.46529448970209436, 0.5326547165605702, 0.37238931422209653, 0.36413988288443705, 0.5884616743833644, 0.413999459201616, 0.3602137506363929, 0.7463267801785238, 0.5355124107969109, 0.5098619244946, 0.58019640897871, 0.6019165186132641, 0.5359533624585653, 0.40496459086917946, 0.49099394014901293, 0.4728206752225079, 0.18362619190759422, 0.6325112053792029, 0.5753597219738786, 0.6394111653135208, 0.38488013712891234, 0.4983799035579296, 0.5606014341532684, 0.5512815461216198, 0.8892524252410022, 0.36072304592187754, 0.3614995945712518, 0.6606091755372185, 0.6371626813455418, 0.24706219597913764, 0.5990102849630895, 0.39208603128836217, 0.5218096025408299, 0.7014240514709495, 0.17663081411255535, 0.11053774598660981, 0.4747401740053863, 0.6548064508879098, 0.34033076684614905, 0.26179778395562286, 0.3462200727457529, 0.6813159471832153, 0.319356835259464, 0.6891886318897092, 0.6139230470511244, 1.0, 0.47814316497477344, 0.2169225591411747, 0.48444213793527746, 0.4469738382199302, 0.5155337891596121, 0.7962282621245613, 0.5638642793791068, 0.5036227569168774, 0.3133145101236879, 0.6937319517618468, 0.5575857205593645, 0.19068172754357063, 0.44364944064721706, 0.8001075657081221, 0.6576478773442671, 0.5469600882406571, 0.615832998198981, 0.3144632853482651, 0.3992943492318295, 0.8101787187568757, 0.7178749397930766, 0.5589082368375761, 0.3186472375800331, 0.3795339387890467, 0.5239841289915875, 0.5999301411965556, 0.45312293709926676, 0.7386075720977504, 0.47028301746445217, 0.34818070401125256, 0.4997323672765782, 0.5608268840023779, 0.7656305288257135, 0.69982760064574, 0.3006831513922558, 0.4950934483845714, 0.7534187852035468, 0.4822234470888054, 0.604570211738362, 0.5575989856176138, 0.718971568493763, 0.45073582275196994, 0.625762103838927, 0.6245020330806605, 0.19833675161371425, 0.5517175398970037, 0.4221590382951997, 0.5654703038234218, 0.6358431214587705, 0.3725675181425163, 0.5448706600383312, 0.35831963147528506, 0.35658206439128787, 0.33476596883133736, 0.47388531999863404, 0.5957355270042302, 0.7302228841996219, 0.31953749069209647, 0.22611591129639677, 0.4996840309449046, 0.7734614091833696, 0.6689303282480111, 0.6599466428643938, 0.7146100447520466, 0.6889150610045814, 0.6856624474956893, 0.36816955950159536, 0.4896563540091427, 0.3984500665053588, 0.09111320054047714, 0.3360983946939969, 0.7496927514418709, 0.20843316417399518, 0.6344735126113981, 0.6128847870498824, 0.5178116932235538, 0.8064375943864424, 0.402675286926168, 0.6601273469812368, 0.3876544038432187, 0.6347680475967138, 0.5725891650719919, 0.28134786177589205, 0.5207063331827626, 0.6603399359592508, 0.6192142206277714, 0.6235165004632965, 0.5187231645882817, 0.5017773439210538, 0.40183565928275966, 0.4773697070615337, 0.49096954144062877, 0.36392086284658254, 0.5164713747537055, 0.3791224146868532, 0.6305797894407458, 0.5981626255253708, 0.6932857671323668, 0.21984330154015197, 0.46621965082376654, 0.5620896038828087, 0.23816438588234323, 0.28896931359645484, 0.7692017245784372, 0.3274985199888707, 0.6112422853883678, 0.367342658765633, 0.48179493536436474, 0.5834632326279354, 0.49695119346580785, 0.5295141166452724, 0.5235602650735568, 0.8290130922772985, 0.5914799037071783, 0.4512417165719832, 0.6059608153145245, 0.6656355037603594, 0.41757088102695583, 0.7372540910206258, 0.6327624640046334, 0.7154721836058979, 0.135387378388111, 0.6094460835224537, 0.5637111302110649, 0.5156186394597989, 0.9211547495788655, 0.4841227145097266, 0.29899579484969196, 0.6725336705888024, 0.4018532733185823, 0.4770051176158115, 0.27626715405671537, 0.5116238905177047, 0.4483089180916238, 0.4450056475299621, 0.6408283267456774, 0.47515810537007913, 0.7864717017470788, 0.6751350673267646, 0.19605750078125753, 0.7581660101917579, 0.44752092327758075, 0.4830077564935982, 0.7453050941532523, 0.7741100791131097, 0.5087539251780093, 0.6812580011110264, 0.2392165180406386, 0.5912531851557542, 0.44169006869277255, 0.6908437754614463, 0.6325917676005479, 0.7351663324151575, 0.46997740858024134, 0.5375679402382718, 0.7191157922279243, 0.6681230504598302, 0.5469402215827703, 0.31006515740311397, 0.3858788380429612, 0.7999871987308019, 0.503246773748121, 0.2067052738819793, 0.47723208110674, 0.29095800202410066, 0.5616883425551756, 0.5400135434459582, 0.5691686242286047, 0.05554315174592744, 0.6497767600749477, 0.40007393952925047, 0.5744166166137519, 0.17387937504175158, 0.41516786367185204, 0.5796269637110921, 0.5505306698563529, 0.5056167014724027, 0.20133104223814696, 0.46565801424509146, 0.6552055998946937, 0.9071053102783168, 0.44656116389907763, 0.7264583907869009, 0.7468361554000155, 0.6075850478503108, 0.6989487545022185, 0.6869677579985473, 0.17602103029401883, 0.6101361305334297, 0.5475365166546394, 0.5017166182140648, 0.38281659753540903, 0.5987491724341514, 0.4753866905249556, 0.5149525624813932, 0.220504109398694, 0.6465379225854648, 0.7169614173228811, 0.42029601467191546, 0.4701940225347312, 0.20991069694561953, 0.39361238174540686, 0.37749031887786005, 0.3922301278637237, 0.41797157910455307, 0.8423008209868944, 0.3179686315024329, 0.4036780127960157, 0.5111152412202715, 0.35141976011329384, 0.49185684142953046, 0.5517809110434848, 0.6897462678375821, 0.6515748342604814, 0.8116483614225519, 0.9189674233955359, 0.34575269038704964, 0.6945215938679115, 0.6029345979881489, 0.6218816258698319, 0.733947792957738, 0.4145605541102635, 0.47408377994762646, 0.5950755620266959, 0.564479255816413, 0.4350631666994381, 0.3430474538411465, 0.36171790354779965, 0.7850768172595349, 0.45279468359112696, 0.7300762343679317, 0.5038266693898431, 0.7744811721012684, 0.5004615571809145, 0.5497137700558752, 0.6654119781292733, 0.4792370528339787, 0.5185398204336917, 0.594857264502748, 0.3885710260232437, 0.4561945748486111, 0.507616611207875, 0.6702699617180533, 0.1392438902264781, 0.14831329013959135, 0.4379647561931417, 0.4115271549116926, 0.3174458898561248, 0.19959022157153003, 0.7130369843094484, 0.7886340970158467, 0.6002638070748584, 0.13861255413932907, 0.7280353736764711, 0.7242385266979703, 0.6383080249329884, 0.3506137502687684, 0.8020098902443499, 0.4277089368889128, 0.4836111675829447, 0.6808452126424063, 0.5067566730920277, 0.7164533105423472, 0.508031507219237, 0.7406187260009305, 0.41933769009527455, 0.5794248459213002, 0.26467743995628185, 0.7742025606953473, 0.5451438175702801, 0.5734953117081784, 0.49176921104576854, 0.6445531195348913, 0.24105541142854814, 0.4983287700389934, 0.5530138725515464, 0.41445545336129547, 0.6558823461388648, 0.49738760359640316, 0.6963047989698671, 0.5212741448675037, 0.09328838936633894, 0.49003818624833445, 0.5864727921756465, 0.4585924940005144, 0.6110653981706171, 0.5035029505793149, 0.6351199745836024, 0.3487415286088128, 0.5790161016881809, 0.5649848181625395, 0.23693756610416986, 0.6450014193843985, 0.593898818954952, 0.5919746317226325, 0.47256185893008157, 0.41207000637923524, 0.8008563037722923, 0.7115449648421827, 0.7310471668451571, 0.5226248321486257, 0.16918210103952702, 0.44941757867483684, 0.3273890297737453, 0.5215595711649709, 0.5972894871746032, 0.7549126874151417, 0.5554218702620549, 0.711835378810131, 0.5201393123846472, 0.1758862508842896, 0.9136898707899332, 0.30568060930767654, 0.6874967695617784, 0.633387365159458, 0.3923010281534232, 0.22335912735422894, 0.6902075745683259, 0.36720584676440243, 0.5652906541364454, 0.4438261614823874, 0.6225066566567257, 0.46761219914946367, 0.5839166619013691, 0.44342310094757936, 0.4092182693244468, 0.35528054696823624, 0.623782147638245, 0.7130442161649942, 0.7636863075217821, 0.5237014504480834, 0.7621581856266588, 0.7071973724496524, 0.6172693721847753, 0.44167354759679944, 0.34352925128554535, 0.6020392391865906, 0.4405428742112161, 0.6930182914793285, 0.7486067414039358, 0.5096827936134306, 0.30372834729995984, 0.35838363398482415, 0.3767997793413513, 0.5580561068259529, 0.44549912156755933, 0.5136101265572963, 0.5940906249434585, 0.424291339867463, 0.4734923220863372, 0.427729517641736, 0.7632127362833514, 0.518171498377573, 0.47116358574185413, 0.5044611081148879, 0.3938382056781831, 0.4037032770121643, 0.39623408951145767, 0.1285983174502028, 0.44671071065091295, 0.560331412885502, 0.31771046747196097, 0.5755567046041696, 0.3738711360987614, 0.3832641148345852, 0.23150710372718003, 0.36600715563400305, 0.5958711691572764, 0.42481936887883903, 0.18881361242270372, 0.30193351442957655, 0.5207922111479547, 0.8222094938858338, 0.4043849218522958, 0.471920979018708, 0.5716276645667505, 0.41737005198663607, 0.8613346822423743, 0.7038276886384618, 0.29731259802823057, 0.0, 0.3116874649354872, 0.36863455484583063, 0.3636764530885119, 0.5245808888474559, 0.9217920453094545, 0.8181766005220064, 0.5055241410657109, 0.3627117579269497, 0.6435470734598889, 0.3147270977130593, 0.6931537742857424, 0.2972042584985523, 0.5503202671620312, 0.15253413948758038, 0.7544226160724788, 0.4124639446702494, 0.4713999638383842, 0.42464948812930386, 0.3652395279512586, 0.33172372666661704, 0.3324228033161389, 0.7733200972224717, 0.6635420881719646, 0.8728182830652024, 0.4969096374110139, 0.37871559302678526, 0.6740207315980283, 0.40623289839928217, 0.464706547225801, 0.7940862038605315, 0.4280496565674141, 0.34878631436769375, 0.7525499599831561, 0.4888679627650931, 0.6851209726788765, 0.5873658734256101, 0.6225510125682998, 0.455614762196986, 0.43668998838573186, 0.3579319858290258, 0.5224001537724042, 0.3989377689350378, 0.7098872065373505, 0.3547310266769337, 0.4215770141442971, 0.6126379475020065, 0.1721472080446137, 0.4857087534198621, 0.583785557130079, 0.41405283549352273, 0.3058152522770554, 0.5090449827271154, 0.4117952407007803, 0.5077211277113134]\n"
     ]
    }
   ],
   "source": [
    "print(puntajesOriginales)"
   ],
   "metadata": {
    "collapsed": false
   }
  },
  {
   "cell_type": "code",
   "execution_count": 780,
   "outputs": [],
   "source": [
    "def calcularPuntajes(secuencias, pssm):\n",
    "    puntajes = []  # Crea una lista vacía para los puntajes calculados\n",
    "    longitud = len(secuencias[0])  # Longitud de las secuencias (se presupone que todas tienen la misma longitud)\n",
    "    puntajes_min = float('inf')  # Inicializa el puntaje mínimo con un valor infinito\n",
    "    puntajes_max = float('-inf')  # Inicializa el puntaje máximo con un valor infinitamente pequeño\n",
    "\n",
    "    # Calcula el puntaje mínimo y máximo\n",
    "    for secuencia in secuencias:\n",
    "        puntaje = 0\n",
    "        for i in range(longitud):\n",
    "            letra = secuencia[i]\n",
    "            puntaje += pssm[i][letra]\n",
    "        puntajes_min = min(puntajes_min, puntaje)\n",
    "        puntajes_max = max(puntajes_max, puntaje)\n",
    "\n",
    "    # Calcula y almacena los puntajes normalizados\n",
    "    for secuencia in secuencias:\n",
    "        puntaje = 0\n",
    "        for i in range(longitud):\n",
    "            letra = secuencia[i]\n",
    "            puntaje += pssm[i][letra]\n",
    "\n",
    "        # Normaliza el puntaje utilizando la fórmula de normalización lineal\n",
    "        puntaje_norm = (puntaje - puntajes_min) / (puntajes_max - puntajes_min)\n",
    "        puntajes.append(puntaje_norm)\n",
    "    return puntajes\n",
    "\n",
    "puntajesCalculados = calcularPuntajes(secuencias, pesos)"
   ],
   "metadata": {
    "collapsed": false
   }
  },
  {
   "cell_type": "code",
   "execution_count": 781,
   "outputs": [
    {
     "name": "stdout",
     "output_type": "stream",
     "text": [
      "[nan, nan, nan, nan, nan, nan, nan, nan, nan, nan, nan, nan, nan, nan, nan, nan, nan, nan, nan, nan, nan, nan, nan, nan, nan, nan, nan, nan, nan, nan, nan, nan, nan, nan, nan, nan, nan, nan, nan, nan, nan, nan, nan, nan, nan, nan, nan, nan, nan, nan, nan, nan, nan, nan, nan, nan, nan, nan, nan, nan, nan, nan, nan, nan, nan, nan, nan, nan, nan, nan, nan, nan, nan, nan, nan, nan, nan, nan, nan, nan, nan, nan, nan, nan, nan, nan, nan, nan, nan, nan, nan, nan, nan, nan, nan, nan, nan, nan, nan, nan, nan, nan, nan, nan, nan, nan, nan, nan, nan, nan, nan, nan, nan, nan, nan, nan, nan, nan, nan, nan, nan, nan, nan, nan, nan, nan, nan, nan, nan, nan, nan, nan, nan, nan, nan, nan, nan, nan, nan, nan, nan, nan, nan, nan, nan, nan, nan, nan, nan, nan, nan, nan, nan, nan, nan, nan, nan, nan, nan, nan, nan, nan, nan, nan, nan, nan, nan, nan, nan, nan, nan, nan, nan, nan, nan, nan, nan, nan, nan, nan, nan, nan, nan, nan, nan, nan, nan, nan, nan, nan, nan, nan, nan, nan, nan, nan, nan, nan, nan, nan, nan, nan, nan, nan, nan, nan, nan, nan, nan, nan, nan, nan, nan, nan, nan, nan, nan, nan, nan, nan, nan, nan, nan, nan, nan, nan, nan, nan, nan, nan, nan, nan, nan, nan, nan, nan, nan, nan, nan, nan, nan, nan, nan, nan, nan, nan, nan, nan, nan, nan, nan, nan, nan, nan, nan, nan, nan, nan, nan, nan, nan, nan, nan, nan, nan, nan, nan, nan, nan, nan, nan, nan, nan, nan, nan, nan, nan, nan, nan, nan, nan, nan, nan, nan, nan, nan, nan, nan, nan, nan, nan, nan, nan, nan, nan, nan, nan, nan, nan, nan, nan, nan, nan, nan, nan, nan, nan, nan, nan, nan, nan, nan, nan, nan, nan, nan, nan, nan, nan, nan, nan, nan, nan, nan, nan, nan, nan, nan, nan, nan, nan, nan, nan, nan, nan, nan, nan, nan, nan, nan, nan, nan, nan, nan, nan, nan, nan, nan, nan, nan, nan, nan, nan, nan, nan, nan, nan, nan, nan, nan, nan, nan, nan, nan, nan, nan, nan, nan, nan, nan, nan, nan, nan, nan, nan, nan, nan, nan, nan, nan, nan, nan, nan, nan, nan, nan, nan, nan, nan, nan, nan, nan, nan, nan, nan, nan, nan, nan, nan, nan, nan, nan, nan, nan, nan, nan, nan, nan, nan, nan, nan, nan, nan, nan, nan, nan, nan, nan, nan, nan, nan, nan, nan, nan, nan, nan, nan, nan, nan, nan, nan, nan, nan, nan, nan, nan, nan, nan, nan, nan, nan, nan, nan, nan, nan, nan, nan, nan, nan, nan, nan, nan, nan, nan, nan, nan, nan, nan, nan, nan, nan, nan, nan, nan, nan, nan, nan, nan, nan, nan, nan, nan, nan, nan, nan, nan, nan, nan, nan, nan, nan, nan, nan, nan, nan, nan, nan, nan, nan, nan, nan, nan, nan, nan, nan, nan, nan, nan, nan, nan, nan, nan, nan, nan, nan, nan, nan, nan, nan, nan, nan, nan, nan, nan, nan, nan, nan, nan, nan, nan, nan, nan, nan, nan, nan, nan, nan, nan, nan, nan, nan, nan, nan, nan, nan, nan, nan, nan, nan, nan, nan, nan, nan, nan, nan, nan, nan, nan, nan, nan, nan, nan, nan, nan, nan, nan, nan, nan, nan, nan, nan, nan, nan, nan, nan, nan, nan, nan, nan, nan, nan, nan, nan, nan, nan, nan, nan, nan, nan, nan, nan, nan, nan, nan, nan, nan, nan, nan, nan, nan, nan, nan, nan, nan, nan, nan, nan, nan, nan, nan, nan, nan, nan, nan, nan, nan, nan, nan, nan, nan, nan, nan, nan, nan, nan, nan, nan, nan, nan, nan, nan, nan, nan, nan, nan, nan, nan, nan, nan, nan, nan, nan, nan, nan, nan, nan, nan, nan, nan, nan, nan, nan, nan, nan, nan, nan, nan, nan, nan, nan, nan, nan, nan, nan, nan, nan, nan, nan, nan, nan, nan, nan, nan, nan, nan, nan, nan, nan, nan, nan, nan, nan, nan, nan, nan, nan, nan, nan, nan, nan, nan, nan, nan, nan, nan, nan, nan, nan, nan, nan, nan, nan, nan, nan, nan, nan, nan, nan, nan, nan, nan, nan, nan, nan, nan, nan, nan, nan, nan, nan, nan, nan, nan, nan, nan, nan, nan, nan, nan, nan, nan, nan, nan, nan, nan, nan, nan, nan, nan, nan, nan, nan, nan, nan, nan, nan, nan, nan, nan, nan, nan, nan, nan, nan, nan, nan, nan, nan, nan, nan, nan, nan, nan, nan, nan, nan, nan, nan, nan, nan, nan, nan, nan, nan, nan, nan, nan, nan, nan, nan, nan, nan, nan, nan, nan, nan, nan, nan, nan, nan, nan, nan, nan, nan, nan, nan, nan, nan, nan, nan, nan, nan, nan, nan, nan, nan, nan, nan, nan, nan, nan, nan, nan, nan, nan, nan, nan, nan, nan, nan, nan, nan, nan, nan, nan, nan, nan, nan, nan, nan, nan, nan, nan, nan, nan, nan, nan, nan, nan, nan, nan, nan, nan, nan, nan, nan, nan, nan, nan, nan, nan, nan, nan, nan, nan, nan, nan, nan, nan, nan, nan, nan, nan, nan, nan, nan, nan, nan, nan, nan, nan, nan, nan, nan, nan, nan, nan, nan, nan, nan, nan, nan, nan, nan, nan, nan, nan, nan, nan, nan, nan, nan, nan, nan, nan, nan, nan, nan, nan, nan, nan, nan, nan, nan, nan, nan, nan, nan, nan, nan, nan, nan, nan, nan, nan, nan, nan, nan, nan, nan, nan, nan, nan, nan, nan, nan, nan, nan, nan, nan, nan, nan, nan, nan, nan, nan, nan, nan, nan, nan, nan, nan, nan, nan, nan, nan, nan, nan, nan, nan, nan, nan, nan, nan, nan, nan, nan, nan, nan, nan, nan, nan, nan, nan, nan, nan, nan, nan, nan, nan, nan, nan, nan, nan, nan, nan, nan, nan, nan, nan, nan, nan, nan, nan, nan, nan, nan, nan, nan, nan, nan, nan, nan, nan, nan, nan, nan, nan, nan, nan, nan, nan, nan, nan, nan, nan, nan, nan, nan, nan]\n"
     ]
    }
   ],
   "source": [
    "print(puntajesCalculados)"
   ],
   "metadata": {
    "collapsed": false
   }
  },
  {
   "cell_type": "markdown",
   "id": "8d98bd27",
   "metadata": {
    "id": "8d98bd27"
   },
   "source": [
    "### Cálculo de coeficiente"
   ]
  },
  {
   "cell_type": "code",
   "execution_count": 782,
   "id": "38ed875e",
   "metadata": {
    "colab": {
     "base_uri": "https://localhost:8080/"
    },
    "id": "38ed875e",
    "outputId": "e12d1c3a-471b-4191-96cd-40f94fe385fe"
   },
   "outputs": [
    {
     "ename": "ValueError",
     "evalue": "array must not contain infs or NaNs",
     "output_type": "error",
     "traceback": [
      "\u001B[1;31m---------------------------------------------------------------------------\u001B[0m",
      "\u001B[1;31mValueError\u001B[0m                                Traceback (most recent call last)",
      "Cell \u001B[1;32mIn[782], line 3\u001B[0m\n\u001B[0;32m      1\u001B[0m \u001B[38;5;28;01mfrom\u001B[39;00m \u001B[38;5;21;01mscipy\u001B[39;00m\u001B[38;5;21;01m.\u001B[39;00m\u001B[38;5;21;01mstats\u001B[39;00m \u001B[38;5;28;01mimport\u001B[39;00m pearsonr  \u001B[38;5;66;03m# Importar función para calcular PCC\u001B[39;00m\n\u001B[1;32m----> 3\u001B[0m \u001B[43mpearsonr\u001B[49m\u001B[43m(\u001B[49m\u001B[43mpuntajesOriginales\u001B[49m\u001B[43m,\u001B[49m\u001B[43m \u001B[49m\u001B[43mpuntajesCalculados\u001B[49m\u001B[43m)\u001B[49m  \u001B[38;5;66;03m# El primer valor es el coeficiente. Se puede ignorar el segundo.\u001B[39;00m\n",
      "File \u001B[1;32mD:\\GitKraken\\AdventOfCode\\venv2\\Lib\\site-packages\\scipy\\stats\\_stats_py.py:4452\u001B[0m, in \u001B[0;36mpearsonr\u001B[1;34m(x, y, alternative)\u001B[0m\n\u001B[0;32m   4448\u001B[0m \u001B[38;5;66;03m# Unlike np.linalg.norm or the expression sqrt((xm*xm).sum()),\u001B[39;00m\n\u001B[0;32m   4449\u001B[0m \u001B[38;5;66;03m# scipy.linalg.norm(xm) does not overflow if xm is, for example,\u001B[39;00m\n\u001B[0;32m   4450\u001B[0m \u001B[38;5;66;03m# [-5e210, 5e210, 3e200, -3e200]\u001B[39;00m\n\u001B[0;32m   4451\u001B[0m normxm \u001B[38;5;241m=\u001B[39m linalg\u001B[38;5;241m.\u001B[39mnorm(xm)\n\u001B[1;32m-> 4452\u001B[0m normym \u001B[38;5;241m=\u001B[39m \u001B[43mlinalg\u001B[49m\u001B[38;5;241;43m.\u001B[39;49m\u001B[43mnorm\u001B[49m\u001B[43m(\u001B[49m\u001B[43mym\u001B[49m\u001B[43m)\u001B[49m\n\u001B[0;32m   4454\u001B[0m threshold \u001B[38;5;241m=\u001B[39m \u001B[38;5;241m1e-13\u001B[39m\n\u001B[0;32m   4455\u001B[0m \u001B[38;5;28;01mif\u001B[39;00m normxm \u001B[38;5;241m<\u001B[39m threshold\u001B[38;5;241m*\u001B[39m\u001B[38;5;28mabs\u001B[39m(xmean) \u001B[38;5;129;01mor\u001B[39;00m normym \u001B[38;5;241m<\u001B[39m threshold\u001B[38;5;241m*\u001B[39m\u001B[38;5;28mabs\u001B[39m(ymean):\n\u001B[0;32m   4456\u001B[0m     \u001B[38;5;66;03m# If all the values in x (likewise y) are very close to the mean,\u001B[39;00m\n\u001B[0;32m   4457\u001B[0m     \u001B[38;5;66;03m# the loss of precision that occurs in the subtraction xm = x - xmean\u001B[39;00m\n\u001B[0;32m   4458\u001B[0m     \u001B[38;5;66;03m# might result in large errors in r.\u001B[39;00m\n",
      "File \u001B[1;32mD:\\GitKraken\\AdventOfCode\\venv2\\Lib\\site-packages\\scipy\\linalg\\_misc.py:146\u001B[0m, in \u001B[0;36mnorm\u001B[1;34m(a, ord, axis, keepdims, check_finite)\u001B[0m\n\u001B[0;32m    144\u001B[0m \u001B[38;5;66;03m# Differs from numpy only in non-finite handling and the use of blas.\u001B[39;00m\n\u001B[0;32m    145\u001B[0m \u001B[38;5;28;01mif\u001B[39;00m check_finite:\n\u001B[1;32m--> 146\u001B[0m     a \u001B[38;5;241m=\u001B[39m \u001B[43mnp\u001B[49m\u001B[38;5;241;43m.\u001B[39;49m\u001B[43masarray_chkfinite\u001B[49m\u001B[43m(\u001B[49m\u001B[43ma\u001B[49m\u001B[43m)\u001B[49m\n\u001B[0;32m    147\u001B[0m \u001B[38;5;28;01melse\u001B[39;00m:\n\u001B[0;32m    148\u001B[0m     a \u001B[38;5;241m=\u001B[39m np\u001B[38;5;241m.\u001B[39masarray(a)\n",
      "File \u001B[1;32mD:\\GitKraken\\AdventOfCode\\venv2\\Lib\\site-packages\\numpy\\lib\\function_base.py:628\u001B[0m, in \u001B[0;36masarray_chkfinite\u001B[1;34m(a, dtype, order)\u001B[0m\n\u001B[0;32m    626\u001B[0m a \u001B[38;5;241m=\u001B[39m asarray(a, dtype\u001B[38;5;241m=\u001B[39mdtype, order\u001B[38;5;241m=\u001B[39morder)\n\u001B[0;32m    627\u001B[0m \u001B[38;5;28;01mif\u001B[39;00m a\u001B[38;5;241m.\u001B[39mdtype\u001B[38;5;241m.\u001B[39mchar \u001B[38;5;129;01min\u001B[39;00m typecodes[\u001B[38;5;124m'\u001B[39m\u001B[38;5;124mAllFloat\u001B[39m\u001B[38;5;124m'\u001B[39m] \u001B[38;5;129;01mand\u001B[39;00m \u001B[38;5;129;01mnot\u001B[39;00m np\u001B[38;5;241m.\u001B[39misfinite(a)\u001B[38;5;241m.\u001B[39mall():\n\u001B[1;32m--> 628\u001B[0m     \u001B[38;5;28;01mraise\u001B[39;00m \u001B[38;5;167;01mValueError\u001B[39;00m(\n\u001B[0;32m    629\u001B[0m         \u001B[38;5;124m\"\u001B[39m\u001B[38;5;124marray must not contain infs or NaNs\u001B[39m\u001B[38;5;124m\"\u001B[39m)\n\u001B[0;32m    630\u001B[0m \u001B[38;5;28;01mreturn\u001B[39;00m a\n",
      "\u001B[1;31mValueError\u001B[0m: array must not contain infs or NaNs"
     ]
    }
   ],
   "source": [
    "from scipy.stats import pearsonr  # Importar función para calcular PCC\n",
    "\n",
    "pearsonr(puntajesOriginales, puntajesCalculados)  # El primer valor es el coeficiente. Se puede ignorar el segundo."
   ]
  },
  {
   "cell_type": "code",
   "execution_count": null,
   "outputs": [],
   "source": [],
   "metadata": {
    "collapsed": false
   }
  }
 ],
 "metadata": {
  "kernelspec": {
   "display_name": "Python 3 (ipykernel)",
   "language": "python",
   "name": "python3"
  },
  "language_info": {
   "codemirror_mode": {
    "name": "ipython",
    "version": 3
   },
   "file_extension": ".py",
   "mimetype": "text/x-python",
   "name": "python",
   "nbconvert_exporter": "python",
   "pygments_lexer": "ipython3",
   "version": "3.9.7"
  },
  "colab": {
   "provenance": []
  }
 },
 "nbformat": 4,
 "nbformat_minor": 5
}
