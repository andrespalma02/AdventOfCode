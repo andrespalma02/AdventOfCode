{
 "cells": [
  {
   "cell_type": "markdown",
   "metadata": {
    "id": "eW8FTLUZfyiT"
   },
   "source": [
    "# simple_ann"
   ]
  },
  {
   "cell_type": "markdown",
   "metadata": {
    "id": "u6yhRQQnfyiU"
   },
   "source": [
    "simple_ann es un programa en Python que construye una red neuronal artificial en Keras https://keras.io/ partir de una lista de péptidos de igual longitud.\n",
    "\n",
    "Creditos:\n",
    "\n",
    "Morten Nielsen. (2019, July). ANNs with Keras API. 22125 - Algorithms in Bioinformatics, DTU. https://kurser.dtu.dk/course/22125"
   ]
  },
  {
   "cell_type": "markdown",
   "metadata": {
    "id": "2iL2SuQqfyiW"
   },
   "source": [
    "# Keras imports"
   ]
  },
  {
   "cell_type": "code",
   "execution_count": 1,
   "metadata": {
    "id": "nZngEtT6fyiW"
   },
   "outputs": [],
   "source": [
    "import keras"
   ]
  },
  {
   "cell_type": "code",
   "execution_count": 2,
   "metadata": {
    "id": "PaxZD5TmfyiW"
   },
   "outputs": [],
   "source": [
    "from keras.models import Sequential\n",
    "from keras.layers import Dense\n",
    "from tensorflow.random import set_seed"
   ]
  },
  {
   "cell_type": "markdown",
   "metadata": {
    "id": "zNRNydVxfyiX"
   },
   "source": [
    "# Python imports"
   ]
  },
  {
   "cell_type": "code",
   "execution_count": 3,
   "metadata": {
    "id": "qP_ZrgY-fyiX"
   },
   "outputs": [],
   "source": [
    "import numpy as np\n",
    "import matplotlib.pyplot as plt"
   ]
  },
  {
   "cell_type": "code",
   "execution_count": 4,
   "metadata": {
    "id": "NOO9dqJofyiX"
   },
   "outputs": [],
   "source": [
    "np.random.seed(7)\n",
    "set_seed(7)"
   ]
  },
  {
   "cell_type": "markdown",
   "metadata": {
    "id": "XHV23r1DfyiY"
   },
   "source": [
    "## Define la ruta hacia el directorio donde estan los datos"
   ]
  },
  {
   "cell_type": "code",
   "execution_count": 11,
   "metadata": {
    "id": "qFIXCKjVfyiY"
   },
   "outputs": [],
   "source": [
    "train_data = \"A0201/f000\"\n",
    "valid_data = \"A0201/c000\""
   ]
  },
  {
   "cell_type": "markdown",
   "metadata": {
    "id": "7prMNLySfyiY"
   },
   "source": [
    "## Define las opciones para la corrida"
   ]
  },
  {
   "cell_type": "code",
   "execution_count": 6,
   "metadata": {
    "id": "1RBlp9k3fyiY"
   },
   "outputs": [],
   "source": [
    "MAX_PEP_SEQ_LEN=9"
   ]
  },
  {
   "cell_type": "markdown",
   "metadata": {
    "id": "WwU25wD5fyiY"
   },
   "source": [
    "## Funciones"
   ]
  },
  {
   "cell_type": "code",
   "execution_count": 7,
   "metadata": {
    "id": "V_UgprC4fyiZ"
   },
   "outputs": [],
   "source": [
    "def read_pep(filename, MAX_PEP_SEQ_LEN):\n",
    "    '''\n",
    "    read AA seq of peptides and MHC molecule from text file\n",
    "    parameters:\n",
    "        - filename : file in which data is stored\n",
    "    returns:\n",
    "        - pep_aa : list of amino acid sequences of peptides (as string)\n",
    "        - target : list of log transformed IC50 binding values\n",
    "    '''\n",
    "    pep_aa = []\n",
    "    target = []\n",
    "    infile = open(filename, \"r\")\n",
    "\n",
    "    for l in infile:\n",
    "        l = l.strip().split()\n",
    "        assert len(l) == 3\n",
    "        if len(l[0]) <= MAX_PEP_SEQ_LEN:\n",
    "            pep_aa.append(l[0])\n",
    "            target.append(l[1])\n",
    "    infile.close()\n",
    "\n",
    "    return pep_aa, target"
   ]
  },
  {
   "cell_type": "code",
   "execution_count": 8,
   "metadata": {
    "id": "Q7kjZ7-jfyiZ"
   },
   "outputs": [],
   "source": [
    "def read_blosum_MN(filename):\n",
    "    '''\n",
    "    read in BLOSUM matrix\n",
    "    parameters:\n",
    "        - filename : file containing BLOSUM matrix\n",
    "    returns:\n",
    "        - blosum : dictionnary AA -> blosum encoding (as list)\n",
    "    '''\n",
    "\n",
    "    # read BLOSUM matrix:\n",
    "    blosumfile = open(filename, \"r\")\n",
    "    blosum = {}\n",
    "    B_idx = 99\n",
    "    Z_idx = 99\n",
    "    star_idx = 99\n",
    "\n",
    "    for l in blosumfile:\n",
    "        l = l.strip()\n",
    "\n",
    "        if l[0] != '#':\n",
    "            l = l.strip().split()\n",
    "\n",
    "            if (l[0] == 'A') and (B_idx==99):\n",
    "                B_idx = l.index('B')\n",
    "                Z_idx = l.index('Z')\n",
    "                star_idx = l.index('*')\n",
    "            else:\n",
    "                aa = str(l[0])\n",
    "                if (aa != 'B') &  (aa != 'Z') & (aa != '*'):\n",
    "                    tmp = l[1:len(l)]\n",
    "                    # tmp = [float(i) for i in tmp]\n",
    "                    # get rid of BJZ*:\n",
    "                    tmp2 = []\n",
    "                    for i in range(0, len(tmp)):\n",
    "                        if (i != B_idx) &  (i != Z_idx) & (i != star_idx):\n",
    "                            tmp2.append(float(tmp[i]))\n",
    "\n",
    "                    #save in BLOSUM matrix\n",
    "                    blosum[aa] = tmp2\n",
    "    blosumfile.close()\n",
    "    return(blosum)\n"
   ]
  },
  {
   "cell_type": "code",
   "execution_count": 14,
   "metadata": {
    "id": "SdTAcBQKfyiZ"
   },
   "outputs": [],
   "source": [
    "def encode_pep(Xin, max_pep_seq_len):\n",
    "    '''\n",
    "    encode AA seq of peptides using BLOSUM50\n",
    "    parameters:\n",
    "        - Xin : list of peptide sequences in AA\n",
    "    returns:\n",
    "        - Xout : encoded peptide seuqneces (batch_size, max_pep_seq_len, n_features)\n",
    "    '''\n",
    "    # read encoding matrix:\n",
    "    blosum = read_blosum_MN('A0201/BLOSUM50')\n",
    "    n_features = len(blosum['A'])\n",
    "    n_seqs = len(Xin)\n",
    "\n",
    "    # make variable to store output:\n",
    "    Xout = np.zeros((n_seqs, max_pep_seq_len, n_features),\n",
    "                       dtype=np.uint8)\n",
    "\n",
    "    for i in range(0, len(Xin)):\n",
    "        for j in range(0, len(Xin[i])):\n",
    "            Xout[i, j, :n_features] = blosum[ Xin[i][j] ]\n",
    "    return Xout"
   ]
  },
  {
   "cell_type": "markdown",
   "metadata": {
    "id": "EIc7cPXffyia"
   },
   "source": [
    "# Programa"
   ]
  },
  {
   "cell_type": "markdown",
   "metadata": {
    "id": "g-mtC7b2fyia"
   },
   "source": [
    "## Lee los datos"
   ]
  },
  {
   "cell_type": "code",
   "execution_count": 15,
   "metadata": {
    "id": "ohIz1zN0fyia"
   },
   "outputs": [],
   "source": [
    "# read in peptide sequences and targets:\n",
    "X_train_raw, y_train_raw = read_pep(train_data, MAX_PEP_SEQ_LEN)\n",
    "X_val_raw, y_val_raw = read_pep(valid_data, MAX_PEP_SEQ_LEN)"
   ]
  },
  {
   "cell_type": "markdown",
   "metadata": {
    "id": "paxWnfLcfyia"
   },
   "source": [
    "## Codifica los datos"
   ]
  },
  {
   "cell_type": "code",
   "execution_count": 16,
   "metadata": {
    "id": "eBk-RPUqfyia"
   },
   "outputs": [],
   "source": [
    "# encode data using BLOSUM50:\n",
    "X_train = encode_pep(X_train_raw, MAX_PEP_SEQ_LEN)\n",
    "y_train = np.array(y_train_raw).astype(np.float64)\n",
    "X_val = encode_pep(X_val_raw, MAX_PEP_SEQ_LEN)\n",
    "y_val = np.array(y_val_raw).astype(np.float64)"
   ]
  },
  {
   "cell_type": "code",
   "execution_count": 17,
   "metadata": {
    "colab": {
     "base_uri": "https://localhost:8080/"
    },
    "id": "_kVk9trofyia",
    "outputId": "a400525a-9d95-46c5-877e-c106499bad59"
   },
   "outputs": [
    {
     "name": "stdout",
     "output_type": "stream",
     "text": [
      "(2471, 9, 21)\n",
      "(618, 9, 21)\n"
     ]
    }
   ],
   "source": [
    "# data dimensions now:\n",
    "# (N_SEQS, SEQ_LENGTH, N_FEATURES)\n",
    "print(X_train.shape)\n",
    "print(X_val.shape)\n",
    "\n",
    "n_features = X_train.shape[2]"
   ]
  },
  {
   "cell_type": "code",
   "execution_count": 18,
   "metadata": {
    "id": "4kXwRuTHfyib"
   },
   "outputs": [],
   "source": [
    "# Reshape data\n",
    "X_train = X_train.reshape(X_train.shape[0], -1)\n",
    "X_val = X_val.reshape(X_val.shape[0], -1)"
   ]
  },
  {
   "cell_type": "code",
   "execution_count": 19,
   "metadata": {
    "colab": {
     "base_uri": "https://localhost:8080/"
    },
    "id": "7zHPglr9haOu",
    "outputId": "a6c10aef-a500-4e49-87eb-019f2ef3fa71"
   },
   "outputs": [
    {
     "name": "stdout",
     "output_type": "stream",
     "text": [
      "(2471, 189)\n",
      "(618, 189)\n"
     ]
    }
   ],
   "source": [
    "print(X_train.shape)\n",
    "print(X_val.shape)"
   ]
  },
  {
   "cell_type": "markdown",
   "metadata": {
    "id": "1rKIqhunfyib"
   },
   "source": [
    "## Compila el modelo"
   ]
  },
  {
   "cell_type": "code",
   "execution_count": 36,
   "metadata": {
    "id": "txWLhxaufyib"
   },
   "outputs": [],
   "source": [
    "# create model\n",
    "initializer = keras.initializers.RandomNormal(seed=7)\n",
    "\n",
    "model = Sequential()\n",
    "model.add(Dense(100, input_dim=MAX_PEP_SEQ_LEN * n_features, activation='relu', kernel_initializer=initializer))\n",
    "model.add(Dense(80, activation='relu', kernel_initializer=initializer))\n",
    "model.add(keras.layers.Dropout(.5))\n",
    "model.add(Dense(1))\n",
    "\n",
    "# Compile model\n",
    "opt = keras.optimizers.Adam(learning_rate=0.001)\n",
    "model.compile(loss='mean_squared_error', optimizer=opt, metrics=['mean_squared_error'])"
   ]
  },
  {
   "cell_type": "code",
   "execution_count": 37,
   "metadata": {
    "colab": {
     "base_uri": "https://localhost:8080/"
    },
    "id": "m47lAk9sfyib",
    "outputId": "9b7375cf-7a17-4d0f-ac36-ea0fd9eb0733"
   },
   "outputs": [
    {
     "name": "stdout",
     "output_type": "stream",
     "text": [
      "Model: \"sequential_3\"\n",
      "_________________________________________________________________\n",
      " Layer (type)                Output Shape              Param #   \n",
      "=================================================================\n",
      " dense_7 (Dense)             (None, 100)               19000     \n",
      "                                                                 \n",
      " dense_8 (Dense)             (None, 80)                8080      \n",
      "                                                                 \n",
      " dropout_2 (Dropout)         (None, 80)                0         \n",
      "                                                                 \n",
      " dense_9 (Dense)             (None, 1)                 81        \n",
      "                                                                 \n",
      "=================================================================\n",
      "Total params: 27,161\n",
      "Trainable params: 27,161\n",
      "Non-trainable params: 0\n",
      "_________________________________________________________________\n"
     ]
    }
   ],
   "source": [
    "model.summary()"
   ]
  },
  {
   "cell_type": "markdown",
   "metadata": {
    "id": "3aZ5ho-tfyib"
   },
   "source": [
    "## Ajusta o entrena el modelo"
   ]
  },
  {
   "cell_type": "code",
   "execution_count": 38,
   "metadata": {
    "id": "hDht8Otpfyib"
   },
   "outputs": [],
   "source": [
    "EPOCHS = 40\n",
    "MINI_BATCH_SIZE = 10"
   ]
  },
  {
   "cell_type": "code",
   "execution_count": 39,
   "metadata": {
    "colab": {
     "base_uri": "https://localhost:8080/"
    },
    "id": "kQi2s3SQfyib",
    "outputId": "b0b24aed-61bf-40b9-b17a-9cc1a5e53e9c",
    "scrolled": true
   },
   "outputs": [
    {
     "name": "stdout",
     "output_type": "stream",
     "text": [
      "Epoch 1/40\n",
      "248/248 [==============================] - 1s 2ms/step - loss: 115.8883 - mean_squared_error: 115.8883 - val_loss: 0.2433 - val_mean_squared_error: 0.2433\n",
      "Epoch 2/40\n",
      "248/248 [==============================] - 0s 2ms/step - loss: 0.2541 - mean_squared_error: 0.2541 - val_loss: 0.1471 - val_mean_squared_error: 0.1471\n",
      "Epoch 3/40\n",
      "248/248 [==============================] - 0s 2ms/step - loss: 0.1571 - mean_squared_error: 0.1571 - val_loss: 0.1212 - val_mean_squared_error: 0.1212\n",
      "Epoch 4/40\n",
      "248/248 [==============================] - 0s 2ms/step - loss: 0.1269 - mean_squared_error: 0.1269 - val_loss: 0.1094 - val_mean_squared_error: 0.1094\n",
      "Epoch 5/40\n",
      "248/248 [==============================] - 0s 2ms/step - loss: 0.1227 - mean_squared_error: 0.1227 - val_loss: 0.1074 - val_mean_squared_error: 0.1074\n",
      "Epoch 6/40\n",
      "248/248 [==============================] - 0s 2ms/step - loss: 0.1128 - mean_squared_error: 0.1128 - val_loss: 0.0948 - val_mean_squared_error: 0.0948\n",
      "Epoch 7/40\n",
      "248/248 [==============================] - 0s 2ms/step - loss: 0.1116 - mean_squared_error: 0.1116 - val_loss: 0.1038 - val_mean_squared_error: 0.1038\n",
      "Epoch 8/40\n",
      "248/248 [==============================] - 0s 2ms/step - loss: 0.1090 - mean_squared_error: 0.1090 - val_loss: 0.0957 - val_mean_squared_error: 0.0957\n",
      "Epoch 9/40\n",
      "248/248 [==============================] - 0s 2ms/step - loss: 0.1034 - mean_squared_error: 0.1034 - val_loss: 0.0914 - val_mean_squared_error: 0.0914\n",
      "Epoch 10/40\n",
      "248/248 [==============================] - 0s 2ms/step - loss: 0.1024 - mean_squared_error: 0.1024 - val_loss: 0.0881 - val_mean_squared_error: 0.0881\n",
      "Epoch 11/40\n",
      "248/248 [==============================] - 0s 2ms/step - loss: 0.0990 - mean_squared_error: 0.0990 - val_loss: 0.0884 - val_mean_squared_error: 0.0884\n",
      "Epoch 12/40\n",
      "248/248 [==============================] - 1s 3ms/step - loss: 0.0977 - mean_squared_error: 0.0977 - val_loss: 0.0826 - val_mean_squared_error: 0.0826\n",
      "Epoch 13/40\n",
      "248/248 [==============================] - 1s 2ms/step - loss: 0.0918 - mean_squared_error: 0.0918 - val_loss: 0.0798 - val_mean_squared_error: 0.0798\n",
      "Epoch 14/40\n",
      "248/248 [==============================] - 0s 2ms/step - loss: 0.0910 - mean_squared_error: 0.0910 - val_loss: 0.0775 - val_mean_squared_error: 0.0775\n",
      "Epoch 15/40\n",
      "248/248 [==============================] - 0s 2ms/step - loss: 0.0867 - mean_squared_error: 0.0867 - val_loss: 0.0815 - val_mean_squared_error: 0.0815\n",
      "Epoch 16/40\n",
      "248/248 [==============================] - 0s 2ms/step - loss: 0.0802 - mean_squared_error: 0.0802 - val_loss: 0.0757 - val_mean_squared_error: 0.0757\n",
      "Epoch 17/40\n",
      "248/248 [==============================] - 0s 2ms/step - loss: 0.0778 - mean_squared_error: 0.0778 - val_loss: 0.0722 - val_mean_squared_error: 0.0722\n",
      "Epoch 18/40\n",
      "248/248 [==============================] - 1s 2ms/step - loss: 0.0745 - mean_squared_error: 0.0745 - val_loss: 0.0748 - val_mean_squared_error: 0.0748\n",
      "Epoch 19/40\n",
      "248/248 [==============================] - 0s 2ms/step - loss: 0.0751 - mean_squared_error: 0.0751 - val_loss: 0.0720 - val_mean_squared_error: 0.0720\n",
      "Epoch 20/40\n",
      "248/248 [==============================] - 0s 2ms/step - loss: 0.0720 - mean_squared_error: 0.0720 - val_loss: 0.0726 - val_mean_squared_error: 0.0726\n",
      "Epoch 21/40\n",
      "248/248 [==============================] - 0s 2ms/step - loss: 0.0718 - mean_squared_error: 0.0718 - val_loss: 0.0722 - val_mean_squared_error: 0.0722\n",
      "Epoch 22/40\n",
      "248/248 [==============================] - 1s 2ms/step - loss: 0.0682 - mean_squared_error: 0.0682 - val_loss: 0.0636 - val_mean_squared_error: 0.0636\n",
      "Epoch 23/40\n",
      "248/248 [==============================] - 0s 2ms/step - loss: 0.0699 - mean_squared_error: 0.0699 - val_loss: 0.0716 - val_mean_squared_error: 0.0716\n",
      "Epoch 24/40\n",
      "248/248 [==============================] - 0s 2ms/step - loss: 0.0666 - mean_squared_error: 0.0666 - val_loss: 0.0630 - val_mean_squared_error: 0.0630\n",
      "Epoch 25/40\n",
      "248/248 [==============================] - 0s 2ms/step - loss: 0.0643 - mean_squared_error: 0.0643 - val_loss: 0.0609 - val_mean_squared_error: 0.0609\n",
      "Epoch 26/40\n",
      "248/248 [==============================] - 0s 2ms/step - loss: 0.0654 - mean_squared_error: 0.0654 - val_loss: 0.0802 - val_mean_squared_error: 0.0802\n",
      "Epoch 27/40\n",
      "248/248 [==============================] - 0s 2ms/step - loss: 0.0637 - mean_squared_error: 0.0637 - val_loss: 0.0622 - val_mean_squared_error: 0.0622\n",
      "Epoch 28/40\n",
      "248/248 [==============================] - 0s 2ms/step - loss: 0.0641 - mean_squared_error: 0.0641 - val_loss: 0.0542 - val_mean_squared_error: 0.0542\n",
      "Epoch 29/40\n",
      "248/248 [==============================] - 1s 2ms/step - loss: 0.0622 - mean_squared_error: 0.0622 - val_loss: 0.0550 - val_mean_squared_error: 0.0550\n",
      "Epoch 30/40\n",
      "248/248 [==============================] - 0s 2ms/step - loss: 0.0601 - mean_squared_error: 0.0601 - val_loss: 0.0533 - val_mean_squared_error: 0.0533\n",
      "Epoch 31/40\n",
      "248/248 [==============================] - 0s 2ms/step - loss: 0.0575 - mean_squared_error: 0.0575 - val_loss: 0.0543 - val_mean_squared_error: 0.0543\n",
      "Epoch 32/40\n",
      "248/248 [==============================] - 0s 2ms/step - loss: 0.0603 - mean_squared_error: 0.0603 - val_loss: 0.0660 - val_mean_squared_error: 0.0660\n",
      "Epoch 33/40\n",
      "248/248 [==============================] - 0s 2ms/step - loss: 0.0575 - mean_squared_error: 0.0575 - val_loss: 0.0573 - val_mean_squared_error: 0.0573\n",
      "Epoch 34/40\n",
      "248/248 [==============================] - 0s 2ms/step - loss: 0.0566 - mean_squared_error: 0.0566 - val_loss: 0.0604 - val_mean_squared_error: 0.0604\n",
      "Epoch 35/40\n",
      "248/248 [==============================] - 0s 2ms/step - loss: 0.0587 - mean_squared_error: 0.0587 - val_loss: 0.0512 - val_mean_squared_error: 0.0512\n",
      "Epoch 36/40\n",
      "248/248 [==============================] - 0s 2ms/step - loss: 0.0597 - mean_squared_error: 0.0597 - val_loss: 0.0529 - val_mean_squared_error: 0.0529\n",
      "Epoch 37/40\n",
      "248/248 [==============================] - 0s 2ms/step - loss: 0.0634 - mean_squared_error: 0.0634 - val_loss: 0.0640 - val_mean_squared_error: 0.0640\n",
      "Epoch 38/40\n",
      "248/248 [==============================] - 0s 2ms/step - loss: 0.0628 - mean_squared_error: 0.0628 - val_loss: 0.0470 - val_mean_squared_error: 0.0470\n",
      "Epoch 39/40\n",
      "248/248 [==============================] - 0s 2ms/step - loss: 0.0623 - mean_squared_error: 0.0623 - val_loss: 0.0429 - val_mean_squared_error: 0.0429\n",
      "Epoch 40/40\n",
      "248/248 [==============================] - 0s 2ms/step - loss: 0.0587 - mean_squared_error: 0.0587 - val_loss: 0.0455 - val_mean_squared_error: 0.0455\n"
     ]
    }
   ],
   "source": [
    "# Fit the model\n",
    "history = model.fit(X_train, y_train, epochs=EPOCHS, batch_size=MINI_BATCH_SIZE, validation_data=(X_val, y_val))"
   ]
  },
  {
   "cell_type": "markdown",
   "metadata": {
    "id": "DimgNhZSfyic"
   },
   "source": [
    "## Métricas de entrenamiento"
   ]
  },
  {
   "cell_type": "code",
   "execution_count": 40,
   "metadata": {
    "colab": {
     "base_uri": "https://localhost:8080/",
     "height": 313
    },
    "id": "PpVLuXbmfyic",
    "outputId": "f9c8b9c3-8683-4c62-9bd0-7b2d89e9842d"
   },
   "outputs": [
    {
     "data": {
      "text/plain": "<Figure size 640x480 with 1 Axes>",
      "image/png": "[encoded data removed]"
     },
     "metadata": {},
     "output_type": "display_data"
    },
    {
     "name": "stdout",
     "output_type": "stream",
     "text": [
      "Lowest MSE value: 0.24326813220977783\n"
     ]
    }
   ],
   "source": [
    "# Plot training & validation MSE values\n",
    "plt.plot(history.history['mean_squared_error'])\n",
    "plt.plot(history.history['val_mean_squared_error'])\n",
    "plt.title('Model mean squared error')\n",
    "plt.ylabel('MSE')\n",
    "plt.xlabel('Epoch')\n",
    "plt.ylim(0.1, 0.12)\n",
    "plt.legend(['Train', 'Validation'], loc='upper left')\n",
    "plt.show()\n",
    "print('Lowest MSE value:', np.max(history.history['val_mean_squared_error']))"
   ]
  },
  {
   "cell_type": "markdown",
   "metadata": {
    "id": "69FjXA1xfyic"
   },
   "source": [
    "## Evalúa el modelo"
   ]
  },
  {
   "cell_type": "code",
   "execution_count": 32,
   "metadata": {
    "colab": {
     "base_uri": "https://localhost:8080/"
    },
    "id": "gCFSHdZWfyic",
    "outputId": "6fade002-b1f5-432b-8975-3226a4caf3f8"
   },
   "outputs": [
    {
     "name": "stdout",
     "output_type": "stream",
     "text": [
      "20/20 [==============================] - 0s 1ms/step - loss: 0.0908 - mean_squared_error: 0.0908\n",
      "\n",
      "mean_squared_error: 0.0908\n"
     ]
    }
   ],
   "source": [
    "# evaluate the model\n",
    "scores = model.evaluate(X_val, y_val)\n",
    "print(\"\\n%s: %.4f\" % (model.metrics_names[1], scores[1]))"
   ]
  },
  {
   "cell_type": "code",
   "execution_count": null,
   "outputs": [],
   "source": [],
   "metadata": {
    "collapsed": false
   }
  }
 ],
 "metadata": {
  "accelerator": "GPU",
  "colab": {
   "collapsed_sections": [],
   "provenance": []
  },
  "gpuClass": "standard",
  "kernelspec": {
   "display_name": "Python 3 (ipykernel)",
   "language": "python",
   "name": "python3"
  },
  "language_info": {
   "codemirror_mode": {
    "name": "ipython",
    "version": 3
   },
   "file_extension": ".py",
   "mimetype": "text/x-python",
   "name": "python",
   "nbconvert_exporter": "python",
   "pygments_lexer": "ipython3",
   "version": "3.9.7"
  }
 },
 "nbformat": 4,
 "nbformat_minor": 0
}
